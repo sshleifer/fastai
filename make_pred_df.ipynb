{
 "cells": [
  {
   "cell_type": "code",
   "execution_count": 22,
   "metadata": {
    "ExecuteTime": {
     "end_time": "2019-06-03T06:39:52.603965Z",
     "start_time": "2019-06-03T06:39:52.574636Z"
    }
   },
   "outputs": [],
   "source": [
    "import argparse\n",
    "from pathlib import Path\n",
    "from fastai.imagito.utils import *\n",
    "from fastai.vision.models.xresnet2 import xresnet50_2\n",
    "import torch\n",
    "import math\n",
    "from operator import itemgetter\n",
    "\n",
    "from sklearn.model_selection import ParameterGrid\n",
    "from fastai.imagito.utils import update_batch_size\n",
    "\n",
    "to_grid = lambda p: update_batch_size(ParameterGrid(p))"
   ]
  },
  {
   "cell_type": "code",
   "execution_count": 13,
   "metadata": {
    "ExecuteTime": {
     "end_time": "2019-06-03T06:35:52.485745Z",
     "start_time": "2019-06-03T06:35:52.459732Z"
    }
   },
   "outputs": [],
   "source": [
    "def load_model(model_dir, size, woof, bs, sample):\n",
    "#     model_params = pickle_load(model_dir + '/params.pkl')\n",
    "#     if model_params['size'] != size:\n",
    "#         print('Warning: Model was trained on image size=%d but is being used to predict for size=%d'\n",
    "#               % (model_params['size'], size))\n",
    "\n",
    "    m = xresnet50_2\n",
    "    #print(model_params)\n",
    "    data = get_data(size, woof, bs, sample, shuffle_train=False, flip_lr_p=0.0)\n",
    "    l = Learner(data, m(c_out=10), path=model_dir)\n",
    "    l.load('woof_classif')\n",
    "    return l, data"
   ]
  },
  {
   "cell_type": "code",
   "execution_count": null,
   "metadata": {},
   "outputs": [],
   "source": [
    "!mv woof_classif.pth"
   ]
  },
  {
   "cell_type": "code",
   "execution_count": 4,
   "metadata": {
    "ExecuteTime": {
     "end_time": "2019-06-03T05:48:40.252323Z",
     "start_time": "2019-06-03T05:48:40.130555Z"
    }
   },
   "outputs": [],
   "source": [
    "mkdir models"
   ]
  },
  {
   "cell_type": "code",
   "execution_count": 5,
   "metadata": {
    "ExecuteTime": {
     "end_time": "2019-06-03T05:48:46.503483Z",
     "start_time": "2019-06-03T05:48:46.381322Z"
    }
   },
   "outputs": [],
   "source": [
    "mv woof_classif.pth models"
   ]
  },
  {
   "cell_type": "code",
   "execution_count": 15,
   "metadata": {
    "ExecuteTime": {
     "end_time": "2019-06-03T05:50:48.038958Z",
     "start_time": "2019-06-03T05:50:47.871193Z"
    }
   },
   "outputs": [
    {
     "name": "stdout",
     "output_type": "stream",
     "text": [
      "woof_classif.pth\r\n"
     ]
    }
   ],
   "source": [
    "ls models"
   ]
  },
  {
   "cell_type": "code",
   "execution_count": 19,
   "metadata": {
    "ExecuteTime": {
     "end_time": "2019-06-03T05:51:11.770768Z",
     "start_time": "2019-06-03T05:51:08.921262Z"
    }
   },
   "outputs": [],
   "source": [
    "model, data = load_model('.', 128, True, 256, 1.)"
   ]
  },
  {
   "cell_type": "code",
   "execution_count": 20,
   "metadata": {
    "ExecuteTime": {
     "end_time": "2019-06-03T05:51:20.844178Z",
     "start_time": "2019-06-03T05:51:11.773096Z"
    }
   },
   "outputs": [],
   "source": [
    "predictions_t, targets_t, loss_t = model.get_preds(ds_type=DatasetType.Train, with_loss=True)"
   ]
  },
  {
   "cell_type": "code",
   "execution_count": 21,
   "metadata": {
    "ExecuteTime": {
     "end_time": "2019-06-03T05:51:42.504418Z",
     "start_time": "2019-06-03T05:51:42.497854Z"
    }
   },
   "outputs": [],
   "source": [
    "to_arr = lambda x: x.numpy()"
   ]
  },
  {
   "cell_type": "code",
   "execution_count": 27,
   "metadata": {
    "ExecuteTime": {
     "end_time": "2019-06-03T05:52:45.709823Z",
     "start_time": "2019-06-03T05:52:45.690728Z"
    }
   },
   "outputs": [],
   "source": [
    "paths = list(map(lambda x: x.name,data.items))"
   ]
  },
  {
   "cell_type": "code",
   "execution_count": 33,
   "metadata": {
    "ExecuteTime": {
     "end_time": "2019-06-03T05:53:40.632203Z",
     "start_time": "2019-06-03T05:53:40.623301Z"
    }
   },
   "outputs": [],
   "source": [
    "df = pd.DataFrame(to_arr(loss_t), columns=['loss'])\n",
    "df.index = paths"
   ]
  },
  {
   "cell_type": "code",
   "execution_count": 43,
   "metadata": {
    "ExecuteTime": {
     "end_time": "2019-06-03T05:56:25.485392Z",
     "start_time": "2019-06-03T05:56:25.476421Z"
    }
   },
   "outputs": [],
   "source": [
    "df = df.rename_axis('paths').sort_values('loss', ascending=False).reset_index()"
   ]
  },
  {
   "cell_type": "code",
   "execution_count": 47,
   "metadata": {
    "ExecuteTime": {
     "end_time": "2019-06-03T05:58:07.301368Z",
     "start_time": "2019-06-03T05:58:07.290967Z"
    },
    "scrolled": true
   },
   "outputs": [
    {
     "data": {
      "text/html": [
       "<div>\n",
       "<style scoped>\n",
       "    .dataframe tbody tr th:only-of-type {\n",
       "        vertical-align: middle;\n",
       "    }\n",
       "\n",
       "    .dataframe tbody tr th {\n",
       "        vertical-align: top;\n",
       "    }\n",
       "\n",
       "    .dataframe thead th {\n",
       "        text-align: right;\n",
       "    }\n",
       "</style>\n",
       "<table border=\"1\" class=\"dataframe\">\n",
       "  <thead>\n",
       "    <tr style=\"text-align: right;\">\n",
       "      <th></th>\n",
       "      <th>paths</th>\n",
       "      <th>loss</th>\n",
       "    </tr>\n",
       "  </thead>\n",
       "  <tbody>\n",
       "    <tr>\n",
       "      <th>0</th>\n",
       "      <td>n02086240_7862.JPEG</td>\n",
       "      <td>11.440737</td>\n",
       "    </tr>\n",
       "    <tr>\n",
       "      <th>1</th>\n",
       "      <td>n02089973_2860.JPEG</td>\n",
       "      <td>10.591484</td>\n",
       "    </tr>\n",
       "    <tr>\n",
       "      <th>2</th>\n",
       "      <td>n02088364_12006.JPEG</td>\n",
       "      <td>8.879482</td>\n",
       "    </tr>\n",
       "    <tr>\n",
       "      <th>3</th>\n",
       "      <td>n02086240_7549.JPEG</td>\n",
       "      <td>8.092752</td>\n",
       "    </tr>\n",
       "    <tr>\n",
       "      <th>4</th>\n",
       "      <td>n02093754_5276.JPEG</td>\n",
       "      <td>7.432945</td>\n",
       "    </tr>\n",
       "  </tbody>\n",
       "</table>\n",
       "</div>"
      ],
      "text/plain": [
       "                  paths       loss\n",
       "0   n02086240_7862.JPEG  11.440737\n",
       "1   n02089973_2860.JPEG  10.591484\n",
       "2  n02088364_12006.JPEG   8.879482\n",
       "3   n02086240_7549.JPEG   8.092752\n",
       "4   n02093754_5276.JPEG   7.432945"
      ]
     },
     "execution_count": 47,
     "metadata": {},
     "output_type": "execute_result"
    }
   ],
   "source": [
    "df.head()"
   ]
  },
  {
   "cell_type": "code",
   "execution_count": 19,
   "metadata": {
    "ExecuteTime": {
     "end_time": "2019-06-03T06:38:11.785335Z",
     "start_time": "2019-06-03T06:38:11.744683Z"
    }
   },
   "outputs": [],
   "source": [
    "from sklearn.model_selection import ParameterGrid\n",
    "from fastai.imagito.utils import update_batch_size\n",
    "from fastai.imagito.classes import ClassUtils\n",
    "\n",
    "to_grid = lambda p: update_batch_size(ParameterGrid(p))"
   ]
  },
  {
   "cell_type": "code",
   "execution_count": 21,
   "metadata": {
    "ExecuteTime": {
     "end_time": "2019-06-03T06:39:49.535422Z",
     "start_time": "2019-06-03T06:39:49.009652Z"
    }
   },
   "outputs": [
    {
     "name": "stdout",
     "output_type": "stream",
     "text": [
      "Already up-to-date.\r\n"
     ]
    }
   ],
   "source": [
    "!git pull"
   ]
  },
  {
   "cell_type": "code",
   "execution_count": 20,
   "metadata": {
    "ExecuteTime": {
     "end_time": "2019-06-03T06:38:16.421971Z",
     "start_time": "2019-06-03T06:38:16.394332Z"
    }
   },
   "outputs": [
    {
     "data": {
      "text/plain": [
       "['n02089973',\n",
       " 'n02086240',\n",
       " 'n02105641',\n",
       " 'n02087394',\n",
       " 'n02099601',\n",
       " 'n02115641',\n",
       " 'n02093754',\n",
       " 'n02111889',\n",
       " 'n02096294',\n",
       " 'n02088364']"
      ]
     },
     "execution_count": 20,
     "metadata": {},
     "output_type": "execute_result"
    }
   ],
   "source": [
    "ClassUtils.from_indices()"
   ]
  },
  {
   "cell_type": "code",
   "execution_count": 18,
   "metadata": {
    "ExecuteTime": {
     "end_time": "2019-06-03T06:37:27.997282Z",
     "start_time": "2019-06-03T06:37:27.970874Z"
    }
   },
   "outputs": [
    {
     "data": {
      "text/plain": [
       "[{'opt': 'SGD', 'stem1': 16, 'stem2': 16},\n",
       " {'opt': 'SGD', 'stem1': 16, 'stem2': 32},\n",
       " {'opt': 'SGD', 'stem1': 16, 'stem2': 48},\n",
       " {'opt': 'SGD', 'stem1': 32, 'stem2': 16},\n",
       " {'opt': 'SGD', 'stem1': 32, 'stem2': 32},\n",
       " {'opt': 'SGD', 'stem1': 32, 'stem2': 48},\n",
       " {'opt': 'SGD', 'stem1': 48, 'stem2': 16},\n",
       " {'opt': 'SGD', 'stem1': 48, 'stem2': 32},\n",
       " {'opt': 'SGD', 'stem1': 48, 'stem2': 48},\n",
       " {'opt': 'RMS', 'stem1': 16, 'stem2': 16},\n",
       " {'opt': 'RMS', 'stem1': 16, 'stem2': 32},\n",
       " {'opt': 'RMS', 'stem1': 16, 'stem2': 48},\n",
       " {'opt': 'RMS', 'stem1': 32, 'stem2': 16},\n",
       " {'opt': 'RMS', 'stem1': 32, 'stem2': 32},\n",
       " {'opt': 'RMS', 'stem1': 32, 'stem2': 48},\n",
       " {'opt': 'RMS', 'stem1': 48, 'stem2': 16},\n",
       " {'opt': 'RMS', 'stem1': 48, 'stem2': 32},\n",
       " {'opt': 'RMS', 'stem1': 48, 'stem2': 48}]"
      ]
     },
     "execution_count": 18,
     "metadata": {},
     "output_type": "execute_result"
    }
   ],
   "source": [
    "to_grid({'stem1': [16, 32, 48],\n",
    "'stem2': [16, 32, 48],\n",
    "'opt': ['SGD', 'RMS']})"
   ]
  },
  {
   "cell_type": "code",
   "execution_count": null,
   "metadata": {},
   "outputs": [],
   "source": []
  },
  {
   "cell_type": "code",
   "execution_count": 55,
   "metadata": {
    "ExecuteTime": {
     "end_time": "2019-06-03T06:19:39.920296Z",
     "start_time": "2019-06-03T06:19:39.914770Z"
    }
   },
   "outputs": [
    {
     "data": {
      "text/plain": [
       "[{'stem1': 16, 'stem2': 16},\n",
       " {'stem1': 48, 'stem2': 48},\n",
       " {'stem1': 16, 'stem2': 32},\n",
       " {'stem1': 32, 'stem2': 16},\n",
       " {'stem1': 16, 'stem2': 48},\n",
       " {'stem1': 48, 'stem2': 16}]"
      ]
     },
     "execution_count": 55,
     "metadata": {},
     "output_type": "execute_result"
    }
   ],
   "source": [
    "STEM_SETTINGS = [\n",
    "    (SMALL, SMALL), (BIG, BIG),\n",
    "    (SMALL, 32), (32, SMALL),\n",
    "    (SMALL, BIG), (BIG, SMALL)\n",
    "    #(4, 16), (16,4)\n",
    "]\n",
    "    \n",
    "[dict(stem1=a, stem2=b) for (a,b) in STEM_SETTINGS]"
   ]
  },
  {
   "cell_type": "code",
   "execution_count": 50,
   "metadata": {
    "ExecuteTime": {
     "end_time": "2019-06-03T06:10:07.333810Z",
     "start_time": "2019-06-03T06:10:07.329274Z"
    }
   },
   "outputs": [],
   "source": [
    "stem_grid = [{'stem1': x} for x in stem_testers]  + [{'stem2': x} for x in stem_testers] + [{'stem1': 16, 'stem2': 16}]\n",
    "opt_grid = [{'opt': 'SGD', 'opt': 'RMS'}]"
   ]
  },
  {
   "cell_type": "code",
   "execution_count": 4,
   "metadata": {
    "ExecuteTime": {
     "end_time": "2019-06-03T06:30:53.120726Z",
     "start_time": "2019-06-03T06:30:53.092893Z"
    }
   },
   "outputs": [],
   "source": [
    "%load_ext autoreload\n",
    "%autoreload 2"
   ]
  },
  {
   "cell_type": "code",
   "execution_count": 23,
   "metadata": {
    "ExecuteTime": {
     "end_time": "2019-06-03T06:40:00.122807Z",
     "start_time": "2019-06-03T06:40:00.098010Z"
    }
   },
   "outputs": [
    {
     "data": {
      "text/plain": [
       "{'hardness_lower_bound': 0.0,\n",
       " 'hardness_upper_bound': 0.25,\n",
       " 'label_smoothing': False,\n",
       " 'lr': 0.003,\n",
       " 'flip_lr_p': 0.5,\n",
       " 'woof': True}"
      ]
     },
     "execution_count": 23,
     "metadata": {},
     "output_type": "execute_result"
    }
   ],
   "source": [
    "from fastai.imagito.grid_const import *\n",
    "NEED_TO_RUN_ERIC_BOX_V3[1]"
   ]
  },
  {
   "cell_type": "code",
   "execution_count": 6,
   "metadata": {
    "ExecuteTime": {
     "end_time": "2019-06-03T06:31:15.340251Z",
     "start_time": "2019-06-03T06:31:15.315963Z"
    }
   },
   "outputs": [
    {
     "data": {
      "text/plain": [
       "48"
      ]
     },
     "execution_count": 6,
     "metadata": {},
     "output_type": "execute_result"
    }
   ],
   "source": [
    "len(NEED_TO_RUN_ERIC_BOX_V4)"
   ]
  },
  {
   "cell_type": "code",
   "execution_count": 3,
   "metadata": {
    "ExecuteTime": {
     "end_time": "2019-06-03T06:30:51.552314Z",
     "start_time": "2019-06-03T06:30:51.070356Z"
    }
   },
   "outputs": [
    {
     "name": "stdout",
     "output_type": "stream",
     "text": [
      "Already up-to-date.\r\n"
     ]
    }
   ],
   "source": [
    "!git pull"
   ]
  },
  {
   "cell_type": "code",
   "execution_count": 51,
   "metadata": {
    "ExecuteTime": {
     "end_time": "2019-06-03T06:10:11.210611Z",
     "start_time": "2019-06-03T06:10:11.202175Z"
    }
   },
   "outputs": [
    {
     "data": {
      "text/plain": [
       "[{'stem1': 16},\n",
       " {'stem1': 48},\n",
       " {'stem2': 16},\n",
       " {'stem2': 48},\n",
       " {'stem1': 16, 'stem2': 16}]"
      ]
     },
     "execution_count": 51,
     "metadata": {},
     "output_type": "execute_result"
    }
   ],
   "source": [
    "stem_grid"
   ]
  },
  {
   "cell_type": "code",
   "execution_count": 44,
   "metadata": {
    "ExecuteTime": {
     "end_time": "2019-06-03T05:56:25.722151Z",
     "start_time": "2019-06-03T05:56:25.713817Z"
    }
   },
   "outputs": [],
   "source": [
    "df.to_msgpack('/home/paperspace/fastai-fork/fastai/imagito/pred_df_woof.mp')"
   ]
  },
  {
   "cell_type": "code",
   "execution_count": 24,
   "metadata": {
    "ExecuteTime": {
     "end_time": "2019-06-03T06:40:03.946168Z",
     "start_time": "2019-06-03T06:40:03.817097Z"
    }
   },
   "outputs": [],
   "source": [
    "from fastai.imagito.train_imagito import main"
   ]
  },
  {
   "cell_type": "code",
   "execution_count": null,
   "metadata": {
    "ExecuteTime": {
     "start_time": "2019-06-03T06:44:01.530Z"
    }
   },
   "outputs": [],
   "source": [
    "#main(woof=True, classes=range(4))"
   ]
  },
  {
   "cell_type": "code",
   "execution_count": 38,
   "metadata": {
    "ExecuteTime": {
     "end_time": "2019-06-03T05:55:53.729520Z",
     "start_time": "2019-06-03T05:55:30.328308Z"
    }
   },
   "outputs": [
    {
     "name": "stdout",
     "output_type": "stream",
     "text": [
      "> \u001b[0;32m/home/paperspace/anaconda3/envs/fastaiv1/lib/python3.6/site-packages/pandas/io/packers.py\u001b[0m(226)\u001b[0;36mread_msgpack\u001b[0;34m()\u001b[0m\n",
      "\u001b[0;32m    224 \u001b[0;31m        \u001b[0;32mreturn\u001b[0m \u001b[0mread\u001b[0m\u001b[0;34m(\u001b[0m\u001b[0mpath_or_buf\u001b[0m\u001b[0;34m)\u001b[0m\u001b[0;34m\u001b[0m\u001b[0;34m\u001b[0m\u001b[0m\n",
      "\u001b[0m\u001b[0;32m    225 \u001b[0;31m\u001b[0;34m\u001b[0m\u001b[0m\n",
      "\u001b[0m\u001b[0;32m--> 226 \u001b[0;31m    \u001b[0;32mraise\u001b[0m \u001b[0mValueError\u001b[0m\u001b[0;34m(\u001b[0m\u001b[0;34m'path_or_buf needs to be a string file path or file-like'\u001b[0m\u001b[0;34m)\u001b[0m\u001b[0;34m\u001b[0m\u001b[0;34m\u001b[0m\u001b[0m\n",
      "\u001b[0m\u001b[0;32m    227 \u001b[0;31m\u001b[0;34m\u001b[0m\u001b[0m\n",
      "\u001b[0m\u001b[0;32m    228 \u001b[0;31m\u001b[0;34m\u001b[0m\u001b[0m\n",
      "\u001b[0m\n",
      "ipdb> u\n",
      "> \u001b[0;32m/home/paperspace/fastai-fork/fastai/imagito/sample_hardness.py\u001b[0m(139)\u001b[0;36mmake_hardness_filter_func\u001b[0;34m()\u001b[0m\n",
      "\u001b[0;32m    137 \u001b[0;31m    \u001b[0;32mif\u001b[0m \u001b[0;34m(\u001b[0m\u001b[0mhardness_lower_bound\u001b[0m \u001b[0;34m==\u001b[0m \u001b[0;36m0\u001b[0m\u001b[0;34m)\u001b[0m \u001b[0;32mand\u001b[0m \u001b[0;34m(\u001b[0m\u001b[0mhardness_upper_bound\u001b[0m\u001b[0;34m==\u001b[0m\u001b[0;36m1.\u001b[0m\u001b[0;34m)\u001b[0m\u001b[0;34m:\u001b[0m\u001b[0;34m\u001b[0m\u001b[0;34m\u001b[0m\u001b[0m\n",
      "\u001b[0m\u001b[0;32m    138 \u001b[0;31m        \u001b[0;32mreturn\u001b[0m \u001b[0mreturn_true\u001b[0m\u001b[0;34m\u001b[0m\u001b[0;34m\u001b[0m\u001b[0m\n",
      "\u001b[0m\u001b[0;32m--> 139 \u001b[0;31m    \u001b[0mpred_df\u001b[0m \u001b[0;34m=\u001b[0m \u001b[0mpd\u001b[0m\u001b[0;34m.\u001b[0m\u001b[0mread_msgpack\u001b[0m\u001b[0;34m(\u001b[0m\u001b[0mpath\u001b[0m\u001b[0;34m)\u001b[0m\u001b[0;34m.\u001b[0m\u001b[0msort_values\u001b[0m\u001b[0;34m(\u001b[0m\u001b[0;34m'loss'\u001b[0m\u001b[0;34m,\u001b[0m \u001b[0mascending\u001b[0m\u001b[0;34m=\u001b[0m\u001b[0;32mFalse\u001b[0m\u001b[0;34m)\u001b[0m\u001b[0;34m\u001b[0m\u001b[0;34m\u001b[0m\u001b[0m\n",
      "\u001b[0m\u001b[0;32m    140 \u001b[0;31m    start_idx, end_idx = int(IMAGENETTE_SIZE * hardness_lower_bound), int(\n",
      "\u001b[0m\u001b[0;32m    141 \u001b[0;31m        IMAGENETTE_SIZE * hardness_upper_bound) - 1\n",
      "\u001b[0m\n",
      "ipdb> path\n",
      "PosixPath('/home/paperspace/fastai-fork/fastai/imagito/pred_df_woof.mp')\n",
      "ipdb> exit\n"
     ]
    }
   ],
   "source": [
    "%debug"
   ]
  },
  {
   "cell_type": "code",
   "execution_count": null,
   "metadata": {},
   "outputs": [],
   "source": []
  },
  {
   "cell_type": "code",
   "execution_count": 32,
   "metadata": {
    "ExecuteTime": {
     "end_time": "2019-06-03T05:53:31.011346Z",
     "start_time": "2019-06-03T05:53:30.997719Z"
    }
   },
   "outputs": [
    {
     "data": {
      "text/html": [
       "<div>\n",
       "<style scoped>\n",
       "    .dataframe tbody tr th:only-of-type {\n",
       "        vertical-align: middle;\n",
       "    }\n",
       "\n",
       "    .dataframe tbody tr th {\n",
       "        vertical-align: top;\n",
       "    }\n",
       "\n",
       "    .dataframe thead th {\n",
       "        text-align: right;\n",
       "    }\n",
       "</style>\n",
       "<table border=\"1\" class=\"dataframe\">\n",
       "  <thead>\n",
       "    <tr style=\"text-align: right;\">\n",
       "      <th></th>\n",
       "      <th>0</th>\n",
       "    </tr>\n",
       "  </thead>\n",
       "  <tbody>\n",
       "    <tr>\n",
       "      <th>n02115641_44296.JPEG</th>\n",
       "      <td>0.112671</td>\n",
       "    </tr>\n",
       "    <tr>\n",
       "      <th>n02115641_7648.JPEG</th>\n",
       "      <td>0.235310</td>\n",
       "    </tr>\n",
       "    <tr>\n",
       "      <th>n02088364_1449.JPEG</th>\n",
       "      <td>0.863584</td>\n",
       "    </tr>\n",
       "    <tr>\n",
       "      <th>n02099601_8874.JPEG</th>\n",
       "      <td>0.386320</td>\n",
       "    </tr>\n",
       "    <tr>\n",
       "      <th>n02089973_4875.JPEG</th>\n",
       "      <td>1.649868</td>\n",
       "    </tr>\n",
       "    <tr>\n",
       "      <th>n02099601_447.JPEG</th>\n",
       "      <td>0.195452</td>\n",
       "    </tr>\n",
       "    <tr>\n",
       "      <th>n02115641_28502.JPEG</th>\n",
       "      <td>2.505424</td>\n",
       "    </tr>\n",
       "    <tr>\n",
       "      <th>n02093754_4460.JPEG</th>\n",
       "      <td>0.003552</td>\n",
       "    </tr>\n",
       "    <tr>\n",
       "      <th>n02093754_6370.JPEG</th>\n",
       "      <td>0.300552</td>\n",
       "    </tr>\n",
       "    <tr>\n",
       "      <th>n02086240_3672.JPEG</th>\n",
       "      <td>0.000826</td>\n",
       "    </tr>\n",
       "    <tr>\n",
       "      <th>n02093754_4384.JPEG</th>\n",
       "      <td>0.143603</td>\n",
       "    </tr>\n",
       "    <tr>\n",
       "      <th>n02111889_15388.JPEG</th>\n",
       "      <td>0.024080</td>\n",
       "    </tr>\n",
       "    <tr>\n",
       "      <th>n02088364_2661.JPEG</th>\n",
       "      <td>0.235907</td>\n",
       "    </tr>\n",
       "    <tr>\n",
       "      <th>n02111889_3439.JPEG</th>\n",
       "      <td>0.212486</td>\n",
       "    </tr>\n",
       "    <tr>\n",
       "      <th>n02115641_925.JPEG</th>\n",
       "      <td>0.011507</td>\n",
       "    </tr>\n",
       "    <tr>\n",
       "      <th>n02093754_5198.JPEG</th>\n",
       "      <td>0.125398</td>\n",
       "    </tr>\n",
       "    <tr>\n",
       "      <th>n02093754_1310.JPEG</th>\n",
       "      <td>0.003053</td>\n",
       "    </tr>\n",
       "    <tr>\n",
       "      <th>n02096294_6439.JPEG</th>\n",
       "      <td>0.243310</td>\n",
       "    </tr>\n",
       "    <tr>\n",
       "      <th>n02093754_696.JPEG</th>\n",
       "      <td>0.727479</td>\n",
       "    </tr>\n",
       "    <tr>\n",
       "      <th>n02099601_729.JPEG</th>\n",
       "      <td>2.702251</td>\n",
       "    </tr>\n",
       "    <tr>\n",
       "      <th>n02093754_5658.JPEG</th>\n",
       "      <td>0.011882</td>\n",
       "    </tr>\n",
       "    <tr>\n",
       "      <th>n02115641_40643.JPEG</th>\n",
       "      <td>0.084483</td>\n",
       "    </tr>\n",
       "    <tr>\n",
       "      <th>n02087394_5692.JPEG</th>\n",
       "      <td>0.051134</td>\n",
       "    </tr>\n",
       "    <tr>\n",
       "      <th>n02099601_11459.JPEG</th>\n",
       "      <td>0.658413</td>\n",
       "    </tr>\n",
       "    <tr>\n",
       "      <th>n02088364_4219.JPEG</th>\n",
       "      <td>0.207971</td>\n",
       "    </tr>\n",
       "    <tr>\n",
       "      <th>n02087394_11890.JPEG</th>\n",
       "      <td>0.027119</td>\n",
       "    </tr>\n",
       "    <tr>\n",
       "      <th>n02099601_367.JPEG</th>\n",
       "      <td>0.230605</td>\n",
       "    </tr>\n",
       "    <tr>\n",
       "      <th>n02105641_7918.JPEG</th>\n",
       "      <td>0.030773</td>\n",
       "    </tr>\n",
       "    <tr>\n",
       "      <th>n02088364_15440.JPEG</th>\n",
       "      <td>0.413394</td>\n",
       "    </tr>\n",
       "    <tr>\n",
       "      <th>n02087394_17317.JPEG</th>\n",
       "      <td>0.652084</td>\n",
       "    </tr>\n",
       "    <tr>\n",
       "      <th>...</th>\n",
       "      <td>...</td>\n",
       "    </tr>\n",
       "    <tr>\n",
       "      <th>n02088364_5768.JPEG</th>\n",
       "      <td>1.057600</td>\n",
       "    </tr>\n",
       "    <tr>\n",
       "      <th>n02086240_3489.JPEG</th>\n",
       "      <td>0.001356</td>\n",
       "    </tr>\n",
       "    <tr>\n",
       "      <th>n02088364_17830.JPEG</th>\n",
       "      <td>0.543459</td>\n",
       "    </tr>\n",
       "    <tr>\n",
       "      <th>n02099601_5764.JPEG</th>\n",
       "      <td>1.640751</td>\n",
       "    </tr>\n",
       "    <tr>\n",
       "      <th>n02099601_5998.JPEG</th>\n",
       "      <td>0.004322</td>\n",
       "    </tr>\n",
       "    <tr>\n",
       "      <th>n02115641_26532.JPEG</th>\n",
       "      <td>0.000227</td>\n",
       "    </tr>\n",
       "    <tr>\n",
       "      <th>n02096294_5561.JPEG</th>\n",
       "      <td>0.000023</td>\n",
       "    </tr>\n",
       "    <tr>\n",
       "      <th>n02115641_3038.JPEG</th>\n",
       "      <td>0.029334</td>\n",
       "    </tr>\n",
       "    <tr>\n",
       "      <th>n02087394_2193.JPEG</th>\n",
       "      <td>0.001240</td>\n",
       "    </tr>\n",
       "    <tr>\n",
       "      <th>n02089973_6039.JPEG</th>\n",
       "      <td>3.979853</td>\n",
       "    </tr>\n",
       "    <tr>\n",
       "      <th>n02111889_5352.JPEG</th>\n",
       "      <td>0.008825</td>\n",
       "    </tr>\n",
       "    <tr>\n",
       "      <th>n02096294_4233.JPEG</th>\n",
       "      <td>2.096161</td>\n",
       "    </tr>\n",
       "    <tr>\n",
       "      <th>n02111889_4946.JPEG</th>\n",
       "      <td>0.018510</td>\n",
       "    </tr>\n",
       "    <tr>\n",
       "      <th>n02105641_3741.JPEG</th>\n",
       "      <td>0.562134</td>\n",
       "    </tr>\n",
       "    <tr>\n",
       "      <th>n02086240_1089.JPEG</th>\n",
       "      <td>0.417163</td>\n",
       "    </tr>\n",
       "    <tr>\n",
       "      <th>n02111889_14729.JPEG</th>\n",
       "      <td>0.278781</td>\n",
       "    </tr>\n",
       "    <tr>\n",
       "      <th>n02088364_10504.JPEG</th>\n",
       "      <td>0.708760</td>\n",
       "    </tr>\n",
       "    <tr>\n",
       "      <th>n02111889_14441.JPEG</th>\n",
       "      <td>0.068860</td>\n",
       "    </tr>\n",
       "    <tr>\n",
       "      <th>n02089973_3299.JPEG</th>\n",
       "      <td>0.364862</td>\n",
       "    </tr>\n",
       "    <tr>\n",
       "      <th>n02086240_6641.JPEG</th>\n",
       "      <td>0.033616</td>\n",
       "    </tr>\n",
       "    <tr>\n",
       "      <th>n02088364_4281.JPEG</th>\n",
       "      <td>0.153324</td>\n",
       "    </tr>\n",
       "    <tr>\n",
       "      <th>n02096294_604.JPEG</th>\n",
       "      <td>2.837743</td>\n",
       "    </tr>\n",
       "    <tr>\n",
       "      <th>n02099601_3525.JPEG</th>\n",
       "      <td>1.588487</td>\n",
       "    </tr>\n",
       "    <tr>\n",
       "      <th>n02096294_1245.JPEG</th>\n",
       "      <td>0.006801</td>\n",
       "    </tr>\n",
       "    <tr>\n",
       "      <th>n02086240_6716.JPEG</th>\n",
       "      <td>0.024355</td>\n",
       "    </tr>\n",
       "    <tr>\n",
       "      <th>n02089973_11859.JPEG</th>\n",
       "      <td>0.151401</td>\n",
       "    </tr>\n",
       "    <tr>\n",
       "      <th>n02086240_7404.JPEG</th>\n",
       "      <td>0.064404</td>\n",
       "    </tr>\n",
       "    <tr>\n",
       "      <th>n02088364_12730.JPEG</th>\n",
       "      <td>0.175134</td>\n",
       "    </tr>\n",
       "    <tr>\n",
       "      <th>n02105641_5345.JPEG</th>\n",
       "      <td>0.014501</td>\n",
       "    </tr>\n",
       "    <tr>\n",
       "      <th>n02086240_5354.JPEG</th>\n",
       "      <td>0.000070</td>\n",
       "    </tr>\n",
       "  </tbody>\n",
       "</table>\n",
       "<p>12454 rows × 1 columns</p>\n",
       "</div>"
      ],
      "text/plain": [
       "                             0\n",
       "n02115641_44296.JPEG  0.112671\n",
       "n02115641_7648.JPEG   0.235310\n",
       "n02088364_1449.JPEG   0.863584\n",
       "n02099601_8874.JPEG   0.386320\n",
       "n02089973_4875.JPEG   1.649868\n",
       "n02099601_447.JPEG    0.195452\n",
       "n02115641_28502.JPEG  2.505424\n",
       "n02093754_4460.JPEG   0.003552\n",
       "n02093754_6370.JPEG   0.300552\n",
       "n02086240_3672.JPEG   0.000826\n",
       "n02093754_4384.JPEG   0.143603\n",
       "n02111889_15388.JPEG  0.024080\n",
       "n02088364_2661.JPEG   0.235907\n",
       "n02111889_3439.JPEG   0.212486\n",
       "n02115641_925.JPEG    0.011507\n",
       "n02093754_5198.JPEG   0.125398\n",
       "n02093754_1310.JPEG   0.003053\n",
       "n02096294_6439.JPEG   0.243310\n",
       "n02093754_696.JPEG    0.727479\n",
       "n02099601_729.JPEG    2.702251\n",
       "n02093754_5658.JPEG   0.011882\n",
       "n02115641_40643.JPEG  0.084483\n",
       "n02087394_5692.JPEG   0.051134\n",
       "n02099601_11459.JPEG  0.658413\n",
       "n02088364_4219.JPEG   0.207971\n",
       "n02087394_11890.JPEG  0.027119\n",
       "n02099601_367.JPEG    0.230605\n",
       "n02105641_7918.JPEG   0.030773\n",
       "n02088364_15440.JPEG  0.413394\n",
       "n02087394_17317.JPEG  0.652084\n",
       "...                        ...\n",
       "n02088364_5768.JPEG   1.057600\n",
       "n02086240_3489.JPEG   0.001356\n",
       "n02088364_17830.JPEG  0.543459\n",
       "n02099601_5764.JPEG   1.640751\n",
       "n02099601_5998.JPEG   0.004322\n",
       "n02115641_26532.JPEG  0.000227\n",
       "n02096294_5561.JPEG   0.000023\n",
       "n02115641_3038.JPEG   0.029334\n",
       "n02087394_2193.JPEG   0.001240\n",
       "n02089973_6039.JPEG   3.979853\n",
       "n02111889_5352.JPEG   0.008825\n",
       "n02096294_4233.JPEG   2.096161\n",
       "n02111889_4946.JPEG   0.018510\n",
       "n02105641_3741.JPEG   0.562134\n",
       "n02086240_1089.JPEG   0.417163\n",
       "n02111889_14729.JPEG  0.278781\n",
       "n02088364_10504.JPEG  0.708760\n",
       "n02111889_14441.JPEG  0.068860\n",
       "n02089973_3299.JPEG   0.364862\n",
       "n02086240_6641.JPEG   0.033616\n",
       "n02088364_4281.JPEG   0.153324\n",
       "n02096294_604.JPEG    2.837743\n",
       "n02099601_3525.JPEG   1.588487\n",
       "n02096294_1245.JPEG   0.006801\n",
       "n02086240_6716.JPEG   0.024355\n",
       "n02089973_11859.JPEG  0.151401\n",
       "n02086240_7404.JPEG   0.064404\n",
       "n02088364_12730.JPEG  0.175134\n",
       "n02105641_5345.JPEG   0.014501\n",
       "n02086240_5354.JPEG   0.000070\n",
       "\n",
       "[12454 rows x 1 columns]"
      ]
     },
     "execution_count": 32,
     "metadata": {},
     "output_type": "execute_result"
    }
   ],
   "source": [
    "df"
   ]
  },
  {
   "cell_type": "code",
   "execution_count": null,
   "metadata": {},
   "outputs": [],
   "source": []
  }
 ],
 "metadata": {
  "kernelspec": {
   "display_name": "Python 3",
   "language": "python",
   "name": "python3"
  },
  "language_info": {
   "codemirror_mode": {
    "name": "ipython",
    "version": 3
   },
   "file_extension": ".py",
   "mimetype": "text/x-python",
   "name": "python",
   "nbconvert_exporter": "python",
   "pygments_lexer": "ipython3",
   "version": "3.6.8"
  }
 },
 "nbformat": 4,
 "nbformat_minor": 2
}
