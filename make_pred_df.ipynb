{
 "cells": [
  {
   "cell_type": "code",
   "execution_count": 22,
   "metadata": {
    "ExecuteTime": {
     "end_time": "2019-06-03T06:39:52.603965Z",
     "start_time": "2019-06-03T06:39:52.574636Z"
    }
   },
   "outputs": [],
   "source": [
    "import argparse\n",
    "from pathlib import Path\n",
    "from fastai.imagito.utils import *\n",
    "from fastai.vision.models.xresnet2 import xresnet50_2\n",
    "import torch\n",
    "import math\n",
    "from operator import itemgetter\n",
    "\n",
    "from sklearn.model_selection import ParameterGrid\n",
    "from fastai.imagito.utils import update_batch_size\n",
    "\n",
    "to_grid = lambda p: update_batch_size(ParameterGrid(p))"
   ]
  },
  {
   "cell_type": "code",
   "execution_count": 13,
   "metadata": {
    "ExecuteTime": {
     "end_time": "2019-06-03T06:35:52.485745Z",
     "start_time": "2019-06-03T06:35:52.459732Z"
    }
   },
   "outputs": [],
   "source": [
    "def load_model(model_dir, size, woof, bs, sample):\n",
    "#     model_params = pickle_load(model_dir + '/params.pkl')\n",
    "#     if model_params['size'] != size:\n",
    "#         print('Warning: Model was trained on image size=%d but is being used to predict for size=%d'\n",
    "#               % (model_params['size'], size))\n",
    "\n",
    "    m = xresnet50_2\n",
    "    #print(model_params)\n",
    "    data = get_data(size, woof, bs, sample, shuffle_train=False, flip_lr_p=0.0)\n",
    "    l = Learner(data, m(c_out=10), path=model_dir)\n",
    "    l.load('woof_classif')\n",
    "    return l, data"
   ]
  },
  {
   "cell_type": "code",
   "execution_count": null,
   "metadata": {},
   "outputs": [],
   "source": [
    "!mv woof_classif.pth"
   ]
  },
  {
   "cell_type": "code",
   "execution_count": 4,
   "metadata": {
    "ExecuteTime": {
     "end_time": "2019-06-03T05:48:40.252323Z",
     "start_time": "2019-06-03T05:48:40.130555Z"
    }
   },
   "outputs": [],
   "source": [
    "mkdir models"
   ]
  },
  {
   "cell_type": "code",
   "execution_count": 5,
   "metadata": {
    "ExecuteTime": {
     "end_time": "2019-06-03T05:48:46.503483Z",
     "start_time": "2019-06-03T05:48:46.381322Z"
    }
   },
   "outputs": [],
   "source": [
    "mv woof_classif.pth models"
   ]
  },
  {
   "cell_type": "code",
   "execution_count": 15,
   "metadata": {
    "ExecuteTime": {
     "end_time": "2019-06-03T05:50:48.038958Z",
     "start_time": "2019-06-03T05:50:47.871193Z"
    }
   },
   "outputs": [
    {
     "name": "stdout",
     "output_type": "stream",
     "text": [
      "woof_classif.pth\r\n"
     ]
    }
   ],
   "source": [
    "ls models"
   ]
  },
  {
   "cell_type": "code",
   "execution_count": 19,
   "metadata": {
    "ExecuteTime": {
     "end_time": "2019-06-03T05:51:11.770768Z",
     "start_time": "2019-06-03T05:51:08.921262Z"
    }
   },
   "outputs": [],
   "source": [
    "model, data = load_model('.', 128, True, 256, 1.)"
   ]
  },
  {
   "cell_type": "code",
   "execution_count": 20,
   "metadata": {
    "ExecuteTime": {
     "end_time": "2019-06-03T05:51:20.844178Z",
     "start_time": "2019-06-03T05:51:11.773096Z"
    }
   },
   "outputs": [],
   "source": [
    "predictions_t, targets_t, loss_t = model.get_preds(ds_type=DatasetType.Train, with_loss=True)"
   ]
  },
  {
   "cell_type": "code",
   "execution_count": 21,
   "metadata": {
    "ExecuteTime": {
     "end_time": "2019-06-03T05:51:42.504418Z",
     "start_time": "2019-06-03T05:51:42.497854Z"
    }
   },
   "outputs": [],
   "source": [
    "to_arr = lambda x: x.numpy()"
   ]
  },
  {
   "cell_type": "code",
   "execution_count": 27,
   "metadata": {
    "ExecuteTime": {
     "end_time": "2019-06-03T05:52:45.709823Z",
     "start_time": "2019-06-03T05:52:45.690728Z"
    }
   },
   "outputs": [],
   "source": [
    "paths = list(map(lambda x: x.name,data.items))"
   ]
  },
  {
   "cell_type": "code",
   "execution_count": 33,
   "metadata": {
    "ExecuteTime": {
     "end_time": "2019-06-03T05:53:40.632203Z",
     "start_time": "2019-06-03T05:53:40.623301Z"
    }
   },
   "outputs": [],
   "source": [
    "df = pd.DataFrame(to_arr(loss_t), columns=['loss'])\n",
    "df.index = paths"
   ]
  },
  {
   "cell_type": "code",
   "execution_count": 43,
   "metadata": {
    "ExecuteTime": {
     "end_time": "2019-06-03T05:56:25.485392Z",
     "start_time": "2019-06-03T05:56:25.476421Z"
    }
   },
   "outputs": [],
   "source": [
    "df = df.rename_axis('paths').sort_values('loss', ascending=False).reset_index()"
   ]
  },
  {
   "cell_type": "code",
   "execution_count": 47,
   "metadata": {
    "ExecuteTime": {
     "end_time": "2019-06-03T05:58:07.301368Z",
     "start_time": "2019-06-03T05:58:07.290967Z"
    },
    "scrolled": true
   },
   "outputs": [
    {
     "data": {
      "text/html": [
       "<div>\n",
       "<style scoped>\n",
       "    .dataframe tbody tr th:only-of-type {\n",
       "        vertical-align: middle;\n",
       "    }\n",
       "\n",
       "    .dataframe tbody tr th {\n",
       "        vertical-align: top;\n",
       "    }\n",
       "\n",
       "    .dataframe thead th {\n",
       "        text-align: right;\n",
       "    }\n",
       "</style>\n",
       "<table border=\"1\" class=\"dataframe\">\n",
       "  <thead>\n",
       "    <tr style=\"text-align: right;\">\n",
       "      <th></th>\n",
       "      <th>paths</th>\n",
       "      <th>loss</th>\n",
       "    </tr>\n",
       "  </thead>\n",
       "  <tbody>\n",
       "    <tr>\n",
       "      <th>0</th>\n",
       "      <td>n02086240_7862.JPEG</td>\n",
       "      <td>11.440737</td>\n",
       "    </tr>\n",
       "    <tr>\n",
       "      <th>1</th>\n",
       "      <td>n02089973_2860.JPEG</td>\n",
       "      <td>10.591484</td>\n",
       "    </tr>\n",
       "    <tr>\n",
       "      <th>2</th>\n",
       "      <td>n02088364_12006.JPEG</td>\n",
       "      <td>8.879482</td>\n",
       "    </tr>\n",
       "    <tr>\n",
       "      <th>3</th>\n",
       "      <td>n02086240_7549.JPEG</td>\n",
       "      <td>8.092752</td>\n",
       "    </tr>\n",
       "    <tr>\n",
       "      <th>4</th>\n",
       "      <td>n02093754_5276.JPEG</td>\n",
       "      <td>7.432945</td>\n",
       "    </tr>\n",
       "  </tbody>\n",
       "</table>\n",
       "</div>"
      ],
      "text/plain": [
       "                  paths       loss\n",
       "0   n02086240_7862.JPEG  11.440737\n",
       "1   n02089973_2860.JPEG  10.591484\n",
       "2  n02088364_12006.JPEG   8.879482\n",
       "3   n02086240_7549.JPEG   8.092752\n",
       "4   n02093754_5276.JPEG   7.432945"
      ]
     },
     "execution_count": 47,
     "metadata": {},
     "output_type": "execute_result"
    }
   ],
   "source": [
    "df.head()"
   ]
  },
  {
   "cell_type": "code",
   "execution_count": 19,
   "metadata": {
    "ExecuteTime": {
     "end_time": "2019-06-03T06:38:11.785335Z",
     "start_time": "2019-06-03T06:38:11.744683Z"
    }
   },
   "outputs": [],
   "source": [
    "from sklearn.model_selection import ParameterGrid\n",
    "from fastai.imagito.utils import update_batch_size\n",
    "from fastai.imagito.classes import ClassUtils\n",
    "\n",
    "to_grid = lambda p: update_batch_size(ParameterGrid(p))"
   ]
  },
  {
   "cell_type": "code",
   "execution_count": 21,
   "metadata": {
    "ExecuteTime": {
     "end_time": "2019-06-03T06:39:49.535422Z",
     "start_time": "2019-06-03T06:39:49.009652Z"
    }
   },
   "outputs": [
    {
     "name": "stdout",
     "output_type": "stream",
     "text": [
      "Already up-to-date.\r\n"
     ]
    }
   ],
   "source": [
    "!git pull"
   ]
  },
  {
   "cell_type": "code",
   "execution_count": 20,
   "metadata": {
    "ExecuteTime": {
     "end_time": "2019-06-03T06:38:16.421971Z",
     "start_time": "2019-06-03T06:38:16.394332Z"
    }
   },
   "outputs": [
    {
     "data": {
      "text/plain": [
       "['n02089973',\n",
       " 'n02086240',\n",
       " 'n02105641',\n",
       " 'n02087394',\n",
       " 'n02099601',\n",
       " 'n02115641',\n",
       " 'n02093754',\n",
       " 'n02111889',\n",
       " 'n02096294',\n",
       " 'n02088364']"
      ]
     },
     "execution_count": 20,
     "metadata": {},
     "output_type": "execute_result"
    }
   ],
   "source": [
    "ClassUtils.from_indices()"
   ]
  },
  {
   "cell_type": "code",
   "execution_count": 33,
   "metadata": {
    "ExecuteTime": {
     "end_time": "2019-06-03T06:49:53.898153Z",
     "start_time": "2019-06-03T06:49:53.876213Z"
    }
   },
   "outputs": [
    {
     "data": {
      "text/plain": [
       "18"
      ]
     },
     "execution_count": 33,
     "metadata": {},
     "output_type": "execute_result"
    }
   ],
   "source": [
    "len(GRID)"
   ]
  },
  {
   "cell_type": "code",
   "execution_count": 41,
   "metadata": {
    "ExecuteTime": {
     "end_time": "2019-06-03T06:51:58.221366Z",
     "start_time": "2019-06-03T06:51:58.200806Z"
    }
   },
   "outputs": [],
   "source": [
    "run = [dict(opt='adam', stem1=32, stem2=32)]"
   ]
  },
  {
   "cell_type": "code",
   "execution_count": 42,
   "metadata": {
    "ExecuteTime": {
     "end_time": "2019-06-03T06:52:17.524910Z",
     "start_time": "2019-06-03T06:52:17.503511Z"
    }
   },
   "outputs": [],
   "source": [
    "from sklearn.utils import shuffle"
   ]
  },
  {
   "cell_type": "code",
   "execution_count": 35,
   "metadata": {
    "ExecuteTime": {
     "end_time": "2019-06-03T06:51:22.590046Z",
     "start_time": "2019-06-03T06:51:22.552010Z"
    }
   },
   "outputs": [],
   "source": [
    "GRID = to_grid({'stem1': [4, 16, 32, 48],\n",
    "'stem2': [4, 16, 32, 48],\n",
    "'opt': ['adam', 'sgd', 'rms']})"
   ]
  },
  {
   "cell_type": "code",
   "execution_count": 46,
   "metadata": {
    "ExecuteTime": {
     "end_time": "2019-06-03T06:52:52.974240Z",
     "start_time": "2019-06-03T06:52:52.951038Z"
    }
   },
   "outputs": [],
   "source": [
    "GRID = [x for x in shuffle(GRID) if x not in run]"
   ]
  },
  {
   "cell_type": "code",
   "execution_count": 47,
   "metadata": {
    "ExecuteTime": {
     "end_time": "2019-06-03T06:52:56.045243Z",
     "start_time": "2019-06-03T06:52:56.015686Z"
    }
   },
   "outputs": [
    {
     "data": {
      "text/plain": [
       "47"
      ]
     },
     "execution_count": 47,
     "metadata": {},
     "output_type": "execute_result"
    }
   ],
   "source": [
    "len(GRID)"
   ]
  },
  {
   "cell_type": "code",
   "execution_count": 62,
   "metadata": {
    "ExecuteTime": {
     "end_time": "2019-06-03T07:03:28.592768Z",
     "start_time": "2019-06-03T07:03:28.572403Z"
    }
   },
   "outputs": [],
   "source": [
    "pickle_save(GRID, 'grid.pkl')"
   ]
  },
  {
   "cell_type": "code",
   "execution_count": 64,
   "metadata": {
    "ExecuteTime": {
     "end_time": "2019-06-03T07:04:39.943745Z",
     "start_time": "2019-06-03T07:04:39.922920Z"
    }
   },
   "outputs": [],
   "source": [
    "ARCH = 'xresnet18'"
   ]
  },
  {
   "cell_type": "code",
   "execution_count": 51,
   "metadata": {
    "ExecuteTime": {
     "end_time": "2019-06-03T06:56:11.266704Z",
     "start_time": "2019-06-03T06:56:11.241725Z"
    }
   },
   "outputs": [],
   "source": [
    "IGNORE = 'distillation'"
   ]
  },
  {
   "cell_type": "code",
   "execution_count": 56,
   "metadata": {
    "ExecuteTime": {
     "end_time": "2019-06-03T06:58:55.555754Z",
     "start_time": "2019-06-03T06:58:55.530251Z"
    }
   },
   "outputs": [],
   "source": [
    "from tqdm import *\n",
    "from fastai.imagito.train_imagito import main"
   ]
  },
  {
   "cell_type": "code",
   "execution_count": null,
   "metadata": {
    "ExecuteTime": {
     "start_time": "2019-06-03T07:04:47.081Z"
    }
   },
   "outputs": [
    {
     "data": {
      "application/vnd.jupyter.widget-view+json": {
       "model_id": "36a6d5be8e314c44a8cc98daf9e9eb2a",
       "version_major": 2,
       "version_minor": 0
      },
      "text/plain": [
       "HBox(children=(IntProgress(value=0, max=47), HTML(value='')))"
      ]
     },
     "metadata": {},
     "output_type": "display_data"
    },
    {
     "name": "stdout",
     "output_type": "stream",
     "text": [
      "{'classes': None, 'sample': 0.1} {'opt': 'sgd', 'stem1': 4, 'stem2': 32}\n",
      "lr: 0.003; eff_lr: 0.003; size: 128; alpha: 0.99; mom: 0.9; eps: 1e-06\n"
     ]
    },
    {
     "data": {
      "text/html": [
       "Total time: 01:05 <p><table border=\"1\" class=\"dataframe\">\n",
       "  <thead>\n",
       "    <tr style=\"text-align: left;\">\n",
       "      <th>epoch</th>\n",
       "      <th>train_loss</th>\n",
       "      <th>valid_loss</th>\n",
       "      <th>accuracy</th>\n",
       "      <th>time</th>\n",
       "    </tr>\n",
       "  </thead>\n",
       "  <tbody>\n",
       "    <tr>\n",
       "      <td>0</td>\n",
       "      <td>2.289242</td>\n",
       "      <td>2.296678</td>\n",
       "      <td>0.152174</td>\n",
       "      <td>00:04</td>\n",
       "    </tr>\n",
       "    <tr>\n",
       "      <td>1</td>\n",
       "      <td>2.282635</td>\n",
       "      <td>2.290593</td>\n",
       "      <td>0.195652</td>\n",
       "      <td>00:03</td>\n",
       "    </tr>\n",
       "    <tr>\n",
       "      <td>2</td>\n",
       "      <td>2.267846</td>\n",
       "      <td>2.275594</td>\n",
       "      <td>0.195652</td>\n",
       "      <td>00:02</td>\n",
       "    </tr>\n",
       "    <tr>\n",
       "      <td>3</td>\n",
       "      <td>2.243522</td>\n",
       "      <td>2.242769</td>\n",
       "      <td>0.195652</td>\n",
       "      <td>00:03</td>\n",
       "    </tr>\n",
       "    <tr>\n",
       "      <td>4</td>\n",
       "      <td>2.217494</td>\n",
       "      <td>2.190893</td>\n",
       "      <td>0.260870</td>\n",
       "      <td>00:03</td>\n",
       "    </tr>\n",
       "    <tr>\n",
       "      <td>5</td>\n",
       "      <td>2.190285</td>\n",
       "      <td>2.132931</td>\n",
       "      <td>0.369565</td>\n",
       "      <td>00:03</td>\n",
       "    </tr>\n",
       "    <tr>\n",
       "      <td>6</td>\n",
       "      <td>2.164182</td>\n",
       "      <td>2.078142</td>\n",
       "      <td>0.347826</td>\n",
       "      <td>00:02</td>\n",
       "    </tr>\n",
       "    <tr>\n",
       "      <td>7</td>\n",
       "      <td>2.139528</td>\n",
       "      <td>2.027519</td>\n",
       "      <td>0.391304</td>\n",
       "      <td>00:03</td>\n",
       "    </tr>\n",
       "    <tr>\n",
       "      <td>8</td>\n",
       "      <td>2.115678</td>\n",
       "      <td>1.984724</td>\n",
       "      <td>0.391304</td>\n",
       "      <td>00:03</td>\n",
       "    </tr>\n",
       "    <tr>\n",
       "      <td>9</td>\n",
       "      <td>2.094325</td>\n",
       "      <td>1.954699</td>\n",
       "      <td>0.391304</td>\n",
       "      <td>00:02</td>\n",
       "    </tr>\n",
       "    <tr>\n",
       "      <td>10</td>\n",
       "      <td>2.075342</td>\n",
       "      <td>1.926758</td>\n",
       "      <td>0.391304</td>\n",
       "      <td>00:03</td>\n",
       "    </tr>\n",
       "    <tr>\n",
       "      <td>11</td>\n",
       "      <td>2.058146</td>\n",
       "      <td>1.909578</td>\n",
       "      <td>0.434783</td>\n",
       "      <td>00:02</td>\n",
       "    </tr>\n",
       "    <tr>\n",
       "      <td>12</td>\n",
       "      <td>2.041798</td>\n",
       "      <td>1.896162</td>\n",
       "      <td>0.434783</td>\n",
       "      <td>00:03</td>\n",
       "    </tr>\n",
       "    <tr>\n",
       "      <td>13</td>\n",
       "      <td>2.026579</td>\n",
       "      <td>1.890247</td>\n",
       "      <td>0.369565</td>\n",
       "      <td>00:04</td>\n",
       "    </tr>\n",
       "    <tr>\n",
       "      <td>14</td>\n",
       "      <td>2.011369</td>\n",
       "      <td>1.883996</td>\n",
       "      <td>0.369565</td>\n",
       "      <td>00:03</td>\n",
       "    </tr>\n",
       "    <tr>\n",
       "      <td>15</td>\n",
       "      <td>1.997774</td>\n",
       "      <td>1.880187</td>\n",
       "      <td>0.369565</td>\n",
       "      <td>00:02</td>\n",
       "    </tr>\n",
       "    <tr>\n",
       "      <td>16</td>\n",
       "      <td>1.985211</td>\n",
       "      <td>1.876820</td>\n",
       "      <td>0.347826</td>\n",
       "      <td>00:03</td>\n",
       "    </tr>\n",
       "    <tr>\n",
       "      <td>17</td>\n",
       "      <td>1.973158</td>\n",
       "      <td>1.875259</td>\n",
       "      <td>0.369565</td>\n",
       "      <td>00:02</td>\n",
       "    </tr>\n",
       "    <tr>\n",
       "      <td>18</td>\n",
       "      <td>1.963682</td>\n",
       "      <td>1.874637</td>\n",
       "      <td>0.347826</td>\n",
       "      <td>00:03</td>\n",
       "    </tr>\n",
       "    <tr>\n",
       "      <td>19</td>\n",
       "      <td>1.955015</td>\n",
       "      <td>1.875553</td>\n",
       "      <td>0.347826</td>\n",
       "      <td>00:03</td>\n",
       "    </tr>\n",
       "  </tbody>\n",
       "</table>"
      ],
      "text/plain": [
       "<IPython.core.display.HTML object>"
      ]
     },
     "metadata": {},
     "output_type": "display_data"
    },
    {
     "name": "stdout",
     "output_type": "stream",
     "text": [
      "this Learner object self-destroyed - it still exists, but no longer usable\n",
      "{'classes': None, 'sample': 0.25} {'opt': 'sgd', 'stem1': 4, 'stem2': 32}\n",
      "lr: 0.003; eff_lr: 0.003; size: 128; alpha: 0.99; mom: 0.9; eps: 1e-06\n"
     ]
    },
    {
     "data": {
      "text/html": [
       "Total time: 01:55 <p><table border=\"1\" class=\"dataframe\">\n",
       "  <thead>\n",
       "    <tr style=\"text-align: left;\">\n",
       "      <th>epoch</th>\n",
       "      <th>train_loss</th>\n",
       "      <th>valid_loss</th>\n",
       "      <th>accuracy</th>\n",
       "      <th>time</th>\n",
       "    </tr>\n",
       "  </thead>\n",
       "  <tbody>\n",
       "    <tr>\n",
       "      <td>0</td>\n",
       "      <td>2.304085</td>\n",
       "      <td>2.298427</td>\n",
       "      <td>0.147541</td>\n",
       "      <td>00:07</td>\n",
       "    </tr>\n",
       "    <tr>\n",
       "      <td>1</td>\n",
       "      <td>2.277034</td>\n",
       "      <td>2.230657</td>\n",
       "      <td>0.114754</td>\n",
       "      <td>00:04</td>\n",
       "    </tr>\n",
       "    <tr>\n",
       "      <td>2</td>\n",
       "      <td>2.237653</td>\n",
       "      <td>2.084227</td>\n",
       "      <td>0.254098</td>\n",
       "      <td>00:06</td>\n",
       "    </tr>\n",
       "    <tr>\n",
       "      <td>3</td>\n",
       "      <td>2.192107</td>\n",
       "      <td>1.976423</td>\n",
       "      <td>0.360656</td>\n",
       "      <td>00:05</td>\n",
       "    </tr>\n",
       "    <tr>\n",
       "      <td>4</td>\n",
       "      <td>2.147071</td>\n",
       "      <td>1.918309</td>\n",
       "      <td>0.352459</td>\n",
       "      <td>00:05</td>\n",
       "    </tr>\n",
       "    <tr>\n",
       "      <td>5</td>\n",
       "      <td>2.106048</td>\n",
       "      <td>1.883777</td>\n",
       "      <td>0.344262</td>\n",
       "      <td>00:07</td>\n",
       "    </tr>\n",
       "    <tr>\n",
       "      <td>6</td>\n",
       "      <td>2.069936</td>\n",
       "      <td>1.866512</td>\n",
       "      <td>0.393443</td>\n",
       "      <td>00:05</td>\n",
       "    </tr>\n",
       "    <tr>\n",
       "      <td>7</td>\n",
       "      <td>2.034100</td>\n",
       "      <td>1.832659</td>\n",
       "      <td>0.401639</td>\n",
       "      <td>00:05</td>\n",
       "    </tr>\n",
       "    <tr>\n",
       "      <td>8</td>\n",
       "      <td>2.001457</td>\n",
       "      <td>1.810174</td>\n",
       "      <td>0.409836</td>\n",
       "      <td>00:07</td>\n",
       "    </tr>\n",
       "    <tr>\n",
       "      <td>9</td>\n",
       "      <td>1.969982</td>\n",
       "      <td>1.794942</td>\n",
       "      <td>0.409836</td>\n",
       "      <td>00:04</td>\n",
       "    </tr>\n",
       "    <tr>\n",
       "      <td>10</td>\n",
       "      <td>1.940113</td>\n",
       "      <td>1.765537</td>\n",
       "      <td>0.418033</td>\n",
       "      <td>00:06</td>\n",
       "    </tr>\n",
       "    <tr>\n",
       "      <td>11</td>\n",
       "      <td>1.912708</td>\n",
       "      <td>1.733723</td>\n",
       "      <td>0.434426</td>\n",
       "      <td>00:05</td>\n",
       "    </tr>\n",
       "    <tr>\n",
       "      <td>12</td>\n",
       "      <td>1.885472</td>\n",
       "      <td>1.709366</td>\n",
       "      <td>0.450820</td>\n",
       "      <td>00:05</td>\n",
       "    </tr>\n",
       "    <tr>\n",
       "      <td>13</td>\n",
       "      <td>1.858903</td>\n",
       "      <td>1.686802</td>\n",
       "      <td>0.434426</td>\n",
       "      <td>00:07</td>\n",
       "    </tr>\n",
       "    <tr>\n",
       "      <td>14</td>\n",
       "      <td>1.833359</td>\n",
       "      <td>1.666369</td>\n",
       "      <td>0.467213</td>\n",
       "      <td>00:04</td>\n",
       "    </tr>\n",
       "    <tr>\n",
       "      <td>15</td>\n",
       "      <td>1.812741</td>\n",
       "      <td>1.653551</td>\n",
       "      <td>0.475410</td>\n",
       "      <td>00:06</td>\n",
       "    </tr>\n",
       "    <tr>\n",
       "      <td>16</td>\n",
       "      <td>1.794038</td>\n",
       "      <td>1.648866</td>\n",
       "      <td>0.450820</td>\n",
       "      <td>00:05</td>\n",
       "    </tr>\n",
       "    <tr>\n",
       "      <td>17</td>\n",
       "      <td>1.777711</td>\n",
       "      <td>1.643837</td>\n",
       "      <td>0.467213</td>\n",
       "      <td>00:05</td>\n",
       "    </tr>\n",
       "    <tr>\n",
       "      <td>18</td>\n",
       "      <td>1.763186</td>\n",
       "      <td>1.641232</td>\n",
       "      <td>0.459016</td>\n",
       "      <td>00:06</td>\n",
       "    </tr>\n",
       "    <tr>\n",
       "      <td>19</td>\n",
       "      <td>1.752117</td>\n",
       "      <td>1.640859</td>\n",
       "      <td>0.467213</td>\n",
       "      <td>00:04</td>\n",
       "    </tr>\n",
       "  </tbody>\n",
       "</table>"
      ],
      "text/plain": [
       "<IPython.core.display.HTML object>"
      ]
     },
     "metadata": {},
     "output_type": "display_data"
    },
    {
     "name": "stdout",
     "output_type": "stream",
     "text": [
      "this Learner object self-destroyed - it still exists, but no longer usable\n",
      "{'classes': None, 'sample': 0.5} {'opt': 'sgd', 'stem1': 4, 'stem2': 32}\n",
      "lr: 0.003; eff_lr: 0.003; size: 128; alpha: 0.99; mom: 0.9; eps: 1e-06\n"
     ]
    },
    {
     "data": {
      "text/html": [
       "Total time: 03:23 <p><table border=\"1\" class=\"dataframe\">\n",
       "  <thead>\n",
       "    <tr style=\"text-align: left;\">\n",
       "      <th>epoch</th>\n",
       "      <th>train_loss</th>\n",
       "      <th>valid_loss</th>\n",
       "      <th>accuracy</th>\n",
       "      <th>time</th>\n",
       "    </tr>\n",
       "  </thead>\n",
       "  <tbody>\n",
       "    <tr>\n",
       "      <td>0</td>\n",
       "      <td>2.289698</td>\n",
       "      <td>2.278256</td>\n",
       "      <td>0.148000</td>\n",
       "      <td>00:09</td>\n",
       "    </tr>\n",
       "    <tr>\n",
       "      <td>1</td>\n",
       "      <td>2.244272</td>\n",
       "      <td>2.157288</td>\n",
       "      <td>0.296000</td>\n",
       "      <td>00:09</td>\n",
       "    </tr>\n",
       "    <tr>\n",
       "      <td>2</td>\n",
       "      <td>2.184474</td>\n",
       "      <td>2.058314</td>\n",
       "      <td>0.324000</td>\n",
       "      <td>00:09</td>\n",
       "    </tr>\n",
       "    <tr>\n",
       "      <td>3</td>\n",
       "      <td>2.125891</td>\n",
       "      <td>1.996212</td>\n",
       "      <td>0.336000</td>\n",
       "      <td>00:09</td>\n",
       "    </tr>\n",
       "    <tr>\n",
       "      <td>4</td>\n",
       "      <td>2.071764</td>\n",
       "      <td>1.947429</td>\n",
       "      <td>0.352000</td>\n",
       "      <td>00:07</td>\n",
       "    </tr>\n",
       "    <tr>\n",
       "      <td>5</td>\n",
       "      <td>2.021364</td>\n",
       "      <td>1.925655</td>\n",
       "      <td>0.368000</td>\n",
       "      <td>00:11</td>\n",
       "    </tr>\n",
       "    <tr>\n",
       "      <td>6</td>\n",
       "      <td>1.973531</td>\n",
       "      <td>1.866750</td>\n",
       "      <td>0.396000</td>\n",
       "      <td>00:09</td>\n",
       "    </tr>\n",
       "    <tr>\n",
       "      <td>7</td>\n",
       "      <td>1.929482</td>\n",
       "      <td>1.818508</td>\n",
       "      <td>0.412000</td>\n",
       "      <td>00:11</td>\n",
       "    </tr>\n",
       "    <tr>\n",
       "      <td>8</td>\n",
       "      <td>1.886142</td>\n",
       "      <td>1.781980</td>\n",
       "      <td>0.420000</td>\n",
       "      <td>00:11</td>\n",
       "    </tr>\n",
       "    <tr>\n",
       "      <td>9</td>\n",
       "      <td>1.842360</td>\n",
       "      <td>1.718661</td>\n",
       "      <td>0.448000</td>\n",
       "      <td>00:09</td>\n",
       "    </tr>\n",
       "    <tr>\n",
       "      <td>10</td>\n",
       "      <td>1.801358</td>\n",
       "      <td>1.678293</td>\n",
       "      <td>0.464000</td>\n",
       "      <td>00:11</td>\n",
       "    </tr>\n",
       "    <tr>\n",
       "      <td>11</td>\n",
       "      <td>1.762902</td>\n",
       "      <td>1.653980</td>\n",
       "      <td>0.472000</td>\n",
       "      <td>00:11</td>\n",
       "    </tr>\n",
       "    <tr>\n",
       "      <td>12</td>\n",
       "      <td>1.726664</td>\n",
       "      <td>1.603950</td>\n",
       "      <td>0.480000</td>\n",
       "      <td>00:09</td>\n",
       "    </tr>\n",
       "    <tr>\n",
       "      <td>13</td>\n",
       "      <td>1.690369</td>\n",
       "      <td>1.570630</td>\n",
       "      <td>0.504000</td>\n",
       "      <td>00:11</td>\n",
       "    </tr>\n",
       "    <tr>\n",
       "      <td>14</td>\n",
       "      <td>1.658597</td>\n",
       "      <td>1.541353</td>\n",
       "      <td>0.528000</td>\n",
       "      <td>00:08</td>\n",
       "    </tr>\n",
       "    <tr>\n",
       "      <td>15</td>\n",
       "      <td>1.631152</td>\n",
       "      <td>1.524003</td>\n",
       "      <td>0.528000</td>\n",
       "      <td>00:11</td>\n",
       "    </tr>\n",
       "    <tr>\n",
       "      <td>16</td>\n",
       "      <td>1.609300</td>\n",
       "      <td>1.509173</td>\n",
       "      <td>0.532000</td>\n",
       "      <td>00:11</td>\n",
       "    </tr>\n",
       "    <tr>\n",
       "      <td>17</td>\n",
       "      <td>1.587088</td>\n",
       "      <td>1.511261</td>\n",
       "      <td>0.552000</td>\n",
       "      <td>00:09</td>\n",
       "    </tr>\n",
       "    <tr>\n",
       "      <td>18</td>\n",
       "      <td>1.574249</td>\n",
       "      <td>1.501429</td>\n",
       "      <td>0.540000</td>\n",
       "      <td>00:11</td>\n",
       "    </tr>\n",
       "    <tr>\n",
       "      <td>19</td>\n",
       "      <td>1.568798</td>\n",
       "      <td>1.500798</td>\n",
       "      <td>0.544000</td>\n",
       "      <td>00:08</td>\n",
       "    </tr>\n",
       "  </tbody>\n",
       "</table>"
      ],
      "text/plain": [
       "<IPython.core.display.HTML object>"
      ]
     },
     "metadata": {},
     "output_type": "display_data"
    },
    {
     "name": "stdout",
     "output_type": "stream",
     "text": [
      "this Learner object self-destroyed - it still exists, but no longer usable\n",
      "{'classes': None, 'sample': 0.7} {'opt': 'sgd', 'stem1': 4, 'stem2': 32}\n",
      "lr: 0.003; eff_lr: 0.003; size: 128; alpha: 0.99; mom: 0.9; eps: 1e-06\n"
     ]
    },
    {
     "data": {
      "text/html": [
       "Total time: 04:13 <p><table border=\"1\" class=\"dataframe\">\n",
       "  <thead>\n",
       "    <tr style=\"text-align: left;\">\n",
       "      <th>epoch</th>\n",
       "      <th>train_loss</th>\n",
       "      <th>valid_loss</th>\n",
       "      <th>accuracy</th>\n",
       "      <th>time</th>\n",
       "    </tr>\n",
       "  </thead>\n",
       "  <tbody>\n",
       "    <tr>\n",
       "      <td>0</td>\n",
       "      <td>2.249541</td>\n",
       "      <td>2.159178</td>\n",
       "      <td>0.232143</td>\n",
       "      <td>00:13</td>\n",
       "    </tr>\n",
       "    <tr>\n",
       "      <td>1</td>\n",
       "      <td>2.157236</td>\n",
       "      <td>2.001210</td>\n",
       "      <td>0.357143</td>\n",
       "      <td>00:12</td>\n",
       "    </tr>\n",
       "    <tr>\n",
       "      <td>2</td>\n",
       "      <td>2.063222</td>\n",
       "      <td>1.911916</td>\n",
       "      <td>0.369048</td>\n",
       "      <td>00:14</td>\n",
       "    </tr>\n",
       "    <tr>\n",
       "      <td>3</td>\n",
       "      <td>1.979302</td>\n",
       "      <td>1.853452</td>\n",
       "      <td>0.383929</td>\n",
       "      <td>00:14</td>\n",
       "    </tr>\n",
       "    <tr>\n",
       "      <td>4</td>\n",
       "      <td>1.905506</td>\n",
       "      <td>1.804559</td>\n",
       "      <td>0.377976</td>\n",
       "      <td>00:14</td>\n",
       "    </tr>\n",
       "    <tr>\n",
       "      <td>5</td>\n",
       "      <td>1.837957</td>\n",
       "      <td>1.758126</td>\n",
       "      <td>0.425595</td>\n",
       "      <td>00:12</td>\n",
       "    </tr>\n",
       "    <tr>\n",
       "      <td>6</td>\n",
       "      <td>1.777065</td>\n",
       "      <td>1.695783</td>\n",
       "      <td>0.446429</td>\n",
       "      <td>00:13</td>\n",
       "    </tr>\n",
       "    <tr>\n",
       "      <td>7</td>\n",
       "      <td>1.719532</td>\n",
       "      <td>1.678103</td>\n",
       "      <td>0.410714</td>\n",
       "      <td>00:14</td>\n",
       "    </tr>\n",
       "    <tr>\n",
       "      <td>8</td>\n",
       "      <td>1.654653</td>\n",
       "      <td>1.556933</td>\n",
       "      <td>0.511905</td>\n",
       "      <td>00:14</td>\n",
       "    </tr>\n",
       "    <tr>\n",
       "      <td>9</td>\n",
       "      <td>1.595183</td>\n",
       "      <td>1.507583</td>\n",
       "      <td>0.532738</td>\n",
       "      <td>00:13</td>\n",
       "    </tr>\n",
       "    <tr>\n",
       "      <td>10</td>\n",
       "      <td>1.544561</td>\n",
       "      <td>1.459360</td>\n",
       "      <td>0.547619</td>\n",
       "      <td>00:12</td>\n",
       "    </tr>\n",
       "    <tr>\n",
       "      <td>11</td>\n",
       "      <td>1.498612</td>\n",
       "      <td>1.455547</td>\n",
       "      <td>0.523810</td>\n",
       "      <td>00:13</td>\n",
       "    </tr>\n",
       "    <tr>\n",
       "      <td>12</td>\n",
       "      <td>1.464129</td>\n",
       "      <td>1.425283</td>\n",
       "      <td>0.550595</td>\n",
       "      <td>00:15</td>\n",
       "    </tr>\n",
       "    <tr>\n",
       "      <td>13</td>\n",
       "      <td>1.436495</td>\n",
       "      <td>1.397934</td>\n",
       "      <td>0.556548</td>\n",
       "      <td>00:10</td>\n",
       "    </tr>\n",
       "    <tr>\n",
       "      <td>14</td>\n",
       "      <td>1.411345</td>\n",
       "      <td>1.395822</td>\n",
       "      <td>0.544643</td>\n",
       "      <td>00:10</td>\n",
       "    </tr>\n",
       "    <tr>\n",
       "      <td>15</td>\n",
       "      <td>1.386536</td>\n",
       "      <td>1.382585</td>\n",
       "      <td>0.565476</td>\n",
       "      <td>00:10</td>\n",
       "    </tr>\n",
       "    <tr>\n",
       "      <td>16</td>\n",
       "      <td>1.369386</td>\n",
       "      <td>1.372085</td>\n",
       "      <td>0.574405</td>\n",
       "      <td>00:10</td>\n",
       "    </tr>\n",
       "    <tr>\n",
       "      <td>17</td>\n",
       "      <td>1.358250</td>\n",
       "      <td>1.367312</td>\n",
       "      <td>0.583333</td>\n",
       "      <td>00:10</td>\n",
       "    </tr>\n",
       "    <tr>\n",
       "      <td>18</td>\n",
       "      <td>1.353326</td>\n",
       "      <td>1.363104</td>\n",
       "      <td>0.577381</td>\n",
       "      <td>00:10</td>\n",
       "    </tr>\n",
       "    <tr>\n",
       "      <td>19</td>\n",
       "      <td>1.348794</td>\n",
       "      <td>1.365226</td>\n",
       "      <td>0.583333</td>\n",
       "      <td>00:10</td>\n",
       "    </tr>\n",
       "  </tbody>\n",
       "</table>"
      ],
      "text/plain": [
       "<IPython.core.display.HTML object>"
      ]
     },
     "metadata": {},
     "output_type": "display_data"
    },
    {
     "name": "stdout",
     "output_type": "stream",
     "text": [
      "this Learner object self-destroyed - it still exists, but no longer usable\n",
      "{'classes': None, 'sample': 1.0} {'opt': 'sgd', 'stem1': 4, 'stem2': 32}\n",
      "lr: 0.003; eff_lr: 0.003; size: 128; alpha: 0.99; mom: 0.9; eps: 1e-06\n"
     ]
    },
    {
     "data": {
      "text/html": [
       "\n",
       "    <div>\n",
       "        <style>\n",
       "            /* Turns off some styling */\n",
       "            progress {\n",
       "                /* gets rid of default border in Firefox and Opera. */\n",
       "                border: none;\n",
       "                /* Needs to be in here for Safari polyfill so background images work as expected. */\n",
       "                background-size: auto;\n",
       "            }\n",
       "            .progress-bar-interrupted, .progress-bar-interrupted::-webkit-progress-bar {\n",
       "                background: #F44336;\n",
       "            }\n",
       "        </style>\n",
       "      <progress value='19' class='' max='20', style='width:300px; height:20px; vertical-align: middle;'></progress>\n",
       "      95.00% [19/20 05:23<00:17]\n",
       "    </div>\n",
       "    \n",
       "<table border=\"1\" class=\"dataframe\">\n",
       "  <thead>\n",
       "    <tr style=\"text-align: left;\">\n",
       "      <th>epoch</th>\n",
       "      <th>train_loss</th>\n",
       "      <th>valid_loss</th>\n",
       "      <th>accuracy</th>\n",
       "      <th>time</th>\n",
       "    </tr>\n",
       "  </thead>\n",
       "  <tbody>\n",
       "    <tr>\n",
       "      <td>0</td>\n",
       "      <td>2.249184</td>\n",
       "      <td>2.149946</td>\n",
       "      <td>0.250000</td>\n",
       "      <td>00:15</td>\n",
       "    </tr>\n",
       "    <tr>\n",
       "      <td>1</td>\n",
       "      <td>2.129526</td>\n",
       "      <td>1.962733</td>\n",
       "      <td>0.350000</td>\n",
       "      <td>00:16</td>\n",
       "    </tr>\n",
       "    <tr>\n",
       "      <td>2</td>\n",
       "      <td>2.003428</td>\n",
       "      <td>1.842073</td>\n",
       "      <td>0.404000</td>\n",
       "      <td>00:15</td>\n",
       "    </tr>\n",
       "    <tr>\n",
       "      <td>3</td>\n",
       "      <td>1.894358</td>\n",
       "      <td>1.745781</td>\n",
       "      <td>0.448000</td>\n",
       "      <td>00:16</td>\n",
       "    </tr>\n",
       "    <tr>\n",
       "      <td>4</td>\n",
       "      <td>1.795384</td>\n",
       "      <td>1.696150</td>\n",
       "      <td>0.444000</td>\n",
       "      <td>00:16</td>\n",
       "    </tr>\n",
       "    <tr>\n",
       "      <td>5</td>\n",
       "      <td>1.717259</td>\n",
       "      <td>1.592628</td>\n",
       "      <td>0.476000</td>\n",
       "      <td>00:16</td>\n",
       "    </tr>\n",
       "    <tr>\n",
       "      <td>6</td>\n",
       "      <td>1.639728</td>\n",
       "      <td>1.515710</td>\n",
       "      <td>0.536000</td>\n",
       "      <td>00:16</td>\n",
       "    </tr>\n",
       "    <tr>\n",
       "      <td>7</td>\n",
       "      <td>1.573875</td>\n",
       "      <td>1.447485</td>\n",
       "      <td>0.550000</td>\n",
       "      <td>00:16</td>\n",
       "    </tr>\n",
       "    <tr>\n",
       "      <td>8</td>\n",
       "      <td>1.513470</td>\n",
       "      <td>1.398570</td>\n",
       "      <td>0.568000</td>\n",
       "      <td>00:18</td>\n",
       "    </tr>\n",
       "    <tr>\n",
       "      <td>9</td>\n",
       "      <td>1.465605</td>\n",
       "      <td>1.364986</td>\n",
       "      <td>0.598000</td>\n",
       "      <td>00:16</td>\n",
       "    </tr>\n",
       "    <tr>\n",
       "      <td>10</td>\n",
       "      <td>1.427051</td>\n",
       "      <td>1.314904</td>\n",
       "      <td>0.612000</td>\n",
       "      <td>00:18</td>\n",
       "    </tr>\n",
       "    <tr>\n",
       "      <td>11</td>\n",
       "      <td>1.390798</td>\n",
       "      <td>1.303637</td>\n",
       "      <td>0.610000</td>\n",
       "      <td>00:18</td>\n",
       "    </tr>\n",
       "    <tr>\n",
       "      <td>12</td>\n",
       "      <td>1.361372</td>\n",
       "      <td>1.285730</td>\n",
       "      <td>0.624000</td>\n",
       "      <td>00:16</td>\n",
       "    </tr>\n",
       "    <tr>\n",
       "      <td>13</td>\n",
       "      <td>1.333443</td>\n",
       "      <td>1.283239</td>\n",
       "      <td>0.616000</td>\n",
       "      <td>00:17</td>\n",
       "    </tr>\n",
       "    <tr>\n",
       "      <td>14</td>\n",
       "      <td>1.309747</td>\n",
       "      <td>1.228164</td>\n",
       "      <td>0.632000</td>\n",
       "      <td>00:18</td>\n",
       "    </tr>\n",
       "    <tr>\n",
       "      <td>15</td>\n",
       "      <td>1.289836</td>\n",
       "      <td>1.217177</td>\n",
       "      <td>0.632000</td>\n",
       "      <td>00:16</td>\n",
       "    </tr>\n",
       "    <tr>\n",
       "      <td>16</td>\n",
       "      <td>1.275893</td>\n",
       "      <td>1.212107</td>\n",
       "      <td>0.636000</td>\n",
       "      <td>00:18</td>\n",
       "    </tr>\n",
       "    <tr>\n",
       "      <td>17</td>\n",
       "      <td>1.266384</td>\n",
       "      <td>1.195853</td>\n",
       "      <td>0.640000</td>\n",
       "      <td>00:18</td>\n",
       "    </tr>\n",
       "    <tr>\n",
       "      <td>18</td>\n",
       "      <td>1.257569</td>\n",
       "      <td>1.205713</td>\n",
       "      <td>0.634000</td>\n",
       "      <td>00:16</td>\n",
       "    </tr>\n",
       "  </tbody>\n",
       "</table><p>\n",
       "\n",
       "    <div>\n",
       "        <style>\n",
       "            /* Turns off some styling */\n",
       "            progress {\n",
       "                /* gets rid of default border in Firefox and Opera. */\n",
       "                border: none;\n",
       "                /* Needs to be in here for Safari polyfill so background images work as expected. */\n",
       "                background-size: auto;\n",
       "            }\n",
       "            .progress-bar-interrupted, .progress-bar-interrupted::-webkit-progress-bar {\n",
       "                background: #F44336;\n",
       "            }\n",
       "        </style>\n",
       "      <progress value='1' class='' max='50', style='width:300px; height:20px; vertical-align: middle;'></progress>\n",
       "      2.00% [1/50 00:01<01:08 1.2580]\n",
       "    </div>\n",
       "    "
      ],
      "text/plain": [
       "<IPython.core.display.HTML object>"
      ]
     },
     "metadata": {},
     "output_type": "display_data"
    }
   ],
   "source": [
    "for g in tqdm_notebook(GRID):\n",
    "    for name, strat in STRAT2PARAMS_V2.items():\n",
    "        if name in IGNORE:\n",
    "            continue\n",
    "        else:\n",
    "            print(strat, g)\n",
    "            main(arch=ARCH, **strat, **g)\n",
    "        "
   ]
  },
  {
   "cell_type": "code",
   "execution_count": 45,
   "metadata": {
    "ExecuteTime": {
     "end_time": "2019-06-03T06:52:36.076787Z",
     "start_time": "2019-06-03T06:52:36.031276Z"
    }
   },
   "outputs": [
    {
     "data": {
      "text/plain": [
       "True"
      ]
     },
     "execution_count": 45,
     "metadata": {},
     "output_type": "execute_result"
    }
   ],
   "source": [
    "x in run for x in GRID])"
   ]
  },
  {
   "cell_type": "code",
   "execution_count": 34,
   "metadata": {
    "ExecuteTime": {
     "end_time": "2019-06-03T06:50:00.563244Z",
     "start_time": "2019-06-03T06:50:00.538686Z"
    }
   },
   "outputs": [
    {
     "data": {
      "text/plain": [
       "{'All Classes-0.1': {'classes': None, 'sample': 0.1},\n",
       " 'All Classes-0.25': {'classes': None, 'sample': 0.25},\n",
       " 'All Classes-0.5': {'classes': None, 'sample': 0.5},\n",
       " 'All Classes-0.7': {'classes': None, 'sample': 0.7},\n",
       " 'All Classes-1.0': {'classes': None, 'sample': 1.0},\n",
       " 'All Classes-1.0-ep1': {'epochs': 1, 'classes': None, 'sample': 1.0},\n",
       " 'All Classes-1.0-ep10': {'epochs': 10, 'classes': None, 'sample': 1.0},\n",
       " 'All Classes-1.0-ep5': {'epochs': 5, 'classes': None, 'sample': 1.0},\n",
       " 'Half Classes-0.1': {'classes': [0, 1, 2, 3, 4], 'sample': 0.1},\n",
       " 'Half Classes-0.25': {'classes': [0, 1, 2, 3, 4], 'sample': 0.25},\n",
       " 'Half Classes-0.5': {'classes': [0, 1, 2, 3, 4], 'sample': 0.5},\n",
       " 'Half Classes-0.7': {'classes': [0, 1, 2, 3, 4], 'sample': 0.7},\n",
       " 'Half Classes-1.0': {'classes': [0, 1, 2, 3, 4], 'sample': 1.0},\n",
       " 'Other Half Classes-1.0': {'classes': [5, 6, 7, 8, 9], 'sample': 1.0},\n",
       " 'distillation': {},\n",
       " 'hard-0.0-0.1': {'hardness_lower_bound': 0.0, 'hardness_upper_bound': 0.1},\n",
       " 'hard-0.0-0.25': {'hardness_lower_bound': 0.0, 'hardness_upper_bound': 0.25},\n",
       " 'hard-0.0-0.5': {'hardness_lower_bound': 0.0, 'hardness_upper_bound': 0.5},\n",
       " 'hard-0.0-0.75': {'hardness_lower_bound': 0.0, 'hardness_upper_bound': 0.75},\n",
       " 'hard-0.05-0.5': {'hardness_lower_bound': 0.05, 'hardness_upper_bound': 0.5},\n",
       " 'hard-0.25-1.0': {'hardness_lower_bound': 0.25, 'hardness_upper_bound': 1.0},\n",
       " 'hard-0.5-1.0': {'hardness_lower_bound': 0.5, 'hardness_upper_bound': 1.0},\n",
       " 'hard-0.75-1.0': {'hardness_lower_bound': 0.75, 'hardness_upper_bound': 1.0},\n",
       " 'hard-0.9-1.0': {'hardness_lower_bound': 0.9, 'hardness_upper_bound': 1.0}}"
      ]
     },
     "execution_count": 34,
     "metadata": {},
     "output_type": "execute_result"
    }
   ],
   "source": [
    "STRAT2PARAMS_V2"
   ]
  },
  {
   "cell_type": "code",
   "execution_count": null,
   "metadata": {},
   "outputs": [],
   "source": []
  },
  {
   "cell_type": "code",
   "execution_count": 55,
   "metadata": {
    "ExecuteTime": {
     "end_time": "2019-06-03T06:19:39.920296Z",
     "start_time": "2019-06-03T06:19:39.914770Z"
    }
   },
   "outputs": [
    {
     "data": {
      "text/plain": [
       "[{'stem1': 16, 'stem2': 16},\n",
       " {'stem1': 48, 'stem2': 48},\n",
       " {'stem1': 16, 'stem2': 32},\n",
       " {'stem1': 32, 'stem2': 16},\n",
       " {'stem1': 16, 'stem2': 48},\n",
       " {'stem1': 48, 'stem2': 16}]"
      ]
     },
     "execution_count": 55,
     "metadata": {},
     "output_type": "execute_result"
    }
   ],
   "source": [
    "STEM_SETTINGS = [\n",
    "    (SMALL, SMALL), (BIG, BIG),\n",
    "    (SMALL, 32), (32, SMALL),\n",
    "    (SMALL, BIG), (BIG, SMALL)\n",
    "    #(4, 16), (16,4)\n",
    "]\n",
    "    \n",
    "[dict(stem1=a, stem2=b) for (a,b) in STEM_SETTINGS]"
   ]
  },
  {
   "cell_type": "code",
   "execution_count": 50,
   "metadata": {
    "ExecuteTime": {
     "end_time": "2019-06-03T06:10:07.333810Z",
     "start_time": "2019-06-03T06:10:07.329274Z"
    }
   },
   "outputs": [],
   "source": [
    "stem_grid = [{'stem1': x} for x in stem_testers]  + [{'stem2': x} for x in stem_testers] + [{'stem1': 16, 'stem2': 16}]\n",
    "opt_grid = [{'opt': 'SGD', 'opt': 'RMS'}]"
   ]
  },
  {
   "cell_type": "code",
   "execution_count": 4,
   "metadata": {
    "ExecuteTime": {
     "end_time": "2019-06-03T06:30:53.120726Z",
     "start_time": "2019-06-03T06:30:53.092893Z"
    }
   },
   "outputs": [],
   "source": [
    "%load_ext autoreload\n",
    "%autoreload 2"
   ]
  },
  {
   "cell_type": "code",
   "execution_count": 30,
   "metadata": {
    "ExecuteTime": {
     "end_time": "2019-06-03T06:49:15.613794Z",
     "start_time": "2019-06-03T06:49:15.592301Z"
    }
   },
   "outputs": [],
   "source": [
    "from fastai.imagito.grid_const import *"
   ]
  },
  {
   "cell_type": "code",
   "execution_count": null,
   "metadata": {},
   "outputs": [],
   "source": []
  },
  {
   "cell_type": "code",
   "execution_count": 6,
   "metadata": {
    "ExecuteTime": {
     "end_time": "2019-06-03T06:31:15.340251Z",
     "start_time": "2019-06-03T06:31:15.315963Z"
    }
   },
   "outputs": [
    {
     "data": {
      "text/plain": [
       "48"
      ]
     },
     "execution_count": 6,
     "metadata": {},
     "output_type": "execute_result"
    }
   ],
   "source": [
    "len(NEED_TO_RUN_ERIC_BOX_V4)"
   ]
  },
  {
   "cell_type": "code",
   "execution_count": 3,
   "metadata": {
    "ExecuteTime": {
     "end_time": "2019-06-03T06:30:51.552314Z",
     "start_time": "2019-06-03T06:30:51.070356Z"
    }
   },
   "outputs": [
    {
     "name": "stdout",
     "output_type": "stream",
     "text": [
      "Already up-to-date.\r\n"
     ]
    }
   ],
   "source": [
    "!git pull"
   ]
  },
  {
   "cell_type": "code",
   "execution_count": 51,
   "metadata": {
    "ExecuteTime": {
     "end_time": "2019-06-03T06:10:11.210611Z",
     "start_time": "2019-06-03T06:10:11.202175Z"
    }
   },
   "outputs": [
    {
     "data": {
      "text/plain": [
       "[{'stem1': 16},\n",
       " {'stem1': 48},\n",
       " {'stem2': 16},\n",
       " {'stem2': 48},\n",
       " {'stem1': 16, 'stem2': 16}]"
      ]
     },
     "execution_count": 51,
     "metadata": {},
     "output_type": "execute_result"
    }
   ],
   "source": [
    "stem_grid"
   ]
  },
  {
   "cell_type": "code",
   "execution_count": 44,
   "metadata": {
    "ExecuteTime": {
     "end_time": "2019-06-03T05:56:25.722151Z",
     "start_time": "2019-06-03T05:56:25.713817Z"
    }
   },
   "outputs": [],
   "source": [
    "df.to_msgpack('/home/paperspace/fastai-fork/fastai/imagito/pred_df_woof.mp')"
   ]
  },
  {
   "cell_type": "code",
   "execution_count": 24,
   "metadata": {
    "ExecuteTime": {
     "end_time": "2019-06-03T06:40:03.946168Z",
     "start_time": "2019-06-03T06:40:03.817097Z"
    }
   },
   "outputs": [],
   "source": [
    "from fastai.imagito.train_imagito import main"
   ]
  },
  {
   "cell_type": "code",
   "execution_count": null,
   "metadata": {
    "ExecuteTime": {
     "end_time": "2019-06-03T06:44:07.049470Z",
     "start_time": "2019-06-03T06:44:01.530Z"
    }
   },
   "outputs": [],
   "source": [
    "main(woof=True, classes=range(4))"
   ]
  },
  {
   "cell_type": "code",
   "execution_count": null,
   "metadata": {},
   "outputs": [],
   "source": []
  },
  {
   "cell_type": "code",
   "execution_count": 32,
   "metadata": {
    "ExecuteTime": {
     "end_time": "2019-06-03T05:53:31.011346Z",
     "start_time": "2019-06-03T05:53:30.997719Z"
    }
   },
   "outputs": [
    {
     "data": {
      "text/html": [
       "<div>\n",
       "<style scoped>\n",
       "    .dataframe tbody tr th:only-of-type {\n",
       "        vertical-align: middle;\n",
       "    }\n",
       "\n",
       "    .dataframe tbody tr th {\n",
       "        vertical-align: top;\n",
       "    }\n",
       "\n",
       "    .dataframe thead th {\n",
       "        text-align: right;\n",
       "    }\n",
       "</style>\n",
       "<table border=\"1\" class=\"dataframe\">\n",
       "  <thead>\n",
       "    <tr style=\"text-align: right;\">\n",
       "      <th></th>\n",
       "      <th>0</th>\n",
       "    </tr>\n",
       "  </thead>\n",
       "  <tbody>\n",
       "    <tr>\n",
       "      <th>n02115641_44296.JPEG</th>\n",
       "      <td>0.112671</td>\n",
       "    </tr>\n",
       "    <tr>\n",
       "      <th>n02115641_7648.JPEG</th>\n",
       "      <td>0.235310</td>\n",
       "    </tr>\n",
       "    <tr>\n",
       "      <th>n02088364_1449.JPEG</th>\n",
       "      <td>0.863584</td>\n",
       "    </tr>\n",
       "    <tr>\n",
       "      <th>n02099601_8874.JPEG</th>\n",
       "      <td>0.386320</td>\n",
       "    </tr>\n",
       "    <tr>\n",
       "      <th>n02089973_4875.JPEG</th>\n",
       "      <td>1.649868</td>\n",
       "    </tr>\n",
       "    <tr>\n",
       "      <th>n02099601_447.JPEG</th>\n",
       "      <td>0.195452</td>\n",
       "    </tr>\n",
       "    <tr>\n",
       "      <th>n02115641_28502.JPEG</th>\n",
       "      <td>2.505424</td>\n",
       "    </tr>\n",
       "    <tr>\n",
       "      <th>n02093754_4460.JPEG</th>\n",
       "      <td>0.003552</td>\n",
       "    </tr>\n",
       "    <tr>\n",
       "      <th>n02093754_6370.JPEG</th>\n",
       "      <td>0.300552</td>\n",
       "    </tr>\n",
       "    <tr>\n",
       "      <th>n02086240_3672.JPEG</th>\n",
       "      <td>0.000826</td>\n",
       "    </tr>\n",
       "    <tr>\n",
       "      <th>n02093754_4384.JPEG</th>\n",
       "      <td>0.143603</td>\n",
       "    </tr>\n",
       "    <tr>\n",
       "      <th>n02111889_15388.JPEG</th>\n",
       "      <td>0.024080</td>\n",
       "    </tr>\n",
       "    <tr>\n",
       "      <th>n02088364_2661.JPEG</th>\n",
       "      <td>0.235907</td>\n",
       "    </tr>\n",
       "    <tr>\n",
       "      <th>n02111889_3439.JPEG</th>\n",
       "      <td>0.212486</td>\n",
       "    </tr>\n",
       "    <tr>\n",
       "      <th>n02115641_925.JPEG</th>\n",
       "      <td>0.011507</td>\n",
       "    </tr>\n",
       "    <tr>\n",
       "      <th>n02093754_5198.JPEG</th>\n",
       "      <td>0.125398</td>\n",
       "    </tr>\n",
       "    <tr>\n",
       "      <th>n02093754_1310.JPEG</th>\n",
       "      <td>0.003053</td>\n",
       "    </tr>\n",
       "    <tr>\n",
       "      <th>n02096294_6439.JPEG</th>\n",
       "      <td>0.243310</td>\n",
       "    </tr>\n",
       "    <tr>\n",
       "      <th>n02093754_696.JPEG</th>\n",
       "      <td>0.727479</td>\n",
       "    </tr>\n",
       "    <tr>\n",
       "      <th>n02099601_729.JPEG</th>\n",
       "      <td>2.702251</td>\n",
       "    </tr>\n",
       "    <tr>\n",
       "      <th>n02093754_5658.JPEG</th>\n",
       "      <td>0.011882</td>\n",
       "    </tr>\n",
       "    <tr>\n",
       "      <th>n02115641_40643.JPEG</th>\n",
       "      <td>0.084483</td>\n",
       "    </tr>\n",
       "    <tr>\n",
       "      <th>n02087394_5692.JPEG</th>\n",
       "      <td>0.051134</td>\n",
       "    </tr>\n",
       "    <tr>\n",
       "      <th>n02099601_11459.JPEG</th>\n",
       "      <td>0.658413</td>\n",
       "    </tr>\n",
       "    <tr>\n",
       "      <th>n02088364_4219.JPEG</th>\n",
       "      <td>0.207971</td>\n",
       "    </tr>\n",
       "    <tr>\n",
       "      <th>n02087394_11890.JPEG</th>\n",
       "      <td>0.027119</td>\n",
       "    </tr>\n",
       "    <tr>\n",
       "      <th>n02099601_367.JPEG</th>\n",
       "      <td>0.230605</td>\n",
       "    </tr>\n",
       "    <tr>\n",
       "      <th>n02105641_7918.JPEG</th>\n",
       "      <td>0.030773</td>\n",
       "    </tr>\n",
       "    <tr>\n",
       "      <th>n02088364_15440.JPEG</th>\n",
       "      <td>0.413394</td>\n",
       "    </tr>\n",
       "    <tr>\n",
       "      <th>n02087394_17317.JPEG</th>\n",
       "      <td>0.652084</td>\n",
       "    </tr>\n",
       "    <tr>\n",
       "      <th>...</th>\n",
       "      <td>...</td>\n",
       "    </tr>\n",
       "    <tr>\n",
       "      <th>n02088364_5768.JPEG</th>\n",
       "      <td>1.057600</td>\n",
       "    </tr>\n",
       "    <tr>\n",
       "      <th>n02086240_3489.JPEG</th>\n",
       "      <td>0.001356</td>\n",
       "    </tr>\n",
       "    <tr>\n",
       "      <th>n02088364_17830.JPEG</th>\n",
       "      <td>0.543459</td>\n",
       "    </tr>\n",
       "    <tr>\n",
       "      <th>n02099601_5764.JPEG</th>\n",
       "      <td>1.640751</td>\n",
       "    </tr>\n",
       "    <tr>\n",
       "      <th>n02099601_5998.JPEG</th>\n",
       "      <td>0.004322</td>\n",
       "    </tr>\n",
       "    <tr>\n",
       "      <th>n02115641_26532.JPEG</th>\n",
       "      <td>0.000227</td>\n",
       "    </tr>\n",
       "    <tr>\n",
       "      <th>n02096294_5561.JPEG</th>\n",
       "      <td>0.000023</td>\n",
       "    </tr>\n",
       "    <tr>\n",
       "      <th>n02115641_3038.JPEG</th>\n",
       "      <td>0.029334</td>\n",
       "    </tr>\n",
       "    <tr>\n",
       "      <th>n02087394_2193.JPEG</th>\n",
       "      <td>0.001240</td>\n",
       "    </tr>\n",
       "    <tr>\n",
       "      <th>n02089973_6039.JPEG</th>\n",
       "      <td>3.979853</td>\n",
       "    </tr>\n",
       "    <tr>\n",
       "      <th>n02111889_5352.JPEG</th>\n",
       "      <td>0.008825</td>\n",
       "    </tr>\n",
       "    <tr>\n",
       "      <th>n02096294_4233.JPEG</th>\n",
       "      <td>2.096161</td>\n",
       "    </tr>\n",
       "    <tr>\n",
       "      <th>n02111889_4946.JPEG</th>\n",
       "      <td>0.018510</td>\n",
       "    </tr>\n",
       "    <tr>\n",
       "      <th>n02105641_3741.JPEG</th>\n",
       "      <td>0.562134</td>\n",
       "    </tr>\n",
       "    <tr>\n",
       "      <th>n02086240_1089.JPEG</th>\n",
       "      <td>0.417163</td>\n",
       "    </tr>\n",
       "    <tr>\n",
       "      <th>n02111889_14729.JPEG</th>\n",
       "      <td>0.278781</td>\n",
       "    </tr>\n",
       "    <tr>\n",
       "      <th>n02088364_10504.JPEG</th>\n",
       "      <td>0.708760</td>\n",
       "    </tr>\n",
       "    <tr>\n",
       "      <th>n02111889_14441.JPEG</th>\n",
       "      <td>0.068860</td>\n",
       "    </tr>\n",
       "    <tr>\n",
       "      <th>n02089973_3299.JPEG</th>\n",
       "      <td>0.364862</td>\n",
       "    </tr>\n",
       "    <tr>\n",
       "      <th>n02086240_6641.JPEG</th>\n",
       "      <td>0.033616</td>\n",
       "    </tr>\n",
       "    <tr>\n",
       "      <th>n02088364_4281.JPEG</th>\n",
       "      <td>0.153324</td>\n",
       "    </tr>\n",
       "    <tr>\n",
       "      <th>n02096294_604.JPEG</th>\n",
       "      <td>2.837743</td>\n",
       "    </tr>\n",
       "    <tr>\n",
       "      <th>n02099601_3525.JPEG</th>\n",
       "      <td>1.588487</td>\n",
       "    </tr>\n",
       "    <tr>\n",
       "      <th>n02096294_1245.JPEG</th>\n",
       "      <td>0.006801</td>\n",
       "    </tr>\n",
       "    <tr>\n",
       "      <th>n02086240_6716.JPEG</th>\n",
       "      <td>0.024355</td>\n",
       "    </tr>\n",
       "    <tr>\n",
       "      <th>n02089973_11859.JPEG</th>\n",
       "      <td>0.151401</td>\n",
       "    </tr>\n",
       "    <tr>\n",
       "      <th>n02086240_7404.JPEG</th>\n",
       "      <td>0.064404</td>\n",
       "    </tr>\n",
       "    <tr>\n",
       "      <th>n02088364_12730.JPEG</th>\n",
       "      <td>0.175134</td>\n",
       "    </tr>\n",
       "    <tr>\n",
       "      <th>n02105641_5345.JPEG</th>\n",
       "      <td>0.014501</td>\n",
       "    </tr>\n",
       "    <tr>\n",
       "      <th>n02086240_5354.JPEG</th>\n",
       "      <td>0.000070</td>\n",
       "    </tr>\n",
       "  </tbody>\n",
       "</table>\n",
       "<p>12454 rows × 1 columns</p>\n",
       "</div>"
      ],
      "text/plain": [
       "                             0\n",
       "n02115641_44296.JPEG  0.112671\n",
       "n02115641_7648.JPEG   0.235310\n",
       "n02088364_1449.JPEG   0.863584\n",
       "n02099601_8874.JPEG   0.386320\n",
       "n02089973_4875.JPEG   1.649868\n",
       "n02099601_447.JPEG    0.195452\n",
       "n02115641_28502.JPEG  2.505424\n",
       "n02093754_4460.JPEG   0.003552\n",
       "n02093754_6370.JPEG   0.300552\n",
       "n02086240_3672.JPEG   0.000826\n",
       "n02093754_4384.JPEG   0.143603\n",
       "n02111889_15388.JPEG  0.024080\n",
       "n02088364_2661.JPEG   0.235907\n",
       "n02111889_3439.JPEG   0.212486\n",
       "n02115641_925.JPEG    0.011507\n",
       "n02093754_5198.JPEG   0.125398\n",
       "n02093754_1310.JPEG   0.003053\n",
       "n02096294_6439.JPEG   0.243310\n",
       "n02093754_696.JPEG    0.727479\n",
       "n02099601_729.JPEG    2.702251\n",
       "n02093754_5658.JPEG   0.011882\n",
       "n02115641_40643.JPEG  0.084483\n",
       "n02087394_5692.JPEG   0.051134\n",
       "n02099601_11459.JPEG  0.658413\n",
       "n02088364_4219.JPEG   0.207971\n",
       "n02087394_11890.JPEG  0.027119\n",
       "n02099601_367.JPEG    0.230605\n",
       "n02105641_7918.JPEG   0.030773\n",
       "n02088364_15440.JPEG  0.413394\n",
       "n02087394_17317.JPEG  0.652084\n",
       "...                        ...\n",
       "n02088364_5768.JPEG   1.057600\n",
       "n02086240_3489.JPEG   0.001356\n",
       "n02088364_17830.JPEG  0.543459\n",
       "n02099601_5764.JPEG   1.640751\n",
       "n02099601_5998.JPEG   0.004322\n",
       "n02115641_26532.JPEG  0.000227\n",
       "n02096294_5561.JPEG   0.000023\n",
       "n02115641_3038.JPEG   0.029334\n",
       "n02087394_2193.JPEG   0.001240\n",
       "n02089973_6039.JPEG   3.979853\n",
       "n02111889_5352.JPEG   0.008825\n",
       "n02096294_4233.JPEG   2.096161\n",
       "n02111889_4946.JPEG   0.018510\n",
       "n02105641_3741.JPEG   0.562134\n",
       "n02086240_1089.JPEG   0.417163\n",
       "n02111889_14729.JPEG  0.278781\n",
       "n02088364_10504.JPEG  0.708760\n",
       "n02111889_14441.JPEG  0.068860\n",
       "n02089973_3299.JPEG   0.364862\n",
       "n02086240_6641.JPEG   0.033616\n",
       "n02088364_4281.JPEG   0.153324\n",
       "n02096294_604.JPEG    2.837743\n",
       "n02099601_3525.JPEG   1.588487\n",
       "n02096294_1245.JPEG   0.006801\n",
       "n02086240_6716.JPEG   0.024355\n",
       "n02089973_11859.JPEG  0.151401\n",
       "n02086240_7404.JPEG   0.064404\n",
       "n02088364_12730.JPEG  0.175134\n",
       "n02105641_5345.JPEG   0.014501\n",
       "n02086240_5354.JPEG   0.000070\n",
       "\n",
       "[12454 rows x 1 columns]"
      ]
     },
     "execution_count": 32,
     "metadata": {},
     "output_type": "execute_result"
    }
   ],
   "source": [
    "df"
   ]
  },
  {
   "cell_type": "code",
   "execution_count": null,
   "metadata": {},
   "outputs": [],
   "source": []
  }
 ],
 "metadata": {
  "kernelspec": {
   "display_name": "Python 3",
   "language": "python",
   "name": "python3"
  },
  "language_info": {
   "codemirror_mode": {
    "name": "ipython",
    "version": 3
   },
   "file_extension": ".py",
   "mimetype": "text/x-python",
   "name": "python",
   "nbconvert_exporter": "python",
   "pygments_lexer": "ipython3",
   "version": "3.6.8"
  }
 },
 "nbformat": 4,
 "nbformat_minor": 2
}
