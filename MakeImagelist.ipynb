{
 "cells": [
  {
   "cell_type": "code",
   "execution_count": 1,
   "metadata": {
    "ExecuteTime": {
     "end_time": "2019-05-30T23:02:07.908442Z",
     "start_time": "2019-05-30T23:02:06.224545Z"
    },
    "code_folding": [
     0
    ]
   },
   "outputs": [
    {
     "data": {
      "text/html": [
       "<style>.container { width:90% !important; }</style>"
      ],
      "text/plain": [
       "<IPython.core.display.HTML object>"
      ]
     },
     "metadata": {},
     "output_type": "display_data"
    }
   ],
   "source": [
    "# %load /home/shleifer/durbango/imports.py\n",
    "#IMPORTS\n",
    "\n",
    "%load_ext autoreload\n",
    "%autoreload 2\n",
    "%matplotlib inline\n",
    "%config InlineBackend.figure_format = 'retina'\n",
    "\n",
    "ISO = \"ISO-8859-1\"\n",
    "\n",
    "import os\n",
    "import pickle\n",
    "from tqdm import tqdm, tqdm_notebook, tnrange\n",
    "import numpy as np\n",
    "import pandas as pd\n",
    "import gc\n",
    "import IPython\n",
    "import sys\n",
    "\n",
    "from sklearn.metrics import *\n",
    "import itertools\n",
    "from collections import *\n",
    "from tqdm import tqdm, tqdm_notebook\n",
    "import funcy\n",
    "import matplotlib.pyplot as plt\n",
    "from time import time\n",
    "from sklearn.linear_model import *\n",
    "from functools import partial\n",
    "from sklearn.feature_extraction.text import CountVectorizer, HashingVectorizer, TfidfTransformer, TfidfVectorizer\n",
    "from sklearn.model_selection import StratifiedKFold, KFold, ParameterGrid\n",
    "from sklearn.utils import shuffle\n",
    "from numpy.testing import assert_array_equal\n",
    "from pandas.testing import assert_frame_equal, assert_series_equal, assert_index_equal\n",
    "from sklearn.preprocessing import StandardScaler, RobustScaler\n",
    "from pathlib import Path, PosixPath\n",
    "import re\n",
    "from glob import glob\n",
    "import gzip\n",
    "#from pandas_summary import DataFrameSummary\n",
    "import pickle\n",
    "from IPython.lib.display import FileLink\n",
    "\n",
    "mock_arr = np.array(range(25)).reshape(5,5)\n",
    "mock_df = pd.DataFrame(np.ones((5,5)), columns=['a', 'b', 'c', 'd', 'e'])\n",
    "mock_df['color'] = ['red', 'blue', 'red', 'blue', 'green']\n",
    "mock_df['bool_col'] = [True, False, True, False, True]\n",
    "\n",
    "\n",
    "np.set_printoptions(precision=5, linewidth=110, suppress=True)\n",
    "\n",
    "from ipykernel.kernelapp import IPKernelApp\n",
    "def in_notebook(): return IPKernelApp.initialized()\n",
    "def printmd(string):\n",
    "    display(Markdown(string))\n",
    "from IPython.display import Markdown, display, HTML\n",
    "from IPython.core.interactiveshell import InteractiveShell\n",
    "\n",
    "display(HTML(\"<style>.container { width:90% !important; }</style>\"))\n",
    "\n",
    "# pretty print only the last output of the cell\n",
    "# InteractiveShell.ast_node_interactivity = \"last_expr\" # \"all\" for all\n",
    "try:\n",
    "    import eli5\n",
    "    from lightgbm.sklearn import LGBMClassifier, LGBMRegressor\n",
    "    import seaborn as sns\n",
    "except ImportError:\n",
    "    pass\n",
    "def pickle_save(obj, path):\n",
    "    with open(path, 'wb') as f:\n",
    "        pickle.dump(obj, f)\n",
    "def pickle_load_gzip(path):\n",
    "    with gzip.open(path, 'rb') as f:\n",
    "        return pickle.load(f, encoding='latin-1')\n",
    "def pickle_load(path):\n",
    "    with open(path, 'rb') as f:\n",
    "        return pickle.load(f)\n",
    "save_pickle = pickle_save\n",
    "load_pickle = pickle_load\n",
    "\n",
    "DURBANGO_ATTEMPTS = [\n",
    "    '/Users/shleifer/durbango/',\n",
    "    '/home/paperspace/durbango/',\n",
    "    '/home/shleifer/durbango/'\n",
    "]\n",
    "for DURBANGO_DIR in DURBANGO_ATTEMPTS:\n",
    "    if Path(DURBANGO_DIR).exists():\n",
    "        sys.path.append(DURBANGO_DIR)\n",
    "        try:\n",
    "            from durbango.nb_utils import *\n",
    "            from durbango.tensorboard_parser import parse_tf_events_file\n",
    "        except ImportError as e:\n",
    "            print(f'Cant import durbango-- {e}')\n",
    "        break\n",
    "\n",
    "\n",
    "Path.ls =  property(lambda self: list(self.iterdir()))\n",
    "ParameterGrid.l = property(lambda self: list(self))\n",
    "\n"
   ]
  },
  {
   "cell_type": "code",
   "execution_count": 50,
   "metadata": {
    "ExecuteTime": {
     "end_time": "2019-05-30T23:02:07.948185Z",
     "start_time": "2019-05-30T23:02:07.909879Z"
    }
   },
   "outputs": [
    {
     "data": {
      "text/plain": [
       "[PosixPath('dataset_distillation/results/distill_basic/I2/arch(AlexCifarNet,kaiming,1.0)_distillLR0.001_E(400,40,0.5)_lr0.01_B1x10x3_train(known_init)/checkpoints/epoch0000/results.pth'),\n",
       " PosixPath('dataset_distillation/results/distill_basic/I2/arch(AlexCifarNet,kaiming,1.0)_distillLR0.001_E(400,40,0.5)_lr0.01_B1x10x3_train(known_init)/checkpoints/epoch0010/results.pth'),\n",
       " PosixPath('dataset_distillation/results/distill_basic/I2/arch(AlexCifarNet,kaiming,1.0)_distillLR0.001_E(400,40,0.5)_lr0.01_B1x10x3_train(known_init)/checkpoints/epoch0020/results.pth'),\n",
       " PosixPath('dataset_distillation/results/distill_basic/I2/arch(AlexCifarNet,kaiming,1.0)_distillLR0.001_E(400,40,0.5)_lr0.01_B1x10x3_train(known_init)/checkpoints/epoch0030/results.pth'),\n",
       " PosixPath('dataset_distillation/results/distill_basic/I2/arch(AlexCifarNet,kaiming,1.0)_distillLR0.001_E(400,40,0.5)_lr0.01_B1x10x3_train(known_init)/checkpoints/epoch0040/results.pth'),\n",
       " PosixPath('dataset_distillation/results/distill_basic/I2/arch(AlexCifarNet,kaiming,1.0)_distillLR0.001_E(400,40,0.5)_lr0.01_B1x10x3_train(known_init)/checkpoints/epoch0050/results.pth'),\n",
       " PosixPath('dataset_distillation/results/distill_basic/I2/arch(AlexCifarNet,kaiming,1.0)_distillLR0.001_E(400,40,0.5)_lr0.01_B1x10x3_train(known_init)/checkpoints/epoch0060/results.pth'),\n",
       " PosixPath('dataset_distillation/results/distill_basic/I2/arch(AlexCifarNet,kaiming,1.0)_distillLR0.001_E(400,40,0.5)_lr0.01_B1x10x3_train(known_init)/checkpoints/epoch0070/results.pth'),\n",
       " PosixPath('dataset_distillation/results/distill_basic/I2/arch(AlexCifarNet,kaiming,1.0)_distillLR0.001_E(400,40,0.5)_lr0.01_B1x10x3_train(known_init)/checkpoints/epoch0080/results.pth'),\n",
       " PosixPath('dataset_distillation/results/distill_basic/I2/arch(AlexCifarNet,kaiming,1.0)_distillLR0.001_E(400,40,0.5)_lr0.01_B1x10x3_train(known_init)/checkpoints/epoch0090/results.pth'),\n",
       " PosixPath('dataset_distillation/results/distill_basic/I2/arch(AlexCifarNet,kaiming,1.0)_distillLR0.001_E(400,40,0.5)_lr0.01_B1x10x3_train(known_init)/checkpoints/epoch0100/results.pth'),\n",
       " PosixPath('dataset_distillation/results/distill_basic/I2/arch(AlexCifarNet,kaiming,1.0)_distillLR0.001_E(400,40,0.5)_lr0.01_B1x10x3_train(known_init)/checkpoints/epoch0110/results.pth'),\n",
       " PosixPath('dataset_distillation/results/distill_basic/I2/arch(AlexCifarNet,xavier,1.0)_distillLR0.001_E(400,40,0.5)_lr0.01_B1x10x3_train(unknown_init)/checkpoints/epoch0080/results.pth')]"
      ]
     },
     "execution_count": 50,
     "metadata": {},
     "output_type": "execute_result"
    }
   ],
   "source": [
    "paths = sorted(list(Path('dataset_distillation/results/distill_basic/I2').rglob('*.pth'))); paths"
   ]
  },
  {
   "cell_type": "code",
   "execution_count": 51,
   "metadata": {
    "ExecuteTime": {
     "end_time": "2019-05-30T23:02:13.490802Z",
     "start_time": "2019-05-30T23:02:13.458028Z"
    }
   },
   "outputs": [],
   "source": [
    "paths = [\n",
    "    ('pretrained_alexnet', PosixPath('pretrained_alexnet_results.pth')),\n",
    "    ('xavier_alex_cifar_epoch100', PosixPath('known_init_AlexCifarNet_epoch_100.pth')),\n",
    "    ('unknown_init_alex_cifar_epoch100', PosixPath('dataset_distillation/results/distill_basic/I2/arch(AlexCifarNet,xavier,1.0)_distillLR0.001_E(400,40,0.5)_lr0.01_B1x10x3_train(unknown_init)/checkpoints/epoch0080/results.pth')),\n",
    "    ('kaiming_alex_cifarnet',  PosixPath('dataset_distillation/results/distill_basic/I2/arch(AlexCifarNet,kaiming,1.0)_distillLR0.001_E(400,40,0.5)_lr0.01_B1x10x3_train(known_init)/checkpoints/epoch0110/results.pth')),\n",
    "]"
   ]
  },
  {
   "cell_type": "code",
   "execution_count": 54,
   "metadata": {},
   "outputs": [],
   "source": [
    "!rm -rf /home/shleifer/distilled_dataset_v0/train/"
   ]
  },
  {
   "cell_type": "code",
   "execution_count": null,
   "metadata": {},
   "outputs": [],
   "source": [
    "#!cp -R  ~/.fastai/data/imagenette-160/val  /home/shleifer/distilled_dataset_v0/"
   ]
  },
  {
   "cell_type": "code",
   "execution_count": 17,
   "metadata": {
    "ExecuteTime": {
     "end_time": "2019-05-30T23:02:22.695012Z",
     "start_time": "2019-05-30T23:02:22.082057Z"
    }
   },
   "outputs": [],
   "source": [
    "from fastai.imagito.utils import *"
   ]
  },
  {
   "cell_type": "code",
   "execution_count": 18,
   "metadata": {
    "ExecuteTime": {
     "end_time": "2019-05-30T23:02:15.129276Z",
     "start_time": "2019-05-30T23:02:15.093670Z"
    }
   },
   "outputs": [],
   "source": [
    "save_dir = '/Users/shleifer/distilled_dataset_v0/'\n",
    "if not Path(save_dir).exists():\n",
    "    save_dir = '/home/shleifer/distilled_dataset_v0/'\n",
    "#save_distilled_images_for_fastai(pth, save_dir, map_location='cpu')"
   ]
  },
  {
   "cell_type": "code",
   "execution_count": 19,
   "metadata": {},
   "outputs": [],
   "source": [
    "Path(save_dir).mkdir(exist_ok=True)"
   ]
  },
  {
   "cell_type": "code",
   "execution_count": 55,
   "metadata": {},
   "outputs": [],
   "source": [
    "slug, path = paths[-1]"
   ]
  },
  {
   "cell_type": "code",
   "execution_count": 56,
   "metadata": {
    "ExecuteTime": {
     "end_time": "2019-05-30T23:02:18.472005Z",
     "start_time": "2019-05-30T23:02:18.231392Z"
    }
   },
   "outputs": [],
   "source": [
    "save_distilled_images_for_fastai(path, save_dir, model_slug=slug,\n",
    "                                 map_location='cpu')"
   ]
  },
  {
   "cell_type": "code",
   "execution_count": 63,
   "metadata": {
    "ExecuteTime": {
     "end_time": "2019-05-30T23:03:05.261427Z",
     "start_time": "2019-05-30T23:03:05.169942Z"
    }
   },
   "outputs": [],
   "source": [
    "from fastai.imagito.train_imagito import main"
   ]
  },
  {
   "cell_type": "code",
   "execution_count": 66,
   "metadata": {},
   "outputs": [],
   "source": [
    "pickle_save??"
   ]
  },
  {
   "cell_type": "code",
   "execution_count": 68,
   "metadata": {},
   "outputs": [
    {
     "ename": "ModuleNotFoundError",
     "evalue": "No module named 'datasets'",
     "output_type": "error",
     "traceback": [
      "\u001b[0;31m---------------------------------------------------------------------------\u001b[0m",
      "\u001b[0;31mModuleNotFoundError\u001b[0m                       Traceback (most recent call last)",
      "\u001b[0;32m<ipython-input-68-273a673876ce>\u001b[0m in \u001b[0;36m<module>\u001b[0;34m\u001b[0m\n\u001b[0;32m----> 1\u001b[0;31m \u001b[0;32mfrom\u001b[0m \u001b[0mdataset_distillation\u001b[0m\u001b[0;34m.\u001b[0m\u001b[0mbase_options\u001b[0m \u001b[0;32mimport\u001b[0m \u001b[0;34m*\u001b[0m\u001b[0;34m\u001b[0m\u001b[0;34m\u001b[0m\u001b[0m\n\u001b[0m",
      "\u001b[0;32m~/fastai/dataset_distillation/base_options.py\u001b[0m in \u001b[0;36m<module>\u001b[0;34m\u001b[0m\n\u001b[1;32m      3\u001b[0m \u001b[0;32mimport\u001b[0m \u001b[0msys\u001b[0m\u001b[0;34m\u001b[0m\u001b[0;34m\u001b[0m\u001b[0m\n\u001b[1;32m      4\u001b[0m \u001b[0;32mimport\u001b[0m \u001b[0mtorch\u001b[0m\u001b[0;34m\u001b[0m\u001b[0;34m\u001b[0m\u001b[0m\n\u001b[0;32m----> 5\u001b[0;31m \u001b[0;32mimport\u001b[0m \u001b[0mdatasets\u001b[0m\u001b[0;34m\u001b[0m\u001b[0;34m\u001b[0m\u001b[0m\n\u001b[0m\u001b[1;32m      6\u001b[0m \u001b[0;32mimport\u001b[0m \u001b[0mutils\u001b[0m\u001b[0;34m\u001b[0m\u001b[0;34m\u001b[0m\u001b[0m\n\u001b[1;32m      7\u001b[0m \u001b[0;32mimport\u001b[0m \u001b[0myaml\u001b[0m\u001b[0;34m\u001b[0m\u001b[0;34m\u001b[0m\u001b[0m\n",
      "\u001b[0;31mModuleNotFoundError\u001b[0m: No module named 'datasets'"
     ]
    }
   ],
   "source": [
    "from dataset_distillation.base_options import *"
   ]
  },
  {
   "cell_type": "code",
   "execution_count": 77,
   "metadata": {},
   "outputs": [
    {
     "ename": "SyntaxError",
     "evalue": "invalid syntax (<ipython-input-77-ec8e3ed10e74>, line 2)",
     "output_type": "error",
     "traceback": [
      "\u001b[0;36m  File \u001b[0;32m\"<ipython-input-77-ec8e3ed10e74>\"\u001b[0;36m, line \u001b[0;32m2\u001b[0m\n\u001b[0;31m    d2=dict(arch='AlexCifarNet', attack_class=0, base_seed=1, batch_size=1024, checkpoint_interval=10, dataset='I2', dataset_labels=[0, 1, 2, 3, 4, 5, 6, 7, 8, 9], dataset_normalization=((0.485, 0.456, 0.406), (0.229, 0.224, 0.225)), dataset_root='~/.fastai/data/imagenette-160', decay_epochs=40, decay_factor=0.5, device=device(type='cuda', index=0), device_id=0, distill_epochs=3, distill_lr=0.001, distill_steps=10, distilled_images_per_class_per_step=1, distributed=False, dropout=False, epochs=400, expr_name_format=None, image_dpi=80, init='kaiming', init_param=1.0, input_size=32, log_file='./results/distill_basic/I2/arch(AlexCifarNet,kaiming,1.0)_distillLR0.001_E(400,40,0.5)_lr0.01_B1x10x3_train(known_init)/output.log', log_interval=100, log_level='INFO', lr=0.01, mode='distill_basic', model_dir='./models/', model_subdir_format=None, n_nets=1, nc=3, no_log=False, num_classes=10, num_workers=3, phase='train', results_dir='./results/', sample_n_nets=1, seed=1, source_dataset=None, start_time='2019-05-31 00:13:05', target_class=1, test_batch_size=1024, test_distill_epochs=None, test_distilled_images='loaded', test_distilled_lrs=['loaded'], test_loader=<torch.utils.data.dataloader.DataLoader object at 0x7f863cd5e2e8>, test_n_nets=1, test_n_runs=1, test_name_format=None, test_nets_type='same_as_train', test_niter=1, test_optimize_n_nets=20, test_optimize_n_runs=None, train_loader=<torch.utils.data.dataloader.DataLoader object at 0x7f863cd5e1d0>, train_nets_type='known_init', world_size=1)\u001b[0m\n\u001b[0m                                                                                                                                                                                                                                                                                                                                                                                                                                                                                                                                                                                                                                                                                                                                                                                                                                                                                                                                                                                                                                                                                                                                                                                                                ^\u001b[0m\n\u001b[0;31mSyntaxError\u001b[0m\u001b[0;31m:\u001b[0m invalid syntax\n"
     ]
    }
   ],
   "source": [
    "d1 = {'mode': 'distill_basic', 'dataset': 'I2', 'arch': 'AlexCifarNet', 'distill_lr': 0.001, 'train_nets_type': 'known_init', 'n_nets': 1, 'test_nets_type': 'same_as_train', 'num_workers': 3, 'init': 'kaiming'}\n",
    "d2=dict(arch='AlexCifarNet', attack_class=0, base_seed=1, batch_size=1024, checkpoint_interval=10, dataset='I2', dataset_labels=[0, 1, 2, 3, 4, 5, 6, 7, 8, 9], dataset_normalization=((0.485, 0.456, 0.406), (0.229, 0.224, 0.225)), dataset_root='~/.fastai/data/imagenette-160', decay_epochs=40, decay_factor=0.5, device=device(type='cuda', index=0), device_id=0, distill_epochs=3, distill_lr=0.001, distill_steps=10, distilled_images_per_class_per_step=1, distributed=False, dropout=False, epochs=400, expr_name_format=None, image_dpi=80, init='kaiming', init_param=1.0, input_size=32, log_file='./results/distill_basic/I2/arch(AlexCifarNet,kaiming,1.0)_distillLR0.001_E(400,40,0.5)_lr0.01_B1x10x3_train(known_init)/output.log', log_interval=100, log_level='INFO', lr=0.01, mode='distill_basic', model_dir='./models/', model_subdir_format=None, n_nets=1, nc=3, no_log=False, num_classes=10, num_workers=3, phase='train', results_dir='./results/', sample_n_nets=1, seed=1, source_dataset=None, start_time='2019-05-31 00:13:05', target_class=1, test_batch_size=1024, test_distill_epochs=None, test_distilled_images='loaded', test_distilled_lrs=['loaded'], test_loader=<torch.utils.data.dataloader.DataLoader object at 0x7f863cd5e2e8>, test_n_nets=1, test_n_runs=1, test_name_format=None, test_nets_type='same_as_train', test_niter=1, test_optimize_n_nets=20, test_optimize_n_runs=None, \n",
    "        , train_nets_type='known_init', world_size=1)\n",
    "#d3  = {'extras': {'_output_flag': True, 'world_rank': 0, 'local_n_nets': 1, 'local_test_n_nets': 1, 'local_sample_n_nets': 1,}"
   ]
  },
  {
   "cell_type": "code",
   "execution_count": 70,
   "metadata": {},
   "outputs": [
    {
     "ename": "ModuleNotFoundError",
     "evalue": "No module named 'datasets'",
     "output_type": "error",
     "traceback": [
      "\u001b[0;31m---------------------------------------------------------------------------\u001b[0m",
      "\u001b[0;31mModuleNotFoundError\u001b[0m                       Traceback (most recent call last)",
      "\u001b[0;32m<ipython-input-70-f5142b5ca9a9>\u001b[0m in \u001b[0;36m<module>\u001b[0;34m\u001b[0m\n\u001b[0;32m----> 1\u001b[0;31m \u001b[0mpickle_load\u001b[0m\u001b[0;34m(\u001b[0m\u001b[0;34m'dataset_distillation/state_dct.pkl'\u001b[0m\u001b[0;34m)\u001b[0m\u001b[0;34m\u001b[0m\u001b[0;34m\u001b[0m\u001b[0m\n\u001b[0m",
      "\u001b[0;32m~/fastai/fastai/imagito/utils.py\u001b[0m in \u001b[0;36mpickle_load\u001b[0;34m(path)\u001b[0m\n\u001b[1;32m     42\u001b[0m \u001b[0;32mdef\u001b[0m \u001b[0mpickle_load\u001b[0m\u001b[0;34m(\u001b[0m\u001b[0mpath\u001b[0m\u001b[0;34m)\u001b[0m\u001b[0;34m:\u001b[0m\u001b[0;34m\u001b[0m\u001b[0;34m\u001b[0m\u001b[0m\n\u001b[1;32m     43\u001b[0m     \u001b[0;32mwith\u001b[0m \u001b[0mopen\u001b[0m\u001b[0;34m(\u001b[0m\u001b[0mpath\u001b[0m\u001b[0;34m,\u001b[0m \u001b[0;34m'rb'\u001b[0m\u001b[0;34m)\u001b[0m \u001b[0;32mas\u001b[0m \u001b[0mf\u001b[0m\u001b[0;34m:\u001b[0m\u001b[0;34m\u001b[0m\u001b[0;34m\u001b[0m\u001b[0m\n\u001b[0;32m---> 44\u001b[0;31m         \u001b[0;32mreturn\u001b[0m \u001b[0mpickle\u001b[0m\u001b[0;34m.\u001b[0m\u001b[0mload\u001b[0m\u001b[0;34m(\u001b[0m\u001b[0mf\u001b[0m\u001b[0;34m)\u001b[0m\u001b[0;34m\u001b[0m\u001b[0;34m\u001b[0m\u001b[0m\n\u001b[0m\u001b[1;32m     45\u001b[0m \u001b[0;34m\u001b[0m\u001b[0m\n\u001b[1;32m     46\u001b[0m \u001b[0;34m\u001b[0m\u001b[0m\n",
      "\u001b[0;31mModuleNotFoundError\u001b[0m: No module named 'datasets'"
     ]
    }
   ],
   "source": [
    "pickle_load('dataset_distillation/state_dct.pkl')"
   ]
  },
  {
   "cell_type": "code",
   "execution_count": 62,
   "metadata": {},
   "outputs": [
    {
     "name": "stdout",
     "output_type": "stream",
     "text": [
      "Using ds_path=/home/shleifer/distilled_dataset_v0/: ignoring woof, and classes parameters.\n",
      "lr: 0.1; eff_lr: 0.0011718750000000002; size: 32; alpha: 0.99; mom: 0.9; eps: 1e-06\n"
     ]
    },
    {
     "ename": "KeyError",
     "evalue": "'alex_cifar_net_wrapper'",
     "output_type": "error",
     "traceback": [
      "\u001b[0;31m---------------------------------------------------------------------------\u001b[0m",
      "\u001b[0;31mKeyError\u001b[0m                                  Traceback (most recent call last)",
      "\u001b[0;32m<ipython-input-62-159469a0852a>\u001b[0m in \u001b[0;36m<module>\u001b[0;34m\u001b[0m\n\u001b[0;32m----> 1\u001b[0;31m \u001b[0mmain\u001b[0m\u001b[0;34m(\u001b[0m\u001b[0msize\u001b[0m\u001b[0;34m=\u001b[0m\u001b[0;36m32\u001b[0m\u001b[0;34m,\u001b[0m \u001b[0mds_path\u001b[0m\u001b[0;34m=\u001b[0m\u001b[0msave_dir\u001b[0m\u001b[0;34m,\u001b[0m \u001b[0mbs\u001b[0m\u001b[0;34m=\u001b[0m\u001b[0;36m3\u001b[0m\u001b[0;34m,\u001b[0m \u001b[0mlr\u001b[0m\u001b[0;34m=\u001b[0m\u001b[0;36m.1\u001b[0m\u001b[0;34m,\u001b[0m \u001b[0march\u001b[0m\u001b[0;34m=\u001b[0m\u001b[0;34m'alex_cifar_net_wrapper'\u001b[0m\u001b[0;34m)\u001b[0m\u001b[0;34m\u001b[0m\u001b[0;34m\u001b[0m\u001b[0m\n\u001b[0m",
      "\u001b[0;32m~/fastai/fastai/imagito/train_imagito.py\u001b[0m in \u001b[0;36mmain\u001b[0;34m(gpu, woof, lr, size, alpha, mom, eps, epochs, bs, mixup, opt, arch, dump, fp16, sample, classes, label_smoothing, hardness_lower_bound, hardness_upper_bound, save, ds_path)\u001b[0m\n\u001b[1;32m     62\u001b[0m     \u001b[0;31m# NOTE(SS): globals()[arch] raised KeyError\u001b[0m\u001b[0;34m\u001b[0m\u001b[0;34m\u001b[0m\u001b[0;34m\u001b[0m\u001b[0m\n\u001b[1;32m     63\u001b[0m \u001b[0;34m\u001b[0m\u001b[0m\n\u001b[0;32m---> 64\u001b[0;31m     \u001b[0;31m# save params to file like experiments/2019-05-12_22:10/params.pkl\u001b[0m\u001b[0;34m\u001b[0m\u001b[0;34m\u001b[0m\u001b[0;34m\u001b[0m\u001b[0m\n\u001b[0m\u001b[1;32m     65\u001b[0m     \u001b[0mnow\u001b[0m \u001b[0;34m=\u001b[0m \u001b[0mget_date_str\u001b[0m\u001b[0;34m(\u001b[0m\u001b[0mseconds\u001b[0m\u001b[0;34m=\u001b[0m\u001b[0;32mTrue\u001b[0m\u001b[0;34m)\u001b[0m\u001b[0;34m\u001b[0m\u001b[0;34m\u001b[0m\u001b[0m\n\u001b[1;32m     66\u001b[0m     \u001b[0mPath\u001b[0m\u001b[0;34m(\u001b[0m\u001b[0;34m'experiments'\u001b[0m\u001b[0;34m)\u001b[0m\u001b[0;34m.\u001b[0m\u001b[0mmkdir\u001b[0m\u001b[0;34m(\u001b[0m\u001b[0mexist_ok\u001b[0m\u001b[0;34m=\u001b[0m\u001b[0;32mTrue\u001b[0m\u001b[0;34m)\u001b[0m\u001b[0;34m\u001b[0m\u001b[0;34m\u001b[0m\u001b[0m\n",
      "\u001b[0;31mKeyError\u001b[0m: 'alex_cifar_net_wrapper'"
     ]
    }
   ],
   "source": [
    "main(size=32, ds_path=save_dir, bs=3, lr=.1, arch='alex_cifar_net_wrapper')"
   ]
  },
  {
   "cell_type": "code",
   "execution_count": null,
   "metadata": {
    "ExecuteTime": {
     "end_time": "2019-05-30T23:03:33.479353Z",
     "start_time": "2019-05-30T23:03:32.785776Z"
    }
   },
   "outputs": [],
   "source": [
    "#main(size=224, ds_path=save_dir, bs=3, lr=.1, arch='alexnet_wrapper')"
   ]
  },
  {
   "cell_type": "code",
   "execution_count": 42,
   "metadata": {},
   "outputs": [],
   "source": [
    "from torchvision.models import AlexNet"
   ]
  },
  {
   "cell_type": "code",
   "execution_count": 44,
   "metadata": {},
   "outputs": [],
   "source": [
    "AlexNet?"
   ]
  },
  {
   "cell_type": "code",
   "execution_count": null,
   "metadata": {
    "ExecuteTime": {
     "end_time": "2019-05-30T23:02:07.999819Z",
     "start_time": "2019-05-30T23:02:06.242Z"
    }
   },
   "outputs": [],
   "source": [
    "%debug"
   ]
  },
  {
   "cell_type": "code",
   "execution_count": null,
   "metadata": {
    "ExecuteTime": {
     "end_time": "2019-05-30T23:02:08.001602Z",
     "start_time": "2019-05-30T23:02:06.243Z"
    }
   },
   "outputs": [],
   "source": [
    "pwd"
   ]
  },
  {
   "cell_type": "code",
   "execution_count": null,
   "metadata": {
    "ExecuteTime": {
     "end_time": "2019-05-30T23:02:08.002982Z",
     "start_time": "2019-05-30T23:02:06.245Z"
    }
   },
   "outputs": [],
   "source": [
    "%debug"
   ]
  },
  {
   "cell_type": "code",
   "execution_count": null,
   "metadata": {
    "ExecuteTime": {
     "end_time": "2019-05-30T23:02:08.004296Z",
     "start_time": "2019-05-30T23:02:06.247Z"
    }
   },
   "outputs": [],
   "source": [
    "for "
   ]
  },
  {
   "cell_type": "code",
   "execution_count": null,
   "metadata": {
    "ExecuteTime": {
     "end_time": "2019-05-30T23:02:08.005613Z",
     "start_time": "2019-05-30T23:02:06.248Z"
    }
   },
   "outputs": [],
   "source": [
    "pth = paths[0]"
   ]
  },
  {
   "cell_type": "code",
   "execution_count": null,
   "metadata": {
    "ExecuteTime": {
     "end_time": "2019-05-30T23:02:08.006751Z",
     "start_time": "2019-05-30T23:02:06.249Z"
    }
   },
   "outputs": [],
   "source": [
    "import torch\n",
    "results = torch.load(pth, map_location='cpu')"
   ]
  },
  {
   "cell_type": "code",
   "execution_count": null,
   "metadata": {
    "ExecuteTime": {
     "end_time": "2019-05-30T23:02:08.007874Z",
     "start_time": "2019-05-30T23:02:06.250Z"
    }
   },
   "outputs": [],
   "source": [
    "for a,b,c in results: \n",
    "    print(a.shape, b, c)\n",
    "    break"
   ]
  },
  {
   "cell_type": "code",
   "execution_count": null,
   "metadata": {
    "ExecuteTime": {
     "end_time": "2019-05-30T23:02:08.009305Z",
     "start_time": "2019-05-30T23:02:06.251Z"
    }
   },
   "outputs": [],
   "source": [
    "from fastai.script import *\n",
    "from fastai.vision import *\n",
    "from fastai.vision.models.xresnet2 import xresnet50_2\n",
    "from fastai.vision.models.xresnet import xresnet50\n",
    "from fastai.callbacks import *\n",
    "from fastai.distributed import *\n",
    "from fastprogress import fastprogress\n",
    "\n",
    "from fastai.imagito.classes import ClassUtils"
   ]
  },
  {
   "cell_type": "code",
   "execution_count": null,
   "metadata": {
    "ExecuteTime": {
     "end_time": "2019-05-30T23:02:08.010286Z",
     "start_time": "2019-05-30T23:02:06.253Z"
    }
   },
   "outputs": [],
   "source": [
    "import sys; sys.path.append('dataset_distillation/')"
   ]
  },
  {
   "cell_type": "code",
   "execution_count": null,
   "metadata": {
    "ExecuteTime": {
     "end_time": "2019-05-30T23:02:08.011224Z",
     "start_time": "2019-05-30T23:02:06.254Z"
    }
   },
   "outputs": [],
   "source": [
    "from dataset_distillation.utils.imagelists import *"
   ]
  },
  {
   "cell_type": "code",
   "execution_count": null,
   "metadata": {
    "ExecuteTime": {
     "end_time": "2019-05-30T23:02:08.012111Z",
     "start_time": "2019-05-30T23:02:06.255Z"
    }
   },
   "outputs": [],
   "source": [
    "import torchvision"
   ]
  },
  {
   "cell_type": "code",
   "execution_count": null,
   "metadata": {
    "ExecuteTime": {
     "end_time": "2019-05-28T19:42:52.669592Z",
     "start_time": "2019-05-28T19:42:52.472202Z"
    }
   },
   "outputs": [],
   "source": []
  },
  {
   "cell_type": "code",
   "execution_count": null,
   "metadata": {
    "ExecuteTime": {
     "end_time": "2019-05-30T23:02:08.013006Z",
     "start_time": "2019-05-30T23:02:06.257Z"
    }
   },
   "outputs": [],
   "source": [
    "image_list = load_distilled_imagelist(save_dir)"
   ]
  },
  {
   "cell_type": "code",
   "execution_count": null,
   "metadata": {
    "ExecuteTime": {
     "end_time": "2019-05-30T23:02:08.013984Z",
     "start_time": "2019-05-30T23:02:06.258Z"
    }
   },
   "outputs": [],
   "source": [
    "from fastai.vision.data import image_extensions, denormalize, imagenet_stats"
   ]
  },
  {
   "cell_type": "code",
   "execution_count": null,
   "metadata": {
    "ExecuteTime": {
     "end_time": "2019-05-30T23:02:08.014867Z",
     "start_time": "2019-05-30T23:02:06.259Z"
    }
   },
   "outputs": [],
   "source": [
    "from PIL import Image"
   ]
  },
  {
   "cell_type": "code",
   "execution_count": null,
   "metadata": {
    "ExecuteTime": {
     "end_time": "2019-05-30T23:02:08.016318Z",
     "start_time": "2019-05-30T23:02:06.260Z"
    }
   },
   "outputs": [],
   "source": [
    "#Image.fromarray(image2np(a[0]))"
   ]
  },
  {
   "cell_type": "code",
   "execution_count": null,
   "metadata": {
    "ExecuteTime": {
     "end_time": "2019-05-30T23:02:08.017340Z",
     "start_time": "2019-05-30T23:02:06.261Z"
    }
   },
   "outputs": [],
   "source": [
    "img.shape"
   ]
  },
  {
   "cell_type": "code",
   "execution_count": null,
   "metadata": {
    "ExecuteTime": {
     "end_time": "2019-05-30T23:02:08.018720Z",
     "start_time": "2019-05-30T23:02:06.263Z"
    }
   },
   "outputs": [],
   "source": [
    "lmap(np.array, imagenet_stats)"
   ]
  },
  {
   "cell_type": "code",
   "execution_count": null,
   "metadata": {
    "ExecuteTime": {
     "end_time": "2019-05-30T23:02:08.019772Z",
     "start_time": "2019-05-30T23:02:06.264Z"
    }
   },
   "outputs": [],
   "source": [
    "img = denormalize(img, *lmap(torch.Tensor, imagenet_stats))"
   ]
  },
  {
   "cell_type": "code",
   "execution_count": null,
   "metadata": {
    "ExecuteTime": {
     "end_time": "2019-05-30T23:02:08.020996Z",
     "start_time": "2019-05-30T23:02:06.265Z"
    }
   },
   "outputs": [],
   "source": [
    "img.mean()"
   ]
  },
  {
   "cell_type": "code",
   "execution_count": null,
   "metadata": {
    "ExecuteTime": {
     "end_time": "2019-05-30T23:02:08.023257Z",
     "start_time": "2019-05-30T23:02:06.266Z"
    }
   },
   "outputs": [],
   "source": [
    "img.stdb()"
   ]
  },
  {
   "cell_type": "code",
   "execution_count": null,
   "metadata": {
    "ExecuteTime": {
     "end_time": "2019-05-30T23:02:08.024398Z",
     "start_time": "2019-05-30T23:02:06.267Z"
    },
    "scrolled": true
   },
   "outputs": [],
   "source": [
    "npy.shape"
   ]
  },
  {
   "cell_type": "code",
   "execution_count": null,
   "metadata": {
    "ExecuteTime": {
     "end_time": "2019-05-30T23:02:08.025956Z",
     "start_time": "2019-05-30T23:02:06.268Z"
    }
   },
   "outputs": [],
   "source": [
    "torchvision.utils.save_image(img, 'test_tvsave.jpg')"
   ]
  },
  {
   "cell_type": "code",
   "execution_count": null,
   "metadata": {
    "ExecuteTime": {
     "end_time": "2019-05-30T23:02:08.027729Z",
     "start_time": "2019-05-30T23:02:06.269Z"
    }
   },
   "outputs": [],
   "source": [
    "im = Image.open('test_tvsave.jpg')"
   ]
  },
  {
   "cell_type": "code",
   "execution_count": null,
   "metadata": {
    "ExecuteTime": {
     "end_time": "2019-05-30T23:02:08.029024Z",
     "start_time": "2019-05-30T23:02:06.271Z"
    }
   },
   "outputs": [],
   "source": [
    "#npy = image2np(img)\n",
    "Image.fromarray(img.numpy())"
   ]
  },
  {
   "cell_type": "code",
   "execution_count": null,
   "metadata": {},
   "outputs": [],
   "source": []
  }
 ],
 "metadata": {
  "kernelspec": {
   "display_name": "Python 3",
   "language": "python",
   "name": "python3"
  },
  "language_info": {
   "codemirror_mode": {
    "name": "ipython",
    "version": 3
   },
   "file_extension": ".py",
   "mimetype": "text/x-python",
   "name": "python",
   "nbconvert_exporter": "python",
   "pygments_lexer": "ipython3",
   "version": "3.7.3"
  }
 },
 "nbformat": 4,
 "nbformat_minor": 2
}
