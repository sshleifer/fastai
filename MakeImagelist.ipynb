{
 "cells": [
  {
   "cell_type": "code",
   "execution_count": null,
   "metadata": {
    "ExecuteTime": {
     "end_time": "2019-05-28T19:41:12.617441Z",
     "start_time": "2019-05-28T19:41:10.965532Z"
    },
    "code_folding": [
     0
    ]
   },
   "outputs": [],
   "source": [
    "# %load /home/shleifer/durbango/imports.py\n",
    "#IMPORTS\n",
    "\n",
    "%load_ext autoreload\n",
    "%autoreload 2\n",
    "%matplotlib inline\n",
    "%config InlineBackend.figure_format = 'retina'\n",
    "\n",
    "ISO = \"ISO-8859-1\"\n",
    "\n",
    "import os\n",
    "import pickle\n",
    "from tqdm import tqdm, tqdm_notebook, tnrange\n",
    "import numpy as np\n",
    "import pandas as pd\n",
    "import gc\n",
    "import IPython\n",
    "import sys\n",
    "\n",
    "from sklearn.metrics import *\n",
    "import itertools\n",
    "from collections import *\n",
    "from tqdm import tqdm, tqdm_notebook\n",
    "import funcy\n",
    "import matplotlib.pyplot as plt\n",
    "from time import time\n",
    "from sklearn.linear_model import *\n",
    "from functools import partial\n",
    "from sklearn.feature_extraction.text import CountVectorizer, HashingVectorizer, TfidfTransformer, TfidfVectorizer\n",
    "from sklearn.model_selection import StratifiedKFold, KFold, ParameterGrid\n",
    "from sklearn.utils import shuffle\n",
    "from numpy.testing import assert_array_equal\n",
    "from pandas.testing import assert_frame_equal, assert_series_equal, assert_index_equal\n",
    "from sklearn.preprocessing import StandardScaler, RobustScaler\n",
    "from pathlib import Path, PosixPath\n",
    "import re\n",
    "from glob import glob\n",
    "import gzip\n",
    "#from pandas_summary import DataFrameSummary\n",
    "import pickle\n",
    "from IPython.lib.display import FileLink\n",
    "\n",
    "mock_arr = np.array(range(25)).reshape(5,5)\n",
    "mock_df = pd.DataFrame(np.ones((5,5)), columns=['a', 'b', 'c', 'd', 'e'])\n",
    "mock_df['color'] = ['red', 'blue', 'red', 'blue', 'green']\n",
    "mock_df['bool_col'] = [True, False, True, False, True]\n",
    "\n",
    "\n",
    "np.set_printoptions(precision=5, linewidth=110, suppress=True)\n",
    "\n",
    "from ipykernel.kernelapp import IPKernelApp\n",
    "def in_notebook(): return IPKernelApp.initialized()\n",
    "def printmd(string):\n",
    "    display(Markdown(string))\n",
    "from IPython.display import Markdown, display, HTML\n",
    "from IPython.core.interactiveshell import InteractiveShell\n",
    "\n",
    "display(HTML(\"<style>.container { width:90% !important; }</style>\"))\n",
    "\n",
    "# pretty print only the last output of the cell\n",
    "# InteractiveShell.ast_node_interactivity = \"last_expr\" # \"all\" for all\n",
    "try:\n",
    "    import eli5\n",
    "    from lightgbm.sklearn import LGBMClassifier, LGBMRegressor\n",
    "    import seaborn as sns\n",
    "except ImportError:\n",
    "    pass\n",
    "def pickle_save(obj, path):\n",
    "    with open(path, 'wb') as f:\n",
    "        pickle.dump(obj, f)\n",
    "def pickle_load_gzip(path):\n",
    "    with gzip.open(path, 'rb') as f:\n",
    "        return pickle.load(f, encoding='latin-1')\n",
    "def pickle_load(path):\n",
    "    with open(path, 'rb') as f:\n",
    "        return pickle.load(f)\n",
    "save_pickle = pickle_save\n",
    "load_pickle = pickle_load\n",
    "\n",
    "DURBANGO_ATTEMPTS = [\n",
    "    '/Users/shleifer/durbango/',\n",
    "    '/home/paperspace/durbango/',\n",
    "    '/home/shleifer/durbango/'\n",
    "]\n",
    "for DURBANGO_DIR in DURBANGO_ATTEMPTS:\n",
    "    if Path(DURBANGO_DIR).exists():\n",
    "        sys.path.append(DURBANGO_DIR)\n",
    "        try:\n",
    "            from durbango.nb_utils import *\n",
    "            from durbango.tensorboard_parser import parse_tf_events_file\n",
    "        except ImportError as e:\n",
    "            print(f'Cant import durbango-- {e}')\n",
    "        break\n",
    "\n",
    "\n",
    "Path.ls =  property(lambda self: list(self.iterdir()))\n",
    "ParameterGrid.l = property(lambda self: list(self))\n",
    "\n"
   ]
  },
  {
   "cell_type": "code",
   "execution_count": null,
   "metadata": {
    "ExecuteTime": {
     "end_time": "2019-05-28T19:41:12.662379Z",
     "start_time": "2019-05-28T19:41:12.619006Z"
    }
   },
   "outputs": [],
   "source": [
    "paths = sorted(list(Path('dataset_distillation/results/distill_basic/').rglob('*.pth'))); paths"
   ]
  },
  {
   "cell_type": "code",
   "execution_count": null,
   "metadata": {
    "ExecuteTime": {
     "end_time": "2019-05-28T19:41:12.701897Z",
     "start_time": "2019-05-28T19:41:12.664010Z"
    }
   },
   "outputs": [],
   "source": [
    "pth = paths[0]"
   ]
  },
  {
   "cell_type": "code",
   "execution_count": 4,
   "metadata": {
    "ExecuteTime": {
     "end_time": "2019-05-28T19:41:12.971799Z",
     "start_time": "2019-05-28T19:41:12.706383Z"
    }
   },
   "outputs": [],
   "source": [
    "import torch\n",
    "results = torch.load(pth, map_location='cpu')"
   ]
  },
  {
   "cell_type": "code",
   "execution_count": 5,
   "metadata": {
    "ExecuteTime": {
     "end_time": "2019-05-28T19:41:13.006232Z",
     "start_time": "2019-05-28T19:41:12.973300Z"
    }
   },
   "outputs": [
    {
     "name": "stdout",
     "output_type": "stream",
     "text": [
      "torch.Size([10, 3, 32, 32]) tensor([0, 1, 2, 3, 4, 5, 6, 7, 8, 9]) tensor([0.0587])\n"
     ]
    }
   ],
   "source": [
    "for a,b,c in results: \n",
    "    print(a.shape, b, c)\n",
    "    break"
   ]
  },
  {
   "cell_type": "code",
   "execution_count": 6,
   "metadata": {
    "ExecuteTime": {
     "end_time": "2019-05-28T19:41:14.504092Z",
     "start_time": "2019-05-28T19:41:13.730864Z"
    }
   },
   "outputs": [],
   "source": [
    "from fastai.script import *\n",
    "from fastai.vision import *\n",
    "from fastai.vision.models.xresnet2 import xresnet50_2\n",
    "from fastai.vision.models.xresnet import xresnet50\n",
    "from fastai.callbacks import *\n",
    "from fastai.distributed import *\n",
    "from fastprogress import fastprogress\n",
    "from fastai.imagito.utils import *\n",
    "from fastai.imagito.classes import ClassFolders"
   ]
  },
  {
   "cell_type": "code",
   "execution_count": 7,
   "metadata": {
    "ExecuteTime": {
     "end_time": "2019-05-28T19:41:15.890671Z",
     "start_time": "2019-05-28T19:41:15.845166Z"
    }
   },
   "outputs": [],
   "source": [
    "import sys; sys.path.append('dataset_distillation/')"
   ]
  },
  {
   "cell_type": "code",
   "execution_count": 8,
   "metadata": {
    "ExecuteTime": {
     "end_time": "2019-05-28T19:41:21.389083Z",
     "start_time": "2019-05-28T19:41:21.323366Z"
    }
   },
   "outputs": [],
   "source": [
    "from dataset_distillation.utils.imagelists import *"
   ]
  },
  {
   "cell_type": "code",
   "execution_count": 9,
   "metadata": {
    "ExecuteTime": {
     "end_time": "2019-05-28T19:41:21.881712Z",
     "start_time": "2019-05-28T19:41:21.838446Z"
    }
   },
   "outputs": [],
   "source": [
    "import torchvision"
   ]
  },
  {
   "cell_type": "code",
   "execution_count": 13,
   "metadata": {
    "ExecuteTime": {
     "end_time": "2019-05-28T19:42:52.669592Z",
     "start_time": "2019-05-28T19:42:52.472202Z"
    }
   },
   "outputs": [],
   "source": [
    "save_dir = '/Users/shleifer/distilled_dataset_v0/'\n",
    "if not Path(save_dir).exists():\n",
    "    save_dir = '/home/shleifer/distilled_dataset_v0/'\n",
    "save_distilled_images_for_fastai(pth, save_dir, map_location='cpu')"
   ]
  },
  {
   "cell_type": "code",
   "execution_count": 15,
   "metadata": {
    "ExecuteTime": {
     "end_time": "2019-05-28T19:43:01.241630Z",
     "start_time": "2019-05-28T19:43:01.146811Z"
    }
   },
   "outputs": [
    {
     "name": "stderr",
     "output_type": "stream",
     "text": [
      "/Users/shleifer/fastai-fork/fastai/data_block.py:455: UserWarning: Your validation set is empty. If this is by design, use `split_none()`\n",
      "                 or pass `ignore_empty=True` when labelling to remove this warning.\n",
      "  or pass `ignore_empty=True` when labelling to remove this warning.\"\"\")\n"
     ]
    }
   ],
   "source": [
    "image_list = load_distilled_imagelist(save_dir)"
   ]
  },
  {
   "cell_type": "code",
   "execution_count": null,
   "metadata": {
    "ExecuteTime": {
     "end_time": "2019-05-28T19:29:32.522780Z",
     "start_time": "2019-05-28T19:29:32.473744Z"
    }
   },
   "outputs": [],
   "source": [
    "from fastai.vision.data import image_extensions, denormalize, imagenet_stats"
   ]
  },
  {
   "cell_type": "code",
   "execution_count": null,
   "metadata": {
    "ExecuteTime": {
     "end_time": "2019-05-28T19:27:20.043443Z",
     "start_time": "2019-05-28T19:27:19.989258Z"
    }
   },
   "outputs": [],
   "source": [
    "from PIL import Image"
   ]
  },
  {
   "cell_type": "code",
   "execution_count": null,
   "metadata": {
    "ExecuteTime": {
     "end_time": "2019-05-28T19:27:25.001849Z",
     "start_time": "2019-05-28T19:27:24.947243Z"
    }
   },
   "outputs": [],
   "source": [
    "#Image.fromarray(image2np(a[0]))"
   ]
  },
  {
   "cell_type": "code",
   "execution_count": null,
   "metadata": {
    "ExecuteTime": {
     "end_time": "2019-05-28T19:30:33.140040Z",
     "start_time": "2019-05-28T19:30:33.088747Z"
    }
   },
   "outputs": [],
   "source": [
    "img.shape"
   ]
  },
  {
   "cell_type": "code",
   "execution_count": null,
   "metadata": {
    "ExecuteTime": {
     "end_time": "2019-05-28T19:33:28.026947Z",
     "start_time": "2019-05-28T19:33:27.975065Z"
    }
   },
   "outputs": [],
   "source": [
    "lmap(np.array, imagenet_stats)"
   ]
  },
  {
   "cell_type": "code",
   "execution_count": null,
   "metadata": {
    "ExecuteTime": {
     "end_time": "2019-05-28T19:33:47.070194Z",
     "start_time": "2019-05-28T19:33:47.015531Z"
    }
   },
   "outputs": [],
   "source": [
    "img = denormalize(img, *lmap(torch.Tensor, imagenet_stats))"
   ]
  },
  {
   "cell_type": "code",
   "execution_count": null,
   "metadata": {
    "ExecuteTime": {
     "end_time": "2019-05-28T19:33:53.611672Z",
     "start_time": "2019-05-28T19:33:53.553701Z"
    }
   },
   "outputs": [],
   "source": [
    "img.mean()"
   ]
  },
  {
   "cell_type": "code",
   "execution_count": null,
   "metadata": {
    "ExecuteTime": {
     "end_time": "2019-05-28T19:33:59.452638Z",
     "start_time": "2019-05-28T19:33:59.401707Z"
    }
   },
   "outputs": [],
   "source": [
    "img.stdb()"
   ]
  },
  {
   "cell_type": "code",
   "execution_count": null,
   "metadata": {
    "ExecuteTime": {
     "end_time": "2019-05-28T19:35:09.410645Z",
     "start_time": "2019-05-28T19:35:09.360746Z"
    },
    "scrolled": true
   },
   "outputs": [],
   "source": [
    "npy.shape"
   ]
  },
  {
   "cell_type": "code",
   "execution_count": null,
   "metadata": {
    "ExecuteTime": {
     "end_time": "2019-05-28T19:36:24.768030Z",
     "start_time": "2019-05-28T19:36:24.691078Z"
    }
   },
   "outputs": [],
   "source": [
    "torchvision.utils.save_image(img, 'test_tvsave.jpg')"
   ]
  },
  {
   "cell_type": "code",
   "execution_count": null,
   "metadata": {
    "ExecuteTime": {
     "end_time": "2019-05-28T19:38:02.727717Z",
     "start_time": "2019-05-28T19:38:02.683409Z"
    }
   },
   "outputs": [],
   "source": [
    "im = Image.open('test_tvsave.jpg')"
   ]
  },
  {
   "cell_type": "code",
   "execution_count": null,
   "metadata": {
    "ExecuteTime": {
     "end_time": "2019-05-28T19:35:18.885559Z",
     "start_time": "2019-05-28T19:35:18.825565Z"
    }
   },
   "outputs": [],
   "source": [
    "#npy = image2np(img)\n",
    "Image.fromarray(img.numpy())"
   ]
  },
  {
   "cell_type": "code",
   "execution_count": null,
   "metadata": {},
   "outputs": [],
   "source": []
  }
 ],
 "metadata": {
  "kernelspec": {
   "display_name": "Python 3",
   "language": "python",
   "name": "python3"
  },
  "language_info": {
   "codemirror_mode": {
    "name": "ipython",
    "version": 3
   },
   "file_extension": ".py",
   "mimetype": "text/x-python",
   "name": "python",
   "nbconvert_exporter": "python",
   "pygments_lexer": "ipython3",
   "version": "3.7.3"
  }
 },
 "nbformat": 4,
 "nbformat_minor": 2
}
