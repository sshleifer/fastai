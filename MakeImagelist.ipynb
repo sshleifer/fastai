{
 "cells": [
  {
   "cell_type": "code",
   "execution_count": 3,
   "metadata": {},
   "outputs": [
    {
     "data": {
      "text/html": [
       "<style>.container { width:90% !important; }</style>"
      ],
      "text/plain": [
       "<IPython.core.display.HTML object>"
      ]
     },
     "metadata": {},
     "output_type": "display_data"
    }
   ],
   "source": [
    "# %load /home/shleifer/durbango/imports.py\n",
    "#IMPORTS\n",
    "\n",
    "%load_ext autoreload\n",
    "%autoreload 2\n",
    "%matplotlib inline\n",
    "%config InlineBackend.figure_format = 'retina'\n",
    "\n",
    "ISO = \"ISO-8859-1\"\n",
    "\n",
    "import os\n",
    "import pickle\n",
    "from tqdm import tqdm, tqdm_notebook, tnrange\n",
    "import numpy as np\n",
    "import pandas as pd\n",
    "import gc\n",
    "import IPython\n",
    "import sys\n",
    "\n",
    "from sklearn.metrics import *\n",
    "import itertools\n",
    "from collections import *\n",
    "from tqdm import tqdm, tqdm_notebook\n",
    "import funcy\n",
    "import matplotlib.pyplot as plt\n",
    "from time import time\n",
    "from sklearn.linear_model import *\n",
    "from functools import partial\n",
    "from sklearn.feature_extraction.text import CountVectorizer, HashingVectorizer, TfidfTransformer, TfidfVectorizer\n",
    "from sklearn.model_selection import StratifiedKFold, KFold, ParameterGrid\n",
    "from sklearn.utils import shuffle\n",
    "from numpy.testing import assert_array_equal\n",
    "from pandas.testing import assert_frame_equal, assert_series_equal, assert_index_equal\n",
    "from sklearn.preprocessing import StandardScaler, RobustScaler\n",
    "from pathlib import Path, PosixPath\n",
    "import re\n",
    "from glob import glob\n",
    "import gzip\n",
    "#from pandas_summary import DataFrameSummary\n",
    "import pickle\n",
    "from IPython.lib.display import FileLink\n",
    "\n",
    "mock_arr = np.array(range(25)).reshape(5,5)\n",
    "mock_df = pd.DataFrame(np.ones((5,5)), columns=['a', 'b', 'c', 'd', 'e'])\n",
    "mock_df['color'] = ['red', 'blue', 'red', 'blue', 'green']\n",
    "mock_df['bool_col'] = [True, False, True, False, True]\n",
    "\n",
    "\n",
    "np.set_printoptions(precision=5, linewidth=110, suppress=True)\n",
    "\n",
    "from ipykernel.kernelapp import IPKernelApp\n",
    "def in_notebook(): return IPKernelApp.initialized()\n",
    "def printmd(string):\n",
    "    display(Markdown(string))\n",
    "from IPython.display import Markdown, display, HTML\n",
    "from IPython.core.interactiveshell import InteractiveShell\n",
    "\n",
    "display(HTML(\"<style>.container { width:90% !important; }</style>\"))\n",
    "\n",
    "# pretty print only the last output of the cell\n",
    "# InteractiveShell.ast_node_interactivity = \"last_expr\" # \"all\" for all\n",
    "try:\n",
    "    import eli5\n",
    "    from lightgbm.sklearn import LGBMClassifier, LGBMRegressor\n",
    "    import seaborn as sns\n",
    "except ImportError:\n",
    "    pass\n",
    "def pickle_save(obj, path):\n",
    "    with open(path, 'wb') as f:\n",
    "        pickle.dump(obj, f)\n",
    "def pickle_load_gzip(path):\n",
    "    with gzip.open(path, 'rb') as f:\n",
    "        return pickle.load(f, encoding='latin-1')\n",
    "def pickle_load(path):\n",
    "    with open(path, 'rb') as f:\n",
    "        return pickle.load(f)\n",
    "save_pickle = pickle_save\n",
    "load_pickle = pickle_load\n",
    "\n",
    "DURBANGO_ATTEMPTS = [\n",
    "    '/Users/shleifer/durbango/',\n",
    "    '/home/paperspace/durbango/',\n",
    "    '/home/shleifer/durbango/'\n",
    "]\n",
    "for DURBANGO_DIR in DURBANGO_ATTEMPTS:\n",
    "    if Path(DURBANGO_DIR).exists():\n",
    "        sys.path.append(DURBANGO_DIR)\n",
    "        try:\n",
    "            from durbango.nb_utils import *\n",
    "            from durbango.tensorboard_parser import parse_tf_events_file\n",
    "        except ImportError as e:\n",
    "            print(f'Cant import durbango-- {e}')\n",
    "        break\n",
    "\n",
    "\n",
    "Path.ls =  property(lambda self: list(self.iterdir()))\n",
    "ParameterGrid.l = property(lambda self: list(self))\n",
    "\n"
   ]
  },
  {
   "cell_type": "code",
   "execution_count": 6,
   "metadata": {},
   "outputs": [],
   "source": [
    "PATH = 'dataset_distillation/results/distill_basic/I2/arch\\(AlexCifarNet,xavier,1.0\\)_distillLR0.001_E\\(400,40,0.5\\)_lr0.01_B1x10x3_train\\(unknown_init\\)/checkpoints/epoch0080/results.pth'"
   ]
  },
  {
   "cell_type": "code",
   "execution_count": 7,
   "metadata": {},
   "outputs": [
    {
     "data": {
      "text/plain": [
       "False"
      ]
     },
     "execution_count": 7,
     "metadata": {},
     "output_type": "execute_result"
    }
   ],
   "source": [
    "Path(PATH).exists()"
   ]
  },
  {
   "cell_type": "code",
   "execution_count": 9,
   "metadata": {},
   "outputs": [
    {
     "data": {
      "text/plain": [
       "[PosixPath('dataset_distillation/results/distill_basic/Cifar10/arch(AlexCifarNet,xavier,1.0)_distillLR0.001_E(400,40,0.5)_lr0.01_B1x10x10_train(unknown_init)/checkpoints/epoch0000/results.pth'),\n",
       " PosixPath('dataset_distillation/results/distill_basic/Cifar10/arch(AlexCifarNet,xavier,1.0)_distillLR0.001_E(400,40,0.5)_lr0.01_B1x10x10_train(unknown_init)/results.pth'),\n",
       " PosixPath('dataset_distillation/results/distill_basic/Cifar10/arch(AlexCifarNet,xavier,1.0)_distillLR0.001_E(400,40,0.5)_lr0.01_B1x10x3_train(unknown_init)/checkpoints/epoch0000/results.pth'),\n",
       " PosixPath('dataset_distillation/results/distill_basic/Cifar10/arch(AlexCifarNet,xavier,1.0)_distillLR0.001_E(400,40,0.5)_lr0.01_B1x10x3_train(unknown_init)/checkpoints/epoch0010/results.pth'),\n",
       " PosixPath('dataset_distillation/results/distill_basic/Cifar10/arch(AlexCifarNet,xavier,1.0)_distillLR0.001_E(400,40,0.5)_lr0.01_B1x10x3_train(unknown_init)/checkpoints/epoch0020/results.pth'),\n",
       " PosixPath('dataset_distillation/results/distill_basic/Cifar10/arch(AlexCifarNet,xavier,1.0)_distillLR0.001_E(400,40,0.5)_lr0.01_B1x10x3_train(unknown_init)/checkpoints/epoch0030/results.pth'),\n",
       " PosixPath('dataset_distillation/results/distill_basic/Cifar10/arch(AlexCifarNet,xavier,1.0)_distillLR0.001_E(400,40,0.5)_lr0.01_B1x10x3_train(unknown_init)/checkpoints/epoch0040/results.pth'),\n",
       " PosixPath('dataset_distillation/results/distill_basic/Cifar10/arch(AlexCifarNet,xavier,1.0)_distillLR0.001_E(400,40,0.5)_lr0.01_B1x10x3_train(unknown_init)/checkpoints/epoch0050/results.pth'),\n",
       " PosixPath('dataset_distillation/results/distill_basic/Cifar10/arch(AlexCifarNet,xavier,1.0)_distillLR0.001_E(400,40,0.5)_lr0.01_B1x10x3_train(unknown_init)/checkpoints/epoch0060/results.pth'),\n",
       " PosixPath('dataset_distillation/results/distill_basic/Cifar10/arch(AlexCifarNet,xavier,1.0)_distillLR0.001_E(400,40,0.5)_lr0.01_B1x10x3_train(unknown_init)/checkpoints/epoch0070/results.pth'),\n",
       " PosixPath('dataset_distillation/results/distill_basic/Cifar10/arch(AlexCifarNet,xavier,1.0)_distillLR0.001_E(400,40,0.5)_lr0.01_B1x10x3_train(unknown_init)/checkpoints/epoch0080/results.pth'),\n",
       " PosixPath('dataset_distillation/results/distill_basic/Cifar10/arch(AlexCifarNet,xavier,1.0)_distillLR0.001_E(400,40,0.5)_lr0.01_B1x10x3_train(unknown_init)/checkpoints/epoch0090/results.pth'),\n",
       " PosixPath('dataset_distillation/results/distill_basic/Cifar10/arch(AlexCifarNet,xavier,1.0)_distillLR0.001_E(400,40,0.5)_lr0.01_B1x10x3_train(unknown_init)/checkpoints/epoch0100/results.pth'),\n",
       " PosixPath('dataset_distillation/results/distill_basic/Cifar10/arch(AlexCifarNet,xavier,1.0)_distillLR0.001_E(400,40,0.5)_lr0.01_B1x10x3_train(unknown_init)/checkpoints/epoch0110/results.pth'),\n",
       " PosixPath('dataset_distillation/results/distill_basic/Cifar10/arch(AlexCifarNet,xavier,1.0)_distillLR0.001_E(400,40,0.5)_lr0.01_B1x10x3_train(unknown_init)/checkpoints/epoch0120/results.pth'),\n",
       " PosixPath('dataset_distillation/results/distill_basic/Cifar10/arch(AlexCifarNet,xavier,1.0)_distillLR0.001_E(400,40,0.5)_lr0.01_B1x10x3_train(unknown_init)/checkpoints/epoch0130/results.pth'),\n",
       " PosixPath('dataset_distillation/results/distill_basic/Cifar10/arch(AlexCifarNet,xavier,1.0)_distillLR0.001_E(400,40,0.5)_lr0.01_B1x10x3_train(unknown_init)/checkpoints/epoch0140/results.pth'),\n",
       " PosixPath('dataset_distillation/results/distill_basic/Cifar10/arch(AlexCifarNet,xavier,1.0)_distillLR0.001_E(400,40,0.5)_lr0.01_B1x10x3_train(unknown_init)/checkpoints/epoch0150/results.pth'),\n",
       " PosixPath('dataset_distillation/results/distill_basic/Cifar10/arch(AlexCifarNet,xavier,1.0)_distillLR0.001_E(400,40,0.5)_lr0.01_B1x10x3_train(unknown_init)/checkpoints/epoch0160/results.pth'),\n",
       " PosixPath('dataset_distillation/results/distill_basic/Cifar10/arch(AlexCifarNet,xavier,1.0)_distillLR0.001_E(400,40,0.5)_lr0.01_B1x10x3_train(unknown_init)/results.pth'),\n",
       " PosixPath('dataset_distillation/results/distill_basic/I2/arch(AlexCifarNet,xavier,1.0)_distillLR0.001_E(400,40,0.5)_lr0.01_B1x10x3_train(unknown_init)/checkpoints/epoch0000/results.pth'),\n",
       " PosixPath('dataset_distillation/results/distill_basic/I2/arch(AlexCifarNet,xavier,1.0)_distillLR0.001_E(400,40,0.5)_lr0.01_B1x10x3_train(unknown_init)/checkpoints/epoch0010/results.pth'),\n",
       " PosixPath('dataset_distillation/results/distill_basic/I2/arch(AlexCifarNet,xavier,1.0)_distillLR0.001_E(400,40,0.5)_lr0.01_B1x10x3_train(unknown_init)/checkpoints/epoch0020/results.pth'),\n",
       " PosixPath('dataset_distillation/results/distill_basic/I2/arch(AlexCifarNet,xavier,1.0)_distillLR0.001_E(400,40,0.5)_lr0.01_B1x10x3_train(unknown_init)/checkpoints/epoch0030/results.pth'),\n",
       " PosixPath('dataset_distillation/results/distill_basic/I2/arch(AlexCifarNet,xavier,1.0)_distillLR0.001_E(400,40,0.5)_lr0.01_B1x10x3_train(unknown_init)/checkpoints/epoch0040/results.pth'),\n",
       " PosixPath('dataset_distillation/results/distill_basic/I2/arch(AlexCifarNet,xavier,1.0)_distillLR0.001_E(400,40,0.5)_lr0.01_B1x10x3_train(unknown_init)/checkpoints/epoch0050/results.pth'),\n",
       " PosixPath('dataset_distillation/results/distill_basic/I2/arch(AlexCifarNet,xavier,1.0)_distillLR0.001_E(400,40,0.5)_lr0.01_B1x10x3_train(unknown_init)/checkpoints/epoch0060/results.pth'),\n",
       " PosixPath('dataset_distillation/results/distill_basic/I2/arch(AlexCifarNet,xavier,1.0)_distillLR0.001_E(400,40,0.5)_lr0.01_B1x10x3_train(unknown_init)/checkpoints/epoch0070/results.pth'),\n",
       " PosixPath('dataset_distillation/results/distill_basic/I2/arch(AlexCifarNet,xavier,1.0)_distillLR0.001_E(400,40,0.5)_lr0.01_B1x10x3_train(unknown_init)/checkpoints/epoch0080/results.pth'),\n",
       " PosixPath('dataset_distillation/results/distill_basic/I2/arch(AlexCifarNet,xavier,1.0)_distillLR0.001_E(400,40,0.5)_lr0.01_B1x10x3_train(unknown_init)/checkpoints/epoch0090/results.pth'),\n",
       " PosixPath('dataset_distillation/results/distill_basic/I2/arch(AlexCifarNet,xavier,1.0)_distillLR0.001_E(400,40,0.5)_lr0.01_B1x10x3_train(unknown_init)/checkpoints/epoch0100/results.pth'),\n",
       " PosixPath('dataset_distillation/results/distill_basic/I2/arch(AlexCifarNet,xavier,1.0)_distillLR0.001_E(400,40,0.5)_lr0.01_B1x10x3_train(unknown_init)/checkpoints/epoch0110/results.pth'),\n",
       " PosixPath('dataset_distillation/results/distill_basic/I2/arch(AlexCifarNet,xavier,1.0)_distillLR0.001_E(400,40,0.5)_lr0.01_B1x10x3_train(unknown_init)/checkpoints/epoch0120/results.pth'),\n",
       " PosixPath('dataset_distillation/results/distill_basic/I2/arch(AlexCifarNet,xavier,1.0)_distillLR0.001_E(400,40,0.5)_lr0.01_B1x10x3_train(unknown_init)/checkpoints/epoch0130/results.pth'),\n",
       " PosixPath('dataset_distillation/results/distill_basic/I2/arch(AlexCifarNet,xavier,1.0)_distillLR0.001_E(400,40,0.5)_lr0.01_B1x10x3_train(unknown_init)/checkpoints/epoch0140/results.pth'),\n",
       " PosixPath('dataset_distillation/results/distill_basic/I2/arch(AlexCifarNet,xavier,1.0)_distillLR0.001_E(400,40,0.5)_lr0.01_B1x10x3_train(unknown_init)/checkpoints/epoch0150/results.pth'),\n",
       " PosixPath('dataset_distillation/results/distill_basic/I2/arch(AlexCifarNet,xavier,1.0)_distillLR0.001_E(400,40,0.5)_lr0.01_B1x10x3_train(unknown_init)/checkpoints/epoch0160/results.pth'),\n",
       " PosixPath('dataset_distillation/results/distill_basic/I2/arch(AlexCifarNet,xavier,1.0)_distillLR0.001_E(400,40,0.5)_lr0.01_B1x10x3_train(unknown_init)/checkpoints/epoch0170/results.pth'),\n",
       " PosixPath('dataset_distillation/results/distill_basic/I2/arch(AlexCifarNet,xavier,1.0)_distillLR0.001_E(400,40,0.5)_lr0.01_B1x10x3_train(unknown_init)/checkpoints/epoch0180/results.pth'),\n",
       " PosixPath('dataset_distillation/results/distill_basic/I2/arch(AlexCifarNet,xavier,1.0)_distillLR0.001_E(400,40,0.5)_lr0.01_B1x10x3_train(unknown_init)/checkpoints/epoch0190/results.pth'),\n",
       " PosixPath('dataset_distillation/results/distill_basic/I2/arch(AlexCifarNet,xavier,1.0)_distillLR0.001_E(400,40,0.5)_lr0.01_B1x10x3_train(unknown_init)/checkpoints/epoch0200/results.pth'),\n",
       " PosixPath('dataset_distillation/results/distill_basic/I2/arch(AlexCifarNet,xavier,1.0)_distillLR0.001_E(400,40,0.5)_lr0.01_B1x10x3_train(unknown_init)/checkpoints/epoch0210/results.pth'),\n",
       " PosixPath('dataset_distillation/results/distill_basic/I2/arch(AlexCifarNet,xavier,1.0)_distillLR0.001_E(400,40,0.5)_lr0.01_B1x10x3_train(unknown_init)/checkpoints/epoch0220/results.pth'),\n",
       " PosixPath('dataset_distillation/results/distill_basic/I2/arch(AlexCifarNet,xavier,1.0)_distillLR0.001_E(400,40,0.5)_lr0.01_B1x10x3_train(unknown_init)/checkpoints/epoch0230/results.pth'),\n",
       " PosixPath('dataset_distillation/results/distill_basic/I2/arch(AlexCifarNet,xavier,1.0)_distillLR0.001_E(400,40,0.5)_lr0.01_B1x10x3_train(unknown_init)/checkpoints/epoch0240/results.pth'),\n",
       " PosixPath('dataset_distillation/results/distill_basic/I2/arch(AlexCifarNet,xavier,1.0)_distillLR0.001_E(400,40,0.5)_lr0.01_B1x10x3_train(unknown_init)/checkpoints/epoch0250/results.pth'),\n",
       " PosixPath('dataset_distillation/results/distill_basic/I2/arch(AlexCifarNet,xavier,1.0)_distillLR0.001_E(400,40,0.5)_lr0.01_B1x10x3_train(unknown_init)/checkpoints/epoch0260/results.pth'),\n",
       " PosixPath('dataset_distillation/results/distill_basic/I2/arch(AlexCifarNet,xavier,1.0)_distillLR0.001_E(400,40,0.5)_lr0.01_B1x10x3_train(unknown_init)/checkpoints/epoch0270/results.pth'),\n",
       " PosixPath('dataset_distillation/results/distill_basic/I2/arch(AlexCifarNet,xavier,1.0)_distillLR0.001_E(400,40,0.5)_lr0.01_B1x10x3_train(unknown_init)/checkpoints/epoch0280/results.pth'),\n",
       " PosixPath('dataset_distillation/results/distill_basic/I2/arch(AlexCifarNet,xavier,1.0)_distillLR0.001_E(400,40,0.5)_lr0.01_B1x10x3_train(unknown_init)/checkpoints/epoch0290/results.pth'),\n",
       " PosixPath('dataset_distillation/results/distill_basic/I2/arch(AlexCifarNet,xavier,1.0)_distillLR0.001_E(400,40,0.5)_lr0.01_B1x10x3_train(unknown_init)/checkpoints/epoch0300/results.pth'),\n",
       " PosixPath('dataset_distillation/results/distill_basic/I2/arch(AlexCifarNet,xavier,1.0)_distillLR0.001_E(400,40,0.5)_lr0.01_B1x10x3_train(unknown_init)/checkpoints/epoch0310/results.pth'),\n",
       " PosixPath('dataset_distillation/results/distill_basic/I2/arch(AlexCifarNet,xavier,1.0)_distillLR0.001_E(400,40,0.5)_lr0.01_B1x10x3_train(unknown_init)/checkpoints/epoch0320/results.pth'),\n",
       " PosixPath('dataset_distillation/results/distill_basic/I2/arch(AlexCifarNet,xavier,1.0)_distillLR0.001_E(400,40,0.5)_lr0.01_B1x10x3_train(unknown_init)/checkpoints/epoch0330/results.pth'),\n",
       " PosixPath('dataset_distillation/results/distill_basic/I2/arch(AlexCifarNet,xavier,1.0)_distillLR0.001_E(400,40,0.5)_lr0.01_B1x10x3_train(unknown_init)/checkpoints/epoch0340/results.pth'),\n",
       " PosixPath('dataset_distillation/results/distill_basic/I2/arch(AlexCifarNet,xavier,1.0)_distillLR0.001_E(400,40,0.5)_lr0.01_B1x10x3_train(unknown_init)/checkpoints/epoch0350/results.pth'),\n",
       " PosixPath('dataset_distillation/results/distill_basic/I2/arch(AlexCifarNet,xavier,1.0)_distillLR0.001_E(400,40,0.5)_lr0.01_B1x10x3_train(unknown_init)/checkpoints/epoch0360/results.pth'),\n",
       " PosixPath('dataset_distillation/results/distill_basic/I2/arch(AlexCifarNet,xavier,1.0)_distillLR0.001_E(400,40,0.5)_lr0.01_B1x10x3_train(unknown_init)/results.pth'),\n",
       " PosixPath('dataset_distillation/results/distill_basic/I2/arch(AlexCifarNet,xavier,1.0)_distillLR0.001_E(400,40,0.5)_lr0.01_B1x10x3_train(unknown_init)/test/nRun1_nNet1_nEpochNone_image_loaded_lr_loaded/results.pth'),\n",
       " PosixPath('dataset_distillation/results/distill_basic/I2/arch(AlexCifarNet,xavier,1.0)_distillLR0.001_E(400,40,0.5)_lr0.01_B1x50x3_train(unknown_init)/checkpoints/epoch0000/results.pth'),\n",
       " PosixPath('dataset_distillation/results/distill_basic/I2/arch(AlexCifarNet,xavier,1.0)_distillLR0.001_E(400,40,0.5)_lr0.01_B1x50x3_train(unknown_init)/checkpoints/epoch0010/results.pth'),\n",
       " PosixPath('dataset_distillation/results/distill_basic/Imagenette/arch(AlexCifarNet,xavier,1.0)_distillLR0.001_E(400,40,0.5)_lr0.01_B1x10x3_train(unknown_init)/checkpoints/epoch0000/results.pth'),\n",
       " PosixPath('dataset_distillation/results/distill_basic/Imagenette/arch(AlexCifarNet,xavier,1.0)_distillLR0.001_E(400,40,0.5)_lr0.01_B1x10x3_train(unknown_init)/checkpoints/epoch0010/results.pth'),\n",
       " PosixPath('dataset_distillation/results/distill_basic/Imagenette/arch(AlexCifarNet,xavier,1.0)_distillLR0.001_E(400,40,0.5)_lr0.01_B1x10x3_train(unknown_init)/checkpoints/epoch0020/results.pth'),\n",
       " PosixPath('dataset_distillation/results/distill_basic/Imagenette/arch(AlexCifarNet,xavier,1.0)_distillLR0.001_E(400,40,0.5)_lr0.01_B1x10x3_train(unknown_init)/checkpoints/epoch0030/results.pth'),\n",
       " PosixPath('dataset_distillation/results/distill_basic/Imagenette/arch(AlexCifarNet,xavier,1.0)_distillLR0.001_E(400,40,0.5)_lr0.01_B1x10x3_train(unknown_init)/results.pth'),\n",
       " PosixPath('dataset_distillation/results/distill_basic/Imagenette/arch(AlexCifarNet,xavier,1.0)_distillLR0.02_E(400,40,0.5)_lr0.01_B1x10x3_train(unknown_init)/checkpoints/epoch0000/results.pth'),\n",
       " PosixPath('dataset_distillation/results/distill_basic/Imagenette/arch(AlexNet,xavier,1.0)_distillLR0.02_E(400,40,0.5)_lr0.01_B1x1x3_train(known_init)/checkpoints/epoch0000/results.pth'),\n",
       " PosixPath('dataset_distillation/results/distill_basic/Imagenette/arch(AlexNet,xavier,1.0)_distillLR0.02_E(400,40,0.5)_lr0.01_B1x1x3_train(known_init)/results.pth'),\n",
       " PosixPath('dataset_distillation/results/distill_basic/Imagenette/arch(DXResNet18,xavier,1.0)_distillLR0.02_E(400,40,0.5)_lr0.01_B1x10x3_train(unknown_init)/checkpoints/epoch0000/results.pth'),\n",
       " PosixPath('dataset_distillation/results/distill_basic/Imagenette/arch(LeNet,xavier,1.0)_distillLR0.02_E(400,40,0.5)_lr0.01_B1x10x3_train(unknown_init)/checkpoints/epoch0000/results.pth'),\n",
       " PosixPath('dataset_distillation/results/distill_basic/Imagenette/arch(LeNet,xavier,1.0)_distillLR0.02_E(400,40,0.5)_lr0.01_B1x10x3_train(unknown_init)/checkpoints/epoch0010/results.pth'),\n",
       " PosixPath('dataset_distillation/results/distill_basic/MNIST/arch(LeNet,xavier,1.0)_distillLR0.02_E(400,40,0.5)_lr0.01_B1x10x3_train(unknown_init)/checkpoints/epoch0000/results.pth'),\n",
       " PosixPath('dataset_distillation/results/distill_basic/MNIST/arch(LeNet,xavier,1.0)_distillLR0.02_E(400,40,0.5)_lr0.01_B1x10x3_train(unknown_init)/results.pth')]"
      ]
     },
     "execution_count": 9,
     "metadata": {},
     "output_type": "execute_result"
    }
   ],
   "source": [
    "paths = sorted(list(Path('dataset_distillation/results/distill_basic/').rglob('*.pth'))); paths"
   ]
  },
  {
   "cell_type": "code",
   "execution_count": 12,
   "metadata": {},
   "outputs": [],
   "source": [
    "pth = PosixPath('dataset_distillation/results/distill_basic/I2/arch(AlexCifarNet,xavier,1.0)_distillLR0.001_E(400,40,0.5)_lr0.01_B1x10x3_train(unknown_init)/checkpoints/epoch0080/results.pth')"
   ]
  },
  {
   "cell_type": "code",
   "execution_count": 14,
   "metadata": {},
   "outputs": [],
   "source": [
    "import torch\n",
    "results = torch.load(pth)"
   ]
  },
  {
   "cell_type": "code",
   "execution_count": 18,
   "metadata": {},
   "outputs": [
    {
     "name": "stdout",
     "output_type": "stream",
     "text": [
      "torch.Size([10, 3, 32, 32]) tensor([0, 1, 2, 3, 4, 5, 6, 7, 8, 9]) tensor([0.0587], device='cuda:0')\n",
      "torch.Size([10, 3, 32, 32]) tensor([0, 1, 2, 3, 4, 5, 6, 7, 8, 9]) tensor([0.0265], device='cuda:0')\n",
      "torch.Size([10, 3, 32, 32]) tensor([0, 1, 2, 3, 4, 5, 6, 7, 8, 9]) tensor([0.0410], device='cuda:0')\n",
      "torch.Size([10, 3, 32, 32]) tensor([0, 1, 2, 3, 4, 5, 6, 7, 8, 9]) tensor([0.0386], device='cuda:0')\n",
      "torch.Size([10, 3, 32, 32]) tensor([0, 1, 2, 3, 4, 5, 6, 7, 8, 9]) tensor([0.0268], device='cuda:0')\n",
      "torch.Size([10, 3, 32, 32]) tensor([0, 1, 2, 3, 4, 5, 6, 7, 8, 9]) tensor([0.0441], device='cuda:0')\n",
      "torch.Size([10, 3, 32, 32]) tensor([0, 1, 2, 3, 4, 5, 6, 7, 8, 9]) tensor([0.0293], device='cuda:0')\n",
      "torch.Size([10, 3, 32, 32]) tensor([0, 1, 2, 3, 4, 5, 6, 7, 8, 9]) tensor([0.0110], device='cuda:0')\n",
      "torch.Size([10, 3, 32, 32]) tensor([0, 1, 2, 3, 4, 5, 6, 7, 8, 9]) tensor([0.0261], device='cuda:0')\n",
      "torch.Size([10, 3, 32, 32]) tensor([0, 1, 2, 3, 4, 5, 6, 7, 8, 9]) tensor([0.0065], device='cuda:0')\n",
      "torch.Size([10, 3, 32, 32]) tensor([0, 1, 2, 3, 4, 5, 6, 7, 8, 9]) tensor([0.0145], device='cuda:0')\n",
      "torch.Size([10, 3, 32, 32]) tensor([0, 1, 2, 3, 4, 5, 6, 7, 8, 9]) tensor([0.0450], device='cuda:0')\n",
      "torch.Size([10, 3, 32, 32]) tensor([0, 1, 2, 3, 4, 5, 6, 7, 8, 9]) tensor([0.0132], device='cuda:0')\n",
      "torch.Size([10, 3, 32, 32]) tensor([0, 1, 2, 3, 4, 5, 6, 7, 8, 9]) tensor([0.0233], device='cuda:0')\n",
      "torch.Size([10, 3, 32, 32]) tensor([0, 1, 2, 3, 4, 5, 6, 7, 8, 9]) tensor([0.0225], device='cuda:0')\n",
      "torch.Size([10, 3, 32, 32]) tensor([0, 1, 2, 3, 4, 5, 6, 7, 8, 9]) tensor([0.0215], device='cuda:0')\n",
      "torch.Size([10, 3, 32, 32]) tensor([0, 1, 2, 3, 4, 5, 6, 7, 8, 9]) tensor([0.0142], device='cuda:0')\n",
      "torch.Size([10, 3, 32, 32]) tensor([0, 1, 2, 3, 4, 5, 6, 7, 8, 9]) tensor([0.0110], device='cuda:0')\n",
      "torch.Size([10, 3, 32, 32]) tensor([0, 1, 2, 3, 4, 5, 6, 7, 8, 9]) tensor([0.0300], device='cuda:0')\n",
      "torch.Size([10, 3, 32, 32]) tensor([0, 1, 2, 3, 4, 5, 6, 7, 8, 9]) tensor([0.0020], device='cuda:0')\n",
      "torch.Size([10, 3, 32, 32]) tensor([0, 1, 2, 3, 4, 5, 6, 7, 8, 9]) tensor([0.0152], device='cuda:0')\n",
      "torch.Size([10, 3, 32, 32]) tensor([0, 1, 2, 3, 4, 5, 6, 7, 8, 9]) tensor([0.0192], device='cuda:0')\n",
      "torch.Size([10, 3, 32, 32]) tensor([0, 1, 2, 3, 4, 5, 6, 7, 8, 9]) tensor([0.0098], device='cuda:0')\n",
      "torch.Size([10, 3, 32, 32]) tensor([0, 1, 2, 3, 4, 5, 6, 7, 8, 9]) tensor([0.0310], device='cuda:0')\n",
      "torch.Size([10, 3, 32, 32]) tensor([0, 1, 2, 3, 4, 5, 6, 7, 8, 9]) tensor([0.0097], device='cuda:0')\n",
      "torch.Size([10, 3, 32, 32]) tensor([0, 1, 2, 3, 4, 5, 6, 7, 8, 9]) tensor([0.0094], device='cuda:0')\n",
      "torch.Size([10, 3, 32, 32]) tensor([0, 1, 2, 3, 4, 5, 6, 7, 8, 9]) tensor([0.0134], device='cuda:0')\n",
      "torch.Size([10, 3, 32, 32]) tensor([0, 1, 2, 3, 4, 5, 6, 7, 8, 9]) tensor([0.0078], device='cuda:0')\n",
      "torch.Size([10, 3, 32, 32]) tensor([0, 1, 2, 3, 4, 5, 6, 7, 8, 9]) tensor([0.0081], device='cuda:0')\n",
      "torch.Size([10, 3, 32, 32]) tensor([0, 1, 2, 3, 4, 5, 6, 7, 8, 9]) tensor([0.0039], device='cuda:0')\n"
     ]
    }
   ],
   "source": [
    "for a,b,c in results: \n",
    "    print(a.shape, b, c)"
   ]
  },
  {
   "cell_type": "code",
   "execution_count": null,
   "metadata": {},
   "outputs": [],
   "source": []
  }
 ],
 "metadata": {
  "kernelspec": {
   "display_name": "Python 3",
   "language": "python",
   "name": "python3"
  },
  "language_info": {
   "codemirror_mode": {
    "name": "ipython",
    "version": 3
   },
   "file_extension": ".py",
   "mimetype": "text/x-python",
   "name": "python",
   "nbconvert_exporter": "python",
   "pygments_lexer": "ipython3",
   "version": "3.7.3"
  }
 },
 "nbformat": 4,
 "nbformat_minor": 2
}
