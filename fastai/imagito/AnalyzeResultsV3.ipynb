{
 "cells": [
  {
   "cell_type": "code",
   "execution_count": 16,
   "metadata": {
    "ExecuteTime": {
     "end_time": "2019-06-01T00:30:27.017563Z",
     "start_time": "2019-06-01T00:30:26.903975Z"
    },
    "code_folding": []
   },
   "outputs": [
    {
     "name": "stdout",
     "output_type": "stream",
     "text": [
      "The autoreload extension is already loaded. To reload it, use:\n",
      "  %reload_ext autoreload\n"
     ]
    },
    {
     "data": {
      "text/html": [
       "<style>.container { width:90% !important; }</style>"
      ],
      "text/plain": [
       "<IPython.core.display.HTML object>"
      ]
     },
     "metadata": {},
     "output_type": "display_data"
    }
   ],
   "source": [
    "# %load /Users/shleifer/durbango/imports.py\n",
    "#IMPORTS\n",
    "\n",
    "%load_ext autoreload\n",
    "%autoreload 2\n",
    "%matplotlib inline\n",
    "%config InlineBackend.figure_format = 'retina'\n",
    "\n",
    "ISO = \"ISO-8859-1\"\n",
    "\n",
    "import os\n",
    "import pickle\n",
    "from tqdm import tqdm, tqdm_notebook, tnrange\n",
    "import numpy as np\n",
    "import pandas as pd\n",
    "import gc\n",
    "import IPython\n",
    "import sys\n",
    "\n",
    "from sklearn.metrics import *\n",
    "import itertools\n",
    "from collections import *\n",
    "from tqdm import tqdm, tqdm_notebook\n",
    "import funcy\n",
    "import matplotlib.pyplot as plt\n",
    "from time import time\n",
    "from sklearn.linear_model import *\n",
    "from functools import partial\n",
    "from sklearn.feature_extraction.text import CountVectorizer, HashingVectorizer, TfidfTransformer, TfidfVectorizer\n",
    "from sklearn.model_selection import StratifiedKFold, KFold, ParameterGrid\n",
    "from sklearn.utils import shuffle\n",
    "from numpy.testing import assert_array_equal\n",
    "from pandas.testing import assert_frame_equal, assert_series_equal, assert_index_equal\n",
    "from sklearn.preprocessing import StandardScaler, RobustScaler\n",
    "from pathlib import Path, PosixPath\n",
    "import re\n",
    "from glob import glob\n",
    "import gzip\n",
    "#from pandas_summary import DataFrameSummary\n",
    "import pickle\n",
    "from IPython.lib.display import FileLink\n",
    "\n",
    "mock_arr = np.array(range(25)).reshape(5,5)\n",
    "mock_df = pd.DataFrame(np.ones((5,5)), columns=['a', 'b', 'c', 'd', 'e'])\n",
    "mock_df['color'] = ['red', 'blue', 'red', 'blue', 'green']\n",
    "mock_df['bool_col'] = [True, False, True, False, True]\n",
    "\n",
    "\n",
    "np.set_printoptions(precision=5, linewidth=110, suppress=True)\n",
    "\n",
    "from ipykernel.kernelapp import IPKernelApp\n",
    "def in_notebook(): return IPKernelApp.initialized()\n",
    "def printmd(string):\n",
    "    display(Markdown(string))\n",
    "from IPython.display import Markdown, display, HTML\n",
    "from IPython.core.interactiveshell import InteractiveShell\n",
    "\n",
    "display(HTML(\"<style>.container { width:90% !important; }</style>\"))\n",
    "\n",
    "# pretty print only the last output of the cell\n",
    "# InteractiveShell.ast_node_interactivity = \"last_expr\" # \"all\" for all\n",
    "try:\n",
    "    import eli5\n",
    "    from lightgbm.sklearn import LGBMClassifier, LGBMRegressor\n",
    "    import seaborn as sns\n",
    "except ImportError:\n",
    "    pass\n",
    "def pickle_save(obj, path):\n",
    "    with open(path, 'wb') as f:\n",
    "        pickle.dump(obj, f)\n",
    "def pickle_load_gzip(path):\n",
    "    with gzip.open(path, 'rb') as f:\n",
    "        return pickle.load(f, encoding='latin-1')\n",
    "def pickle_load(path):\n",
    "    with open(path, 'rb') as f:\n",
    "        return pickle.load(f)\n",
    "save_pickle = pickle_save\n",
    "load_pickle = pickle_load\n",
    "\n",
    "\n",
    "Path.ls =  property(lambda self: list(self.iterdir()))\n",
    "ParameterGrid.l = property(lambda self: list(self))\n",
    "\n",
    "to_arr = lambda x: x.detach().numpy()\n"
   ]
  },
  {
   "cell_type": "code",
   "execution_count": 14,
   "metadata": {
    "ExecuteTime": {
     "end_time": "2019-06-01T00:30:17.493795Z",
     "start_time": "2019-06-01T00:30:17.434234Z"
    }
   },
   "outputs": [],
   "source": [
    "from fastai.imagito.analysis import *\n",
    "import seaborn as sns\n",
    "# FIX THIS\n",
    "experiment_dir = Path('/Users/shleifer/fastai-fork/experiments')\n"
   ]
  },
  {
   "cell_type": "code",
   "execution_count": 15,
   "metadata": {
    "ExecuteTime": {
     "end_time": "2019-06-01T00:30:20.914186Z",
     "start_time": "2019-06-01T00:30:18.415736Z"
    }
   },
   "outputs": [
    {
     "data": {
      "application/vnd.jupyter.widget-view+json": {
       "model_id": "1204603f4d3f4bd6958226db5f8d7090",
       "version_major": 2,
       "version_minor": 0
      },
      "text/plain": [
       "HBox(children=(IntProgress(value=0, max=538), HTML(value='')))"
      ]
     },
     "metadata": {},
     "output_type": "display_data"
    },
    {
     "name": "stdout",
     "output_type": "stream",
     "text": [
      "<class 'pandas.errors.EmptyDataError'>: /Users/shleifer/fastai-fork/experiments/2019-05-31-07:14:21\n",
      "<class 'FileNotFoundError'>: /Users/shleifer/fastai-fork/experiments/2019-05-31-00:09:07\n",
      "<class 'FileNotFoundError'>: /Users/shleifer/fastai-fork/experiments/2019-05-30-16:03:19\n",
      "<class 'FileNotFoundError'>: /Users/shleifer/fastai-fork/experiments/2019-05-31-00:47:43\n",
      "<class 'FileNotFoundError'>: /Users/shleifer/fastai-fork/experiments/2019-05-14-04:02:56\n",
      "\n"
     ]
    }
   ],
   "source": [
    "metric_df, param_df = read_results(experiment_dir)"
   ]
  },
  {
   "cell_type": "code",
   "execution_count": 17,
   "metadata": {
    "ExecuteTime": {
     "end_time": "2019-06-01T00:30:30.869952Z",
     "start_time": "2019-06-01T00:30:30.387969Z"
    }
   },
   "outputs": [
    {
     "name": "stdout",
     "output_type": "stream",
     "text": [
      "n_experiments: 533\n"
     ]
    }
   ],
   "source": [
    "df = combine(metric_df, param_df)\n",
    "df = df.fillna({'label_smoothing': True, 'ds_path': 'imagenette', 'hardness_lower_bound':0,\n",
    "                'hardness_upper_bound':1., 'flip_lr_p': 0.5,\n",
    "               })#.drop(['top_k_accuracy', 1])"
   ]
  },
  {
   "cell_type": "code",
   "execution_count": 19,
   "metadata": {
    "ExecuteTime": {
     "end_time": "2019-06-01T00:30:45.553839Z",
     "start_time": "2019-06-01T00:30:45.024003Z"
    },
    "code_folding": []
   },
   "outputs": [],
   "source": [
    "%%capture\n",
    "df['_hardness_str'] = df.apply(lambda r: f'hard-{r.hardness_lower_bound}-{r.hardness_upper_bound}', 1)\n",
    "DEFAULT_HARD_STR = 'hard-0.0-1.0'\n",
    "df['classes'] = df['classes'].replace({'0-10': 'All Classes', '0-4': 'Half Classes', '5-9': 'Other Half Classes',\n",
    "                                      '0-1': '2Classes'})\n",
    "df['seconds'] = df['time'].str.split(':').apply(lambda x: 60*int(x[0])+int(x[1]))\n",
    "df[STRAT] = df['classes'] + '-' + df['sample'].astype(str)\n",
    "DS_PATH = 'ds_path'\n",
    "df['z_acc_epoch'] = df.groupby((STRAT, 'epoch'))['accuracy'].transform(zscore)\n",
    "df.loc[df[DS_PATH]!= 'imagenette', STRAT] = 'distillation'\n",
    "df.loc[df['_hardness_str'] != DEFAULT_HARD_STR, STRAT] =  df.loc[df['_hardness_str'] != DEFAULT_HARD_STR, '_hardness_str']"
   ]
  },
  {
   "cell_type": "markdown",
   "metadata": {},
   "source": [
    "@eric See custom properties like `df.bm_strat` or `df.e19` at top of `analysis.py`. They are handy"
   ]
  },
  {
   "cell_type": "code",
   "execution_count": 22,
   "metadata": {
    "ExecuteTime": {
     "end_time": "2019-06-01T00:31:43.425225Z",
     "start_time": "2019-06-01T00:31:43.368712Z"
    }
   },
   "outputs": [],
   "source": [
    "assert df.lr.nunique()== df.bm_strat.lr.nunique(), 'Missing lr configs for benchmark'"
   ]
  },
  {
   "cell_type": "code",
   "execution_count": 23,
   "metadata": {
    "ExecuteTime": {
     "end_time": "2019-06-01T00:31:45.561012Z",
     "start_time": "2019-06-01T00:31:45.509748Z"
    },
    "scrolled": false
   },
   "outputs": [
    {
     "name": "stderr",
     "output_type": "stream",
     "text": [
      "/Users/shleifer/miniconda3/envs/cs231n/lib/python3.7/site-packages/ipykernel_launcher.py:1: FutureWarning: Interpreting tuple 'by' as a list of keys, rather than a single key. Use 'by=[...]' instead of 'by=(...)'. In the future, a tuple will always mean a single key.\n",
      "  \"\"\"Entry point for launching an IPython kernel.\n"
     ]
    }
   ],
   "source": [
    "assert df.groupby(('date', 'epoch')).size().max() == 1"
   ]
  },
  {
   "cell_type": "markdown",
   "metadata": {},
   "source": [
    "#### Correlations"
   ]
  },
  {
   "cell_type": "code",
   "execution_count": 28,
   "metadata": {
    "ExecuteTime": {
     "end_time": "2019-06-01T00:32:45.315455Z",
     "start_time": "2019-06-01T00:32:45.260838Z"
    }
   },
   "outputs": [
    {
     "data": {
      "text/plain": [
       "['size', 'label_smoothing', 'lr', 'flip_lr_p']"
      ]
     },
     "execution_count": 28,
     "metadata": {},
     "output_type": "execute_result"
    }
   ],
   "source": [
    "DEFAULT_CONFIG_COLS"
   ]
  },
  {
   "cell_type": "code",
   "execution_count": 24,
   "metadata": {
    "ExecuteTime": {
     "end_time": "2019-06-01T00:31:58.898999Z",
     "start_time": "2019-06-01T00:31:58.759631Z"
    },
    "scrolled": false
   },
   "outputs": [
    {
     "name": "stderr",
     "output_type": "stream",
     "text": [
      "/Users/shleifer/miniconda3/envs/cs231n/lib/python3.7/site-packages/numpy/lib/function_base.py:2522: RuntimeWarning: Degrees of freedom <= 0 for slice\n",
      "  c = cov(x, y, rowvar)\n",
      "/Users/shleifer/miniconda3/envs/cs231n/lib/python3.7/site-packages/numpy/lib/function_base.py:2451: RuntimeWarning: divide by zero encountered in true_divide\n",
      "  c *= np.true_divide(1, fact)\n"
     ]
    }
   ],
   "source": [
    "cor_tab = make_cor_tab(df.full_train.s128, agg_col=ACCURACY)"
   ]
  },
  {
   "cell_type": "code",
   "execution_count": 27,
   "metadata": {
    "ExecuteTime": {
     "end_time": "2019-06-01T00:32:37.504156Z",
     "start_time": "2019-06-01T00:32:37.437325Z"
    }
   },
   "outputs": [
    {
     "data": {
      "text/html": [
       "<div>\n",
       "<style scoped>\n",
       "    .dataframe tbody tr th:only-of-type {\n",
       "        vertical-align: middle;\n",
       "    }\n",
       "\n",
       "    .dataframe tbody tr th {\n",
       "        vertical-align: top;\n",
       "    }\n",
       "\n",
       "    .dataframe thead th {\n",
       "        text-align: right;\n",
       "    }\n",
       "</style>\n",
       "<table border=\"1\" class=\"dataframe\">\n",
       "  <thead>\n",
       "    <tr style=\"text-align: right;\">\n",
       "      <th></th>\n",
       "      <th>All Changes</th>\n",
       "      <th>Positive Changes</th>\n",
       "      <th>Best Params</th>\n",
       "      <th>N Experiments</th>\n",
       "    </tr>\n",
       "    <tr>\n",
       "      <th>sampling_strat</th>\n",
       "      <th></th>\n",
       "      <th></th>\n",
       "      <th></th>\n",
       "      <th></th>\n",
       "    </tr>\n",
       "  </thead>\n",
       "  <tbody>\n",
       "    <tr>\n",
       "      <th>hard-0.0-0.1</th>\n",
       "      <td>0.33</td>\n",
       "      <td>0.33</td>\n",
       "      <td>(128, False, 0.01, 0.5)</td>\n",
       "      <td>33</td>\n",
       "    </tr>\n",
       "    <tr>\n",
       "      <th>All Classes-0.5</th>\n",
       "      <td>0.90</td>\n",
       "      <td>0.90</td>\n",
       "      <td>(128, False, 0.003, 0.25)</td>\n",
       "      <td>28</td>\n",
       "    </tr>\n",
       "    <tr>\n",
       "      <th>All Classes-1.0</th>\n",
       "      <td>1.00</td>\n",
       "      <td>1.00</td>\n",
       "      <td>(128, False, 0.003, 0.25)</td>\n",
       "      <td>28</td>\n",
       "    </tr>\n",
       "    <tr>\n",
       "      <th>hard-0.0-0.75</th>\n",
       "      <td>0.95</td>\n",
       "      <td>0.95</td>\n",
       "      <td>(128, False, 0.007, 0.5)</td>\n",
       "      <td>24</td>\n",
       "    </tr>\n",
       "    <tr>\n",
       "      <th>hard-0.75-1.0</th>\n",
       "      <td>0.82</td>\n",
       "      <td>0.82</td>\n",
       "      <td>(128, False, 0.003, 0.0)</td>\n",
       "      <td>19</td>\n",
       "    </tr>\n",
       "    <tr>\n",
       "      <th>hard-0.25-1.0</th>\n",
       "      <td>0.98</td>\n",
       "      <td>0.98</td>\n",
       "      <td>(128, False, 0.003, 0.25)</td>\n",
       "      <td>19</td>\n",
       "    </tr>\n",
       "    <tr>\n",
       "      <th>hard-0.5-1.0</th>\n",
       "      <td>0.95</td>\n",
       "      <td>0.95</td>\n",
       "      <td>(128, True, 0.01, 0.5)</td>\n",
       "      <td>19</td>\n",
       "    </tr>\n",
       "    <tr>\n",
       "      <th>hard-0.9-1.0</th>\n",
       "      <td>0.79</td>\n",
       "      <td>0.79</td>\n",
       "      <td>(128, False, 0.007, 0.5)</td>\n",
       "      <td>19</td>\n",
       "    </tr>\n",
       "    <tr>\n",
       "      <th>All Classes-0.25</th>\n",
       "      <td>0.65</td>\n",
       "      <td>0.65</td>\n",
       "      <td>(128, True, 0.01, 0.5)</td>\n",
       "      <td>19</td>\n",
       "    </tr>\n",
       "    <tr>\n",
       "      <th>All Classes-0.7</th>\n",
       "      <td>0.97</td>\n",
       "      <td>0.97</td>\n",
       "      <td>(128, False, 0.015, 0.5)</td>\n",
       "      <td>18</td>\n",
       "    </tr>\n",
       "    <tr>\n",
       "      <th>Half Classes-1.0</th>\n",
       "      <td>0.95</td>\n",
       "      <td>0.95</td>\n",
       "      <td>(128, True, 0.01, 0.5)</td>\n",
       "      <td>15</td>\n",
       "    </tr>\n",
       "    <tr>\n",
       "      <th>Half Classes-0.5</th>\n",
       "      <td>0.67</td>\n",
       "      <td>0.67</td>\n",
       "      <td>(128, True, 0.003, 0.5)</td>\n",
       "      <td>15</td>\n",
       "    </tr>\n",
       "    <tr>\n",
       "      <th>hard-0.0-0.25</th>\n",
       "      <td>-0.44</td>\n",
       "      <td>-0.44</td>\n",
       "      <td>(128, False, 0.003, 0.0)</td>\n",
       "      <td>8</td>\n",
       "    </tr>\n",
       "    <tr>\n",
       "      <th>hard-0.0-0.5</th>\n",
       "      <td>-0.25</td>\n",
       "      <td>-0.25</td>\n",
       "      <td>(128, False, 0.003, 0.0)</td>\n",
       "      <td>8</td>\n",
       "    </tr>\n",
       "    <tr>\n",
       "      <th>Half Classes-0.25</th>\n",
       "      <td>0.56</td>\n",
       "      <td>0.56</td>\n",
       "      <td>(128, True, 0.01, 0.5)</td>\n",
       "      <td>6</td>\n",
       "    </tr>\n",
       "    <tr>\n",
       "      <th>All Classes-0.1</th>\n",
       "      <td>1.00</td>\n",
       "      <td>1.00</td>\n",
       "      <td>(128, True, 0.003, 0.5)</td>\n",
       "      <td>4</td>\n",
       "    </tr>\n",
       "    <tr>\n",
       "      <th>2Classes-1.0</th>\n",
       "      <td>1.00</td>\n",
       "      <td>1.00</td>\n",
       "      <td>(128, False, 0.003, 0.5)</td>\n",
       "      <td>3</td>\n",
       "    </tr>\n",
       "    <tr>\n",
       "      <th>Half Classes-0.1</th>\n",
       "      <td>1.00</td>\n",
       "      <td>1.00</td>\n",
       "      <td>(128, False, 0.003, 0.5)</td>\n",
       "      <td>2</td>\n",
       "    </tr>\n",
       "    <tr>\n",
       "      <th>2Classes-0.5</th>\n",
       "      <td>-1.00</td>\n",
       "      <td>-1.00</td>\n",
       "      <td>(128, True, 0.003, 0.5)</td>\n",
       "      <td>2</td>\n",
       "    </tr>\n",
       "    <tr>\n",
       "      <th>2Classes-0.1</th>\n",
       "      <td>NaN</td>\n",
       "      <td>NaN</td>\n",
       "      <td>(128, False, 0.003, 0.5)</td>\n",
       "      <td>1</td>\n",
       "    </tr>\n",
       "    <tr>\n",
       "      <th>Other Half Classes-1.0</th>\n",
       "      <td>NaN</td>\n",
       "      <td>NaN</td>\n",
       "      <td>(128, True, 0.003, 0.5)</td>\n",
       "      <td>1</td>\n",
       "    </tr>\n",
       "  </tbody>\n",
       "</table>\n",
       "</div>"
      ],
      "text/plain": [
       "                        All Changes  Positive Changes  \\\n",
       "sampling_strat                                          \n",
       "hard-0.0-0.1                   0.33              0.33   \n",
       "All Classes-0.5                0.90              0.90   \n",
       "All Classes-1.0                1.00              1.00   \n",
       "hard-0.0-0.75                  0.95              0.95   \n",
       "hard-0.75-1.0                  0.82              0.82   \n",
       "hard-0.25-1.0                  0.98              0.98   \n",
       "hard-0.5-1.0                   0.95              0.95   \n",
       "hard-0.9-1.0                   0.79              0.79   \n",
       "All Classes-0.25               0.65              0.65   \n",
       "All Classes-0.7                0.97              0.97   \n",
       "Half Classes-1.0               0.95              0.95   \n",
       "Half Classes-0.5               0.67              0.67   \n",
       "hard-0.0-0.25                 -0.44             -0.44   \n",
       "hard-0.0-0.5                  -0.25             -0.25   \n",
       "Half Classes-0.25              0.56              0.56   \n",
       "All Classes-0.1                1.00              1.00   \n",
       "2Classes-1.0                   1.00              1.00   \n",
       "Half Classes-0.1               1.00              1.00   \n",
       "2Classes-0.5                  -1.00             -1.00   \n",
       "2Classes-0.1                    NaN               NaN   \n",
       "Other Half Classes-1.0          NaN               NaN   \n",
       "\n",
       "                                      Best Params  N Experiments  \n",
       "sampling_strat                                                    \n",
       "hard-0.0-0.1              (128, False, 0.01, 0.5)             33  \n",
       "All Classes-0.5         (128, False, 0.003, 0.25)             28  \n",
       "All Classes-1.0         (128, False, 0.003, 0.25)             28  \n",
       "hard-0.0-0.75            (128, False, 0.007, 0.5)             24  \n",
       "hard-0.75-1.0            (128, False, 0.003, 0.0)             19  \n",
       "hard-0.25-1.0           (128, False, 0.003, 0.25)             19  \n",
       "hard-0.5-1.0               (128, True, 0.01, 0.5)             19  \n",
       "hard-0.9-1.0             (128, False, 0.007, 0.5)             19  \n",
       "All Classes-0.25           (128, True, 0.01, 0.5)             19  \n",
       "All Classes-0.7          (128, False, 0.015, 0.5)             18  \n",
       "Half Classes-1.0           (128, True, 0.01, 0.5)             15  \n",
       "Half Classes-0.5          (128, True, 0.003, 0.5)             15  \n",
       "hard-0.0-0.25            (128, False, 0.003, 0.0)              8  \n",
       "hard-0.0-0.5             (128, False, 0.003, 0.0)              8  \n",
       "Half Classes-0.25          (128, True, 0.01, 0.5)              6  \n",
       "All Classes-0.1           (128, True, 0.003, 0.5)              4  \n",
       "2Classes-1.0             (128, False, 0.003, 0.5)              3  \n",
       "Half Classes-0.1         (128, False, 0.003, 0.5)              2  \n",
       "2Classes-0.5              (128, True, 0.003, 0.5)              2  \n",
       "2Classes-0.1             (128, False, 0.003, 0.5)              1  \n",
       "Other Half Classes-1.0    (128, True, 0.003, 0.5)              1  "
      ]
     },
     "execution_count": 27,
     "metadata": {},
     "output_type": "execute_result"
    }
   ],
   "source": [
    "cor_tab.sort_values('N Experiments', ascending=False)"
   ]
  },
  {
   "cell_type": "markdown",
   "metadata": {},
   "source": [
    "### Run Regressions"
   ]
  },
  {
   "cell_type": "code",
   "execution_count": 31,
   "metadata": {
    "ExecuteTime": {
     "end_time": "2019-06-01T00:33:06.636910Z",
     "start_time": "2019-06-01T00:33:06.079081Z"
    }
   },
   "outputs": [
    {
     "data": {
      "text/html": [
       "<div>\n",
       "<style scoped>\n",
       "    .dataframe tbody tr th:only-of-type {\n",
       "        vertical-align: middle;\n",
       "    }\n",
       "\n",
       "    .dataframe tbody tr th {\n",
       "        vertical-align: top;\n",
       "    }\n",
       "\n",
       "    .dataframe thead th {\n",
       "        text-align: right;\n",
       "    }\n",
       "</style>\n",
       "<table border=\"1\" class=\"dataframe\">\n",
       "  <thead>\n",
       "    <tr style=\"text-align: right;\">\n",
       "      <th></th>\n",
       "      <th>coeff</th>\n",
       "      <th>r2</th>\n",
       "      <th>N_configs</th>\n",
       "    </tr>\n",
       "    <tr>\n",
       "      <th>sampling_strat</th>\n",
       "      <th></th>\n",
       "      <th></th>\n",
       "      <th></th>\n",
       "    </tr>\n",
       "  </thead>\n",
       "  <tbody>\n",
       "    <tr>\n",
       "      <th>hard-0.0-0.1</th>\n",
       "      <td>0.35</td>\n",
       "      <td>0.12</td>\n",
       "      <td>18</td>\n",
       "    </tr>\n",
       "    <tr>\n",
       "      <th>All Classes-0.5</th>\n",
       "      <td>0.91</td>\n",
       "      <td>0.82</td>\n",
       "      <td>18</td>\n",
       "    </tr>\n",
       "    <tr>\n",
       "      <th>hard-0.0-0.75</th>\n",
       "      <td>0.66</td>\n",
       "      <td>0.44</td>\n",
       "      <td>15</td>\n",
       "    </tr>\n",
       "    <tr>\n",
       "      <th>hard-0.5-1.0</th>\n",
       "      <td>0.94</td>\n",
       "      <td>0.88</td>\n",
       "      <td>18</td>\n",
       "    </tr>\n",
       "    <tr>\n",
       "      <th>hard-0.25-1.0</th>\n",
       "      <td>0.98</td>\n",
       "      <td>0.96</td>\n",
       "      <td>18</td>\n",
       "    </tr>\n",
       "    <tr>\n",
       "      <th>hard-0.9-1.0</th>\n",
       "      <td>0.80</td>\n",
       "      <td>0.63</td>\n",
       "      <td>18</td>\n",
       "    </tr>\n",
       "    <tr>\n",
       "      <th>All Classes-0.7</th>\n",
       "      <td>0.78</td>\n",
       "      <td>0.61</td>\n",
       "      <td>18</td>\n",
       "    </tr>\n",
       "    <tr>\n",
       "      <th>All Classes-0.25</th>\n",
       "      <td>0.61</td>\n",
       "      <td>0.37</td>\n",
       "      <td>17</td>\n",
       "    </tr>\n",
       "    <tr>\n",
       "      <th>hard-0.75-1.0</th>\n",
       "      <td>0.81</td>\n",
       "      <td>0.66</td>\n",
       "      <td>18</td>\n",
       "    </tr>\n",
       "    <tr>\n",
       "      <th>Half Classes-1.0</th>\n",
       "      <td>0.95</td>\n",
       "      <td>0.91</td>\n",
       "      <td>7</td>\n",
       "    </tr>\n",
       "    <tr>\n",
       "      <th>Half Classes-0.5</th>\n",
       "      <td>0.67</td>\n",
       "      <td>0.45</td>\n",
       "      <td>7</td>\n",
       "    </tr>\n",
       "    <tr>\n",
       "      <th>All Classes-0.1</th>\n",
       "      <td>0.07</td>\n",
       "      <td>0.01</td>\n",
       "      <td>7</td>\n",
       "    </tr>\n",
       "    <tr>\n",
       "      <th>hard-0.0-0.5</th>\n",
       "      <td>-0.28</td>\n",
       "      <td>0.08</td>\n",
       "      <td>7</td>\n",
       "    </tr>\n",
       "    <tr>\n",
       "      <th>hard-0.0-0.25</th>\n",
       "      <td>-0.52</td>\n",
       "      <td>0.27</td>\n",
       "      <td>7</td>\n",
       "    </tr>\n",
       "    <tr>\n",
       "      <th>Half Classes-0.25</th>\n",
       "      <td>0.59</td>\n",
       "      <td>0.35</td>\n",
       "      <td>5</td>\n",
       "    </tr>\n",
       "  </tbody>\n",
       "</table>\n",
       "</div>"
      ],
      "text/plain": [
       "                   coeff    r2  N_configs\n",
       "sampling_strat                           \n",
       "hard-0.0-0.1        0.35  0.12         18\n",
       "All Classes-0.5     0.91  0.82         18\n",
       "hard-0.0-0.75       0.66  0.44         15\n",
       "hard-0.5-1.0        0.94  0.88         18\n",
       "hard-0.25-1.0       0.98  0.96         18\n",
       "hard-0.9-1.0        0.80  0.63         18\n",
       "All Classes-0.7     0.78  0.61         18\n",
       "All Classes-0.25    0.61  0.37         17\n",
       "hard-0.75-1.0       0.81  0.66         18\n",
       "Half Classes-1.0    0.95  0.91          7\n",
       "Half Classes-0.5    0.67  0.45          7\n",
       "All Classes-0.1     0.07  0.01          7\n",
       "hard-0.0-0.5       -0.28  0.08          7\n",
       "hard-0.0-0.25      -0.52  0.27          7\n",
       "Half Classes-0.25   0.59  0.35          5"
      ]
     },
     "execution_count": 31,
     "metadata": {},
     "output_type": "execute_result"
    }
   ],
   "source": [
    "from fastai.imagito.grouped_regressions import run_grouped_regs\n",
    "run_grouped_regs(df.full_train.s128)"
   ]
  },
  {
   "cell_type": "markdown",
   "metadata": {},
   "source": [
    "### More in  Depth/But Dirty"
   ]
  },
  {
   "cell_type": "code",
   "execution_count": 32,
   "metadata": {
    "ExecuteTime": {
     "end_time": "2019-06-01T00:33:46.870769Z",
     "start_time": "2019-06-01T00:33:46.797509Z"
    }
   },
   "outputs": [],
   "source": [
    "exp_df = df.groupby('date').first().assign(accuracy=df.groupby('date').accuracy.max())"
   ]
  },
  {
   "cell_type": "code",
   "execution_count": 33,
   "metadata": {
    "ExecuteTime": {
     "end_time": "2019-06-01T00:33:47.059446Z",
     "start_time": "2019-06-01T00:33:46.998456Z"
    }
   },
   "outputs": [
    {
     "data": {
      "text/plain": [
       "20    442\n",
       "5      20\n",
       "10     17\n",
       "1      17\n",
       "Name: epochs, dtype: int64"
      ]
     },
     "execution_count": 33,
     "metadata": {},
     "output_type": "execute_result"
    }
   ],
   "source": [
    "exp_df.epochs.value_counts()"
   ]
  },
  {
   "cell_type": "code",
   "execution_count": 36,
   "metadata": {
    "ExecuteTime": {
     "end_time": "2019-06-01T00:33:50.705510Z",
     "start_time": "2019-06-01T00:33:50.648823Z"
    }
   },
   "outputs": [],
   "source": [
    "bm_df = df.bm_strat"
   ]
  },
  {
   "cell_type": "markdown",
   "metadata": {},
   "source": [
    "### Comparing partial runs to full runs"
   ]
  },
  {
   "cell_type": "code",
   "execution_count": 40,
   "metadata": {
    "ExecuteTime": {
     "end_time": "2019-06-01T00:34:18.323780Z",
     "start_time": "2019-06-01T00:34:18.060679Z"
    },
    "scrolled": true
   },
   "outputs": [
    {
     "name": "stderr",
     "output_type": "stream",
     "text": [
      "'c' argument looks like a single numeric RGB or RGBA sequence, which should be avoided as value-mapping will have precedence in case its length matches with 'x' & 'y'.  Please use a 2-D array with a single row if you really want to specify the same RGB or RGBA value for all points.\n"
     ]
    },
    {
     "data": {
      "image/png": "[encoded data removed]",
      "text/plain": [
       "<Figure size 432x288 with 1 Axes>"
      ]
     },
     "metadata": {
      "image/png": {
       "height": 281,
       "width": 398
      },
      "needs_background": "light"
     },
     "output_type": "display_data"
    }
   ],
   "source": [
    "# compare from fucked LR schedule\n",
    "pl_data = make9_19_data(bm_df.s128, 'accuracy')\n",
    "#ax = pl_data.plot.scatter(x='ep9', y='ep19')"
   ]
  },
  {
   "cell_type": "code",
   "execution_count": 41,
   "metadata": {
    "ExecuteTime": {
     "end_time": "2019-06-01T00:34:18.615940Z",
     "start_time": "2019-06-01T00:34:18.325583Z"
    }
   },
   "outputs": [
    {
     "name": "stderr",
     "output_type": "stream",
     "text": [
      "'c' argument looks like a single numeric RGB or RGBA sequence, which should be avoided as value-mapping will have precedence in case its length matches with 'x' & 'y'.  Please use a 2-D array with a single row if you really want to specify the same RGB or RGBA value for all points.\n"
     ]
    },
    {
     "data": {
      "text/plain": [
       "<matplotlib.axes._subplots.AxesSubplot at 0x1a20ea1860>"
      ]
     },
     "execution_count": 41,
     "metadata": {},
     "output_type": "execute_result"
    },
    {
     "data": {
      "image/png": "[encoded data removed]",
      "text/plain": [
       "<Figure size 432x288 with 1 Axes>"
      ]
     },
     "metadata": {
      "image/png": {
       "height": 281,
       "width": 398
      },
      "needs_background": "light"
     },
     "output_type": "display_data"
    }
   ],
   "source": [
    "make_9_19_data_fairer(df, ref_epoch=10)"
   ]
  },
  {
   "cell_type": "code",
   "execution_count": 42,
   "metadata": {
    "ExecuteTime": {
     "end_time": "2019-06-01T00:34:19.878087Z",
     "start_time": "2019-06-01T00:34:19.603038Z"
    }
   },
   "outputs": [
    {
     "name": "stderr",
     "output_type": "stream",
     "text": [
      "'c' argument looks like a single numeric RGB or RGBA sequence, which should be avoided as value-mapping will have precedence in case its length matches with 'x' & 'y'.  Please use a 2-D array with a single row if you really want to specify the same RGB or RGBA value for all points.\n"
     ]
    },
    {
     "data": {
      "text/plain": [
       "<matplotlib.axes._subplots.AxesSubplot at 0x1a207565c0>"
      ]
     },
     "execution_count": 42,
     "metadata": {},
     "output_type": "execute_result"
    },
    {
     "data": {
      "image/png": "[encoded data removed]",
      "text/plain": [
       "<Figure size 432x288 with 1 Axes>"
      ]
     },
     "metadata": {
      "image/png": {
       "height": 281,
       "width": 398
      },
      "needs_background": "light"
     },
     "output_type": "display_data"
    }
   ],
   "source": [
    "make_9_19_data_fairer(df, ref_epoch=5)"
   ]
  },
  {
   "cell_type": "code",
   "execution_count": 50,
   "metadata": {
    "ExecuteTime": {
     "end_time": "2019-06-01T00:36:20.691552Z",
     "start_time": "2019-06-01T00:36:20.639005Z"
    }
   },
   "outputs": [
    {
     "data": {
      "text/plain": [
       "'/Users/shleifer/fastai-fork/fastai/imagito'"
      ]
     },
     "execution_count": 50,
     "metadata": {},
     "output_type": "execute_result"
    }
   ],
   "source": [
    "pwd"
   ]
  },
  {
   "cell_type": "code",
   "execution_count": 44,
   "metadata": {
    "ExecuteTime": {
     "end_time": "2019-06-01T00:34:33.261173Z",
     "start_time": "2019-06-01T00:34:33.197551Z"
    }
   },
   "outputs": [],
   "source": [
    "best_pars = df.e19.groupby([STRAT] + DEFAULT_CONFIG_COLS)['accuracy'].median().unstack(level=DEFAULT_CONFIG_COLS)"
   ]
  },
  {
   "cell_type": "code",
   "execution_count": 45,
   "metadata": {
    "ExecuteTime": {
     "end_time": "2019-06-01T00:34:33.505425Z",
     "start_time": "2019-06-01T00:34:33.444719Z"
    }
   },
   "outputs": [
    {
     "data": {
      "text/plain": [
       "sampling_strat\n",
       "2Classes-0.1               (128, False, 0.003, 0.5)\n",
       "2Classes-0.5                (128, True, 0.003, 0.5)\n",
       "2Classes-1.0               (128, False, 0.003, 0.5)\n",
       "All Classes-0.1             (128, True, 0.003, 0.5)\n",
       "All Classes-0.25            (256, True, 0.003, 0.5)\n",
       "All Classes-0.5           (128, False, 0.003, 0.25)\n",
       "All Classes-0.7            (128, False, 0.015, 0.5)\n",
       "All Classes-1.0              (256, True, 0.01, 0.5)\n",
       "Half Classes-0.1           (128, False, 0.003, 0.5)\n",
       "Half Classes-0.25           (256, True, 0.003, 0.5)\n",
       "Half Classes-0.5            (256, True, 0.003, 0.5)\n",
       "Half Classes-0.7            (256, True, 0.001, 0.5)\n",
       "Half Classes-1.0             (256, True, 0.05, 0.5)\n",
       "Other Half Classes-1.0      (128, True, 0.003, 0.5)\n",
       "distillation                  (32, False, 0.1, 0.5)\n",
       "hard-0.0-0.1                (128, False, 0.01, 0.5)\n",
       "hard-0.0-0.25              (128, False, 0.003, 0.0)\n",
       "hard-0.0-0.5               (128, False, 0.003, 0.0)\n",
       "hard-0.0-0.75              (128, False, 0.007, 0.5)\n",
       "hard-0.25-1.0             (128, False, 0.003, 0.25)\n",
       "hard-0.5-1.0                 (128, True, 0.01, 0.5)\n",
       "hard-0.75-1.0              (128, False, 0.003, 0.0)\n",
       "hard-0.9-1.0               (128, False, 0.007, 0.5)\n",
       "dtype: object"
      ]
     },
     "execution_count": 45,
     "metadata": {},
     "output_type": "execute_result"
    }
   ],
   "source": [
    "best_pars.idxmax(1)"
   ]
  },
  {
   "cell_type": "code",
   "execution_count": 47,
   "metadata": {
    "ExecuteTime": {
     "end_time": "2019-06-01T00:34:53.128280Z",
     "start_time": "2019-06-01T00:34:53.072276Z"
    }
   },
   "outputs": [],
   "source": [
    "from fastai.imagito.analysis import make_change_scatters"
   ]
  },
  {
   "cell_type": "markdown",
   "metadata": {
    "ExecuteTime": {
     "end_time": "2019-06-01T00:35:30.816304Z",
     "start_time": "2019-06-01T00:35:30.757312Z"
    }
   },
   "source": [
    "### TODO: fix `make_change_scatters`"
   ]
  },
  {
   "cell_type": "code",
   "execution_count": 48,
   "metadata": {
    "ExecuteTime": {
     "end_time": "2019-06-01T00:34:53.832648Z",
     "start_time": "2019-06-01T00:34:53.743129Z"
    }
   },
   "outputs": [
    {
     "ename": "AttributeError",
     "evalue": "'tuple' object has no attribute 'stack'",
     "output_type": "error",
     "traceback": [
      "\u001b[0;31m---------------------------------------------------------------------------\u001b[0m",
      "\u001b[0;31mAttributeError\u001b[0m                            Traceback (most recent call last)",
      "\u001b[0;32m<ipython-input-48-11830221d90c>\u001b[0m in \u001b[0;36m<module>\u001b[0;34m\u001b[0m\n\u001b[0;32m----> 1\u001b[0;31m \u001b[0mfg\u001b[0m\u001b[0;34m,\u001b[0m\u001b[0mtab\u001b[0m \u001b[0;34m=\u001b[0m \u001b[0mmake_change_scatters\u001b[0m\u001b[0;34m(\u001b[0m\u001b[0mdf\u001b[0m\u001b[0;34m)\u001b[0m\u001b[0;34m\u001b[0m\u001b[0;34m\u001b[0m\u001b[0m\n\u001b[0m\u001b[1;32m      2\u001b[0m \u001b[0mfg\u001b[0m\u001b[0;34m;\u001b[0m\u001b[0;34m\u001b[0m\u001b[0;34m\u001b[0m\u001b[0m\n",
      "\u001b[0;32m~/fastai-fork/fastai/imagito/analysis.py\u001b[0m in \u001b[0;36mmake_change_scatters\u001b[0;34m(df)\u001b[0m\n\u001b[1;32m    147\u001b[0m \u001b[0;32mdef\u001b[0m \u001b[0mmake_change_scatters\u001b[0m\u001b[0;34m(\u001b[0m\u001b[0mdf\u001b[0m\u001b[0;34m)\u001b[0m\u001b[0;34m:\u001b[0m\u001b[0;34m\u001b[0m\u001b[0;34m\u001b[0m\u001b[0m\n\u001b[1;32m    148\u001b[0m     \u001b[0mcmb\u001b[0m \u001b[0;34m=\u001b[0m \u001b[0mmake_cmb\u001b[0m\u001b[0;34m(\u001b[0m\u001b[0mdf\u001b[0m\u001b[0;34m)\u001b[0m\u001b[0;34m\u001b[0m\u001b[0;34m\u001b[0m\u001b[0m\n\u001b[0;32m--> 149\u001b[0;31m     \u001b[0mstk\u001b[0m \u001b[0;34m=\u001b[0m \u001b[0mcmb\u001b[0m\u001b[0;34m.\u001b[0m\u001b[0mstack\u001b[0m\u001b[0;34m(\u001b[0m\u001b[0;34m)\u001b[0m\u001b[0;34m.\u001b[0m\u001b[0mreset_index\u001b[0m\u001b[0;34m(\u001b[0m\u001b[0mlevel\u001b[0m\u001b[0;34m=\u001b[0m\u001b[0;36m2\u001b[0m\u001b[0;34m)\u001b[0m\u001b[0;34m.\u001b[0m\u001b[0mrename\u001b[0m\u001b[0;34m(\u001b[0m\u001b[0mcolumns\u001b[0m\u001b[0;34m=\u001b[0m\u001b[0;34m{\u001b[0m\u001b[0;34m'level_2'\u001b[0m\u001b[0;34m:\u001b[0m \u001b[0mCAT_NAME\u001b[0m\u001b[0;34m,\u001b[0m \u001b[0;36m0\u001b[0m\u001b[0;34m:\u001b[0m \u001b[0mX_COL\u001b[0m \u001b[0;34m}\u001b[0m\u001b[0;34m)\u001b[0m\u001b[0;34m\u001b[0m\u001b[0;34m\u001b[0m\u001b[0m\n\u001b[0m\u001b[1;32m    150\u001b[0m     \u001b[0mstk\u001b[0m \u001b[0;34m=\u001b[0m \u001b[0mstk\u001b[0m\u001b[0;34m[\u001b[0m\u001b[0;34m(\u001b[0m\u001b[0mstk\u001b[0m\u001b[0;34m[\u001b[0m\u001b[0mCAT_NAME\u001b[0m\u001b[0;34m]\u001b[0m \u001b[0;34m!=\u001b[0m \u001b[0;34m'Full_Samples'\u001b[0m\u001b[0;34m)\u001b[0m\u001b[0;34m]\u001b[0m\u001b[0;34m\u001b[0m\u001b[0;34m\u001b[0m\u001b[0m\n\u001b[1;32m    151\u001b[0m     \u001b[0mstk\u001b[0m\u001b[0;34m[\u001b[0m\u001b[0mY_COL\u001b[0m\u001b[0;34m]\u001b[0m \u001b[0;34m=\u001b[0m \u001b[0mcmb\u001b[0m\u001b[0;34m[\u001b[0m\u001b[0;34m'Full_Samples'\u001b[0m\u001b[0;34m]\u001b[0m\u001b[0;34m\u001b[0m\u001b[0;34m\u001b[0m\u001b[0m\n",
      "\u001b[0;31mAttributeError\u001b[0m: 'tuple' object has no attribute 'stack'"
     ]
    }
   ],
   "source": [
    "fg,tab = make_change_scatters(df)\n",
    "fg;"
   ]
  }
 ],
 "metadata": {
  "kernelspec": {
   "display_name": "Python 3",
   "language": "python",
   "name": "python3"
  },
  "language_info": {
   "codemirror_mode": {
    "name": "ipython",
    "version": 3
   },
   "file_extension": ".py",
   "mimetype": "text/x-python",
   "name": "python",
   "nbconvert_exporter": "python",
   "pygments_lexer": "ipython3",
   "version": "3.7.3"
  }
 },
 "nbformat": 4,
 "nbformat_minor": 2
}
