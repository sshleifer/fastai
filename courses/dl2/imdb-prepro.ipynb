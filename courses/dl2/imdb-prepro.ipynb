{
 "cells": [
  {
   "cell_type": "markdown",
   "metadata": {},
   "source": [
    "**Important: This notebook will only work with fastai-0.7.x. Do not try to run any fastai-1.x code from this path in the repository because it will load fastai-0.7.x**"
   ]
  },
  {
   "cell_type": "markdown",
   "metadata": {},
   "source": [
    "## IMDb"
   ]
  },
  {
   "cell_type": "markdown",
   "metadata": {},
   "source": [
    "At Fast.ai we have introduced a new module called fastai.text which replaces the torchtext library that was used in our 2018 dl1 course. The fastai.text module also supersedes the fastai.nlp library but retains many of the key functions."
   ]
  },
  {
   "cell_type": "code",
   "execution_count": 7,
   "metadata": {
    "ExecuteTime": {
     "end_time": "2019-03-04T22:23:27.207608Z",
     "start_time": "2019-03-04T22:23:27.184850Z"
    }
   },
   "outputs": [
    {
     "name": "stdout",
     "output_type": "stream",
     "text": [
      "The autoreload extension is already loaded. To reload it, use:\n",
      "  %reload_ext autoreload\n"
     ]
    }
   ],
   "source": [
    "%load_ext autoreload\n",
    "%autoreload 2"
   ]
  },
  {
   "cell_type": "code",
   "execution_count": 8,
   "metadata": {
    "ExecuteTime": {
     "end_time": "2019-03-04T22:23:29.854326Z",
     "start_time": "2019-03-04T22:23:27.209532Z"
    }
   },
   "outputs": [],
   "source": [
    "from fastai.text import *\n",
    "import html"
   ]
  },
  {
   "cell_type": "code",
   "execution_count": 9,
   "metadata": {
    "ExecuteTime": {
     "end_time": "2019-03-04T22:37:30.482350Z",
     "start_time": "2019-03-04T22:37:30.435920Z"
    }
   },
   "outputs": [],
   "source": [
    "from imdb_scripts.create_toks import make_csv_from_dir, copy_subset_of_files, create_toks"
   ]
  },
  {
   "cell_type": "code",
   "execution_count": 10,
   "metadata": {},
   "outputs": [],
   "source": [
    "copy_subset_of_files?"
   ]
  },
  {
   "cell_type": "code",
   "execution_count": 33,
   "metadata": {},
   "outputs": [],
   "source": [
    "def make_small_ds(src_path, dest_path, n_train, n_test=3000):\n",
    "    if dest_path is None:\n",
    "        dest_path = Path(f'/home/paperspace/imdb_{int(n_train/1000)}k_{int(n_test/1000)}k/')\n",
    "        dest_path.mkdir(exist_ok=True)\n",
    "        print(dest_path)\n",
    "    copy_subset_of_files(src_path, dest_path, dirs=('train',), n=n_train)\n",
    "    copy_subset_of_files(src_path, dest_path, dirs=('test',), n=n_test)\n",
    "    prepare_tokens_and_labels(dest_path)"
   ]
  },
  {
   "cell_type": "code",
   "execution_count": 12,
   "metadata": {},
   "outputs": [],
   "source": [
    "BIG_PATH = Path('/home/paperspace/text-augmentation/imdb/')"
   ]
  },
  {
   "cell_type": "code",
   "execution_count": 36,
   "metadata": {},
   "outputs": [],
   "source": [
    "shutil.rmtree(DIR_2K3K)"
   ]
  },
  {
   "cell_type": "code",
   "execution_count": 47,
   "metadata": {
    "ExecuteTime": {
     "end_time": "2019-03-10T07:57:03.871431Z",
     "start_time": "2019-03-10T07:57:03.823175Z"
    },
    "scrolled": true
   },
   "outputs": [
    {
     "ename": "TypeError",
     "evalue": "make_small_ds() got an unexpected keyword argument 'lm_cl'",
     "output_type": "error",
     "traceback": [
      "\u001b[0;31m---------------------------------------------------------------------------\u001b[0m",
      "\u001b[0;31mTypeError\u001b[0m                                 Traceback (most recent call last)",
      "\u001b[0;32m<ipython-input-47-96bd96b9e9ae>\u001b[0m in \u001b[0;36m<module>\u001b[0;34m()\u001b[0m\n\u001b[0;32m----> 1\u001b[0;31m \u001b[0mmake_small_ds\u001b[0m\u001b[0;34m(\u001b[0m\u001b[0mBIG_PATH\u001b[0m\u001b[0;34m,\u001b[0m \u001b[0;32mNone\u001b[0m\u001b[0;34m,\u001b[0m \u001b[0;36m2000\u001b[0m\u001b[0;34m,\u001b[0m \u001b[0mlm_cl\u001b[0m\u001b[0;34m=\u001b[0m\u001b[0;36m10\u001b[0m\u001b[0;34m)\u001b[0m\u001b[0;34m\u001b[0m\u001b[0;34m\u001b[0m\u001b[0m\n\u001b[0m",
      "\u001b[0;31mTypeError\u001b[0m: make_small_ds() got an unexpected keyword argument 'lm_cl'"
     ]
    }
   ],
   "source": [
    "make_small_ds(BIG_PATH, None, 2000)"
   ]
  },
  {
   "cell_type": "code",
   "execution_count": 38,
   "metadata": {},
   "outputs": [],
   "source": [
    "DIR_2K3K = Path('/home/paperspace/imdb_2k_3k')"
   ]
  },
  {
   "cell_type": "code",
   "execution_count": 27,
   "metadata": {},
   "outputs": [],
   "source": [
    "small_data_dir = Path('/home/paperspace/text-augmentation/imdb_small_aug_es')"
   ]
  },
  {
   "cell_type": "code",
   "execution_count": 41,
   "metadata": {},
   "outputs": [
    {
     "name": "stdout",
     "output_type": "stream",
     "text": [
      "\u001b[0m\u001b[01;34mtest\u001b[0m/  \u001b[01;34mtmp\u001b[0m/  \u001b[01;34mtrain\u001b[0m/  train.csv  val.csv\r\n"
     ]
    }
   ],
   "source": [
    "ls {DIR_2K3K}"
   ]
  },
  {
   "cell_type": "code",
   "execution_count": 107,
   "metadata": {},
   "outputs": [
    {
     "data": {
      "text/plain": [
       "PosixPath('/home/paperspace/text-augmentation/imdb_small_aug_bn')"
      ]
     },
     "execution_count": 107,
     "metadata": {},
     "output_type": "execute_result"
    }
   ],
   "source": [
    "#small_data_dir = Path(f'/home/paperspace/text-augmentation/imdb_small_aug_es_bn')\n",
    "shutil.copytree(orig_small_data_dir, small_data_dir)"
   ]
  },
  {
   "cell_type": "code",
   "execution_count": 8,
   "metadata": {
    "ExecuteTime": {
     "end_time": "2019-03-04T23:55:53.104411Z",
     "start_time": "2019-03-04T23:55:53.046305Z"
    }
   },
   "outputs": [],
   "source": [
    "big_data_dir = Path('/home/paperspace/text-augmentation/imdb')"
   ]
  },
  {
   "cell_type": "code",
   "execution_count": 158,
   "metadata": {
    "ExecuteTime": {
     "end_time": "2019-03-04T23:55:54.313057Z",
     "start_time": "2019-03-04T23:55:54.003440Z"
    }
   },
   "outputs": [],
   "source": [
    "!rm -rf {new_small_data_dir}"
   ]
  },
  {
   "cell_type": "code",
   "execution_count": 48,
   "metadata": {
    "ExecuteTime": {
     "end_time": "2019-03-10T07:57:28.588864Z",
     "start_time": "2019-03-10T07:57:28.563429Z"
    }
   },
   "outputs": [],
   "source": [
    "from imdb_scripts.imdb_small_experiment import add_aug_files, prepare_tokens_and_labels, run_experiment\n",
    "\n",
    "from imdb_scripts.train_clas import train_clas"
   ]
  },
  {
   "cell_type": "code",
   "execution_count": 49,
   "metadata": {
    "ExecuteTime": {
     "end_time": "2019-03-10T08:21:17.835324Z",
     "start_time": "2019-03-10T07:57:35.762220Z"
    }
   },
   "outputs": [
    {
     "name": "stdout",
     "output_type": "stream",
     "text": [
      "saved 4000 rows to /home/paperspace/text-augmentation/imdb_small_aug_es/train.csv\n",
      "train_df.shape: (4000, 2)\n",
      "saved 3000 rows to /home/paperspace/text-augmentation/imdb_small_aug_es/val.csv\n",
      "dir_path /home/paperspace/text-augmentation/imdb_small_aug_es chunksize 24000 n_lbls 1 lang en\n",
      "0\n",
      "0\n",
      "dir_path /home/paperspace/text-augmentation/imdb_small_aug_es max_vocab 60000 min_freq 1\n",
      "[('the', 59409), (',', 50987), ('.', 46383), ('and', 27207), ('a', 26998), ('of', 26317), ('to', 21710), ('is', 19235), ('in', 16601), ('it', 15722), ('i', 14559), ('that', 13764), ('this', 12034), ('\"', 11505), (\"'s\", 8629), ('was', 8411), ('not', 8315), ('movie', 7839), ('with', 7376), ('for', 7151), ('but', 6991), ('as', 6987), ('-', 6130), (')', 6102), ('you', 6001)]\n",
      "22799\n",
      "dir_path /home/paperspace/text-augmentation/imdb_small_aug_es; wt103_path /home/paperspace/fastai-fork/courses/dl2/wt103; cuda_id 0; pretrain_id wt103; cl 10; bs 64; backwards False dropmult 1.0; lr 0.004; preload True; bpe False;startat 0; use_clr True; notrain False; joined False early stopping True\n",
      "Loading /home/paperspace/text-augmentation/imdb_small_aug_es/tmp/trn_ids.npy and /home/paperspace/text-augmentation/imdb_small_aug_es/tmp/val_ids.npy\n",
      "data.shape\" torch.Size([18006, 64])\n",
      "data.shape\" torch.Size([12810, 64])\n",
      "Loading pretrained weights...\n"
     ]
    },
    {
     "data": {
      "application/vnd.jupyter.widget-view+json": {
       "model_id": "1fe2a16a776f4ce1970b3930ada7f33e",
       "version_major": 2,
       "version_minor": 0
      },
      "text/plain": [
       "HBox(children=(IntProgress(value=0, description='Epoch', max=1, style=ProgressStyle(description_width='initial…"
      ]
     },
     "metadata": {},
     "output_type": "display_data"
    },
    {
     "name": "stdout",
     "output_type": "stream",
     "text": [
      "epoch      trn_loss   val_loss   accuracy                    \n",
      "    0      4.844876   4.581837   0.235645  \n",
      "\n",
      "Using early stopping...\n"
     ]
    },
    {
     "data": {
      "application/vnd.jupyter.widget-view+json": {
       "model_id": "af28ebd41a274c439eedb0880328d8fd",
       "version_major": 2,
       "version_minor": 0
      },
      "text/plain": [
       "HBox(children=(IntProgress(value=0, description='Epoch', max=10, style=ProgressStyle(description_width='initia…"
      ]
     },
     "metadata": {},
     "output_type": "display_data"
    },
    {
     "name": "stdout",
     "output_type": "stream",
     "text": [
      "epoch      trn_loss   val_loss   accuracy                    \n",
      "    0      4.558788   4.387728   0.250294  \n",
      "    1      4.276923   4.34705    0.254669                    \n",
      "    2      4.036939   4.347288   0.254614                    \n",
      "    3      3.860093   4.354404   0.256019                    \n",
      "    4      3.738311   4.34394    0.256963                    \n",
      "    5      3.575727   4.394893   0.254318                    \n",
      "    6      3.469407   4.409024   0.254298                    \n",
      "    7      3.414792   4.410255   0.254391                    \n",
      "    8      3.354659   4.427851   0.253772                    \n",
      "    9      3.333665   4.433031   0.2544                      \n",
      "\n",
      "Loading best model from fwd_lm\n",
      "saving to /home/paperspace/text-augmentation/imdb_small_aug_es/models/fwd_lm.h5 and /home/paperspace/text-augmentation/imdb_small_aug_es/models/fwd_lm_enc.h5\n",
      "dir_path /home/paperspace/text-augmentation/imdb_small_aug_es; cuda_id 0; lm_id ; clas_id None; bs 64; cl 20; backwards False; dropmult 1.0 unfreeze True startat 0; bpe False; use_clr True;use_regular_schedule False; use_discriminative True; last False;chain_thaw False; from_scratch False; train_file_id , do_vat:False\n",
      "Trn lbls shape: (4000,)\n",
      "Number of labels: 2\n"
     ]
    },
    {
     "data": {
      "application/vnd.jupyter.widget-view+json": {
       "model_id": "2f4adc1115f24a7b9a498cc9e2a7db02",
       "version_major": 2,
       "version_minor": 0
      },
      "text/plain": [
       "HBox(children=(IntProgress(value=0, description='Epoch', max=1, style=ProgressStyle(description_width='initial…"
      ]
     },
     "metadata": {},
     "output_type": "display_data"
    },
    {
     "name": "stdout",
     "output_type": "stream",
     "text": [
      "epoch      trn_loss   val_loss   accuracy                    \n",
      "    0      0.467491   0.388649   0.827     \n",
      "\n"
     ]
    },
    {
     "data": {
      "application/vnd.jupyter.widget-view+json": {
       "model_id": "8493380cbd9d40b08ce606fcb30b5ad4",
       "version_major": 2,
       "version_minor": 0
      },
      "text/plain": [
       "HBox(children=(IntProgress(value=0, description='Epoch', max=1, style=ProgressStyle(description_width='initial…"
      ]
     },
     "metadata": {},
     "output_type": "display_data"
    },
    {
     "name": "stdout",
     "output_type": "stream",
     "text": [
      "epoch      trn_loss   val_loss   accuracy                    \n",
      "    0      0.436525   0.344293   0.852     \n",
      "\n"
     ]
    },
    {
     "data": {
      "application/vnd.jupyter.widget-view+json": {
       "model_id": "d6761744b7cb48e3a7fc10fc269fa4dc",
       "version_major": 2,
       "version_minor": 0
      },
      "text/plain": [
       "HBox(children=(IntProgress(value=0, description='Epoch', max=20, style=ProgressStyle(description_width='initia…"
      ]
     },
     "metadata": {},
     "output_type": "display_data"
    },
    {
     "name": "stdout",
     "output_type": "stream",
     "text": [
      "epoch      trn_loss   val_loss   accuracy                    \n",
      "    0      0.357024   0.326323   0.860333  \n",
      "    1      0.340213   0.324579   0.858                       \n",
      "    2      0.285881   0.373158   0.851333                    \n",
      "    3      0.2471     0.277637   0.887667                    \n",
      "    4      0.208272   0.372042   0.853                       \n",
      "    5      0.164465   0.306198   0.888333                    \n",
      "    6      0.14121    0.340145   0.879                       \n",
      "    7      0.106195   0.373499   0.884667                    \n",
      "    8      0.091414   0.342759   0.89                         \n",
      "    9      0.076336   0.454142   0.881333                     \n",
      "    10     0.066168   0.371734   0.894667                     \n",
      "    11     0.063442   0.371685   0.898333                     \n",
      "    15     0.037752   0.447909   0.892667                     \n",
      "    16     0.020549   0.548269   0.888667                     \n",
      "    17     0.023278   0.533841   0.892667                     \n",
      "    18     0.029645   0.469321   0.894                        \n",
      "    19     0.038843   0.480888   0.897                        \n",
      "\n"
     ]
    }
   ],
   "source": [
    "es_metrics = run_experiment(\n",
    "    'es', orig_small_data_dir=DIR_2K3K,\n",
    "                            lm_cl=10)"
   ]
  },
  {
   "cell_type": "code",
   "execution_count": 50,
   "metadata": {
    "ExecuteTime": {
     "end_time": "2019-03-10T08:33:22.763907Z",
     "start_time": "2019-03-10T08:21:17.836898Z"
    }
   },
   "outputs": [
    {
     "name": "stdout",
     "output_type": "stream",
     "text": [
      "saved 2000 rows to /home/paperspace/text-augmentation/imdb_small_aug_bn/train.csv\n",
      "train_df.shape: (2000, 2)\n",
      "saved 3000 rows to /home/paperspace/text-augmentation/imdb_small_aug_bn/val.csv\n",
      "dir_path /home/paperspace/text-augmentation/imdb_small_aug_bn chunksize 24000 n_lbls 1 lang en\n",
      "0\n",
      "0\n",
      "dir_path /home/paperspace/text-augmentation/imdb_small_aug_bn max_vocab 60000 min_freq 1\n",
      "[('the', 27704), (',', 23314), ('.', 22775), ('and', 13285), ('a', 13234), ('of', 11933), ('to', 11018), ('is', 9059), ('in', 7743), ('it', 7704), ('i', 7089), ('this', 6081), ('that', 5985), ('\"', 5678), (\"'s\", 5199), ('-', 4459), ('was', 4235), ('\\n\\n', 4106), ('as', 3798), ('for', 3619), ('with', 3592), ('movie', 3500), ('but', 3458), ('film', 3071), (')', 2984)]\n",
      "14815\n",
      "dir_path /home/paperspace/text-augmentation/imdb_small_aug_bn; wt103_path /home/paperspace/fastai-fork/courses/dl2/wt103; cuda_id 0; pretrain_id wt103; cl 4; bs 64; backwards False dropmult 1.0; lr 0.004; preload True; bpe False;startat 0; use_clr True; notrain False; joined False early stopping True\n",
      "Loading /home/paperspace/text-augmentation/imdb_small_aug_bn/tmp/trn_ids.npy and /home/paperspace/text-augmentation/imdb_small_aug_bn/tmp/val_ids.npy\n",
      "data.shape\" torch.Size([8975, 64])\n",
      "data.shape\" torch.Size([12810, 64])\n",
      "Loading pretrained weights...\n"
     ]
    },
    {
     "data": {
      "application/vnd.jupyter.widget-view+json": {
       "model_id": "0aae48cedf9d4ae8aed94fd65a0ac694",
       "version_major": 2,
       "version_minor": 0
      },
      "text/plain": [
       "HBox(children=(IntProgress(value=0, description='Epoch', max=1, style=ProgressStyle(description_width='initial…"
      ]
     },
     "metadata": {},
     "output_type": "display_data"
    },
    {
     "name": "stdout",
     "output_type": "stream",
     "text": [
      "epoch      trn_loss   val_loss   accuracy                    \n",
      "    0      5.064655   4.599407   0.234193  \n",
      "\n",
      "Using early stopping...\n"
     ]
    },
    {
     "data": {
      "application/vnd.jupyter.widget-view+json": {
       "model_id": "b4d1c8b7ea1d46c2a08f6063a4d7205e",
       "version_major": 2,
       "version_minor": 0
      },
      "text/plain": [
       "HBox(children=(IntProgress(value=0, description='Epoch', max=4, style=ProgressStyle(description_width='initial…"
      ]
     },
     "metadata": {},
     "output_type": "display_data"
    },
    {
     "name": "stdout",
     "output_type": "stream",
     "text": [
      "epoch      trn_loss   val_loss   accuracy                    \n",
      "    0      4.733457   4.27383    0.255878  \n",
      "    1      4.488461   4.203975   0.262031                    \n",
      "    2      4.311174   4.174094   0.264939                    \n",
      "    3      4.204409   4.163932   0.265865                    \n",
      "\n",
      "Loading best model from fwd_lm\n",
      "saving to /home/paperspace/text-augmentation/imdb_small_aug_bn/models/fwd_lm.h5 and /home/paperspace/text-augmentation/imdb_small_aug_bn/models/fwd_lm_enc.h5\n",
      "dir_path /home/paperspace/text-augmentation/imdb_small_aug_bn; cuda_id 0; lm_id ; clas_id None; bs 64; cl 20; backwards False; dropmult 1.0 unfreeze True startat 0; bpe False; use_clr True;use_regular_schedule False; use_discriminative True; last False;chain_thaw False; from_scratch False; train_file_id , do_vat:False\n",
      "Trn lbls shape: (2000,)\n",
      "Number of labels: 2\n"
     ]
    },
    {
     "data": {
      "application/vnd.jupyter.widget-view+json": {
       "model_id": "f3a7f1a70b60452281426c286f5fed88",
       "version_major": 2,
       "version_minor": 0
      },
      "text/plain": [
       "HBox(children=(IntProgress(value=0, description='Epoch', max=1, style=ProgressStyle(description_width='initial…"
      ]
     },
     "metadata": {},
     "output_type": "display_data"
    },
    {
     "name": "stdout",
     "output_type": "stream",
     "text": [
      "epoch      trn_loss   val_loss   accuracy                  \n",
      "    0      0.582964   0.46167    0.785333  \n",
      "\n"
     ]
    },
    {
     "data": {
      "application/vnd.jupyter.widget-view+json": {
       "model_id": "a5a72f9482a242c089a95fb290fd5f6e",
       "version_major": 2,
       "version_minor": 0
      },
      "text/plain": [
       "HBox(children=(IntProgress(value=0, description='Epoch', max=1, style=ProgressStyle(description_width='initial…"
      ]
     },
     "metadata": {},
     "output_type": "display_data"
    },
    {
     "name": "stdout",
     "output_type": "stream",
     "text": [
      "epoch      trn_loss   val_loss   accuracy                  \n",
      "    0      0.531464   0.376898   0.836     \n",
      "\n"
     ]
    },
    {
     "data": {
      "application/vnd.jupyter.widget-view+json": {
       "model_id": "feaec664271f4a36bb0de37ed424517d",
       "version_major": 2,
       "version_minor": 0
      },
      "text/plain": [
       "HBox(children=(IntProgress(value=0, description='Epoch', max=20, style=ProgressStyle(description_width='initia…"
      ]
     },
     "metadata": {},
     "output_type": "display_data"
    },
    {
     "name": "stdout",
     "output_type": "stream",
     "text": [
      "epoch      trn_loss   val_loss   accuracy                  \n",
      "    0      0.418113   0.324509   0.867     \n",
      "    1      0.41691    0.31709    0.866667                  \n",
      "    2      0.377684   0.298658   0.876                     \n",
      "    3      0.329733   0.337897   0.856333                  \n",
      "    4      0.299891   0.372488   0.846333                  \n",
      "    5      0.271317   0.287969   0.875667                  \n",
      "    6      0.250154   0.273527   0.886333                  \n",
      "    7      0.221816   0.308075   0.882                     \n",
      "    8      0.192301   0.292706   0.892667                  \n",
      "    9      0.189395   0.308191   0.874                     \n",
      "    10     0.161314   0.329316   0.896333                  \n",
      "    11     0.13846    0.382666   0.885667                  \n",
      "    12     0.135434   0.334398   0.887                     \n",
      "    13     0.110363   0.367688   0.895                     \n",
      "    14     0.112268   0.369857   0.888                     \n",
      "    15     0.084757   0.404856   0.889                      \n",
      "    16     0.090026   0.371374   0.893333                   \n",
      "    17     0.076541   0.367973   0.897                      \n",
      "    18     0.06964    0.393832   0.892333                   \n",
      "    19     0.075878   0.388883   0.899                      \n",
      "\n"
     ]
    }
   ],
   "source": [
    "baseline_metrics =  run_experiment('bn', orig_small_data_dir=DIR_2K3K,\n",
    "                                   n_to_copy=0)"
   ]
  },
  {
   "cell_type": "code",
   "execution_count": 59,
   "metadata": {
    "ExecuteTime": {
     "end_time": "2019-03-10T08:34:06.557238Z",
     "start_time": "2019-03-10T08:34:06.525883Z"
    }
   },
   "outputs": [
    {
     "data": {
      "text/plain": [
       "0.8989999998410543"
      ]
     },
     "execution_count": 59,
     "metadata": {},
     "output_type": "execute_result"
    }
   ],
   "source": [
    "pd.Series(baseline_metrics).max()"
   ]
  },
  {
   "cell_type": "code",
   "execution_count": 60,
   "metadata": {
    "ExecuteTime": {
     "end_time": "2019-03-10T08:34:08.737623Z",
     "start_time": "2019-03-10T08:34:08.710535Z"
    }
   },
   "outputs": [
    {
     "data": {
      "text/plain": [
       "0.8983333334922791"
      ]
     },
     "execution_count": 60,
     "metadata": {},
     "output_type": "execute_result"
    }
   ],
   "source": [
    "pd.Series(es_metrics).max()"
   ]
  },
  {
   "cell_type": "code",
   "execution_count": 94,
   "metadata": {
    "ExecuteTime": {
     "end_time": "2019-03-10T09:12:21.399503Z",
     "start_time": "2019-03-10T09:12:21.375748Z"
    }
   },
   "outputs": [],
   "source": [
    "from imdb_scripts.imdb_small_experiment import run_n_experiment, make_small_ds\n",
    "#run_n_experiment(BIG_PATHG_DIR, '')"
   ]
  },
  {
   "cell_type": "code",
   "execution_count": 63,
   "metadata": {
    "ExecuteTime": {
     "end_time": "2019-03-10T08:39:37.136043Z",
     "start_time": "2019-03-10T08:39:37.110754Z"
    }
   },
   "outputs": [],
   "source": [
    "from collections import defaultdict"
   ]
  },
  {
   "cell_type": "code",
   "execution_count": 74,
   "metadata": {
    "ExecuteTime": {
     "end_time": "2019-03-10T08:51:32.078681Z",
     "start_time": "2019-03-10T08:51:31.877495Z"
    }
   },
   "outputs": [],
   "source": [
    "shutil.rmtree('/home/paperspace/text-augmentation/imdb_small_aug_es/')"
   ]
  },
  {
   "cell_type": "code",
   "execution_count": 78,
   "metadata": {
    "ExecuteTime": {
     "end_time": "2019-03-10T08:53:21.579664Z",
     "start_time": "2019-03-10T08:53:21.370991Z"
    }
   },
   "outputs": [
    {
     "name": "stdout",
     "output_type": "stream",
     "text": [
      "    410     410    5303\r\n"
     ]
    }
   ],
   "source": [
    "ls /home/paperspace/text-augmentation/imdb_small_aug_es/train/pos | wc"
   ]
  },
  {
   "cell_type": "code",
   "execution_count": null,
   "metadata": {
    "ExecuteTime": {
     "end_time": "2019-03-10T09:11:05.626799Z",
     "start_time": "2019-03-10T09:10:55.576Z"
    }
   },
   "outputs": [],
   "source": [
    "\n",
    "!wc -l /home/paperspace/imdb_0k_3k/train.csv"
   ]
  },
  {
   "cell_type": "code",
   "execution_count": null,
   "metadata": {},
   "outputs": [],
   "source": []
  },
  {
   "cell_type": "code",
   "execution_count": 97,
   "metadata": {
    "ExecuteTime": {
     "end_time": "2019-03-10T09:13:08.465093Z",
     "start_time": "2019-03-10T09:13:08.441359Z"
    }
   },
   "outputs": [],
   "source": [
    "import pickle\n",
    "def pickle_save(obj, path):\n",
    "    with open(path, 'wb') as f:\n",
    "        pickle.dump(obj, f)"
   ]
  },
  {
   "cell_type": "code",
   "execution_count": null,
   "metadata": {
    "ExecuteTime": {
     "start_time": "2019-03-10T09:14:23.593Z"
    }
   },
   "outputs": [
    {
     "data": {
      "application/vnd.jupyter.widget-view+json": {
       "model_id": "f6e940a72de24f00a908405b3e450c1b",
       "version_major": 2,
       "version_minor": 0
      },
      "text/plain": [
       "HBox(children=(IntProgress(value=0, max=7), HTML(value='')))"
      ]
     },
     "metadata": {},
     "output_type": "display_data"
    },
    {
     "name": "stdout",
     "output_type": "stream",
     "text": [
      "/home/paperspace/imdb_0k_3k\n",
      "saved 100 rows to /home/paperspace/imdb_0k_3k/train.csv\n",
      "train_df.shape: (100, 2)\n",
      "saved 3000 rows to /home/paperspace/imdb_0k_3k/val.csv\n",
      "dir_path /home/paperspace/imdb_0k_3k chunksize 24000 n_lbls 1 lang en\n",
      "0\n",
      "0\n",
      "dir_path /home/paperspace/imdb_0k_3k max_vocab 60000 min_freq 1\n",
      "[('the', 1296), ('.', 1125), (',', 1005), ('and', 658), ('a', 634), ('of', 550), ('to', 515), ('is', 452), ('in', 384), ('it', 376), ('i', 345), ('that', 299), ('this', 281), ('\"', 280), (\"'s\", 250), ('\\n\\n', 216), ('for', 189), ('as', 185), ('movie', 185), ('was', 185), ('-', 183), ('with', 172), ('but', 157), ('film', 144), (')', 140)]\n",
      "1905\n",
      "saved 200 rows to /home/paperspace/text-augmentation/imdb_small_aug_es/train.csv\n",
      "train_df.shape: (200, 2)\n",
      "saved 3000 rows to /home/paperspace/text-augmentation/imdb_small_aug_es/val.csv\n",
      "dir_path /home/paperspace/text-augmentation/imdb_small_aug_es chunksize 24000 n_lbls 1 lang en\n",
      "0\n",
      "0\n",
      "dir_path /home/paperspace/text-augmentation/imdb_small_aug_es max_vocab 60000 min_freq 1\n",
      "[('the', 2782), ('.', 2278), (',', 2226), ('and', 1340), ('a', 1312), ('of', 1240), ('to', 1045), ('is', 963), ('in', 808), ('it', 770), ('i', 700), ('that', 676), ('\"', 574), ('this', 558), ('movie', 411), (\"'s\", 386), ('for', 367), ('was', 361), ('not', 355), ('with', 352), ('as', 350), ('but', 316), ('\\n', 299), (')', 288), ('are', 285)]\n",
      "3985\n",
      "dir_path /home/paperspace/text-augmentation/imdb_small_aug_es; wt103_path /home/paperspace/fastai-fork/courses/dl2/wt103; cuda_id 0; pretrain_id wt103; cl 10; bs 64; backwards False dropmult 1.0; lr 0.004; preload True; bpe False;startat 0; use_clr True; notrain False; joined False early stopping True\n",
      "Loading /home/paperspace/text-augmentation/imdb_small_aug_es/tmp/trn_ids.npy and /home/paperspace/text-augmentation/imdb_small_aug_es/tmp/val_ids.npy\n",
      "data.shape\" torch.Size([850, 64])\n",
      "data.shape\" torch.Size([12576, 64])\n",
      "Loading pretrained weights...\n"
     ]
    },
    {
     "data": {
      "application/vnd.jupyter.widget-view+json": {
       "model_id": "2426f070ea9143db98672b98e73a94b5",
       "version_major": 2,
       "version_minor": 0
      },
      "text/plain": [
       "HBox(children=(IntProgress(value=0, description='Epoch', max=1, style=ProgressStyle(description_width='initial…"
      ]
     },
     "metadata": {},
     "output_type": "display_data"
    },
    {
     "name": "stdout",
     "output_type": "stream",
     "text": [
      "epoch      trn_loss   val_loss   accuracy                    \n",
      "    0      4.869217   4.737632   0.198868  \n",
      "Using early stopping...\n"
     ]
    },
    {
     "data": {
      "application/vnd.jupyter.widget-view+json": {
       "model_id": "f885454148c5409f992f2b6f41f341e7",
       "version_major": 2,
       "version_minor": 0
      },
      "text/plain": [
       "HBox(children=(IntProgress(value=0, description='Epoch', max=10, style=ProgressStyle(description_width='initia…"
      ]
     },
     "metadata": {},
     "output_type": "display_data"
    },
    {
     "name": "stdout",
     "output_type": "stream",
     "text": [
      "epoch      trn_loss   val_loss   accuracy                    \n",
      "    0      4.64495    4.14865    0.240287  \n",
      "    1      4.378223   4.083905   0.238665                    \n",
      "    2      4.138502   4.074823   0.239872                    \n",
      "    3      3.902964   4.111098   0.237327                    \n",
      "    4      3.694092   4.161571   0.233853                    \n",
      "    5      3.498469   4.218646   0.229646                    \n",
      "    6      3.318608   4.247988   0.230994                    \n",
      "    7      3.161627   4.288763   0.226317                    \n",
      "Stopping - no improvement after 6 epochs                     \n",
      "    8      3.026991   4.303813   0.224657  \n",
      "Loading best model from fwd_lm\n",
      "saving to /home/paperspace/text-augmentation/imdb_small_aug_es/models/fwd_lm.h5 and /home/paperspace/text-augmentation/imdb_small_aug_es/models/fwd_lm_enc.h5\n",
      "dir_path /home/paperspace/text-augmentation/imdb_small_aug_es; cuda_id 0; lm_id ; clas_id None; bs 64; cl 20; backwards False; dropmult 1.0 unfreeze True startat 0; bpe False; use_clr True;use_regular_schedule False; use_discriminative True; last False;chain_thaw False; from_scratch False; train_file_id , do_vat:False\n",
      "Trn lbls shape: (200,)\n",
      "Number of labels: 2\n"
     ]
    },
    {
     "data": {
      "application/vnd.jupyter.widget-view+json": {
       "model_id": "6bb78e4d4d754128b7210b55d0ac9b88",
       "version_major": 2,
       "version_minor": 0
      },
      "text/plain": [
       "HBox(children=(IntProgress(value=0, description='Epoch', max=1, style=ProgressStyle(description_width='initial…"
      ]
     },
     "metadata": {},
     "output_type": "display_data"
    },
    {
     "name": "stdout",
     "output_type": "stream",
     "text": [
      "epoch      trn_loss   val_loss   accuracy                  \n",
      "    0      0.763389   0.685924   0.560667  \n"
     ]
    },
    {
     "data": {
      "application/vnd.jupyter.widget-view+json": {
       "model_id": "9590e99ea14948e2bc4e48f2358ddbcc",
       "version_major": 2,
       "version_minor": 0
      },
      "text/plain": [
       "HBox(children=(IntProgress(value=0, description='Epoch', max=1, style=ProgressStyle(description_width='initial…"
      ]
     },
     "metadata": {},
     "output_type": "display_data"
    },
    {
     "name": "stdout",
     "output_type": "stream",
     "text": [
      "epoch      trn_loss   val_loss   accuracy                  \n",
      "    0      0.657673   0.65057    0.658     \n"
     ]
    },
    {
     "data": {
      "application/vnd.jupyter.widget-view+json": {
       "model_id": "4d46d908ec9a4b3fb9d9d2d4f177f3a4",
       "version_major": 2,
       "version_minor": 0
      },
      "text/plain": [
       "HBox(children=(IntProgress(value=0, description='Epoch', max=20, style=ProgressStyle(description_width='initia…"
      ]
     },
     "metadata": {},
     "output_type": "display_data"
    },
    {
     "name": "stdout",
     "output_type": "stream",
     "text": [
      "epoch      trn_loss   val_loss   accuracy                  \n",
      "    0      0.530653   0.634079   0.608667  \n",
      "    1      0.477736   0.552724   0.712333                  \n",
      "    2      0.469538   0.599571   0.717                     \n",
      "    3      0.427708   0.535181   0.762                     \n",
      "    4      0.394313   0.56551    0.759333                  \n",
      "    5      0.371179   0.582453   0.769333                  \n",
      "    6      0.352325   0.649729   0.768                     \n",
      "    7      0.356694   0.773968   0.722                     \n",
      "    8      0.324168   0.598036   0.758                     \n",
      "    9      0.301996   0.594935   0.777333                  \n",
      "    10     0.289982   0.791118   0.741333                  \n",
      "    11     0.293761   0.629862   0.780333                  \n",
      "    12     0.278631   0.690835   0.772                     \n",
      "    13     0.277239   0.659425   0.769667                  \n",
      "    14     0.26272    0.921698   0.723333                  \n",
      "    15     0.255535   0.710608   0.757                     \n",
      "    16     0.247579   0.613453   0.773667                  \n",
      "    17     0.248873   0.627925   0.781                     \n",
      "    18     0.232611   0.635056   0.787667                  \n",
      "    19     0.226643   0.621828   0.789667                  \n",
      "saved 100 rows to /home/paperspace/text-augmentation/imdb_small_aug_es/train.csv\n",
      "train_df.shape: (100, 2)\n",
      "saved 3000 rows to /home/paperspace/text-augmentation/imdb_small_aug_es/val.csv\n",
      "dir_path /home/paperspace/text-augmentation/imdb_small_aug_es chunksize 24000 n_lbls 1 lang en\n",
      "0\n",
      "0\n",
      "dir_path /home/paperspace/text-augmentation/imdb_small_aug_es max_vocab 60000 min_freq 1\n",
      "[('the', 1296), ('.', 1125), (',', 1005), ('and', 658), ('a', 634), ('of', 550), ('to', 515), ('is', 452), ('in', 384), ('it', 376), ('i', 345), ('that', 299), ('this', 281), ('\"', 280), (\"'s\", 250), ('\\n\\n', 216), ('for', 189), ('movie', 185), ('as', 185), ('was', 185), ('-', 183), ('with', 172), ('but', 157), ('film', 144), (')', 140)]\n",
      "1905\n",
      "dir_path /home/paperspace/text-augmentation/imdb_small_aug_es; wt103_path /home/paperspace/fastai-fork/courses/dl2/wt103; cuda_id 0; pretrain_id wt103; cl 4; bs 64; backwards False dropmult 1.0; lr 0.004; preload True; bpe False;startat 0; use_clr True; notrain False; joined False early stopping True\n",
      "Loading /home/paperspace/text-augmentation/imdb_small_aug_es/tmp/trn_ids.npy and /home/paperspace/text-augmentation/imdb_small_aug_es/tmp/val_ids.npy\n",
      "data.shape\" torch.Size([423, 64])\n",
      "data.shape\" torch.Size([12576, 64])\n",
      "Loading pretrained weights...\n"
     ]
    },
    {
     "data": {
      "application/vnd.jupyter.widget-view+json": {
       "model_id": "824034c5fe0b412a88e1dcb585b1a60f",
       "version_major": 2,
       "version_minor": 0
      },
      "text/plain": [
       "HBox(children=(IntProgress(value=0, description='Epoch', max=1, style=ProgressStyle(description_width='initial…"
      ]
     },
     "metadata": {},
     "output_type": "display_data"
    },
    {
     "name": "stdout",
     "output_type": "stream",
     "text": [
      "epoch      trn_loss   val_loss   accuracy                    \n",
      "    0      5.017854   4.605509   0.193383  \n",
      "Using early stopping...\n"
     ]
    },
    {
     "data": {
      "application/vnd.jupyter.widget-view+json": {
       "model_id": "37a20237c5f946e0b4b3c470092f1b6c",
       "version_major": 2,
       "version_minor": 0
      },
      "text/plain": [
       "HBox(children=(IntProgress(value=0, description='Epoch', max=4, style=ProgressStyle(description_width='initial…"
      ]
     },
     "metadata": {},
     "output_type": "display_data"
    },
    {
     "name": "stdout",
     "output_type": "stream",
     "text": [
      "epoch      trn_loss   val_loss   accuracy                    \n",
      "    0      4.813611   3.958419   0.247423  \n",
      "    1      4.526047   3.7355     0.276159                    \n",
      "    2      4.333195   3.731155   0.26891                     \n",
      "    3      4.203572   3.673431   0.280474                    \n",
      "Loading best model from fwd_lm\n",
      "saving to /home/paperspace/text-augmentation/imdb_small_aug_es/models/fwd_lm.h5 and /home/paperspace/text-augmentation/imdb_small_aug_es/models/fwd_lm_enc.h5\n",
      "dir_path /home/paperspace/text-augmentation/imdb_small_aug_es; cuda_id 0; lm_id ; clas_id None; bs 64; cl 20; backwards False; dropmult 1.0 unfreeze True startat 0; bpe False; use_clr True;use_regular_schedule False; use_discriminative True; last False;chain_thaw False; from_scratch False; train_file_id , do_vat:False\n",
      "Trn lbls shape: (100,)\n",
      "Number of labels: 2\n"
     ]
    },
    {
     "data": {
      "application/vnd.jupyter.widget-view+json": {
       "model_id": "26619eebd18c4245b49a381039e10769",
       "version_major": 2,
       "version_minor": 0
      },
      "text/plain": [
       "HBox(children=(IntProgress(value=0, description='Epoch', max=1, style=ProgressStyle(description_width='initial…"
      ]
     },
     "metadata": {},
     "output_type": "display_data"
    },
    {
     "name": "stdout",
     "output_type": "stream",
     "text": [
      "epoch      trn_loss   val_loss   accuracy                  \n",
      "    0      0.744288   0.689268   0.628     \n"
     ]
    },
    {
     "data": {
      "application/vnd.jupyter.widget-view+json": {
       "model_id": "961b5811eb71477999c90f51d6bf1a1d",
       "version_major": 2,
       "version_minor": 0
      },
      "text/plain": [
       "HBox(children=(IntProgress(value=0, description='Epoch', max=1, style=ProgressStyle(description_width='initial…"
      ]
     },
     "metadata": {},
     "output_type": "display_data"
    },
    {
     "name": "stdout",
     "output_type": "stream",
     "text": [
      "epoch      trn_loss   val_loss   accuracy                  \n",
      "    0      0.700312   0.680892   0.524333  \n"
     ]
    },
    {
     "data": {
      "application/vnd.jupyter.widget-view+json": {
       "model_id": "a8ca95007bc746bcbc084aa77e4aa409",
       "version_major": 2,
       "version_minor": 0
      },
      "text/plain": [
       "HBox(children=(IntProgress(value=0, description='Epoch', max=20, style=ProgressStyle(description_width='initia…"
      ]
     },
     "metadata": {},
     "output_type": "display_data"
    },
    {
     "name": "stdout",
     "output_type": "stream",
     "text": [
      "epoch      trn_loss   val_loss   accuracy                  \n",
      "    0      0.535436   0.670899   0.542667  \n",
      "    1      0.518795   0.645643   0.596667                  \n",
      "    2      0.475094   0.62546    0.629667                  \n",
      "    3      0.507819   0.607563   0.677                     \n",
      "    4      0.472747   0.563124   0.716333                  \n",
      "    5      0.459714   0.492553   0.764667                  \n",
      "    6      0.461382   0.497327   0.761333                  \n",
      "    7      0.444128   0.549422   0.729667                  \n",
      "    8      0.416599   0.557275   0.738333                  \n",
      "    9      0.422288   0.555012   0.755333                  \n",
      "    10     0.404516   0.549859   0.756333                  \n",
      "    11     0.377746   0.538082   0.768                     \n",
      "    12     0.353506   0.573424   0.769                     \n",
      "    13     0.330747   0.689007   0.727                     \n",
      "    14     0.317936   0.606116   0.755                     \n",
      "    15     0.298734   0.643214   0.752                     \n",
      "    16     0.280769   0.670179   0.742333                  \n",
      "    17     0.262957   0.666102   0.748333                  \n",
      "    18     0.243562   0.658228   0.755333                  \n",
      "    19     0.232082   0.66102    0.756                     \n",
      "/home/paperspace/imdb_0k_3k\n",
      "saved 100 rows to /home/paperspace/imdb_0k_3k/train.csv\n",
      "train_df.shape: (100, 2)\n",
      "saved 3000 rows to /home/paperspace/imdb_0k_3k/val.csv\n",
      "dir_path /home/paperspace/imdb_0k_3k chunksize 24000 n_lbls 1 lang en\n",
      "0\n",
      "0\n",
      "dir_path /home/paperspace/imdb_0k_3k max_vocab 60000 min_freq 1\n",
      "[('the', 1254), ('.', 1161), (',', 1049), ('a', 669), ('and', 649), ('to', 557), ('of', 553), ('is', 417), ('it', 383), ('i', 349), ('in', 332), ('this', 320), (\"'s\", 265), ('that', 226), ('\\n\\n', 199), ('as', 194), ('movie', 188), ('\"', 182), ('-', 176), ('with', 172), ('was', 161), ('film', 159), ('for', 154), ('not', 150), ('you', 142)]\n",
      "1907\n",
      "saved 200 rows to /home/paperspace/text-augmentation/imdb_small_aug_es/train.csv\n",
      "train_df.shape: (200, 2)\n",
      "saved 3000 rows to /home/paperspace/text-augmentation/imdb_small_aug_es/val.csv\n",
      "dir_path /home/paperspace/text-augmentation/imdb_small_aug_es chunksize 24000 n_lbls 1 lang en\n",
      "0\n",
      "0\n",
      "dir_path /home/paperspace/text-augmentation/imdb_small_aug_es max_vocab 60000 min_freq 1\n",
      "[('the', 2697), ('.', 2325), (',', 2313), ('a', 1363), ('and', 1308), ('of', 1224), ('to', 1095), ('is', 886), ('it', 805), ('i', 717), ('in', 701), ('this', 622), ('that', 555), ('not', 426), (\"'s\", 425), ('movie', 410), ('with', 356), ('\"', 356), ('as', 352), ('was', 318), ('for', 308), ('\\n', 299), ('you', 292), ('but', 282), ('film', 281)]\n",
      "3885\n",
      "dir_path /home/paperspace/text-augmentation/imdb_small_aug_es; wt103_path /home/paperspace/fastai-fork/courses/dl2/wt103; cuda_id 0; pretrain_id wt103; cl 10; bs 64; backwards False dropmult 1.0; lr 0.004; preload True; bpe False;startat 0; use_clr True; notrain False; joined False early stopping True\n",
      "Loading /home/paperspace/text-augmentation/imdb_small_aug_es/tmp/trn_ids.npy and /home/paperspace/text-augmentation/imdb_small_aug_es/tmp/val_ids.npy\n",
      "data.shape\" torch.Size([843, 64])\n",
      "data.shape\" torch.Size([12882, 64])\n",
      "Loading pretrained weights...\n"
     ]
    },
    {
     "data": {
      "application/vnd.jupyter.widget-view+json": {
       "model_id": "131fb2bde6494af7b6b2f3cf0e1f799d",
       "version_major": 2,
       "version_minor": 0
      },
      "text/plain": [
       "HBox(children=(IntProgress(value=0, description='Epoch', max=1, style=ProgressStyle(description_width='initial…"
      ]
     },
     "metadata": {},
     "output_type": "display_data"
    },
    {
     "name": "stdout",
     "output_type": "stream",
     "text": [
      "epoch      trn_loss   val_loss   accuracy                    \n",
      "    0      4.893901   4.736855   0.197481  \n",
      "Using early stopping...\n"
     ]
    },
    {
     "data": {
      "application/vnd.jupyter.widget-view+json": {
       "model_id": "53ea3eee10934827858e376c9000d33b",
       "version_major": 2,
       "version_minor": 0
      },
      "text/plain": [
       "HBox(children=(IntProgress(value=0, description='Epoch', max=10, style=ProgressStyle(description_width='initia…"
      ]
     },
     "metadata": {},
     "output_type": "display_data"
    },
    {
     "name": "stdout",
     "output_type": "stream",
     "text": [
      "epoch      trn_loss   val_loss   accuracy                    \n",
      "    0      4.642845   4.169888   0.235357  \n",
      "    1      4.39172    4.042389   0.243025                    \n",
      "    2      4.1608     4.088388   0.238191                    \n",
      "    3      3.934857   4.10457    0.237472                    \n",
      "    4      3.730394   4.158757   0.231941                    \n",
      "    5      3.539668   4.204103   0.226414                    \n",
      "    6      3.360146   4.240867   0.22793                     \n",
      "Stopping - no improvement after 6 epochs                     \n",
      "    7      3.218383   4.271281   0.224061  \n",
      "Loading best model from fwd_lm\n",
      "saving to /home/paperspace/text-augmentation/imdb_small_aug_es/models/fwd_lm.h5 and /home/paperspace/text-augmentation/imdb_small_aug_es/models/fwd_lm_enc.h5\n",
      "dir_path /home/paperspace/text-augmentation/imdb_small_aug_es; cuda_id 0; lm_id ; clas_id None; bs 64; cl 20; backwards False; dropmult 1.0 unfreeze True startat 0; bpe False; use_clr True;use_regular_schedule False; use_discriminative True; last False;chain_thaw False; from_scratch False; train_file_id , do_vat:False\n",
      "Trn lbls shape: (200,)\n",
      "Number of labels: 2\n"
     ]
    },
    {
     "data": {
      "application/vnd.jupyter.widget-view+json": {
       "model_id": "6b8f155e359a46198263637275c83bdb",
       "version_major": 2,
       "version_minor": 0
      },
      "text/plain": [
       "HBox(children=(IntProgress(value=0, description='Epoch', max=1, style=ProgressStyle(description_width='initial…"
      ]
     },
     "metadata": {},
     "output_type": "display_data"
    },
    {
     "name": "stdout",
     "output_type": "stream",
     "text": [
      "epoch      trn_loss   val_loss   accuracy                  \n",
      "    0      0.688181   0.687574   0.565     \n"
     ]
    },
    {
     "data": {
      "application/vnd.jupyter.widget-view+json": {
       "model_id": "2451a6ad577f4631942ba0b3d14f4e0d",
       "version_major": 2,
       "version_minor": 0
      },
      "text/plain": [
       "HBox(children=(IntProgress(value=0, description='Epoch', max=1, style=ProgressStyle(description_width='initial…"
      ]
     },
     "metadata": {},
     "output_type": "display_data"
    },
    {
     "name": "stdout",
     "output_type": "stream",
     "text": [
      "epoch      trn_loss   val_loss   accuracy                  \n",
      "    0      0.638199   0.664935   0.674     \n"
     ]
    },
    {
     "data": {
      "application/vnd.jupyter.widget-view+json": {
       "model_id": "3d9dddfa2bec4b2685fae681eb475f31",
       "version_major": 2,
       "version_minor": 0
      },
      "text/plain": [
       "HBox(children=(IntProgress(value=0, description='Epoch', max=20, style=ProgressStyle(description_width='initia…"
      ]
     },
     "metadata": {},
     "output_type": "display_data"
    },
    {
     "name": "stdout",
     "output_type": "stream",
     "text": [
      "epoch      trn_loss   val_loss   accuracy                  \n",
      "    0      0.519399   0.633399   0.705333  \n",
      "    1      0.541368   0.589892   0.681667                  \n",
      "    2      0.498795   0.705851   0.605                     \n",
      "    3      0.429467   0.589424   0.727667                  \n",
      "    4      0.37561    1.267457   0.594667                  \n",
      "    5      0.365129   0.856756   0.694                     \n",
      "    6      0.340262   0.878829   0.711                     \n",
      "    7      0.32213    0.864063   0.703667                  \n",
      "    8      0.290112   0.689946   0.749                     \n",
      "    9      0.265846   1.014344   0.711333                  \n",
      "    10     0.247797   0.65435    0.770667                  \n",
      "    11     0.240432   0.885361   0.728                     \n",
      "    12     0.239457   0.852513   0.727333                  \n",
      "    13     0.223887   0.736514   0.746                     \n",
      "    14     0.20841    0.854714   0.723                     \n",
      "    15     0.189337   1.041697   0.705667                  \n",
      "    16     0.17019    1.024272   0.711333                  \n",
      "    17     0.153225   0.866874   0.737                     \n",
      "    18     0.137544   0.917822   0.733                     \n",
      "    19     0.124332   0.938977   0.731667                  \n",
      "saved 100 rows to /home/paperspace/text-augmentation/imdb_small_aug_es/train.csv\n",
      "train_df.shape: (100, 2)\n",
      "saved 3000 rows to /home/paperspace/text-augmentation/imdb_small_aug_es/val.csv\n",
      "dir_path /home/paperspace/text-augmentation/imdb_small_aug_es chunksize 24000 n_lbls 1 lang en\n",
      "0\n",
      "0\n",
      "dir_path /home/paperspace/text-augmentation/imdb_small_aug_es max_vocab 60000 min_freq 1\n",
      "[('the', 1254), ('.', 1161), (',', 1049), ('a', 669), ('and', 649), ('to', 557), ('of', 553), ('is', 417), ('it', 383), ('i', 349), ('in', 332), ('this', 320), (\"'s\", 265), ('that', 226), ('\\n\\n', 199), ('as', 194), ('movie', 188), ('\"', 182), ('-', 176), ('with', 172), ('was', 161), ('film', 159), ('for', 154), ('not', 150), ('you', 142)]\n",
      "1907\n",
      "dir_path /home/paperspace/text-augmentation/imdb_small_aug_es; wt103_path /home/paperspace/fastai-fork/courses/dl2/wt103; cuda_id 0; pretrain_id wt103; cl 4; bs 64; backwards False dropmult 1.0; lr 0.004; preload True; bpe False;startat 0; use_clr True; notrain False; joined False early stopping True\n",
      "Loading /home/paperspace/text-augmentation/imdb_small_aug_es/tmp/trn_ids.npy and /home/paperspace/text-augmentation/imdb_small_aug_es/tmp/val_ids.npy\n",
      "data.shape\" torch.Size([419, 64])\n",
      "data.shape\" torch.Size([12882, 64])\n",
      "Loading pretrained weights...\n"
     ]
    },
    {
     "data": {
      "application/vnd.jupyter.widget-view+json": {
       "model_id": "d6d46dcecce54273906e349590b5aae7",
       "version_major": 2,
       "version_minor": 0
      },
      "text/plain": [
       "HBox(children=(IntProgress(value=0, description='Epoch', max=1, style=ProgressStyle(description_width='initial…"
      ]
     },
     "metadata": {},
     "output_type": "display_data"
    },
    {
     "name": "stdout",
     "output_type": "stream",
     "text": [
      "epoch      trn_loss   val_loss   accuracy                    \n",
      "    0      5.081117   4.610325   0.192497  \n",
      "Using early stopping...\n"
     ]
    },
    {
     "data": {
      "application/vnd.jupyter.widget-view+json": {
       "model_id": "6e28629d33ca4636abc6ef00f03e2138",
       "version_major": 2,
       "version_minor": 0
      },
      "text/plain": [
       "HBox(children=(IntProgress(value=0, description='Epoch', max=4, style=ProgressStyle(description_width='initial…"
      ]
     },
     "metadata": {},
     "output_type": "display_data"
    },
    {
     "name": "stdout",
     "output_type": "stream",
     "text": [
      "epoch      trn_loss   val_loss   accuracy                    \n",
      "    0      4.801566   3.944699   0.249779  \n",
      "    1      4.531309   3.780948   0.272382                    \n",
      "    2      4.36363    3.755053   0.26767                     \n",
      "    3      4.242316   3.7362     0.269461                    \n",
      "Loading best model from fwd_lm\n",
      "saving to /home/paperspace/text-augmentation/imdb_small_aug_es/models/fwd_lm.h5 and /home/paperspace/text-augmentation/imdb_small_aug_es/models/fwd_lm_enc.h5\n",
      "dir_path /home/paperspace/text-augmentation/imdb_small_aug_es; cuda_id 0; lm_id ; clas_id None; bs 64; cl 20; backwards False; dropmult 1.0 unfreeze True startat 0; bpe False; use_clr True;use_regular_schedule False; use_discriminative True; last False;chain_thaw False; from_scratch False; train_file_id , do_vat:False\n",
      "Trn lbls shape: (100,)\n",
      "Number of labels: 2\n"
     ]
    },
    {
     "data": {
      "application/vnd.jupyter.widget-view+json": {
       "model_id": "ef372f88f69b4e4ab89181f380399843",
       "version_major": 2,
       "version_minor": 0
      },
      "text/plain": [
       "HBox(children=(IntProgress(value=0, description='Epoch', max=1, style=ProgressStyle(description_width='initial…"
      ]
     },
     "metadata": {},
     "output_type": "display_data"
    },
    {
     "name": "stdout",
     "output_type": "stream",
     "text": [
      "epoch      trn_loss   val_loss   accuracy                  \n",
      "    0      0.784427   0.690207   0.52      \n"
     ]
    },
    {
     "data": {
      "application/vnd.jupyter.widget-view+json": {
       "model_id": "5ca537b9d02e4617bec459f582c5ec3e",
       "version_major": 2,
       "version_minor": 0
      },
      "text/plain": [
       "HBox(children=(IntProgress(value=0, description='Epoch', max=1, style=ProgressStyle(description_width='initial…"
      ]
     },
     "metadata": {},
     "output_type": "display_data"
    },
    {
     "name": "stdout",
     "output_type": "stream",
     "text": [
      "epoch      trn_loss   val_loss   accuracy                  \n",
      "    0      0.650373   0.68607    0.594667  \n"
     ]
    },
    {
     "data": {
      "application/vnd.jupyter.widget-view+json": {
       "model_id": "b67c84536b584b8ebbcefc13ac3bb848",
       "version_major": 2,
       "version_minor": 0
      },
      "text/plain": [
       "HBox(children=(IntProgress(value=0, description='Epoch', max=20, style=ProgressStyle(description_width='initia…"
      ]
     },
     "metadata": {},
     "output_type": "display_data"
    },
    {
     "name": "stdout",
     "output_type": "stream",
     "text": [
      "epoch      trn_loss   val_loss   accuracy                  \n",
      "    0      0.652818   0.680931   0.609     \n",
      "    1      0.602417   0.669653   0.587333                  \n",
      "    2      0.591561   0.660524   0.549333                  \n",
      "    3      0.570044   0.643813   0.583                     \n",
      "    4      0.545675   0.649857   0.578333                  \n",
      "    5      0.524187   0.565187   0.707                     \n",
      "    6      0.513195   0.516179   0.746                     \n",
      "    7      0.483997   0.601384   0.68                      \n",
      "    8      0.475985   0.546123   0.721                     \n",
      "    9      0.448851   0.542004   0.719                     \n",
      "    10     0.425056   0.501903   0.764                     \n",
      "    11     0.394789   0.536858   0.746                     \n",
      "    12     0.379515   0.555505   0.747                     \n",
      "    13     0.365362   0.617148   0.738333                  \n",
      "    14     0.349261   0.619885   0.740333                  \n",
      "    15     0.328732   0.637545   0.741333                  \n",
      "    16     0.312403   0.597672   0.765                     \n",
      "    17     0.299306   0.600754   0.758667                  \n",
      "    18     0.284816   0.601157   0.752                     \n",
      "    19     0.280526   0.640386   0.745333                  \n",
      "/home/paperspace/imdb_0k_3k\n",
      "saved 100 rows to /home/paperspace/imdb_0k_3k/train.csv\n",
      "train_df.shape: (100, 2)\n",
      "saved 3000 rows to /home/paperspace/imdb_0k_3k/val.csv\n",
      "dir_path /home/paperspace/imdb_0k_3k chunksize 24000 n_lbls 1 lang en\n",
      "0\n",
      "0\n",
      "dir_path /home/paperspace/imdb_0k_3k max_vocab 60000 min_freq 1\n",
      "[('the', 1562), ('.', 1176), (',', 1165), ('and', 759), ('a', 728), ('of', 669), ('to', 655), ('is', 480), ('it', 398), ('in', 394), ('i', 382), ('that', 336), ('this', 306), (\"'s\", 277), ('\"', 257), ('was', 236), ('movie', 234), ('as', 224), ('for', 214), ('\\n\\n', 206), ('-', 200), ('film', 188), ('on', 179), ('with', 178), ('but', 164)]\n",
      "2121\n",
      "saved 200 rows to /home/paperspace/text-augmentation/imdb_small_aug_es/train.csv\n",
      "train_df.shape: (200, 2)\n",
      "saved 3000 rows to /home/paperspace/text-augmentation/imdb_small_aug_es/val.csv\n",
      "dir_path /home/paperspace/text-augmentation/imdb_small_aug_es chunksize 24000 n_lbls 1 lang en\n",
      "0\n",
      "0\n",
      "dir_path /home/paperspace/text-augmentation/imdb_small_aug_es max_vocab 60000 min_freq 1\n",
      "[('the', 3344), (',', 2556), ('.', 2391), ('and', 1547), ('of', 1505), ('a', 1482), ('to', 1264), ('is', 1000), ('in', 841), ('it', 801), ('i', 782), ('that', 768), ('this', 610), ('\"', 532), ('movie', 503), (\"'s\", 473), ('was', 468), ('not', 436), ('for', 422), ('as', 417), ('with', 363), ('film', 335), ('but', 329), ('he', 326), ('on', 313)]\n",
      "4203\n",
      "dir_path /home/paperspace/text-augmentation/imdb_small_aug_es; wt103_path /home/paperspace/fastai-fork/courses/dl2/wt103; cuda_id 0; pretrain_id wt103; cl 10; bs 64; backwards False dropmult 1.0; lr 0.004; preload True; bpe False;startat 0; use_clr True; notrain False; joined False early stopping True\n",
      "Loading /home/paperspace/text-augmentation/imdb_small_aug_es/tmp/trn_ids.npy and /home/paperspace/text-augmentation/imdb_small_aug_es/tmp/val_ids.npy\n",
      "data.shape\" torch.Size([957, 64])\n",
      "data.shape\" torch.Size([12949, 64])\n",
      "Loading pretrained weights...\n"
     ]
    },
    {
     "data": {
      "application/vnd.jupyter.widget-view+json": {
       "model_id": "f982e433f3e548cea9578bcdd1df7887",
       "version_major": 2,
       "version_minor": 0
      },
      "text/plain": [
       "HBox(children=(IntProgress(value=0, description='Epoch', max=1, style=ProgressStyle(description_width='initial…"
      ]
     },
     "metadata": {},
     "output_type": "display_data"
    },
    {
     "name": "stdout",
     "output_type": "stream",
     "text": [
      "epoch      trn_loss   val_loss   accuracy                    \n",
      "    0      4.867466   4.740914   0.200907  \n",
      "Using early stopping...\n"
     ]
    },
    {
     "data": {
      "application/vnd.jupyter.widget-view+json": {
       "model_id": "d2e3405853b246dea5e06dd2590d89e0",
       "version_major": 2,
       "version_minor": 0
      },
      "text/plain": [
       "HBox(children=(IntProgress(value=0, description='Epoch', max=10, style=ProgressStyle(description_width='initia…"
      ]
     },
     "metadata": {},
     "output_type": "display_data"
    },
    {
     "name": "stdout",
     "output_type": "stream",
     "text": [
      "epoch      trn_loss   val_loss   accuracy                    \n",
      "    0      4.603742   4.1714     0.238503  \n",
      "    1      4.371232   4.108543   0.240667                    \n",
      "    2      4.135194   4.127483   0.234483                    \n",
      "    3      3.908504   4.141604   0.233627                    \n",
      "    4      3.690392   4.19291    0.232562                    \n",
      "    5      3.508885   4.263784   0.22676                     \n",
      "    6      3.323801   4.279315   0.22711                     \n",
      "Stopping - no improvement after 6 epochs                     \n",
      "    7      3.184418   4.307633   0.224474  \n",
      "Loading best model from fwd_lm\n",
      "saving to /home/paperspace/text-augmentation/imdb_small_aug_es/models/fwd_lm.h5 and /home/paperspace/text-augmentation/imdb_small_aug_es/models/fwd_lm_enc.h5\n",
      "dir_path /home/paperspace/text-augmentation/imdb_small_aug_es; cuda_id 0; lm_id ; clas_id None; bs 64; cl 20; backwards False; dropmult 1.0 unfreeze True startat 0; bpe False; use_clr True;use_regular_schedule False; use_discriminative True; last False;chain_thaw False; from_scratch False; train_file_id , do_vat:False\n",
      "Trn lbls shape: (200,)\n",
      "Number of labels: 2\n"
     ]
    },
    {
     "data": {
      "application/vnd.jupyter.widget-view+json": {
       "model_id": "8fce175d266f4b1c838feb516a2b328e",
       "version_major": 2,
       "version_minor": 0
      },
      "text/plain": [
       "HBox(children=(IntProgress(value=0, description='Epoch', max=1, style=ProgressStyle(description_width='initial…"
      ]
     },
     "metadata": {},
     "output_type": "display_data"
    },
    {
     "name": "stdout",
     "output_type": "stream",
     "text": [
      "epoch      trn_loss   val_loss   accuracy                  \n",
      "    0      0.63993    0.679286   0.506667  \n"
     ]
    },
    {
     "data": {
      "application/vnd.jupyter.widget-view+json": {
       "model_id": "1cecfc32c3bd4f3391867d5446413f4a",
       "version_major": 2,
       "version_minor": 0
      },
      "text/plain": [
       "HBox(children=(IntProgress(value=0, description='Epoch', max=1, style=ProgressStyle(description_width='initial…"
      ]
     },
     "metadata": {},
     "output_type": "display_data"
    },
    {
     "name": "stdout",
     "output_type": "stream",
     "text": [
      "epoch      trn_loss   val_loss   accuracy                  \n",
      "    0      0.606493   0.666854   0.552667  \n"
     ]
    },
    {
     "data": {
      "application/vnd.jupyter.widget-view+json": {
       "model_id": "f1e40f35313c4d418a4b265a323c2a4b",
       "version_major": 2,
       "version_minor": 0
      },
      "text/plain": [
       "HBox(children=(IntProgress(value=0, description='Epoch', max=20, style=ProgressStyle(description_width='initia…"
      ]
     },
     "metadata": {},
     "output_type": "display_data"
    },
    {
     "name": "stdout",
     "output_type": "stream",
     "text": [
      "epoch      trn_loss   val_loss   accuracy                  \n",
      "    0      0.533861   0.629594   0.654667  \n",
      "    1      0.534014   0.637386   0.594667                  \n",
      "    2      0.488285   0.572      0.705                     \n",
      "    3      0.43345    0.619101   0.720333                  \n",
      "    4      0.392582   0.944006   0.697                     \n",
      "    5      0.392784   0.836872   0.713667                  \n",
      "    6      0.361826   0.676278   0.732                     \n",
      "    7      0.348849   0.837707   0.71                      \n",
      "    8      0.317713   0.707635   0.755667                  \n",
      "    9      0.300437   0.837743   0.725333                  \n",
      "    10     0.276574   0.614558   0.768                     \n",
      "    11     0.253141   0.715985   0.748                     \n",
      "    12     0.228313   0.669103   0.761667                  \n",
      "    13     0.209232   0.630796   0.783                     \n",
      "    14     0.198628   0.677835   0.769333                  \n",
      "    15     0.18774    0.649044   0.778                     \n",
      "    16     0.205898   0.669524   0.773667                  \n",
      "    17     0.183702   0.727687   0.747                     \n",
      "    18     0.167239   0.702162   0.755667                  \n",
      "    19     0.15273    0.662795   0.758667                  \n",
      "saved 100 rows to /home/paperspace/text-augmentation/imdb_small_aug_es/train.csv\n",
      "train_df.shape: (100, 2)\n",
      "saved 3000 rows to /home/paperspace/text-augmentation/imdb_small_aug_es/val.csv\n",
      "dir_path /home/paperspace/text-augmentation/imdb_small_aug_es chunksize 24000 n_lbls 1 lang en\n",
      "0\n",
      "0\n",
      "dir_path /home/paperspace/text-augmentation/imdb_small_aug_es max_vocab 60000 min_freq 1\n",
      "[('the', 1562), ('.', 1176), (',', 1165), ('and', 759), ('a', 728), ('of', 669), ('to', 655), ('is', 480), ('it', 398), ('in', 394), ('i', 382), ('that', 336), ('this', 306), (\"'s\", 277), ('\"', 257), ('was', 236), ('movie', 234), ('as', 224), ('for', 214), ('\\n\\n', 206), ('-', 200), ('film', 188), ('on', 179), ('with', 178), ('but', 164)]\n",
      "2121\n",
      "dir_path /home/paperspace/text-augmentation/imdb_small_aug_es; wt103_path /home/paperspace/fastai-fork/courses/dl2/wt103; cuda_id 0; pretrain_id wt103; cl 4; bs 64; backwards False dropmult 1.0; lr 0.004; preload True; bpe False;startat 0; use_clr True; notrain False; joined False early stopping True\n",
      "Loading /home/paperspace/text-augmentation/imdb_small_aug_es/tmp/trn_ids.npy and /home/paperspace/text-augmentation/imdb_small_aug_es/tmp/val_ids.npy\n",
      "data.shape\" torch.Size([477, 64])\n",
      "data.shape\" torch.Size([12949, 64])\n",
      "Loading pretrained weights...\n"
     ]
    },
    {
     "data": {
      "application/vnd.jupyter.widget-view+json": {
       "model_id": "bd79af77f8504b408f6dcf77939228dc",
       "version_major": 2,
       "version_minor": 0
      },
      "text/plain": [
       "HBox(children=(IntProgress(value=0, description='Epoch', max=1, style=ProgressStyle(description_width='initial…"
      ]
     },
     "metadata": {},
     "output_type": "display_data"
    },
    {
     "name": "stdout",
     "output_type": "stream",
     "text": [
      "epoch      trn_loss   val_loss   accuracy                    \n",
      "    0      5.006083   4.616416   0.195471  \n",
      "Using early stopping...\n"
     ]
    },
    {
     "data": {
      "application/vnd.jupyter.widget-view+json": {
       "model_id": "5b9dc31c521a4927bf92902210b1eb05",
       "version_major": 2,
       "version_minor": 0
      },
      "text/plain": [
       "HBox(children=(IntProgress(value=0, description='Epoch', max=4, style=ProgressStyle(description_width='initial…"
      ]
     },
     "metadata": {},
     "output_type": "display_data"
    },
    {
     "name": "stdout",
     "output_type": "stream",
     "text": [
      "epoch      trn_loss   val_loss   accuracy                    \n",
      "    0      4.74914    3.971039   0.249276  \n",
      "    1      4.483893   3.765476   0.274938                    \n",
      "    2      4.315751   3.781251   0.265184                    \n",
      "    3      4.187772   3.725673   0.276043                    \n",
      "Loading best model from fwd_lm\n",
      "saving to /home/paperspace/text-augmentation/imdb_small_aug_es/models/fwd_lm.h5 and /home/paperspace/text-augmentation/imdb_small_aug_es/models/fwd_lm_enc.h5\n",
      "dir_path /home/paperspace/text-augmentation/imdb_small_aug_es; cuda_id 0; lm_id ; clas_id None; bs 64; cl 20; backwards False; dropmult 1.0 unfreeze True startat 0; bpe False; use_clr True;use_regular_schedule False; use_discriminative True; last False;chain_thaw False; from_scratch False; train_file_id , do_vat:False\n",
      "Trn lbls shape: (100,)\n",
      "Number of labels: 2\n"
     ]
    },
    {
     "data": {
      "application/vnd.jupyter.widget-view+json": {
       "model_id": "c18a8faf1b7d441eab42b56c64167dcb",
       "version_major": 2,
       "version_minor": 0
      },
      "text/plain": [
       "HBox(children=(IntProgress(value=0, description='Epoch', max=1, style=ProgressStyle(description_width='initial…"
      ]
     },
     "metadata": {},
     "output_type": "display_data"
    },
    {
     "name": "stdout",
     "output_type": "stream",
     "text": [
      "epoch      trn_loss   val_loss   accuracy                  \n",
      "    0      0.834838   0.701725   0.505     \n"
     ]
    },
    {
     "data": {
      "application/vnd.jupyter.widget-view+json": {
       "model_id": "7cc543d7918146f8b5d9e1c01ba43a3d",
       "version_major": 2,
       "version_minor": 0
      },
      "text/plain": [
       "HBox(children=(IntProgress(value=0, description='Epoch', max=1, style=ProgressStyle(description_width='initial…"
      ]
     },
     "metadata": {},
     "output_type": "display_data"
    },
    {
     "name": "stdout",
     "output_type": "stream",
     "text": [
      "epoch      trn_loss   val_loss   accuracy                  \n",
      "    0      0.595769   0.690688   0.505     \n"
     ]
    },
    {
     "data": {
      "application/vnd.jupyter.widget-view+json": {
       "model_id": "1717cb9bfebd4668bd174fec287a27b9",
       "version_major": 2,
       "version_minor": 0
      },
      "text/plain": [
       "HBox(children=(IntProgress(value=0, description='Epoch', max=20, style=ProgressStyle(description_width='initia…"
      ]
     },
     "metadata": {},
     "output_type": "display_data"
    },
    {
     "name": "stdout",
     "output_type": "stream",
     "text": [
      "epoch      trn_loss   val_loss   accuracy                  \n",
      "    0      0.528077   0.688277   0.506     \n",
      "    1      0.583831   0.674219   0.525333                  \n",
      "    2      0.586109   0.641093   0.604                     \n",
      "    3      0.57572    0.645534   0.564                     \n",
      "    4      0.55037    0.608566   0.646                     \n",
      "    5      0.527221   0.561673   0.707                     \n",
      "    6      0.491345   0.51701    0.745667                  \n",
      "    7      0.468736   0.512271   0.747667                  \n",
      "    8      0.465886   0.600172   0.723667                  \n",
      "    9      0.432161   0.605306   0.721333                  \n",
      "    10     0.418183   0.642661   0.704                     \n",
      "    11     0.411867   0.582778   0.720333                  \n",
      "    12     0.400326   0.520742   0.744333                  \n",
      "    13     0.379231   0.494443   0.762                     \n",
      "    14     0.370278   0.48663    0.767                     \n",
      "    15     0.379485   0.493445   0.765333                  \n",
      "    16     0.372063   0.553666   0.741                     \n",
      "    17     0.371173   0.685337   0.693333                  \n",
      "    18     0.3671     0.73311    0.682                     \n",
      "    19     0.358296   0.789578   0.671                     \n",
      "/home/paperspace/imdb_0k_3k\n",
      "saved 500 rows to /home/paperspace/imdb_0k_3k/train.csv\n",
      "train_df.shape: (500, 2)\n",
      "saved 3000 rows to /home/paperspace/imdb_0k_3k/val.csv\n",
      "dir_path /home/paperspace/imdb_0k_3k chunksize 24000 n_lbls 1 lang en\n",
      "0\n",
      "0\n",
      "dir_path /home/paperspace/imdb_0k_3k max_vocab 60000 min_freq 1\n",
      "[('the', 6783), (',', 5776), ('.', 5594), ('a', 3476), ('and', 3447), ('of', 3013), ('to', 2794), ('is', 2195), ('it', 1913), ('in', 1854), ('i', 1707), ('\"', 1505), ('this', 1498), (\"'s\", 1435), ('that', 1416), ('-', 1206), ('as', 1056), ('was', 1034), ('\\n\\n', 981), ('with', 968), ('for', 929), ('but', 876), ('movie', 849), ('t_up', 792), ('film', 771)]\n",
      "6414\n",
      "saved 1000 rows to /home/paperspace/text-augmentation/imdb_small_aug_es/train.csv\n",
      "train_df.shape: (1000, 2)\n",
      "saved 3000 rows to /home/paperspace/text-augmentation/imdb_small_aug_es/val.csv\n",
      "dir_path /home/paperspace/text-augmentation/imdb_small_aug_es chunksize 24000 n_lbls 1 lang en\n",
      "0\n",
      "0\n",
      "dir_path /home/paperspace/text-augmentation/imdb_small_aug_es max_vocab 60000 min_freq 1\n",
      "[('the', 14626), (',', 12646), ('.', 11438), ('and', 7076), ('a', 7058), ('of', 6683), ('to', 5523), ('is', 4784), ('in', 4004), ('it', 3891), ('i', 3494), ('that', 3323), ('\"', 3046), ('this', 2960), (\"'s\", 2317), ('was', 2052), ('not', 2038), ('with', 1995), ('as', 1928), ('movie', 1917), ('for', 1849), ('but', 1774), ('-', 1616), (')', 1538), ('t_up', 1535)]\n",
      "11158\n",
      "dir_path /home/paperspace/text-augmentation/imdb_small_aug_es; wt103_path /home/paperspace/fastai-fork/courses/dl2/wt103; cuda_id 0; pretrain_id wt103; cl 10; bs 64; backwards False dropmult 1.0; lr 0.004; preload True; bpe False;startat 0; use_clr True; notrain False; joined False early stopping True\n",
      "Loading /home/paperspace/text-augmentation/imdb_small_aug_es/tmp/trn_ids.npy and /home/paperspace/text-augmentation/imdb_small_aug_es/tmp/val_ids.npy\n",
      "data.shape\" torch.Size([4548, 64])\n",
      "data.shape\" torch.Size([12528, 64])\n",
      "Loading pretrained weights...\n"
     ]
    },
    {
     "data": {
      "application/vnd.jupyter.widget-view+json": {
       "model_id": "c5125d73799743de94f56787bb4e6e5a",
       "version_major": 2,
       "version_minor": 0
      },
      "text/plain": [
       "HBox(children=(IntProgress(value=0, description='Epoch', max=1, style=ProgressStyle(description_width='initial…"
      ]
     },
     "metadata": {},
     "output_type": "display_data"
    },
    {
     "name": "stdout",
     "output_type": "stream",
     "text": [
      "epoch      trn_loss   val_loss   accuracy                    \n",
      "    0      4.959807   4.736975   0.219821  \n",
      "Using early stopping...\n"
     ]
    },
    {
     "data": {
      "application/vnd.jupyter.widget-view+json": {
       "model_id": "a3a1af08947b4645a90bc0e6d5be3aa1",
       "version_major": 2,
       "version_minor": 0
      },
      "text/plain": [
       "HBox(children=(IntProgress(value=0, description='Epoch', max=10, style=ProgressStyle(description_width='initia…"
      ]
     },
     "metadata": {},
     "output_type": "display_data"
    },
    {
     "name": "stdout",
     "output_type": "stream",
     "text": [
      "epoch      trn_loss   val_loss   accuracy                    \n",
      "    0      4.641682   4.379441   0.239526  \n",
      "    1      4.379332   4.326737   0.239103                    \n",
      "    2      4.092009   4.302396   0.240255                    \n",
      "    3      3.823946   4.314337   0.241361                    \n",
      "    4      3.576354   4.340988   0.240223                    \n",
      "    5      3.397379   4.376379   0.238187                    \n",
      "    6      3.233093   4.410528   0.236529                    \n",
      "    7      3.092747   4.43428    0.235768                    \n",
      "Stopping - no improvement after 6 epochs                     \n",
      "    8      2.988961   4.450628   0.233946  \n",
      "Loading best model from fwd_lm\n",
      "saving to /home/paperspace/text-augmentation/imdb_small_aug_es/models/fwd_lm.h5 and /home/paperspace/text-augmentation/imdb_small_aug_es/models/fwd_lm_enc.h5\n",
      "dir_path /home/paperspace/text-augmentation/imdb_small_aug_es; cuda_id 0; lm_id ; clas_id None; bs 64; cl 20; backwards False; dropmult 1.0 unfreeze True startat 0; bpe False; use_clr True;use_regular_schedule False; use_discriminative True; last False;chain_thaw False; from_scratch False; train_file_id , do_vat:False\n",
      "Trn lbls shape: (1000,)\n",
      "Number of labels: 2\n"
     ]
    },
    {
     "data": {
      "application/vnd.jupyter.widget-view+json": {
       "model_id": "98f7fb7d2bd14697a6a0ee1064378954",
       "version_major": 2,
       "version_minor": 0
      },
      "text/plain": [
       "HBox(children=(IntProgress(value=0, description='Epoch', max=1, style=ProgressStyle(description_width='initial…"
      ]
     },
     "metadata": {},
     "output_type": "display_data"
    },
    {
     "name": "stdout",
     "output_type": "stream",
     "text": [
      "epoch      trn_loss   val_loss   accuracy                  \n",
      "    0      0.645688   0.574445   0.734667  \n"
     ]
    },
    {
     "data": {
      "application/vnd.jupyter.widget-view+json": {
       "model_id": "92598a239c4f4d819a9e8f2d98801726",
       "version_major": 2,
       "version_minor": 0
      },
      "text/plain": [
       "HBox(children=(IntProgress(value=0, description='Epoch', max=1, style=ProgressStyle(description_width='initial…"
      ]
     },
     "metadata": {},
     "output_type": "display_data"
    },
    {
     "name": "stdout",
     "output_type": "stream",
     "text": [
      "epoch      trn_loss   val_loss   accuracy                  \n",
      "    0      0.593504   0.471182   0.787667  \n"
     ]
    },
    {
     "data": {
      "application/vnd.jupyter.widget-view+json": {
       "model_id": "d6ec92fdf7df42f896007b4e5ba18cfc",
       "version_major": 2,
       "version_minor": 0
      },
      "text/plain": [
       "HBox(children=(IntProgress(value=0, description='Epoch', max=20, style=ProgressStyle(description_width='initia…"
      ]
     },
     "metadata": {},
     "output_type": "display_data"
    },
    {
     "name": "stdout",
     "output_type": "stream",
     "text": [
      "epoch      trn_loss   val_loss   accuracy                  \n",
      "    0      0.476203   0.394878   0.829667  \n",
      "    1      0.480947   0.381052   0.834667                  \n",
      "    2      0.445613   0.512791   0.8                       \n",
      "    3      0.406148   0.400751   0.841667                  \n",
      "    4      0.359364   0.399191   0.824333                  \n",
      "    5      0.319082   0.357431   0.847667                  \n",
      "    6      0.284264   0.71443    0.779667                  \n",
      "    7      0.265212   0.410256   0.853667                  \n",
      "    8      0.230673   0.455407   0.843667                  \n",
      "    9      0.220897   0.460811   0.852                     \n",
      "    10     0.205237   0.410344   0.839333                  \n",
      "    11     0.183134   0.480708   0.844333                  \n",
      "    12     0.166308   0.411498   0.860667                  \n",
      "    13     0.143047   0.489802   0.845                     \n",
      " 91%|█████████ | 29/32 [00:10<00:01,  2.90it/s, loss=0.13] dir_path /home/paperspace/text-augmentation/imdb_small_aug_es max_vocab 60000 min_freq 1\n",
      "[('the', 6783), (',', 5776), ('.', 5594), ('a', 3476), ('and', 3447), ('of', 3013), ('to', 2794), ('is', 2195), ('it', 1913), ('in', 1854), ('i', 1707), ('\"', 1505), ('this', 1498), (\"'s\", 1435), ('that', 1416), ('-', 1206), ('as', 1056), ('was', 1034), ('\\n\\n', 981), ('with', 968), ('for', 929), ('but', 876), ('movie', 849), ('t_up', 792), ('film', 771)]\n",
      "6414\n",
      "dir_path /home/paperspace/text-augmentation/imdb_small_aug_es; wt103_path /home/paperspace/fastai-fork/courses/dl2/wt103; cuda_id 0; pretrain_id wt103; cl 4; bs 64; backwards False dropmult 1.0; lr 0.004; preload True; bpe False;startat 0; use_clr True; notrain False; joined False early stopping True\n",
      "Loading /home/paperspace/text-augmentation/imdb_small_aug_es/tmp/trn_ids.npy and /home/paperspace/text-augmentation/imdb_small_aug_es/tmp/val_ids.npy\n",
      "data.shape\" torch.Size([2266, 64])\n",
      "data.shape\" torch.Size([12528, 64])\n",
      "Loading pretrained weights...\n"
     ]
    },
    {
     "data": {
      "application/vnd.jupyter.widget-view+json": {
       "model_id": "afff0b0f2cf340c1a9a2372676f2b6a9",
       "version_major": 2,
       "version_minor": 0
      },
      "text/plain": [
       "HBox(children=(IntProgress(value=0, description='Epoch', max=1, style=ProgressStyle(description_width='initial…"
      ]
     },
     "metadata": {},
     "output_type": "display_data"
    },
    {
     "name": "stdout",
     "output_type": "stream",
     "text": [
      "epoch      trn_loss   val_loss   accuracy                    \n",
      "    0      5.115881   4.701567   0.213492  \n",
      "Using early stopping...\n"
     ]
    },
    {
     "data": {
      "application/vnd.jupyter.widget-view+json": {
       "model_id": "70cae7fc2f0f48dda4600d247472a446",
       "version_major": 2,
       "version_minor": 0
      },
      "text/plain": [
       "HBox(children=(IntProgress(value=0, description='Epoch', max=4, style=ProgressStyle(description_width='initial…"
      ]
     },
     "metadata": {},
     "output_type": "display_data"
    },
    {
     "name": "stdout",
     "output_type": "stream",
     "text": [
      "epoch      trn_loss   val_loss   accuracy                    \n",
      "    0      4.717303   4.141889   0.251381  \n",
      "    1      4.478156   4.058944   0.259034                    \n",
      "    2      4.313861   4.032508   0.261056                    \n",
      "    3      4.183201   4.021194   0.261025                    \n",
      "Loading best model from fwd_lm\n",
      "saving to /home/paperspace/text-augmentation/imdb_small_aug_es/models/fwd_lm.h5 and /home/paperspace/text-augmentation/imdb_small_aug_es/models/fwd_lm_enc.h5\n",
      "dir_path /home/paperspace/text-augmentation/imdb_small_aug_es; cuda_id 0; lm_id ; clas_id None; bs 64; cl 20; backwards False; dropmult 1.0 unfreeze True startat 0; bpe False; use_clr True;use_regular_schedule False; use_discriminative True; last False;chain_thaw False; from_scratch False; train_file_id , do_vat:False\n",
      "Trn lbls shape: (500,)\n",
      "Number of labels: 2\n"
     ]
    },
    {
     "data": {
      "application/vnd.jupyter.widget-view+json": {
       "model_id": "96b47120e8414036a68477395399df66",
       "version_major": 2,
       "version_minor": 0
      },
      "text/plain": [
       "HBox(children=(IntProgress(value=0, description='Epoch', max=1, style=ProgressStyle(description_width='initial…"
      ]
     },
     "metadata": {},
     "output_type": "display_data"
    },
    {
     "name": "stdout",
     "output_type": "stream",
     "text": [
      "epoch      trn_loss   val_loss   accuracy                  \n",
      "    0      0.669779   0.664338   0.571333  \n"
     ]
    },
    {
     "data": {
      "application/vnd.jupyter.widget-view+json": {
       "model_id": "b5c2ae9ff1b8453cb829020d9aaa048a",
       "version_major": 2,
       "version_minor": 0
      },
      "text/plain": [
       "HBox(children=(IntProgress(value=0, description='Epoch', max=1, style=ProgressStyle(description_width='initial…"
      ]
     },
     "metadata": {},
     "output_type": "display_data"
    },
    {
     "name": "stdout",
     "output_type": "stream",
     "text": [
      "epoch      trn_loss   val_loss   accuracy                  \n",
      "    0      0.621248   0.536912   0.753333  \n"
     ]
    },
    {
     "data": {
      "application/vnd.jupyter.widget-view+json": {
       "model_id": "41a458a523bf45d8ac4e88f623f65541",
       "version_major": 2,
       "version_minor": 0
      },
      "text/plain": [
       "HBox(children=(IntProgress(value=0, description='Epoch', max=20, style=ProgressStyle(description_width='initia…"
      ]
     },
     "metadata": {},
     "output_type": "display_data"
    },
    {
     "name": "stdout",
     "output_type": "stream",
     "text": [
      "epoch      trn_loss   val_loss   accuracy                  \n",
      "    0      0.543057   0.45607    0.806333  \n",
      "    1      0.512242   0.399103   0.815                     \n",
      "    2      0.504998   0.367407   0.832667                  \n",
      "    3      0.469651   0.378345   0.831333                  \n",
      "    4      0.421408   0.386198   0.841                     \n",
      "    5      0.382665   0.360415   0.852                     \n",
      "    6      0.361105   0.354436   0.846                     \n",
      "    7      0.343988   0.408035   0.853333                  \n",
      "    8      0.325495   0.356147   0.86                      \n",
      "    9      0.297092   0.379311   0.862                     \n",
      "    10     0.273125   0.598963   0.754333                  \n",
      "    11     0.247505   0.432795   0.837667                  \n",
      "    12     0.241123   0.422096   0.846667                  \n",
      "    13     0.213644   0.397003   0.853667                  \n",
      "    14     0.193787   0.444089   0.833333                  \n",
      "    15     0.185624   0.398871   0.848667                  \n",
      "    16     0.171088   0.412323   0.860667                  \n",
      "    17     0.156437   0.419463   0.858333                  \n",
      "    18     0.144851   0.426634   0.856                     \n",
      "    19     0.133219   0.431298   0.851                     \n",
      "/home/paperspace/imdb_0k_3k\n",
      "saved 500 rows to /home/paperspace/imdb_0k_3k/train.csv\n",
      "train_df.shape: (500, 2)\n",
      "saved 3000 rows to /home/paperspace/imdb_0k_3k/val.csv\n",
      "dir_path /home/paperspace/imdb_0k_3k chunksize 24000 n_lbls 1 lang en\n",
      "0\n",
      "0\n",
      "dir_path /home/paperspace/imdb_0k_3k max_vocab 60000 min_freq 1\n",
      "[('the', 6307), ('.', 5263), (',', 5257), ('and', 3171), ('a', 3136), ('of', 2747), ('to', 2676), ('is', 2282), ('it', 1897), ('in', 1798), ('this', 1536), ('i', 1496), ('that', 1400), (\"'s\", 1176), ('\"', 1173), ('-', 964), ('was', 945), ('as', 912), ('\\n\\n', 898), ('movie', 843), ('for', 842), ('with', 813), ('but', 813), ('film', 791), (')', 700)]\n",
      "5987\n",
      "saved 1000 rows to /home/paperspace/text-augmentation/imdb_small_aug_es/train.csv\n",
      "train_df.shape: (1000, 2)\n",
      "saved 3000 rows to /home/paperspace/text-augmentation/imdb_small_aug_es/val.csv\n",
      "dir_path /home/paperspace/text-augmentation/imdb_small_aug_es chunksize 24000 n_lbls 1 lang en\n",
      "0\n",
      "0\n",
      "dir_path /home/paperspace/text-augmentation/imdb_small_aug_es max_vocab 60000 min_freq 1\n",
      "[('the', 13481), (',', 11561), ('.', 10798), ('and', 6521), ('a', 6418), ('of', 5987), ('to', 5223), ('is', 4807), ('it', 3818), ('in', 3805), ('that', 3229), ('i', 3119), ('this', 3039), ('\"', 2418), (\"'s\", 1971), ('movie', 1954), ('not', 1939), ('was', 1917), ('as', 1726), ('with', 1696), ('for', 1670), ('but', 1645), ('\\n', 1491), (')', 1452), ('(', 1391)]\n",
      "10455\n",
      "dir_path /home/paperspace/text-augmentation/imdb_small_aug_es; wt103_path /home/paperspace/fastai-fork/courses/dl2/wt103; cuda_id 0; pretrain_id wt103; cl 10; bs 64; backwards False dropmult 1.0; lr 0.004; preload True; bpe False;startat 0; use_clr True; notrain False; joined False early stopping True\n",
      "Loading /home/paperspace/text-augmentation/imdb_small_aug_es/tmp/trn_ids.npy and /home/paperspace/text-augmentation/imdb_small_aug_es/tmp/val_ids.npy\n",
      "data.shape\" torch.Size([4209, 64])\n",
      "data.shape\" torch.Size([12981, 64])\n",
      "Loading pretrained weights...\n"
     ]
    },
    {
     "data": {
      "application/vnd.jupyter.widget-view+json": {
       "model_id": "e4c9b02fab19447db6ba645718327ebf",
       "version_major": 2,
       "version_minor": 0
      },
      "text/plain": [
       "HBox(children=(IntProgress(value=0, description='Epoch', max=1, style=ProgressStyle(description_width='initial…"
      ]
     },
     "metadata": {},
     "output_type": "display_data"
    },
    {
     "name": "stdout",
     "output_type": "stream",
     "text": [
      "epoch      trn_loss   val_loss   accuracy                    \n",
      "    0      4.92326    4.72553    0.219584  \n",
      "Using early stopping...\n"
     ]
    },
    {
     "data": {
      "application/vnd.jupyter.widget-view+json": {
       "model_id": "b922faed67a645b1b180b5018f327ef4",
       "version_major": 2,
       "version_minor": 0
      },
      "text/plain": [
       "HBox(children=(IntProgress(value=0, description='Epoch', max=10, style=ProgressStyle(description_width='initia…"
      ]
     },
     "metadata": {},
     "output_type": "display_data"
    },
    {
     "name": "stdout",
     "output_type": "stream",
     "text": [
      "epoch      trn_loss   val_loss   accuracy                    \n",
      "    0      4.604714   4.359205   0.237671  \n",
      "    1      4.343277   4.309096   0.236692                    \n",
      "    2      4.05829    4.29458    0.237322                    \n",
      "    3      3.797333   4.305808   0.242438                    \n",
      "    4      3.568108   4.345412   0.238405                    \n",
      "    5      3.384404   4.367673   0.238282                    \n",
      "    6      3.204771   4.415004   0.23467                     \n",
      "    7      3.078314   4.431849   0.234201                    \n",
      "Stopping - no improvement after 6 epochs                     \n",
      "    8      2.966927   4.455158   0.233563  \n",
      "Loading best model from fwd_lm\n",
      "saving to /home/paperspace/text-augmentation/imdb_small_aug_es/models/fwd_lm.h5 and /home/paperspace/text-augmentation/imdb_small_aug_es/models/fwd_lm_enc.h5\n",
      "dir_path /home/paperspace/text-augmentation/imdb_small_aug_es; cuda_id 0; lm_id ; clas_id None; bs 64; cl 20; backwards False; dropmult 1.0 unfreeze True startat 0; bpe False; use_clr True;use_regular_schedule False; use_discriminative True; last False;chain_thaw False; from_scratch False; train_file_id , do_vat:False\n",
      "Trn lbls shape: (1000,)\n",
      "Number of labels: 2\n"
     ]
    },
    {
     "data": {
      "application/vnd.jupyter.widget-view+json": {
       "model_id": "adbf1420d1a347de983f2d7965869b18",
       "version_major": 2,
       "version_minor": 0
      },
      "text/plain": [
       "HBox(children=(IntProgress(value=0, description='Epoch', max=1, style=ProgressStyle(description_width='initial…"
      ]
     },
     "metadata": {},
     "output_type": "display_data"
    },
    {
     "name": "stdout",
     "output_type": "stream",
     "text": [
      "epoch      trn_loss   val_loss   accuracy                  \n",
      "    0      0.589045   0.535715   0.782     \n"
     ]
    },
    {
     "data": {
      "application/vnd.jupyter.widget-view+json": {
       "model_id": "f9382dbd23cd450e88da92e3014e9072",
       "version_major": 2,
       "version_minor": 0
      },
      "text/plain": [
       "HBox(children=(IntProgress(value=0, description='Epoch', max=1, style=ProgressStyle(description_width='initial…"
      ]
     },
     "metadata": {},
     "output_type": "display_data"
    },
    {
     "name": "stdout",
     "output_type": "stream",
     "text": [
      "Validation:  21%|██▏       | 10/47 [00:03<00:09,  4.03it/s]"
     ]
    },
    {
     "name": "stderr",
     "output_type": "stream",
     "text": [
      "IOPub message rate exceeded.\n",
      "The notebook server will temporarily stop sending output\n",
      "to the client in order to avoid crashing it.\n",
      "To change this limit, set the config variable\n",
      "`--NotebookApp.iopub_msg_rate_limit`.\n",
      "\n",
      "Current values:\n",
      "NotebookApp.iopub_msg_rate_limit=1000.0 (msgs/sec)\n",
      "NotebookApp.rate_limit_window=3.0 (secs)\n",
      "\n"
     ]
    },
    {
     "name": "stdout",
     "output_type": "stream",
     "text": [
      "    9      0.227029   0.477881   0.832     \n",
      "    10     0.202677   0.46901    0.838667                  \n",
      "    11     0.195211   0.453354   0.847                     \n",
      "    12     0.166306   0.49953    0.851667                  \n",
      "    13     0.136493   0.482838   0.849333                  \n",
      "    14     0.124549   0.469619   0.854333                  \n",
      "    15     0.118944   0.473431   0.854                     \n",
      "    16     0.110257   0.477481   0.853333                  \n",
      "    17     0.10232    0.555043   0.846333                   \n",
      "    18     0.097066   0.467288   0.862333                   \n",
      "    19     0.080193   0.46588    0.858333                   \n",
      "saved 500 rows to /home/paperspace/text-augmentation/imdb_small_aug_es/train.csv\n",
      "train_df.shape: (500, 2)\n",
      "saved 3000 rows to /home/paperspace/text-augmentation/imdb_small_aug_es/val.csv\n",
      "dir_path /home/paperspace/text-augmentation/imdb_small_aug_es chunksize 24000 n_lbls 1 lang en\n",
      "0\n",
      "0\n",
      "dir_path /home/paperspace/text-augmentation/imdb_small_aug_es max_vocab 60000 min_freq 1\n",
      "[('the', 6728), ('.', 5386), (',', 5328), ('a', 3212), ('and', 3059), ('of', 2933), ('to', 2609), ('is', 2066), ('in', 1956), ('it', 1919), ('i', 1786), ('this', 1542), ('that', 1407), (\"'s\", 1284), ('\"', 1242), ('-', 1078), ('\\n\\n', 1008), ('was', 1007), ('as', 972), ('film', 870), ('with', 868), ('but', 831), ('movie', 816), ('for', 804), ('t_up', 723)]\n",
      "6048\n",
      "dir_path /home/paperspace/text-augmentation/imdb_small_aug_es; wt103_path /home/paperspace/fastai-fork/courses/dl2/wt103; cuda_id 0; pretrain_id wt103; cl 4; bs 64; backwards False dropmult 1.0; lr 0.004; preload True; bpe False;startat 0; use_clr True; notrain False; joined False early stopping True\n",
      "Loading /home/paperspace/text-augmentation/imdb_small_aug_es/tmp/trn_ids.npy and /home/paperspace/text-augmentation/imdb_small_aug_es/tmp/val_ids.npy\n",
      "data.shape\" torch.Size([2138, 64])\n",
      "data.shape\" torch.Size([12944, 64])\n",
      "Loading pretrained weights...\n"
     ]
    },
    {
     "data": {
      "application/vnd.jupyter.widget-view+json": {
       "model_id": "7ea80e07c1884493ae36a1670d530071",
       "version_major": 2,
       "version_minor": 0
      },
      "text/plain": [
       "HBox(children=(IntProgress(value=0, description='Epoch', max=1, style=ProgressStyle(description_width='initial…"
      ]
     },
     "metadata": {},
     "output_type": "display_data"
    },
    {
     "name": "stdout",
     "output_type": "stream",
     "text": [
      "epoch      trn_loss   val_loss   accuracy                    \n",
      "    0      5.084745   4.690877   0.213247  \n",
      "Using early stopping...\n"
     ]
    },
    {
     "data": {
      "application/vnd.jupyter.widget-view+json": {
       "model_id": "e70f69cc45ad41e2938f3f7143c5f681",
       "version_major": 2,
       "version_minor": 0
      },
      "text/plain": [
       "HBox(children=(IntProgress(value=0, description='Epoch', max=4, style=ProgressStyle(description_width='initial…"
      ]
     },
     "metadata": {},
     "output_type": "display_data"
    },
    {
     "name": "stdout",
     "output_type": "stream",
     "text": [
      "epoch      trn_loss   val_loss   accuracy                    \n",
      "    0      4.682206   4.101272   0.255394  \n",
      "    1      4.45848    4.019092   0.262035                    \n",
      "    2      4.284316   4.009331   0.260647                    \n",
      "    3      4.160836   3.991591   0.263175                    \n",
      "Loading best model from fwd_lm\n",
      "saving to /home/paperspace/text-augmentation/imdb_small_aug_es/models/fwd_lm.h5 and /home/paperspace/text-augmentation/imdb_small_aug_es/models/fwd_lm_enc.h5\n",
      "dir_path /home/paperspace/text-augmentation/imdb_small_aug_es; cuda_id 0; lm_id ; clas_id None; bs 64; cl 20; backwards False; dropmult 1.0 unfreeze True startat 0; bpe False; use_clr True;use_regular_schedule False; use_discriminative True; last False;chain_thaw False; from_scratch False; train_file_id , do_vat:False\n",
      "Trn lbls shape: (500,)\n",
      "Number of labels: 2\n"
     ]
    },
    {
     "data": {
      "application/vnd.jupyter.widget-view+json": {
       "model_id": "1663508466d8474e80335d0b5dd78b48",
       "version_major": 2,
       "version_minor": 0
      },
      "text/plain": [
       "HBox(children=(IntProgress(value=0, description='Epoch', max=1, style=ProgressStyle(description_width='initial…"
      ]
     },
     "metadata": {},
     "output_type": "display_data"
    },
    {
     "name": "stdout",
     "output_type": "stream",
     "text": [
      "epoch      trn_loss   val_loss   accuracy                  \n",
      "    0      0.647347   0.641401   0.703667  \n"
     ]
    },
    {
     "data": {
      "application/vnd.jupyter.widget-view+json": {
       "model_id": "4443d96bb49a41a3b435b0351cabd263",
       "version_major": 2,
       "version_minor": 0
      },
      "text/plain": [
       "HBox(children=(IntProgress(value=0, description='Epoch', max=1, style=ProgressStyle(description_width='initial…"
      ]
     },
     "metadata": {},
     "output_type": "display_data"
    },
    {
     "name": "stdout",
     "output_type": "stream",
     "text": [
      "epoch      trn_loss   val_loss   accuracy                  \n",
      "    0      0.621197   0.583342   0.688333  \n"
     ]
    },
    {
     "data": {
      "application/vnd.jupyter.widget-view+json": {
       "model_id": "8430b9495ea249c48814e8a6ecf2986c",
       "version_major": 2,
       "version_minor": 0
      },
      "text/plain": [
       "HBox(children=(IntProgress(value=0, description='Epoch', max=20, style=ProgressStyle(description_width='initia…"
      ]
     },
     "metadata": {},
     "output_type": "display_data"
    },
    {
     "name": "stdout",
     "output_type": "stream",
     "text": [
      "epoch      trn_loss   val_loss   accuracy                  \n",
      "    0      0.539563   0.442959   0.8       \n",
      "    1      0.501324   0.408879   0.818333                  \n",
      "    2      0.473532   0.415583   0.819667                  \n",
      "    3      0.459305   0.400651   0.829                     \n",
      "    4      0.437441   0.453048   0.814667                  \n",
      "    5      0.40697    0.430639   0.818333                  \n",
      "    6      0.380038   0.379619   0.848                     \n",
      "    7      0.357086   0.386805   0.847                     \n",
      "    8      0.337387   0.400828   0.854667                  \n",
      "    9      0.304892   0.395675   0.857333                  \n",
      "    10     0.283855   0.831664   0.777667                  \n",
      "    11     0.264752   0.522822   0.813667                  \n",
      "    12     0.249961   0.412473   0.860333                  \n",
      "    13     0.228138   0.397047   0.863                     \n",
      "    14     0.221109   0.418781   0.848667                  \n",
      "    15     0.203057   0.417733   0.856                     \n",
      "    16     0.175507   0.459821   0.854333                  \n",
      "    17     0.169036   0.451423   0.854                     \n",
      "    18     0.152596   0.508131   0.847                     \n",
      "    19     0.138862   0.496126   0.851                     \n",
      "/home/paperspace/imdb_1k_3k\n",
      "saved 1000 rows to /home/paperspace/imdb_1k_3k/train.csv\n",
      "train_df.shape: (1000, 2)\n",
      "saved 3000 rows to /home/paperspace/imdb_1k_3k/val.csv\n",
      "dir_path /home/paperspace/imdb_1k_3k chunksize 24000 n_lbls 1 lang en\n",
      "0\n",
      "0\n",
      "dir_path /home/paperspace/imdb_1k_3k max_vocab 60000 min_freq 1\n",
      "[('the', 13526), (',', 11475), ('.', 11040), ('and', 6843), ('a', 6594), ('of', 5952), ('to', 5437), ('is', 4405), ('in', 3876), ('it', 3826), ('i', 3387), ('that', 3130), ('this', 3038), ('\"', 2802), (\"'s\", 2673), ('-', 2109), ('was', 2038), ('\\n\\n', 1944), ('as', 1883), ('but', 1826), ('for', 1807), ('with', 1771), ('movie', 1654), ('film', 1554), (')', 1474)]\n",
      "9781\n",
      "saved 2000 rows to /home/paperspace/text-augmentation/imdb_small_aug_es/train.csv\n",
      "train_df.shape: (2000, 2)\n",
      "saved 3000 rows to /home/paperspace/text-augmentation/imdb_small_aug_es/val.csv\n",
      "dir_path /home/paperspace/text-augmentation/imdb_small_aug_es chunksize 24000 n_lbls 1 lang en\n",
      "0\n",
      "0\n",
      "dir_path /home/paperspace/text-augmentation/imdb_small_aug_es max_vocab 60000 min_freq 1\n",
      "[('the', 28897), (',', 25096), ('.', 22438), ('and', 14056), ('a', 13485), ('of', 13285), ('to', 10682), ('is', 9435), ('in', 8254), ('it', 7773), ('that', 7165), ('i', 6958), ('this', 5992), ('\"', 5683), (\"'s\", 4405), ('not', 4157), ('was', 4046), ('movie', 3774), ('but', 3674), ('with', 3661), ('for', 3525), ('as', 3519), (')', 3003), ('\\n', 2977), ('(', 2926)]\n",
      "15889\n",
      "dir_path /home/paperspace/text-augmentation/imdb_small_aug_es; wt103_path /home/paperspace/fastai-fork/courses/dl2/wt103; cuda_id 0; pretrain_id wt103; cl 10; bs 64; backwards False dropmult 1.0; lr 0.004; preload True; bpe False;startat 0; use_clr True; notrain False; joined False early stopping True\n",
      "Loading /home/paperspace/text-augmentation/imdb_small_aug_es/tmp/trn_ids.npy and /home/paperspace/text-augmentation/imdb_small_aug_es/tmp/val_ids.npy\n",
      "data.shape\" torch.Size([8908, 64])\n",
      "data.shape\" torch.Size([12757, 64])\n",
      "Loading pretrained weights...\n"
     ]
    },
    {
     "data": {
      "application/vnd.jupyter.widget-view+json": {
       "model_id": "4d41e5def58042c8b64404355467504c",
       "version_major": 2,
       "version_minor": 0
      },
      "text/plain": [
       "HBox(children=(IntProgress(value=0, description='Epoch', max=1, style=ProgressStyle(description_width='initial…"
      ]
     },
     "metadata": {},
     "output_type": "display_data"
    },
    {
     "name": "stdout",
     "output_type": "stream",
     "text": [
      "epoch      trn_loss   val_loss   accuracy                    \n",
      "    0      4.905152   4.680365   0.228298  \n",
      "Using early stopping...\n"
     ]
    },
    {
     "data": {
      "application/vnd.jupyter.widget-view+json": {
       "model_id": "cc39fccfb0604c3bb1aa7982b75f737b",
       "version_major": 2,
       "version_minor": 0
      },
      "text/plain": [
       "HBox(children=(IntProgress(value=0, description='Epoch', max=10, style=ProgressStyle(description_width='initia…"
      ]
     },
     "metadata": {},
     "output_type": "display_data"
    },
    {
     "name": "stdout",
     "output_type": "stream",
     "text": [
      "epoch      trn_loss   val_loss   accuracy                    \n",
      "    0      4.602558   4.419314   0.242152  \n",
      "    1      4.308281   4.346654   0.242936                    \n",
      " 25%|██▌       | 32/126 [00:04<00:11,  8.02it/s, loss=4.23]"
     ]
    },
    {
     "name": "stderr",
     "output_type": "stream",
     "text": [
      "IOPub message rate exceeded.\n",
      "The notebook server will temporarily stop sending output\n",
      "to the client in order to avoid crashing it.\n",
      "To change this limit, set the config variable\n",
      "`--NotebookApp.iopub_msg_rate_limit`.\n",
      "\n",
      "Current values:\n",
      "NotebookApp.iopub_msg_rate_limit=1000.0 (msgs/sec)\n",
      "NotebookApp.rate_limit_window=3.0 (secs)\n",
      "\n"
     ]
    },
    {
     "name": "stdout",
     "output_type": "stream",
     "text": [
      "    13     0.158131   0.372169   0.884667                  \n",
      "    14     0.140942   0.380705   0.874667                  \n",
      "    15     0.143331   0.43433    0.864667                  \n",
      "    16     0.128316   0.396914   0.877                     \n",
      "    17     0.117448   0.396576   0.882667                  \n",
      "    18     0.110252   0.390644   0.884                     \n",
      "    19     0.101448   0.391485   0.884                      \n",
      "/home/paperspace/imdb_1k_3k\n",
      "saved 1000 rows to /home/paperspace/imdb_1k_3k/train.csv\n",
      "train_df.shape: (1000, 2)\n",
      "saved 3000 rows to /home/paperspace/imdb_1k_3k/val.csv\n",
      "dir_path /home/paperspace/imdb_1k_3k chunksize 24000 n_lbls 1 lang en\n",
      "0\n",
      "0\n",
      "dir_path /home/paperspace/imdb_1k_3k max_vocab 60000 min_freq 1\n",
      "[('the', 13714), ('.', 11241), (',', 11172), ('a', 6722), ('and', 6643), ('of', 6002), ('to', 5654), ('is', 4542), ('in', 3872), ('it', 3812), ('i', 3439), ('this', 3185), ('that', 2996), ('\"', 2606), (\"'s\", 2575), ('-', 2246), ('was', 2050), ('\\n\\n', 1936), ('as', 1924), ('movie', 1877), ('but', 1810), ('with', 1793), ('for', 1759), ('film', 1675), (')', 1483)]\n",
      "9884\n",
      "saved 2000 rows to /home/paperspace/text-augmentation/imdb_small_aug_es/train.csv\n",
      "train_df.shape: (2000, 2)\n",
      "saved 3000 rows to /home/paperspace/text-augmentation/imdb_small_aug_es/val.csv\n",
      "dir_path /home/paperspace/text-augmentation/imdb_small_aug_es chunksize 24000 n_lbls 1 lang en\n",
      "0\n",
      "0\n",
      "dir_path /home/paperspace/text-augmentation/imdb_small_aug_es max_vocab 60000 min_freq 1\n",
      "[('the', 29385), (',', 24558), ('.', 22889), ('a', 13751), ('and', 13652), ('of', 13272), ('to', 11127), ('is', 9709), ('in', 8254), ('it', 7768), ('i', 7039), ('that', 7033), ('this', 6299), ('\"', 5282), (\"'s\", 4265), ('movie', 4189), ('not', 4134), ('was', 4027), ('with', 3747), ('but', 3627), ('as', 3565), ('for', 3497), ('-', 3116), (')', 3043), ('\\n', 2986)]\n",
      "16053\n",
      "dir_path /home/paperspace/text-augmentation/imdb_small_aug_es; wt103_path /home/paperspace/fastai-fork/courses/dl2/wt103; cuda_id 0; pretrain_id wt103; cl 10; bs 64; backwards False dropmult 1.0; lr 0.004; preload True; bpe False;startat 0; use_clr True; notrain False; joined False early stopping True\n",
      "Loading /home/paperspace/text-augmentation/imdb_small_aug_es/tmp/trn_ids.npy and /home/paperspace/text-augmentation/imdb_small_aug_es/tmp/val_ids.npy\n",
      "data.shape\" torch.Size([8981, 64])\n",
      "data.shape\" torch.Size([13024, 64])\n",
      "Loading pretrained weights...\n"
     ]
    },
    {
     "data": {
      "application/vnd.jupyter.widget-view+json": {
       "model_id": "e4e62530b9d4443bba7d9e98d8bde33f",
       "version_major": 2,
       "version_minor": 0
      },
      "text/plain": [
       "HBox(children=(IntProgress(value=0, description='Epoch', max=1, style=ProgressStyle(description_width='initial…"
      ]
     },
     "metadata": {},
     "output_type": "display_data"
    },
    {
     "name": "stdout",
     "output_type": "stream",
     "text": [
      "epoch      trn_loss   val_loss   accuracy                    \n",
      "    0      4.920137   4.679097   0.227431  \n",
      "Using early stopping...\n"
     ]
    },
    {
     "data": {
      "application/vnd.jupyter.widget-view+json": {
       "model_id": "7d9041a53b344b3087e7e2b23055bea5",
       "version_major": 2,
       "version_minor": 0
      },
      "text/plain": [
       "HBox(children=(IntProgress(value=0, description='Epoch', max=10, style=ProgressStyle(description_width='initia…"
      ]
     },
     "metadata": {},
     "output_type": "display_data"
    },
    {
     "name": "stdout",
     "output_type": "stream",
     "text": [
      "epoch      trn_loss   val_loss   accuracy                    \n",
      "    0      4.60832    4.408831   0.241927  \n",
      "    1      4.317163   4.340888   0.243496                    \n",
      "    2      4.046986   4.351317   0.245206                    \n",
      "    3      3.814423   4.379944   0.243488                    \n",
      "    4      3.652163   4.380952   0.244353                    \n",
      "    5      3.508772   4.391719   0.244599                    \n",
      "    6      3.340869   4.440872   0.242406                    \n",
      "Stopping - no improvement after 6 epochs                     \n",
      "    7      3.239355   4.466382   0.241453  \n",
      "Loading best model from fwd_lm\n",
      "saving to /home/paperspace/text-augmentation/imdb_small_aug_es/models/fwd_lm.h5 and /home/paperspace/text-augmentation/imdb_small_aug_es/models/fwd_lm_enc.h5\n",
      "dir_path /home/paperspace/text-augmentation/imdb_small_aug_es; cuda_id 0; lm_id ; clas_id None; bs 64; cl 20; backwards False; dropmult 1.0 unfreeze True startat 0; bpe False; use_clr True;use_regular_schedule False; use_discriminative True; last False;chain_thaw False; from_scratch False; train_file_id , do_vat:False\n",
      "Trn lbls shape: (2000,)\n",
      "Number of labels: 2\n"
     ]
    },
    {
     "data": {
      "application/vnd.jupyter.widget-view+json": {
       "model_id": "880a20a45219429aa240e398b3e35ae0",
       "version_major": 2,
       "version_minor": 0
      },
      "text/plain": [
       "HBox(children=(IntProgress(value=0, description='Epoch', max=1, style=ProgressStyle(description_width='initial…"
      ]
     },
     "metadata": {},
     "output_type": "display_data"
    },
    {
     "name": "stdout",
     "output_type": "stream",
     "text": [
      "epoch      trn_loss   val_loss   accuracy                  \n",
      "    0      0.611124   0.455512   0.796     \n"
     ]
    },
    {
     "data": {
      "application/vnd.jupyter.widget-view+json": {
       "model_id": "19cf5f408a54443081648bde0297107e",
       "version_major": 2,
       "version_minor": 0
      },
      "text/plain": [
       "HBox(children=(IntProgress(value=0, description='Epoch', max=1, style=ProgressStyle(description_width='initial…"
      ]
     },
     "metadata": {},
     "output_type": "display_data"
    },
    {
     "name": "stdout",
     "output_type": "stream",
     "text": [
      "epoch      trn_loss   val_loss   accuracy                  \n",
      "    0      0.538547   0.380801   0.821333  \n"
     ]
    },
    {
     "data": {
      "application/vnd.jupyter.widget-view+json": {
       "model_id": "91c56a73cc9448b2a6971b4f804ba1eb",
       "version_major": 2,
       "version_minor": 0
      },
      "text/plain": [
       "HBox(children=(IntProgress(value=0, description='Epoch', max=20, style=ProgressStyle(description_width='initia…"
      ]
     },
     "metadata": {},
     "output_type": "display_data"
    },
    {
     "name": "stdout",
     "output_type": "stream",
     "text": [
      "epoch      trn_loss   val_loss   accuracy                  \n",
      "    0      0.440047   0.447351   0.791     \n",
      "    1      0.399299   0.349443   0.845667                  \n",
      "    2      0.364498   0.39848    0.833                     \n",
      "    3      0.333721   0.283783   0.889                     \n",
      "    4      0.281719   0.298334   0.882667                  \n",
      "    5      0.240718   0.310268   0.888667                  \n",
      " 97%|█████████▋| 61/63 [00:22<00:00,  3.10it/s, loss=0.216]"
     ]
    },
    {
     "name": "stderr",
     "output_type": "stream",
     "text": [
      "IOPub message rate exceeded.\n",
      "The notebook server will temporarily stop sending output\n",
      "to the client in order to avoid crashing it.\n",
      "To change this limit, set the config variable\n",
      "`--NotebookApp.iopub_msg_rate_limit`.\n",
      "\n",
      "Current values:\n",
      "NotebookApp.iopub_msg_rate_limit=1000.0 (msgs/sec)\n",
      "NotebookApp.rate_limit_window=3.0 (secs)\n",
      "\n"
     ]
    },
    {
     "name": "stdout",
     "output_type": "stream",
     "text": [
      "Stopping - no improvement after 6 epochs                     \n",
      "    7      3.175417   4.464954   0.242556  \n",
      "Loading best model from fwd_lm\n",
      "saving to /home/paperspace/text-augmentation/imdb_small_aug_es/models/fwd_lm.h5 and /home/paperspace/text-augmentation/imdb_small_aug_es/models/fwd_lm_enc.h5\n",
      "dir_path /home/paperspace/text-augmentation/imdb_small_aug_es; cuda_id 0; lm_id ; clas_id None; bs 64; cl 20; backwards False; dropmult 1.0 unfreeze True startat 0; bpe False; use_clr True;use_regular_schedule False; use_discriminative True; last False;chain_thaw False; from_scratch False; train_file_id , do_vat:False\n",
      "Trn lbls shape: (2000,)\n",
      "Number of labels: 2\n"
     ]
    },
    {
     "data": {
      "application/vnd.jupyter.widget-view+json": {
       "model_id": "fec8bb4db84c43ba80c584a6c068f64d",
       "version_major": 2,
       "version_minor": 0
      },
      "text/plain": [
       "HBox(children=(IntProgress(value=0, description='Epoch', max=1, style=ProgressStyle(description_width='initial…"
      ]
     },
     "metadata": {},
     "output_type": "display_data"
    },
    {
     "name": "stdout",
     "output_type": "stream",
     "text": [
      "epoch      trn_loss   val_loss   accuracy                  \n",
      "    0      0.642571   0.519069   0.743333  \n"
     ]
    },
    {
     "data": {
      "application/vnd.jupyter.widget-view+json": {
       "model_id": "5acd05687bdd42d380de35d495694afd",
       "version_major": 2,
       "version_minor": 0
      },
      "text/plain": [
       "HBox(children=(IntProgress(value=0, description='Epoch', max=1, style=ProgressStyle(description_width='initial…"
      ]
     },
     "metadata": {},
     "output_type": "display_data"
    },
    {
     "name": "stdout",
     "output_type": "stream",
     "text": [
      "epoch      trn_loss   val_loss   accuracy                  \n",
      "    0      0.531903   0.408465   0.827     \n"
     ]
    },
    {
     "data": {
      "application/vnd.jupyter.widget-view+json": {
       "model_id": "b8cbc4f01b3848b585684274ab4e3964",
       "version_major": 2,
       "version_minor": 0
      },
      "text/plain": [
       "HBox(children=(IntProgress(value=0, description='Epoch', max=20, style=ProgressStyle(description_width='initia…"
      ]
     },
     "metadata": {},
     "output_type": "display_data"
    },
    {
     "name": "stdout",
     "output_type": "stream",
     "text": [
      "epoch      trn_loss   val_loss   accuracy                  \n",
      "    0      0.435389   0.324418   0.862667  \n",
      "    1      0.417361   0.318506   0.865667                  \n",
      "    2      0.376832   0.31663    0.869667                  \n",
      "    3      0.346231   0.306916   0.881                     \n",
      "    4      0.306299   0.404327   0.845333                  \n",
      "    5      0.281483   0.33072    0.873                     \n",
      "    6      0.223884   0.34766    0.874                     \n",
      "    7      0.196869   0.33928    0.881667                  \n",
      "    8      0.152999   0.41262    0.871667                  \n",
      "    9      0.152093   0.372938   0.879667                  \n",
      "    10     0.131813   0.344745   0.884                     \n",
      "    11     0.130972   0.37719    0.871667                  \n",
      "    12     0.101569   0.433153   0.885333                  \n",
      "    13     0.09731    0.42894    0.881333                   \n",
      "    14     0.087524   0.435913   0.877667                   \n",
      "    15     0.082354   0.392948   0.895667                   \n",
      "    16     0.055331   0.475059   0.886667                   \n",
      "    17     0.05711    0.48431    0.893333                   \n",
      "    18     0.053767   0.484004   0.884333                   \n",
      "    19     0.057226   0.457731   0.889                      \n",
      "saved 1000 rows to /home/paperspace/text-augmentation/imdb_small_aug_es/train.csv\n",
      "train_df.shape: (1000, 2)\n",
      "saved 3000 rows to /home/paperspace/text-augmentation/imdb_small_aug_es/val.csv\n",
      "dir_path /home/paperspace/text-augmentation/imdb_small_aug_es chunksize 24000 n_lbls 1 lang en\n",
      "0\n",
      "0\n",
      "dir_path /home/paperspace/text-augmentation/imdb_small_aug_es max_vocab 60000 min_freq 1\n",
      "[('the', 13289), ('.', 11061), (',', 10693), ('and', 6459), ('a', 6347), ('of', 5864), ('to', 5315), ('is', 4310), ('in', 3725), ('it', 3724), ('i', 3464), ('this', 3037), ('that', 2893), ('\"', 2551), (\"'s\", 2339), ('-', 1988), ('was', 1987), ('as', 1899), ('\\n\\n', 1875), ('movie', 1827), ('with', 1740), ('for', 1682), ('but', 1620), ('film', 1546), ('you', 1394)]\n",
      "9610\n",
      "dir_path /home/paperspace/text-augmentation/imdb_small_aug_es; wt103_path /home/paperspace/fastai-fork/courses/dl2/wt103; cuda_id 0; pretrain_id wt103; cl 4; bs 64; backwards False dropmult 1.0; lr 0.004; preload True; bpe False;startat 0; use_clr True; notrain False; joined False early stopping True\n",
      "Loading /home/paperspace/text-augmentation/imdb_small_aug_es/tmp/trn_ids.npy and /home/paperspace/text-augmentation/imdb_small_aug_es/tmp/val_ids.npy\n",
      "data.shape\" torch.Size([4275, 64])\n",
      "data.shape\" torch.Size([12963, 64])\n",
      "Loading pretrained weights...\n"
     ]
    },
    {
     "data": {
      "application/vnd.jupyter.widget-view+json": {
       "model_id": "058aa848880f4a27acbf6d5bb09913a8",
       "version_major": 2,
       "version_minor": 0
      },
      "text/plain": [
       "HBox(children=(IntProgress(value=0, description='Epoch', max=1, style=ProgressStyle(description_width='initial…"
      ]
     },
     "metadata": {},
     "output_type": "display_data"
    },
    {
     "name": "stdout",
     "output_type": "stream",
     "text": [
      "epoch      trn_loss   val_loss   accuracy                    \n",
      "    0      5.068027   4.663507   0.224085  \n",
      "Using early stopping...\n"
     ]
    },
    {
     "data": {
      "application/vnd.jupyter.widget-view+json": {
       "model_id": "037562a25a2a45b09e024b765b2e8e9a",
       "version_major": 2,
       "version_minor": 0
      },
      "text/plain": [
       "HBox(children=(IntProgress(value=0, description='Epoch', max=4, style=ProgressStyle(description_width='initial…"
      ]
     },
     "metadata": {},
     "output_type": "display_data"
    },
    {
     "name": "stdout",
     "output_type": "stream",
     "text": [
      "epoch      trn_loss   val_loss   accuracy                    \n",
      "    0      4.694754   4.207976   0.254747  \n",
      "    1      4.458194   4.132097   0.259803                    \n",
      "    2      4.278676   4.101449   0.261853                    \n",
      "    3      4.135439   4.095778   0.262574                    \n",
      "Loading best model from fwd_lm\n",
      "saving to /home/paperspace/text-augmentation/imdb_small_aug_es/models/fwd_lm.h5 and /home/paperspace/text-augmentation/imdb_small_aug_es/models/fwd_lm_enc.h5\n",
      "dir_path /home/paperspace/text-augmentation/imdb_small_aug_es; cuda_id 0; lm_id ; clas_id None; bs 64; cl 20; backwards False; dropmult 1.0 unfreeze True startat 0; bpe False; use_clr True;use_regular_schedule False; use_discriminative True; last False;chain_thaw False; from_scratch False; train_file_id , do_vat:False\n",
      "Trn lbls shape: (1000,)\n",
      "Number of labels: 2\n"
     ]
    },
    {
     "data": {
      "application/vnd.jupyter.widget-view+json": {
       "model_id": "21ef2a65cace4be98459b91efd68015b",
       "version_major": 2,
       "version_minor": 0
      },
      "text/plain": [
       "HBox(children=(IntProgress(value=0, description='Epoch', max=1, style=ProgressStyle(description_width='initial…"
      ]
     },
     "metadata": {},
     "output_type": "display_data"
    },
    {
     "name": "stdout",
     "output_type": "stream",
     "text": [
      "epoch      trn_loss   val_loss   accuracy                  \n",
      "    0      0.592709   0.547966   0.76      \n"
     ]
    },
    {
     "data": {
      "application/vnd.jupyter.widget-view+json": {
       "model_id": "d661a205c0ba4c0d82f7320add27511e",
       "version_major": 2,
       "version_minor": 0
      },
      "text/plain": [
       "HBox(children=(IntProgress(value=0, description='Epoch', max=1, style=ProgressStyle(description_width='initial…"
      ]
     },
     "metadata": {},
     "output_type": "display_data"
    },
    {
     "name": "stdout",
     "output_type": "stream",
     "text": [
      "epoch      trn_loss   val_loss   accuracy                  \n",
      "    0      0.567545   0.429969   0.807667  \n"
     ]
    },
    {
     "data": {
      "application/vnd.jupyter.widget-view+json": {
       "model_id": "d01dc810e3e44cd3a15faab7ddcc475c",
       "version_major": 2,
       "version_minor": 0
      },
      "text/plain": [
       "HBox(children=(IntProgress(value=0, description='Epoch', max=20, style=ProgressStyle(description_width='initia…"
      ]
     },
     "metadata": {},
     "output_type": "display_data"
    },
    {
     "name": "stdout",
     "output_type": "stream",
     "text": [
      " 38%|███▊      | 12/32 [00:04<00:05,  3.74it/s, loss=0.462]"
     ]
    },
    {
     "name": "stderr",
     "output_type": "stream",
     "text": [
      "IOPub message rate exceeded.\n",
      "The notebook server will temporarily stop sending output\n",
      "to the client in order to avoid crashing it.\n",
      "To change this limit, set the config variable\n",
      "`--NotebookApp.iopub_msg_rate_limit`.\n",
      "\n",
      "Current values:\n",
      "NotebookApp.iopub_msg_rate_limit=1000.0 (msgs/sec)\n",
      "NotebookApp.rate_limit_window=3.0 (secs)\n",
      "\n"
     ]
    },
    {
     "name": "stdout",
     "output_type": "stream",
     "text": [
      "    3      0.250862   0.267472   0.889667                    \n",
      "    4      0.210831   0.300164   0.886667                    \n",
      "    5      0.190683   0.278854   0.896333                    \n",
      "    6      0.129892   0.422703   0.884                       \n",
      "    7      0.122085   0.500755   0.865667                    \n",
      "    8      0.091199   0.374143   0.9                          \n",
      "    9      0.081419   0.407995   0.889667                     \n",
      "    10     0.073122   0.387408   0.892333                     \n",
      "    11     0.063952   0.500811   0.878333                     \n",
      "    12     0.054778   0.437196   0.894667                     \n",
      "    13     0.047423   0.439953   0.892333                     \n",
      "    14     0.045415   0.476944   0.882333                     \n",
      "    15     0.033854   0.572412   0.882667                     \n",
      "    16     0.026455   0.526119   0.895                        \n",
      "    17     0.024028   0.54562    0.898667                     \n",
      "    18     0.033491   0.52044    0.885                        \n",
      "    19     0.025842   0.508989   0.885667                     \n",
      "saved 2000 rows to /home/paperspace/text-augmentation/imdb_small_aug_es/train.csv\n",
      "train_df.shape: (2000, 2)\n",
      "saved 3000 rows to /home/paperspace/text-augmentation/imdb_small_aug_es/val.csv\n",
      "dir_path /home/paperspace/text-augmentation/imdb_small_aug_es chunksize 24000 n_lbls 1 lang en\n",
      "0\n",
      "0\n",
      "dir_path /home/paperspace/text-augmentation/imdb_small_aug_es max_vocab 60000 min_freq 1\n",
      "[('the', 26326), ('.', 21799), (',', 21230), ('and', 12685), ('a', 12393), ('of', 11051), ('to', 10654), ('is', 8386), ('it', 7462), ('in', 7190), ('i', 7026), ('this', 5841), ('that', 5647), ('\"', 4868), (\"'s\", 4838), ('-', 4142), ('was', 4020), ('\\n\\n', 3900), ('as', 3637), ('movie', 3430), ('for', 3428), ('with', 3379), ('but', 3356), ('film', 3126), ('you', 2707)]\n",
      "14154\n",
      "dir_path /home/paperspace/text-augmentation/imdb_small_aug_es; wt103_path /home/paperspace/fastai-fork/courses/dl2/wt103; cuda_id 0; pretrain_id wt103; cl 4; bs 64; backwards False dropmult 1.0; lr 0.004; preload True; bpe False;startat 0; use_clr True; notrain False; joined False early stopping True\n",
      "Loading /home/paperspace/text-augmentation/imdb_small_aug_es/tmp/trn_ids.npy and /home/paperspace/text-augmentation/imdb_small_aug_es/tmp/val_ids.npy\n",
      "data.shape\" torch.Size([8453, 64])\n",
      "data.shape\" torch.Size([12820, 64])\n",
      "Loading pretrained weights...\n"
     ]
    },
    {
     "data": {
      "application/vnd.jupyter.widget-view+json": {
       "model_id": "33643157c7f54661b0c95c39878c55a3",
       "version_major": 2,
       "version_minor": 0
      },
      "text/plain": [
       "HBox(children=(IntProgress(value=0, description='Epoch', max=1, style=ProgressStyle(description_width='initial…"
      ]
     },
     "metadata": {},
     "output_type": "display_data"
    },
    {
     "name": "stdout",
     "output_type": "stream",
     "text": [
      "epoch      trn_loss   val_loss   accuracy                    \n",
      "    0      5.043309   4.607061   0.232146  \n",
      "Using early stopping...\n"
     ]
    },
    {
     "data": {
      "application/vnd.jupyter.widget-view+json": {
       "model_id": "bb23d92a8d1945ada67d61994a49d1d7",
       "version_major": 2,
       "version_minor": 0
      },
      "text/plain": [
       "HBox(children=(IntProgress(value=0, description='Epoch', max=4, style=ProgressStyle(description_width='initial…"
      ]
     },
     "metadata": {},
     "output_type": "display_data"
    },
    {
     "name": "stdout",
     "output_type": "stream",
     "text": [
      "epoch      trn_loss   val_loss   accuracy                    \n",
      "    0      4.692077   4.251001   0.255763  \n",
      "    1      4.44504    4.199822   0.260637                    \n",
      "    2      4.273616   4.164264   0.264621                    \n",
      "    3      4.163644   4.154384   0.265594                    \n",
      "Loading best model from fwd_lm\n",
      "saving to /home/paperspace/text-augmentation/imdb_small_aug_es/models/fwd_lm.h5 and /home/paperspace/text-augmentation/imdb_small_aug_es/models/fwd_lm_enc.h5\n",
      "dir_path /home/paperspace/text-augmentation/imdb_small_aug_es; cuda_id 0; lm_id ; clas_id None; bs 64; cl 20; backwards False; dropmult 1.0 unfreeze True startat 0; bpe False; use_clr True;use_regular_schedule False; use_discriminative True; last False;chain_thaw False; from_scratch False; train_file_id , do_vat:False\n",
      "Trn lbls shape: (2000,)\n",
      "Number of labels: 2\n"
     ]
    },
    {
     "data": {
      "application/vnd.jupyter.widget-view+json": {
       "model_id": "f80782f84f464fbf8995590f589937cc",
       "version_major": 2,
       "version_minor": 0
      },
      "text/plain": [
       "HBox(children=(IntProgress(value=0, description='Epoch', max=1, style=ProgressStyle(description_width='initial…"
      ]
     },
     "metadata": {},
     "output_type": "display_data"
    },
    {
     "name": "stdout",
     "output_type": "stream",
     "text": [
      "epoch      trn_loss   val_loss   accuracy                  \n",
      "    0      0.576102   0.452599   0.816     \n"
     ]
    },
    {
     "data": {
      "application/vnd.jupyter.widget-view+json": {
       "model_id": "0dd28569bfcf4d6f940a7cb6fcda66c1",
       "version_major": 2,
       "version_minor": 0
      },
      "text/plain": [
       "HBox(children=(IntProgress(value=0, description='Epoch', max=1, style=ProgressStyle(description_width='initial…"
      ]
     },
     "metadata": {},
     "output_type": "display_data"
    },
    {
     "name": "stdout",
     "output_type": "stream",
     "text": [
      "epoch      trn_loss   val_loss   accuracy                  \n",
      "    0      0.497854   0.369127   0.837667  \n"
     ]
    },
    {
     "data": {
      "application/vnd.jupyter.widget-view+json": {
       "model_id": "0ccc5543bb3b44bfaba5d55766ac085c",
       "version_major": 2,
       "version_minor": 0
      },
      "text/plain": [
       "HBox(children=(IntProgress(value=0, description='Epoch', max=20, style=ProgressStyle(description_width='initia…"
      ]
     },
     "metadata": {},
     "output_type": "display_data"
    },
    {
     "name": "stdout",
     "output_type": "stream",
     "text": [
      "epoch      trn_loss   val_loss   accuracy                  \n",
      "    0      0.431426   0.33109    0.857     \n",
      "    1      0.420751   0.314747   0.869                     \n",
      "    2      0.400425   0.350661   0.856667                  \n",
      "    3      0.36114    0.337646   0.847333                  \n",
      "    4      0.324671   0.307759   0.882333                  \n",
      "    5      0.30858    0.330982   0.866                     \n",
      "    6      0.274898   0.28586    0.892667                  \n",
      "    7      0.269684   0.265733   0.896                     \n",
      "    8      0.244145   0.296044   0.891667                  \n",
      "    9      0.220366   0.275857   0.897                     \n",
      "    10     0.200879   0.353547   0.866333                  \n",
      "    11     0.194893   0.317062   0.890667                  \n",
      "    12     0.166032   0.350825   0.883                     \n",
      "    13     0.165749   0.303913   0.891                     \n",
      "    14     0.138499   0.363571   0.89                      \n",
      "    15     0.133753   0.374374   0.886333                  \n",
      "    16     0.122887   0.405015   0.887                     \n",
      "    17     0.132293   0.312622   0.893333                  \n",
      "    18     0.109823   0.344925   0.895667                  \n",
      "    19     0.10075    0.34867    0.895667                  \n",
      "/home/paperspace/imdb_2k_3k\n",
      "saved 2000 rows to /home/paperspace/imdb_2k_3k/train.csv\n",
      "train_df.shape: (2000, 2)\n",
      "saved 3000 rows to /home/paperspace/imdb_2k_3k/val.csv\n",
      "dir_path /home/paperspace/imdb_2k_3k chunksize 24000 n_lbls 1 lang en\n",
      "0\n",
      "0\n",
      "dir_path /home/paperspace/imdb_2k_3k max_vocab 60000 min_freq 1\n",
      "[('the', 26506), ('.', 22106), (',', 21611), ('and', 12968), ('a', 12952), ('of', 11571), ('to', 10746), ('is', 8914), ('it', 7498), ('in', 7371), ('i', 6673), ('this', 6030), ('that', 5726), (\"'s\", 4974), ('\"', 4869), ('-', 4134), ('\\n\\n', 3986), ('was', 3853), ('as', 3721), ('for', 3637), ('with', 3531), ('movie', 3506), ('but', 3339), ('film', 3167), ('you', 2771)]\n",
      "14585\n",
      "saved 4000 rows to /home/paperspace/text-augmentation/imdb_small_aug_es/train.csv\n",
      "train_df.shape: (4000, 2)\n",
      "saved 3000 rows to /home/paperspace/text-augmentation/imdb_small_aug_es/val.csv\n",
      "dir_path /home/paperspace/text-augmentation/imdb_small_aug_es chunksize 24000 n_lbls 1 lang en\n",
      "0\n",
      "0\n",
      "dir_path /home/paperspace/text-augmentation/imdb_small_aug_es max_vocab 60000 min_freq 1\n",
      "[('the', 56709), (',', 47330), ('.', 44954), ('and', 26662), ('a', 26394), ('of', 25458), ('to', 21103), ('is', 19006), ('in', 15719), ('it', 15299), ('i', 13752), ('that', 13302), ('this', 11906), ('\"', 10025), (\"'s\", 8243), ('not', 8055), ('movie', 7813), ('was', 7668), ('with', 7176), ('for', 7118), ('as', 6827), ('but', 6718), ('\\n', 5960), ('-', 5802), ('you', 5656)]\n",
      "22296\n",
      "dir_path /home/paperspace/text-augmentation/imdb_small_aug_es; wt103_path /home/paperspace/fastai-fork/courses/dl2/wt103; cuda_id 0; pretrain_id wt103; cl 10; bs 64; backwards False dropmult 1.0; lr 0.004; preload True; bpe False;startat 0; use_clr True; notrain False; joined False early stopping True\n",
      "Loading /home/paperspace/text-augmentation/imdb_small_aug_es/tmp/trn_ids.npy and /home/paperspace/text-augmentation/imdb_small_aug_es/tmp/val_ids.npy\n",
      "data.shape\" torch.Size([17340, 64])\n",
      "data.shape\" torch.Size([13025, 64])\n",
      "Loading pretrained weights...\n"
     ]
    },
    {
     "data": {
      "application/vnd.jupyter.widget-view+json": {
       "model_id": "c8eb267f209d4d0eaef0686faf9c7ec1",
       "version_major": 2,
       "version_minor": 0
      },
      "text/plain": [
       "HBox(children=(IntProgress(value=0, description='Epoch', max=1, style=ProgressStyle(description_width='initial…"
      ]
     },
     "metadata": {},
     "output_type": "display_data"
    },
    {
     "name": "stdout",
     "output_type": "stream",
     "text": [
      "epoch      trn_loss   val_loss   accuracy                    \n",
      "    0      4.844775   4.586913   0.235647  \n",
      "Using early stopping...\n"
     ]
    },
    {
     "data": {
      "application/vnd.jupyter.widget-view+json": {
       "model_id": "8f3c3acd1b404e8d82c590bdbd8fa60b",
       "version_major": 2,
       "version_minor": 0
      },
      "text/plain": [
       "HBox(children=(IntProgress(value=0, description='Epoch', max=10, style=ProgressStyle(description_width='initia…"
      ]
     },
     "metadata": {},
     "output_type": "display_data"
    },
    {
     "name": "stdout",
     "output_type": "stream",
     "text": [
      "epoch      trn_loss   val_loss   accuracy                    \n",
      "    0      4.559922   4.411445   0.247154  \n",
      "    1      4.272005   4.374698   0.251119                    \n",
      "    2      4.039361   4.36171    0.25286                     \n",
      "    3      3.861774   4.363828   0.253175                    \n",
      "    4      3.686606   4.401227   0.251417                    \n",
      "    5      3.57386    4.398791   0.252242                    \n",
      "    6      3.450024   4.439203   0.251118                    \n",
      "    7      3.387052   4.445762   0.250883                    \n",
      "Stopping - no improvement after 6 epochs                     \n",
      "    8      3.300838   4.459606   0.251046  \n",
      "Loading best model from fwd_lm\n",
      "saving to /home/paperspace/text-augmentation/imdb_small_aug_es/models/fwd_lm.h5 and /home/paperspace/text-augmentation/imdb_small_aug_es/models/fwd_lm_enc.h5\n",
      "dir_path /home/paperspace/text-augmentation/imdb_small_aug_es; cuda_id 0; lm_id ; clas_id None; bs 64; cl 20; backwards False; dropmult 1.0 unfreeze True startat 0; bpe False; use_clr True;use_regular_schedule False; use_discriminative True; last False;chain_thaw False; from_scratch False; train_file_id , do_vat:False\n",
      "Trn lbls shape: (4000,)\n",
      "Number of labels: 2\n"
     ]
    },
    {
     "data": {
      "application/vnd.jupyter.widget-view+json": {
       "model_id": "a94328eb37324a458427611a003cf8b8",
       "version_major": 2,
       "version_minor": 0
      },
      "text/plain": [
       "HBox(children=(IntProgress(value=0, description='Epoch', max=1, style=ProgressStyle(description_width='initial…"
      ]
     },
     "metadata": {},
     "output_type": "display_data"
    },
    {
     "name": "stdout",
     "output_type": "stream",
     "text": [
      "epoch      trn_loss   val_loss   accuracy                    \n",
      "    0      0.50777    0.413798   0.814     \n"
     ]
    },
    {
     "data": {
      "application/vnd.jupyter.widget-view+json": {
       "model_id": "3003c5a151eb409a96c58cd18d37cbc0",
       "version_major": 2,
       "version_minor": 0
      },
      "text/plain": [
       "HBox(children=(IntProgress(value=0, description='Epoch', max=1, style=ProgressStyle(description_width='initial…"
      ]
     },
     "metadata": {},
     "output_type": "display_data"
    },
    {
     "name": "stdout",
     "output_type": "stream",
     "text": [
      "epoch      trn_loss   val_loss   accuracy                    \n",
      "    0      0.436623   0.348796   0.854667  \n"
     ]
    },
    {
     "data": {
      "application/vnd.jupyter.widget-view+json": {
       "model_id": "037394e12c834b4e83040e40e3021d6d",
       "version_major": 2,
       "version_minor": 0
      },
      "text/plain": [
       "HBox(children=(IntProgress(value=0, description='Epoch', max=20, style=ProgressStyle(description_width='initia…"
      ]
     },
     "metadata": {},
     "output_type": "display_data"
    },
    {
     "name": "stdout",
     "output_type": "stream",
     "text": [
      "epoch      trn_loss   val_loss   accuracy                    \n",
      "    0      0.358491   0.326311   0.857333  \n",
      "    1      0.330195   0.313582   0.853667                    \n",
      "    2      0.282199   0.412443   0.843667                    \n",
      "    3      0.233488   0.278988   0.888333                    \n",
      "    4      0.192457   0.288261   0.883333                    \n",
      "    5      0.141032   0.311516   0.895667                    \n",
      "    6      0.129322   0.415925   0.866                       \n",
      "    7      0.103588   0.364137   0.892333                    \n",
      "    8      0.093305   0.338567   0.904667                     \n",
      "    9      0.081232   0.416329   0.889667                     \n",
      "    10     0.060206   0.433537   0.896333                     \n",
      "    11     0.056394   0.361098   0.902                        \n",
      "    12     0.046174   0.400204   0.899                        \n",
      "    13     0.031332   0.459456   0.898333                     \n",
      "    14     0.052603   0.377458   0.898667                     \n",
      "    15     0.033933   0.438129   0.899333                     \n",
      "    16     0.036335   0.414507   0.902                        \n",
      "    17     0.025724   0.437408   0.902                        \n",
      "    18     0.035375   0.408189   0.899                        \n",
      "    19     0.027381   0.439069   0.898333                     \n",
      "saved 2000 rows to /home/paperspace/text-augmentation/imdb_small_aug_es/train.csv\n",
      "train_df.shape: (2000, 2)\n",
      "saved 3000 rows to /home/paperspace/text-augmentation/imdb_small_aug_es/val.csv\n",
      "dir_path /home/paperspace/text-augmentation/imdb_small_aug_es chunksize 24000 n_lbls 1 lang en\n",
      "0\n",
      "0\n",
      "dir_path /home/paperspace/text-augmentation/imdb_small_aug_es max_vocab 60000 min_freq 1\n",
      "[('the', 26506), ('.', 22106), (',', 21611), ('and', 12968), ('a', 12952), ('of', 11571), ('to', 10746), ('is', 8914), ('it', 7498), ('in', 7371), ('i', 6673), ('this', 6030), ('that', 5726), (\"'s\", 4974), ('\"', 4869), ('-', 4134), ('\\n\\n', 3986), ('was', 3853), ('as', 3721), ('for', 3637), ('with', 3531), ('movie', 3506), ('but', 3339), ('film', 3167), ('you', 2771)]\n",
      "14585\n",
      "dir_path /home/paperspace/text-augmentation/imdb_small_aug_es; wt103_path /home/paperspace/fastai-fork/courses/dl2/wt103; cuda_id 0; pretrain_id wt103; cl 4; bs 64; backwards False dropmult 1.0; lr 0.004; preload True; bpe False;startat 0; use_clr True; notrain False; joined False early stopping True\n",
      "Loading /home/paperspace/text-augmentation/imdb_small_aug_es/tmp/trn_ids.npy and /home/paperspace/text-augmentation/imdb_small_aug_es/tmp/val_ids.npy\n",
      "data.shape\" torch.Size([8644, 64])\n",
      "data.shape\" torch.Size([13025, 64])\n",
      "Loading pretrained weights...\n"
     ]
    },
    {
     "data": {
      "application/vnd.jupyter.widget-view+json": {
       "model_id": "c3dcd5ead29d439797886bdef74d7529",
       "version_major": 2,
       "version_minor": 0
      },
      "text/plain": [
       "HBox(children=(IntProgress(value=0, description='Epoch', max=1, style=ProgressStyle(description_width='initial…"
      ]
     },
     "metadata": {},
     "output_type": "display_data"
    },
    {
     "name": "stdout",
     "output_type": "stream",
     "text": [
      "epoch      trn_loss   val_loss   accuracy                    \n",
      "    0      5.056587   4.606225   0.233061  \n",
      "Using early stopping...\n"
     ]
    },
    {
     "data": {
      "application/vnd.jupyter.widget-view+json": {
       "model_id": "7dbf310a990a41f29c27a7818db7b094",
       "version_major": 2,
       "version_minor": 0
      },
      "text/plain": [
       "HBox(children=(IntProgress(value=0, description='Epoch', max=4, style=ProgressStyle(description_width='initial…"
      ]
     },
     "metadata": {},
     "output_type": "display_data"
    },
    {
     "name": "stdout",
     "output_type": "stream",
     "text": [
      "epoch      trn_loss   val_loss   accuracy                    \n",
      "    0      4.706673   4.271025   0.254315  \n",
      "    1      4.464271   4.205998   0.260422                    \n",
      "    2      4.293893   4.180855   0.261954                    \n",
      "    3      4.165229   4.17185    0.263612                    \n",
      "Loading best model from fwd_lm\n",
      "saving to /home/paperspace/text-augmentation/imdb_small_aug_es/models/fwd_lm.h5 and /home/paperspace/text-augmentation/imdb_small_aug_es/models/fwd_lm_enc.h5\n",
      "dir_path /home/paperspace/text-augmentation/imdb_small_aug_es; cuda_id 0; lm_id ; clas_id None; bs 64; cl 20; backwards False; dropmult 1.0 unfreeze True startat 0; bpe False; use_clr True;use_regular_schedule False; use_discriminative True; last False;chain_thaw False; from_scratch False; train_file_id , do_vat:False\n",
      "Trn lbls shape: (2000,)\n",
      "Number of labels: 2\n"
     ]
    },
    {
     "data": {
      "application/vnd.jupyter.widget-view+json": {
       "model_id": "78b1cdd662184e40b0c1a1724a070744",
       "version_major": 2,
       "version_minor": 0
      },
      "text/plain": [
       "HBox(children=(IntProgress(value=0, description='Epoch', max=1, style=ProgressStyle(description_width='initial…"
      ]
     },
     "metadata": {},
     "output_type": "display_data"
    },
    {
     "name": "stdout",
     "output_type": "stream",
     "text": [
      "epoch      trn_loss   val_loss   accuracy                  \n",
      "    0      0.519391   0.424967   0.804667  \n"
     ]
    },
    {
     "data": {
      "application/vnd.jupyter.widget-view+json": {
       "model_id": "0400df3893414607a3071316cf4f1103",
       "version_major": 2,
       "version_minor": 0
      },
      "text/plain": [
       "HBox(children=(IntProgress(value=0, description='Epoch', max=1, style=ProgressStyle(description_width='initial…"
      ]
     },
     "metadata": {},
     "output_type": "display_data"
    },
    {
     "name": "stdout",
     "output_type": "stream",
     "text": [
      "epoch      trn_loss   val_loss   accuracy                  \n",
      "    0      0.476039   0.382982   0.829333  \n"
     ]
    },
    {
     "data": {
      "application/vnd.jupyter.widget-view+json": {
       "model_id": "71a83da30d3340f0a8bad3af0899fceb",
       "version_major": 2,
       "version_minor": 0
      },
      "text/plain": [
       "HBox(children=(IntProgress(value=0, description='Epoch', max=20, style=ProgressStyle(description_width='initia…"
      ]
     },
     "metadata": {},
     "output_type": "display_data"
    },
    {
     "name": "stdout",
     "output_type": "stream",
     "text": [
      "epoch      trn_loss   val_loss   accuracy                  \n",
      "    0      0.449716   0.330748   0.869     \n",
      "    1      0.40714    0.317351   0.868667                  \n",
      "    2      0.386415   0.288798   0.882333                  \n",
      "    3      0.345519   0.268108   0.890667                  \n",
      "    4      0.321786   0.306387   0.880667                  \n",
      "    5      0.269795   0.383087   0.855                     \n",
      "    6      0.244848   0.29953    0.899                     \n",
      "    7      0.231546   0.259726   0.897667                  \n",
      "    8      0.216521   0.283348   0.893333                  \n",
      "    9      0.182886   0.293745   0.895333                  \n",
      "    10     0.182314   0.396093   0.858667                  \n",
      "    11     0.178512   0.296628   0.889667                  \n",
      "    12     0.165936   0.31898    0.886667                  \n",
      "    13     0.122305   0.437195   0.869                     \n",
      "    14     0.115781   0.329572   0.895667                  \n",
      "    15     0.103936   0.370242   0.892333                   \n",
      "    16     0.093338   0.374728   0.894333                   \n",
      "    17     0.106323   0.383032   0.891667                   \n",
      "    18     0.096721   0.364109   0.896333                   \n",
      "    19     0.085373   0.379109   0.893667                   \n",
      "/home/paperspace/imdb_2k_3k\n",
      "saved 2000 rows to /home/paperspace/imdb_2k_3k/train.csv\n",
      "train_df.shape: (2000, 2)\n",
      "saved 3000 rows to /home/paperspace/imdb_2k_3k/val.csv\n",
      "dir_path /home/paperspace/imdb_2k_3k chunksize 24000 n_lbls 1 lang en\n",
      "0\n",
      "0\n",
      "dir_path /home/paperspace/imdb_2k_3k max_vocab 60000 min_freq 1\n",
      "[('the', 26785), ('.', 22169), (',', 21287), ('and', 13033), ('a', 12612), ('of', 11606), ('to', 10817), ('is', 8651), ('it', 7641), ('in', 7412), ('i', 6760), ('that', 5839), ('this', 5822), ('\"', 5215), (\"'s\", 4928), ('-', 4117), ('was', 4048), ('\\n\\n', 4005), ('as', 3634), ('movie', 3560), ('for', 3505), ('with', 3491), ('but', 3261), ('film', 3259), ('you', 2671)]\n",
      "14573\n",
      "saved 4000 rows to /home/paperspace/text-augmentation/imdb_small_aug_es/train.csv\n",
      "train_df.shape: (4000, 2)\n",
      "saved 3000 rows to /home/paperspace/text-augmentation/imdb_small_aug_es/val.csv\n",
      "dir_path /home/paperspace/text-augmentation/imdb_small_aug_es chunksize 24000 n_lbls 1 lang en\n",
      "0\n",
      "0\n",
      "dir_path /home/paperspace/text-augmentation/imdb_small_aug_es max_vocab 60000 min_freq 1\n",
      "[('the', 57175), (',', 46927), ('.', 45000), ('and', 26696), ('a', 25753), ('of', 25422), ('to', 21238), ('is', 18357), ('in', 15763), ('it', 15466), ('i', 13909), ('that', 13519), ('this', 11515), ('\"', 10572), (\"'s\", 8218), ('was', 8073), ('movie', 8069), ('not', 7925), ('with', 7157), ('for', 6912), ('as', 6731), ('but', 6562), ('\\n', 5964), ('-', 5737), ('film', 5600)]\n",
      "22248\n",
      "dir_path /home/paperspace/text-augmentation/imdb_small_aug_es; wt103_path /home/paperspace/fastai-fork/courses/dl2/wt103; cuda_id 0; pretrain_id wt103; cl 10; bs 64; backwards False dropmult 1.0; lr 0.004; preload True; bpe False;startat 0; use_clr True; notrain False; joined False early stopping True\n",
      "Loading /home/paperspace/text-augmentation/imdb_small_aug_es/tmp/trn_ids.npy and /home/paperspace/text-augmentation/imdb_small_aug_es/tmp/val_ids.npy\n",
      "data.shape\" torch.Size([17222, 64])\n",
      "data.shape\" torch.Size([12943, 64])\n",
      "Loading pretrained weights...\n"
     ]
    },
    {
     "data": {
      "application/vnd.jupyter.widget-view+json": {
       "model_id": "c7962a7aee2040378bc8ecf927f497d5",
       "version_major": 2,
       "version_minor": 0
      },
      "text/plain": [
       "HBox(children=(IntProgress(value=0, description='Epoch', max=1, style=ProgressStyle(description_width='initial…"
      ]
     },
     "metadata": {},
     "output_type": "display_data"
    },
    {
     "name": "stdout",
     "output_type": "stream",
     "text": [
      "epoch      trn_loss   val_loss   accuracy                    \n",
      "    0      4.849435   4.574511   0.235569  \n",
      "Using early stopping...\n"
     ]
    },
    {
     "data": {
      "application/vnd.jupyter.widget-view+json": {
       "model_id": "eb14909f448f4402bbfb75a71486f486",
       "version_major": 2,
       "version_minor": 0
      },
      "text/plain": [
       "HBox(children=(IntProgress(value=0, description='Epoch', max=10, style=ProgressStyle(description_width='initia…"
      ]
     },
     "metadata": {},
     "output_type": "display_data"
    },
    {
     "name": "stdout",
     "output_type": "stream",
     "text": [
      "epoch      trn_loss   val_loss   accuracy                    \n",
      "    0      4.56005    4.392057   0.24362   \n",
      "    1      4.274748   4.359279   0.250165                    \n",
      "    2      4.03293    4.343489   0.253746                    \n",
      "    3      3.841539   4.355655   0.254204                    \n",
      "    4      3.69756    4.375677   0.253894                    \n",
      "    5      3.593779   4.366864   0.253891                    \n",
      "    6      3.455604   4.404921   0.253298                    \n",
      "    7      3.365309   4.425681   0.252777                    \n",
      "Stopping - no improvement after 6 epochs                     \n",
      "    8      3.310059   4.430266   0.252365  \n",
      "Loading best model from fwd_lm\n",
      "saving to /home/paperspace/text-augmentation/imdb_small_aug_es/models/fwd_lm.h5 and /home/paperspace/text-augmentation/imdb_small_aug_es/models/fwd_lm_enc.h5\n",
      "dir_path /home/paperspace/text-augmentation/imdb_small_aug_es; cuda_id 0; lm_id ; clas_id None; bs 64; cl 20; backwards False; dropmult 1.0 unfreeze True startat 0; bpe False; use_clr True;use_regular_schedule False; use_discriminative True; last False;chain_thaw False; from_scratch False; train_file_id , do_vat:False\n",
      "Trn lbls shape: (4000,)\n",
      "Number of labels: 2\n"
     ]
    },
    {
     "data": {
      "application/vnd.jupyter.widget-view+json": {
       "model_id": "23bca9d52b43446f932f795c3d080546",
       "version_major": 2,
       "version_minor": 0
      },
      "text/plain": [
       "HBox(children=(IntProgress(value=0, description='Epoch', max=1, style=ProgressStyle(description_width='initial…"
      ]
     },
     "metadata": {},
     "output_type": "display_data"
    },
    {
     "name": "stdout",
     "output_type": "stream",
     "text": [
      "epoch      trn_loss   val_loss   accuracy                    \n",
      "    0      0.509451   0.377876   0.839333  \n"
     ]
    },
    {
     "data": {
      "application/vnd.jupyter.widget-view+json": {
       "model_id": "f34353f5ea9f4342b74ac4daab818cbf",
       "version_major": 2,
       "version_minor": 0
      },
      "text/plain": [
       "HBox(children=(IntProgress(value=0, description='Epoch', max=1, style=ProgressStyle(description_width='initial…"
      ]
     },
     "metadata": {},
     "output_type": "display_data"
    },
    {
     "name": "stdout",
     "output_type": "stream",
     "text": [
      "epoch      trn_loss   val_loss   accuracy                    \n",
      "    0      0.434545   0.327689   0.859333  \n"
     ]
    },
    {
     "data": {
      "application/vnd.jupyter.widget-view+json": {
       "model_id": "9c3b85ab2e9e456699ee828656700ad2",
       "version_major": 2,
       "version_minor": 0
      },
      "text/plain": [
       "HBox(children=(IntProgress(value=0, description='Epoch', max=20, style=ProgressStyle(description_width='initia…"
      ]
     },
     "metadata": {},
     "output_type": "display_data"
    },
    {
     "name": "stdout",
     "output_type": "stream",
     "text": [
      "epoch      trn_loss   val_loss   accuracy                    \n",
      "    0      0.358632   0.261861   0.900667  \n",
      "    1      0.341953   0.282557   0.884                       \n",
      "    2      0.291157   0.269507   0.889333                    \n",
      "    3      0.228745   0.22753    0.906667                    \n",
      "    4      0.186542   0.262141   0.903                       \n",
      "    5      0.148713   0.277788   0.899333                    \n",
      "    6      0.138228   0.331834   0.892333                    \n",
      "    7      0.097188   0.303633   0.911333                     \n",
      "    8      0.089009   0.329659   0.903                        \n",
      "    9      0.090688   0.278631   0.913333                     \n",
      "    10     0.05562    0.322091   0.914667                     \n",
      "    11     0.05227    0.340029   0.905333                     \n",
      "    12     0.055      0.355837   0.906                        \n",
      "    13     0.043523   0.355544   0.908                        \n",
      "    14     0.035164   0.359777   0.913667                     \n",
      "    15     0.032276   0.346013   0.913333                     \n",
      "    16     0.035088   0.38959    0.904333                     \n",
      "    17     0.026249   0.405352   0.907667                     \n",
      "    18     0.031578   0.394777   0.906667                     \n",
      "    19     0.023493   0.397098   0.911667                     \n",
      "saved 2000 rows to /home/paperspace/text-augmentation/imdb_small_aug_es/train.csv\n",
      "train_df.shape: (2000, 2)\n",
      "saved 3000 rows to /home/paperspace/text-augmentation/imdb_small_aug_es/val.csv\n",
      "dir_path /home/paperspace/text-augmentation/imdb_small_aug_es chunksize 24000 n_lbls 1 lang en\n",
      "0\n",
      "0\n",
      "dir_path /home/paperspace/text-augmentation/imdb_small_aug_es max_vocab 60000 min_freq 1\n",
      "[('the', 26785), ('.', 22169), (',', 21287), ('and', 13033), ('a', 12612), ('of', 11606), ('to', 10817), ('is', 8651), ('it', 7641), ('in', 7412), ('i', 6760), ('that', 5839), ('this', 5822), ('\"', 5215), (\"'s\", 4928), ('-', 4117), ('was', 4048), ('\\n\\n', 4005), ('as', 3634), ('movie', 3560), ('for', 3505), ('with', 3491), ('but', 3261), ('film', 3259), ('you', 2671)]\n",
      "14573\n",
      "dir_path /home/paperspace/text-augmentation/imdb_small_aug_es; wt103_path /home/paperspace/fastai-fork/courses/dl2/wt103; cuda_id 0; pretrain_id wt103; cl 4; bs 64; backwards False dropmult 1.0; lr 0.004; preload True; bpe False;startat 0; use_clr True; notrain False; joined False early stopping True\n",
      "Loading /home/paperspace/text-augmentation/imdb_small_aug_es/tmp/trn_ids.npy and /home/paperspace/text-augmentation/imdb_small_aug_es/tmp/val_ids.npy\n",
      "data.shape\" torch.Size([8584, 64])\n",
      "data.shape\" torch.Size([12943, 64])\n",
      "Loading pretrained weights...\n"
     ]
    },
    {
     "data": {
      "application/vnd.jupyter.widget-view+json": {
       "model_id": "c424c25c43c549c292f1d17fecca7540",
       "version_major": 2,
       "version_minor": 0
      },
      "text/plain": [
       "HBox(children=(IntProgress(value=0, description='Epoch', max=1, style=ProgressStyle(description_width='initial…"
      ]
     },
     "metadata": {},
     "output_type": "display_data"
    },
    {
     "name": "stdout",
     "output_type": "stream",
     "text": [
      "epoch      trn_loss   val_loss   accuracy                    \n",
      "    0      5.059072   4.602176   0.232926  \n",
      "Using early stopping...\n"
     ]
    },
    {
     "data": {
      "application/vnd.jupyter.widget-view+json": {
       "model_id": "ad637c7a801c4e3d8e10e67e0c75d12f",
       "version_major": 2,
       "version_minor": 0
      },
      "text/plain": [
       "HBox(children=(IntProgress(value=0, description='Epoch', max=4, style=ProgressStyle(description_width='initial…"
      ]
     },
     "metadata": {},
     "output_type": "display_data"
    },
    {
     "name": "stdout",
     "output_type": "stream",
     "text": [
      "epoch      trn_loss   val_loss   accuracy                    \n",
      "    0      4.71054    4.256238   0.256395  \n",
      "    1      4.461495   4.199388   0.26132                     \n",
      "    2      4.283662   4.172282   0.262928                    \n",
      "    3      4.179087   4.161535   0.264546                    \n",
      "Loading best model from fwd_lm\n",
      "saving to /home/paperspace/text-augmentation/imdb_small_aug_es/models/fwd_lm.h5 and /home/paperspace/text-augmentation/imdb_small_aug_es/models/fwd_lm_enc.h5\n",
      "dir_path /home/paperspace/text-augmentation/imdb_small_aug_es; cuda_id 0; lm_id ; clas_id None; bs 64; cl 20; backwards False; dropmult 1.0 unfreeze True startat 0; bpe False; use_clr True;use_regular_schedule False; use_discriminative True; last False;chain_thaw False; from_scratch False; train_file_id , do_vat:False\n",
      "Trn lbls shape: (2000,)\n",
      "Number of labels: 2\n"
     ]
    },
    {
     "data": {
      "application/vnd.jupyter.widget-view+json": {
       "model_id": "495f4244bec942128bc42bd673770d49",
       "version_major": 2,
       "version_minor": 0
      },
      "text/plain": [
       "HBox(children=(IntProgress(value=0, description='Epoch', max=1, style=ProgressStyle(description_width='initial…"
      ]
     },
     "metadata": {},
     "output_type": "display_data"
    },
    {
     "name": "stdout",
     "output_type": "stream",
     "text": [
      "epoch      trn_loss   val_loss   accuracy                  \n",
      "    0      0.596142   0.436149   0.802667  \n"
     ]
    },
    {
     "data": {
      "application/vnd.jupyter.widget-view+json": {
       "model_id": "d62e0909f8894117aeb3457545139e6e",
       "version_major": 2,
       "version_minor": 0
      },
      "text/plain": [
       "HBox(children=(IntProgress(value=0, description='Epoch', max=1, style=ProgressStyle(description_width='initial…"
      ]
     },
     "metadata": {},
     "output_type": "display_data"
    },
    {
     "name": "stdout",
     "output_type": "stream",
     "text": [
      "epoch      trn_loss   val_loss   accuracy                  \n",
      "    0      0.512449   0.357862   0.847333  \n"
     ]
    },
    {
     "data": {
      "application/vnd.jupyter.widget-view+json": {
       "model_id": "8d12df253ef840faa3cf58c5f0a33998",
       "version_major": 2,
       "version_minor": 0
      },
      "text/plain": [
       "HBox(children=(IntProgress(value=0, description='Epoch', max=20, style=ProgressStyle(description_width='initia…"
      ]
     },
     "metadata": {},
     "output_type": "display_data"
    },
    {
     "name": "stdout",
     "output_type": "stream",
     "text": [
      "epoch      trn_loss   val_loss   accuracy                  \n",
      "    0      0.455803   0.318373   0.866333  \n",
      "    1      0.415274   0.313624   0.868                     \n",
      "    2      0.390686   0.27126    0.890667                  \n",
      "    3      0.351684   0.250817   0.899                     \n",
      "    4      0.319799   0.300434   0.891667                  \n",
      "    5      0.290098   0.244522   0.904                     \n",
      "    6      0.25157    0.31191    0.892333                  \n",
      "    7      0.243909   0.238471   0.912                     \n",
      "    8      0.208604   0.264552   0.896333                  \n",
      "    9      0.182012   0.268295   0.905                     \n",
      "    10     0.169917   0.289194   0.904667                  \n",
      "    11     0.152978   0.272597   0.910667                  \n",
      "    12     0.142088   0.29482    0.901333                  \n",
      "    13     0.141407   0.272044   0.910667                  \n",
      "    14     0.124811   0.27344    0.905667                  \n",
      "    15     0.101061   0.310061   0.904333                   \n",
      "    16     0.090894   0.296686   0.912667                   \n",
      "    17     0.085221   0.3072     0.911333                   \n",
      "    18     0.076136   0.327865   0.908                      \n",
      "    19     0.074468   0.319859   0.908667                   \n",
      "/home/paperspace/imdb_3k_3k\n",
      "saved 3000 rows to /home/paperspace/imdb_3k_3k/train.csv\n",
      "train_df.shape: (3000, 2)\n",
      "saved 3000 rows to /home/paperspace/imdb_3k_3k/val.csv\n",
      "dir_path /home/paperspace/imdb_3k_3k chunksize 24000 n_lbls 1 lang en\n",
      "0\n",
      "0\n",
      "dir_path /home/paperspace/imdb_3k_3k max_vocab 60000 min_freq 1\n",
      "[('the', 39942), ('.', 33043), (',', 32868), ('and', 19899), ('a', 19210), ('of', 17370), ('to', 16117), ('is', 13015), ('it', 11681), ('in', 11132), ('i', 10329), ('this', 9048), ('that', 8685), ('\"', 8380), (\"'s\", 7704), ('-', 6672), ('\\n\\n', 6026), ('was', 6026), ('as', 5682), ('movie', 5243), ('with', 5240), ('for', 5216), ('but', 5012), ('film', 4737), (')', 4192)]\n",
      "18112\n",
      "saved 6000 rows to /home/paperspace/text-augmentation/imdb_small_aug_es/train.csv\n",
      "train_df.shape: (6000, 2)\n",
      "saved 3000 rows to /home/paperspace/text-augmentation/imdb_small_aug_es/val.csv\n",
      "dir_path /home/paperspace/text-augmentation/imdb_small_aug_es chunksize 24000 n_lbls 1 lang en\n",
      "0\n",
      "0\n",
      "dir_path /home/paperspace/text-augmentation/imdb_small_aug_es max_vocab 60000 min_freq 1\n",
      "[('the', 85704), (',', 72206), ('.', 67404), ('and', 40891), ('a', 39166), ('of', 38317), ('to', 31742), ('is', 27785), ('in', 23804), ('it', 23792), ('i', 21231), ('that', 20051), ('this', 17858), ('\"', 16991), (\"'s\", 12794), ('not', 12181), ('was', 11986), ('movie', 11870), ('with', 10697), ('as', 10454), ('for', 10319), ('but', 10134), ('-', 9103), ('\\n', 8949), (')', 8585)]\n",
      "27161\n",
      "dir_path /home/paperspace/text-augmentation/imdb_small_aug_es; wt103_path /home/paperspace/fastai-fork/courses/dl2/wt103; cuda_id 0; pretrain_id wt103; cl 10; bs 64; backwards False dropmult 1.0; lr 0.004; preload True; bpe False;startat 0; use_clr True; notrain False; joined False early stopping True\n",
      "Loading /home/paperspace/text-augmentation/imdb_small_aug_es/tmp/trn_ids.npy and /home/paperspace/text-augmentation/imdb_small_aug_es/tmp/val_ids.npy\n",
      "data.shape\" torch.Size([26183, 64])\n",
      "data.shape\" torch.Size([12758, 64])\n",
      "Loading pretrained weights...\n"
     ]
    },
    {
     "data": {
      "application/vnd.jupyter.widget-view+json": {
       "model_id": "69349132e0634919b290c00f21775ea1",
       "version_major": 2,
       "version_minor": 0
      },
      "text/plain": [
       "HBox(children=(IntProgress(value=0, description='Epoch', max=1, style=ProgressStyle(description_width='initial…"
      ]
     },
     "metadata": {},
     "output_type": "display_data"
    },
    {
     "name": "stdout",
     "output_type": "stream",
     "text": [
      "epoch      trn_loss   val_loss   accuracy                    \n",
      "    0      4.802987   4.541265   0.239323  \n",
      "Using early stopping...\n"
     ]
    },
    {
     "data": {
      "application/vnd.jupyter.widget-view+json": {
       "model_id": "caff747838894bf6b2a4555a354e17c7",
       "version_major": 2,
       "version_minor": 0
      },
      "text/plain": [
       "HBox(children=(IntProgress(value=0, description='Epoch', max=10, style=ProgressStyle(description_width='initia…"
      ]
     },
     "metadata": {},
     "output_type": "display_data"
    },
    {
     "name": "stdout",
     "output_type": "stream",
     "text": [
      "epoch      trn_loss   val_loss   accuracy                    \n",
      "    0      4.530784   4.410055   0.249344  \n",
      "    1      4.258096   4.351789   0.255742                    \n",
      "    2      4.04865    4.349887   0.257328                    \n",
      "    3      3.882712   4.354886   0.257962                    \n",
      "    4      3.742455   4.365124   0.257801                    \n",
      "    5      3.642353   4.3821     0.257878                    \n",
      "    6      3.571465   4.37887    0.257887                    \n",
      "    7      3.492338   4.391444   0.257799                    \n",
      "Stopping - no improvement after 6 epochs                     \n",
      "    8      3.402085   4.398739   0.257827  \n",
      "Loading best model from fwd_lm\n",
      "saving to /home/paperspace/text-augmentation/imdb_small_aug_es/models/fwd_lm.h5 and /home/paperspace/text-augmentation/imdb_small_aug_es/models/fwd_lm_enc.h5\n",
      "dir_path /home/paperspace/text-augmentation/imdb_small_aug_es; cuda_id 0; lm_id ; clas_id None; bs 64; cl 20; backwards False; dropmult 1.0 unfreeze True startat 0; bpe False; use_clr True;use_regular_schedule False; use_discriminative True; last False;chain_thaw False; from_scratch False; train_file_id , do_vat:False\n",
      "Trn lbls shape: (6000,)\n",
      "Number of labels: 2\n"
     ]
    },
    {
     "data": {
      "application/vnd.jupyter.widget-view+json": {
       "model_id": "998808da0a1848a785ba3de77734c44b",
       "version_major": 2,
       "version_minor": 0
      },
      "text/plain": [
       "HBox(children=(IntProgress(value=0, description='Epoch', max=1, style=ProgressStyle(description_width='initial…"
      ]
     },
     "metadata": {},
     "output_type": "display_data"
    },
    {
     "name": "stdout",
     "output_type": "stream",
     "text": [
      "epoch      trn_loss   val_loss   accuracy                    \n",
      "    0      0.527552   0.396624   0.823     \n"
     ]
    },
    {
     "data": {
      "application/vnd.jupyter.widget-view+json": {
       "model_id": "435bde60ed5641269b6d69794fdae8e0",
       "version_major": 2,
       "version_minor": 0
      },
      "text/plain": [
       "HBox(children=(IntProgress(value=0, description='Epoch', max=1, style=ProgressStyle(description_width='initial…"
      ]
     },
     "metadata": {},
     "output_type": "display_data"
    },
    {
     "name": "stdout",
     "output_type": "stream",
     "text": [
      "epoch      trn_loss   val_loss   accuracy                    \n",
      "    0      0.414966   0.320905   0.868333  \n"
     ]
    },
    {
     "data": {
      "application/vnd.jupyter.widget-view+json": {
       "model_id": "c48b892361db408ea5108b221aed5246",
       "version_major": 2,
       "version_minor": 0
      },
      "text/plain": [
       "HBox(children=(IntProgress(value=0, description='Epoch', max=20, style=ProgressStyle(description_width='initia…"
      ]
     },
     "metadata": {},
     "output_type": "display_data"
    },
    {
     "name": "stdout",
     "output_type": "stream",
     "text": [
      "epoch      trn_loss   val_loss   accuracy                    \n",
      "    0      0.346849   0.292412   0.877     \n",
      "    1      0.318994   0.306572   0.88                        \n",
      "    2      0.299863   0.274094   0.885667                    \n",
      "    3      0.257732   0.260822   0.896                       \n",
      "    4      0.189978   0.289534   0.896                       \n",
      "    5      0.179741   0.287248   0.899333                    \n",
      "    6      0.150515   0.320816   0.894667                    \n",
      "    7      0.115212   0.377255   0.878                       \n",
      "    8      0.122987   0.358119   0.891                       \n",
      "    9      0.088157   0.391942   0.893                        \n",
      "    10     0.079446   0.378261   0.895333                     \n",
      "    11     0.067287   0.419276   0.895667                     \n",
      "    12     0.057941   0.36319    0.896667                     \n",
      "    13     0.046913   0.416745   0.892                        \n",
      "    14     0.046888   0.441574   0.895                        \n",
      "    15     0.043652   0.428576   0.896667                     \n",
      "    16     0.032004   0.458314   0.895                        \n",
      "    17     0.027942   0.445173   0.9                          \n",
      "    18     0.021293   0.471424   0.899                        \n",
      "    19     0.024604   0.420063   0.895667                     \n",
      "saved 3000 rows to /home/paperspace/text-augmentation/imdb_small_aug_es/train.csv\n",
      "train_df.shape: (3000, 2)\n",
      "saved 3000 rows to /home/paperspace/text-augmentation/imdb_small_aug_es/val.csv\n",
      "dir_path /home/paperspace/text-augmentation/imdb_small_aug_es chunksize 24000 n_lbls 1 lang en\n",
      "0\n",
      "0\n",
      "dir_path /home/paperspace/text-augmentation/imdb_small_aug_es max_vocab 60000 min_freq 1\n",
      "[('the', 39942), ('.', 33043), (',', 32868), ('and', 19899), ('a', 19210), ('of', 17370), ('to', 16117), ('is', 13015), ('it', 11681), ('in', 11132), ('i', 10329), ('this', 9048), ('that', 8685), ('\"', 8380), (\"'s\", 7704), ('-', 6672), ('was', 6026), ('\\n\\n', 6026), ('as', 5682), ('movie', 5243), ('with', 5240), ('for', 5216), ('but', 5012), ('film', 4737), (')', 4192)]\n",
      "18112\n",
      "dir_path /home/paperspace/text-augmentation/imdb_small_aug_es; wt103_path /home/paperspace/fastai-fork/courses/dl2/wt103; cuda_id 0; pretrain_id wt103; cl 4; bs 64; backwards False dropmult 1.0; lr 0.004; preload True; bpe False;startat 0; use_clr True; notrain False; joined False early stopping True\n",
      "Loading /home/paperspace/text-augmentation/imdb_small_aug_es/tmp/trn_ids.npy and /home/paperspace/text-augmentation/imdb_small_aug_es/tmp/val_ids.npy\n",
      "data.shape\" torch.Size([13046, 64])\n",
      "data.shape\" torch.Size([12758, 64])\n",
      "Loading pretrained weights...\n"
     ]
    },
    {
     "data": {
      "application/vnd.jupyter.widget-view+json": {
       "model_id": "3c44c38b561f449a8bb165c80c50a504",
       "version_major": 2,
       "version_minor": 0
      },
      "text/plain": [
       "HBox(children=(IntProgress(value=0, description='Epoch', max=1, style=ProgressStyle(description_width='initial…"
      ]
     },
     "metadata": {},
     "output_type": "display_data"
    },
    {
     "name": "stdout",
     "output_type": "stream",
     "text": [
      "epoch      trn_loss   val_loss   accuracy                    \n",
      "    0      5.020162   4.559476   0.23755   \n",
      "Using early stopping...\n"
     ]
    },
    {
     "data": {
      "application/vnd.jupyter.widget-view+json": {
       "model_id": "61161df7754741aa97c7b173d21db3a6",
       "version_major": 2,
       "version_minor": 0
      },
      "text/plain": [
       "HBox(children=(IntProgress(value=0, description='Epoch', max=4, style=ProgressStyle(description_width='initial…"
      ]
     },
     "metadata": {},
     "output_type": "display_data"
    },
    {
     "name": "stdout",
     "output_type": "stream",
     "text": [
      "epoch      trn_loss   val_loss   accuracy                    \n",
      "    0      4.706275   4.284153   0.256848  \n",
      "    1      4.461023   4.22801    0.262667                    \n",
      "    2      4.316643   4.196088   0.265156                    \n",
      "    3      4.19348    4.18465    0.266814                    \n",
      "Loading best model from fwd_lm\n",
      "saving to /home/paperspace/text-augmentation/imdb_small_aug_es/models/fwd_lm.h5 and /home/paperspace/text-augmentation/imdb_small_aug_es/models/fwd_lm_enc.h5\n",
      "dir_path /home/paperspace/text-augmentation/imdb_small_aug_es; cuda_id 0; lm_id ; clas_id None; bs 64; cl 20; backwards False; dropmult 1.0 unfreeze True startat 0; bpe False; use_clr True;use_regular_schedule False; use_discriminative True; last False;chain_thaw False; from_scratch False; train_file_id , do_vat:False\n",
      "Trn lbls shape: (3000,)\n",
      "Number of labels: 2\n"
     ]
    },
    {
     "data": {
      "application/vnd.jupyter.widget-view+json": {
       "model_id": "d9a5020bd3484edbac4633cea9d0911a",
       "version_major": 2,
       "version_minor": 0
      },
      "text/plain": [
       "HBox(children=(IntProgress(value=0, description='Epoch', max=1, style=ProgressStyle(description_width='initial…"
      ]
     },
     "metadata": {},
     "output_type": "display_data"
    },
    {
     "name": "stdout",
     "output_type": "stream",
     "text": [
      "epoch      trn_loss   val_loss   accuracy                  \n",
      "    0      0.552169   0.414323   0.803333  \n"
     ]
    },
    {
     "data": {
      "application/vnd.jupyter.widget-view+json": {
       "model_id": "3400ad0841bb47aaa04e7f46290c4d00",
       "version_major": 2,
       "version_minor": 0
      },
      "text/plain": [
       "HBox(children=(IntProgress(value=0, description='Epoch', max=1, style=ProgressStyle(description_width='initial…"
      ]
     },
     "metadata": {},
     "output_type": "display_data"
    },
    {
     "name": "stdout",
     "output_type": "stream",
     "text": [
      "epoch      trn_loss   val_loss   accuracy                  \n",
      "    0      0.479008   0.353934   0.846     \n"
     ]
    },
    {
     "data": {
      "application/vnd.jupyter.widget-view+json": {
       "model_id": "1fff1593441f46c6abf0bc8ef21b6abd",
       "version_major": 2,
       "version_minor": 0
      },
      "text/plain": [
       "HBox(children=(IntProgress(value=0, description='Epoch', max=20, style=ProgressStyle(description_width='initia…"
      ]
     },
     "metadata": {},
     "output_type": "display_data"
    },
    {
     "name": "stdout",
     "output_type": "stream",
     "text": [
      "epoch      trn_loss   val_loss   accuracy                  \n",
      "    0      0.404243   0.30474    0.874     \n",
      "    1      0.36618    0.375262   0.842                     \n",
      "    2      0.326898   0.27147    0.893                     \n",
      "    3      0.299217   0.26134    0.894333                  \n",
      "    4      0.26772    0.286155   0.892667                  \n",
      "    5      0.228755   0.290971   0.886333                  \n",
      "    6      0.217257   0.329189   0.883667                  \n",
      "    7      0.203714   0.273237   0.89                      \n",
      "    8      0.159275   0.314004   0.889667                  \n",
      "    9      0.166553   0.275407   0.898333                  \n",
      "    10     0.136357   0.313776   0.896667                  \n",
      "    11     0.128656   0.346349   0.899333                  \n",
      "    12     0.116999   0.390384   0.884                     \n",
      "    13     0.11582    0.340922   0.889                      \n",
      "    14     0.095872   0.415775   0.892667                   \n",
      "    15     0.095097   0.348084   0.887333                   \n",
      "    16     0.099208   0.350843   0.893                      \n",
      "    17     0.080171   0.398991   0.889667                   \n",
      "    18     0.082985   0.40305    0.891                      \n",
      "    19     0.062848   0.452702   0.889333                   \n",
      "/home/paperspace/imdb_3k_3k\n",
      "saved 3000 rows to /home/paperspace/imdb_3k_3k/train.csv\n",
      "train_df.shape: (3000, 2)\n",
      "saved 3000 rows to /home/paperspace/imdb_3k_3k/val.csv\n",
      "dir_path /home/paperspace/imdb_3k_3k chunksize 24000 n_lbls 1 lang en\n",
      "0\n",
      "0\n",
      "dir_path /home/paperspace/imdb_3k_3k max_vocab 60000 min_freq 1\n",
      "[('the', 39476), ('.', 32859), (',', 32564), ('and', 19247), ('a', 19115), ('of', 17153), ('to', 16319), ('is', 13049), ('it', 11517), ('in', 11149), ('i', 10270), ('this', 9091), ('that', 8611), ('\"', 7434), (\"'s\", 7274), ('-', 6303), ('was', 5940), ('\\n\\n', 5788), ('as', 5532), ('movie', 5333), ('with', 5239), ('for', 5184), ('but', 5014), ('film', 4696), ('on', 4028)]\n",
      "18089\n",
      "saved 6000 rows to /home/paperspace/text-augmentation/imdb_small_aug_es/train.csv\n",
      "train_df.shape: (6000, 2)\n",
      "saved 3000 rows to /home/paperspace/text-augmentation/imdb_small_aug_es/val.csv\n",
      "dir_path /home/paperspace/text-augmentation/imdb_small_aug_es chunksize 24000 n_lbls 1 lang en\n",
      "0\n",
      "0\n",
      "dir_path /home/paperspace/text-augmentation/imdb_small_aug_es max_vocab 60000 min_freq 1\n",
      "[('the', 84557), (',', 71105), ('.', 66948), ('and', 39573), ('a', 39240), ('of', 37792), ('to', 32044), ('is', 27739), ('in', 23830), ('it', 23388), ('i', 21083), ('that', 19853), ('this', 17968), ('\"', 15217), ('not', 12050), (\"'s\", 12040), ('movie', 11986), ('was', 11784), ('with', 10748), ('for', 10278), ('as', 10200), ('but', 10086), ('\\n', 8947), ('-', 8641), ('you', 8314)]\n",
      "27169\n",
      "dir_path /home/paperspace/text-augmentation/imdb_small_aug_es; wt103_path /home/paperspace/fastai-fork/courses/dl2/wt103; cuda_id 0; pretrain_id wt103; cl 10; bs 64; backwards False dropmult 1.0; lr 0.004; preload True; bpe False;startat 0; use_clr True; notrain False; joined False early stopping True\n",
      "Loading /home/paperspace/text-augmentation/imdb_small_aug_es/tmp/trn_ids.npy and /home/paperspace/text-augmentation/imdb_small_aug_es/tmp/val_ids.npy\n",
      "data.shape\" torch.Size([25839, 64])\n",
      "data.shape\" torch.Size([12648, 64])\n",
      "Loading pretrained weights...\n"
     ]
    },
    {
     "data": {
      "application/vnd.jupyter.widget-view+json": {
       "model_id": "835d2b548242496db951cf4e5324d550",
       "version_major": 2,
       "version_minor": 0
      },
      "text/plain": [
       "HBox(children=(IntProgress(value=0, description='Epoch', max=1, style=ProgressStyle(description_width='initial…"
      ]
     },
     "metadata": {},
     "output_type": "display_data"
    },
    {
     "name": "stdout",
     "output_type": "stream",
     "text": [
      "epoch      trn_loss   val_loss   accuracy                    \n",
      "    0      4.796731   4.558092   0.23819   \n",
      "Using early stopping...\n"
     ]
    },
    {
     "data": {
      "application/vnd.jupyter.widget-view+json": {
       "model_id": "fcaa214daeb64963a96b109ccd26a435",
       "version_major": 2,
       "version_minor": 0
      },
      "text/plain": [
       "HBox(children=(IntProgress(value=0, description='Epoch', max=10, style=ProgressStyle(description_width='initia…"
      ]
     },
     "metadata": {},
     "output_type": "display_data"
    },
    {
     "name": "stdout",
     "output_type": "stream",
     "text": [
      "epoch      trn_loss   val_loss   accuracy                    \n",
      "    0      4.535638   4.428012   0.247209  \n",
      "    1      4.262156   4.36553    0.254512                    \n",
      "    2      4.054478   4.350408   0.256841                    \n",
      "    3      3.90535    4.356559   0.257097                    \n",
      "    4      3.750652   4.37       0.257437                    \n",
      "    5      3.632777   4.38778    0.256943                    \n",
      "    6      3.567899   4.389011   0.256831                    \n",
      "    7      3.464713   4.415721   0.256385                    \n",
      "Stopping - no improvement after 6 epochs                     \n",
      "    8      3.412466   4.41909    0.256592  \n",
      "Loading best model from fwd_lm\n",
      "saving to /home/paperspace/text-augmentation/imdb_small_aug_es/models/fwd_lm.h5 and /home/paperspace/text-augmentation/imdb_small_aug_es/models/fwd_lm_enc.h5\n",
      "dir_path /home/paperspace/text-augmentation/imdb_small_aug_es; cuda_id 0; lm_id ; clas_id None; bs 64; cl 20; backwards False; dropmult 1.0 unfreeze True startat 0; bpe False; use_clr True;use_regular_schedule False; use_discriminative True; last False;chain_thaw False; from_scratch False; train_file_id , do_vat:False\n",
      "Trn lbls shape: (6000,)\n",
      "Number of labels: 2\n"
     ]
    },
    {
     "data": {
      "application/vnd.jupyter.widget-view+json": {
       "model_id": "95a9eaa0cea54312a83b6429897bde08",
       "version_major": 2,
       "version_minor": 0
      },
      "text/plain": [
       "HBox(children=(IntProgress(value=0, description='Epoch', max=1, style=ProgressStyle(description_width='initial…"
      ]
     },
     "metadata": {},
     "output_type": "display_data"
    },
    {
     "name": "stdout",
     "output_type": "stream",
     "text": [
      "epoch      trn_loss   val_loss   accuracy                    \n",
      "    0      0.481093   0.37235    0.842333  \n"
     ]
    },
    {
     "data": {
      "application/vnd.jupyter.widget-view+json": {
       "model_id": "1049553bc27e498fb55b9fc4eae6f55a",
       "version_major": 2,
       "version_minor": 0
      },
      "text/plain": [
       "HBox(children=(IntProgress(value=0, description='Epoch', max=1, style=ProgressStyle(description_width='initial…"
      ]
     },
     "metadata": {},
     "output_type": "display_data"
    },
    {
     "name": "stdout",
     "output_type": "stream",
     "text": [
      "epoch      trn_loss   val_loss   accuracy                    \n",
      "    0      0.440614   0.315611   0.866667  \n"
     ]
    },
    {
     "data": {
      "application/vnd.jupyter.widget-view+json": {
       "model_id": "398298361ad84897bccb66f5ba3c4a38",
       "version_major": 2,
       "version_minor": 0
      },
      "text/plain": [
       "HBox(children=(IntProgress(value=0, description='Epoch', max=20, style=ProgressStyle(description_width='initia…"
      ]
     },
     "metadata": {},
     "output_type": "display_data"
    },
    {
     "name": "stdout",
     "output_type": "stream",
     "text": [
      "epoch      trn_loss   val_loss   accuracy                    \n",
      "    0      0.381758   0.278182   0.884333  \n",
      "    1      0.334522   0.265939   0.885333                    \n",
      "    2      0.317498   0.241378   0.902333                    \n",
      "    3      0.243661   0.245366   0.902333                    \n",
      "    4      0.22514    0.287167   0.886                       \n",
      "    5      0.186972   0.238997   0.907                       \n",
      "    6      0.1596     0.254049   0.909333                    \n",
      "    7      0.133389   0.282025   0.904                       \n",
      "    8      0.11078    0.30122    0.907333                     \n",
      "    9      0.102237   0.407041   0.896667                     \n",
      "    10     0.083529   0.338635   0.903                        \n",
      "    11     0.066437   0.380965   0.894333                     \n",
      "    12     0.072583   0.382528   0.892667                     \n",
      "    13     0.06137    0.349531   0.909667                     \n",
      "    14     0.046855   0.350075   0.906                        \n",
      "    15     0.029586   0.62136    0.889333                     \n",
      "    16     0.032684   0.5417     0.886                        \n",
      "    17     0.039849   0.4164     0.904333                     \n",
      "    18     0.026398   0.404499   0.907                        \n",
      "    19     0.023829   0.465268   0.898                        \n",
      "saved 3000 rows to /home/paperspace/text-augmentation/imdb_small_aug_es/train.csv\n",
      "train_df.shape: (3000, 2)\n",
      "saved 3000 rows to /home/paperspace/text-augmentation/imdb_small_aug_es/val.csv\n",
      "dir_path /home/paperspace/text-augmentation/imdb_small_aug_es chunksize 24000 n_lbls 1 lang en\n",
      "0\n",
      "0\n",
      "dir_path /home/paperspace/text-augmentation/imdb_small_aug_es max_vocab 60000 min_freq 1\n",
      "[('the', 39476), ('.', 32859), (',', 32564), ('and', 19247), ('a', 19115), ('of', 17153), ('to', 16319), ('is', 13049), ('it', 11517), ('in', 11149), ('i', 10270), ('this', 9091), ('that', 8611), ('\"', 7434), (\"'s\", 7274), ('-', 6303), ('was', 5940), ('\\n\\n', 5788), ('as', 5532), ('movie', 5333), ('with', 5239), ('for', 5184), ('but', 5014), ('film', 4696), ('on', 4028)]\n",
      "18089\n",
      "dir_path /home/paperspace/text-augmentation/imdb_small_aug_es; wt103_path /home/paperspace/fastai-fork/courses/dl2/wt103; cuda_id 0; pretrain_id wt103; cl 4; bs 64; backwards False dropmult 1.0; lr 0.004; preload True; bpe False;startat 0; use_clr True; notrain False; joined False early stopping True\n",
      "Loading /home/paperspace/text-augmentation/imdb_small_aug_es/tmp/trn_ids.npy and /home/paperspace/text-augmentation/imdb_small_aug_es/tmp/val_ids.npy\n",
      "data.shape\" torch.Size([12879, 64])\n",
      "data.shape\" torch.Size([12648, 64])\n",
      "Loading pretrained weights...\n"
     ]
    },
    {
     "data": {
      "application/vnd.jupyter.widget-view+json": {
       "model_id": "bc97a75af8a045e7b1ae04c3448a675a",
       "version_major": 2,
       "version_minor": 0
      },
      "text/plain": [
       "HBox(children=(IntProgress(value=0, description='Epoch', max=1, style=ProgressStyle(description_width='initial…"
      ]
     },
     "metadata": {},
     "output_type": "display_data"
    },
    {
     "name": "stdout",
     "output_type": "stream",
     "text": [
      "epoch      trn_loss   val_loss   accuracy                    \n",
      "    0      5.027019   4.576379   0.237193  \n",
      "Using early stopping...\n"
     ]
    },
    {
     "data": {
      "application/vnd.jupyter.widget-view+json": {
       "model_id": "2ac8d34fbb4645c1ac27f4c441b83189",
       "version_major": 2,
       "version_minor": 0
      },
      "text/plain": [
       "HBox(children=(IntProgress(value=0, description='Epoch', max=4, style=ProgressStyle(description_width='initial…"
      ]
     },
     "metadata": {},
     "output_type": "display_data"
    },
    {
     "name": "stdout",
     "output_type": "stream",
     "text": [
      "epoch      trn_loss   val_loss   accuracy                    \n",
      "    0      4.705042   4.306084   0.255403  \n",
      "    1      4.461711   4.241839   0.261825                    \n",
      "    2      4.315578   4.211275   0.264482                    \n",
      "    3      4.214779   4.196921   0.265694                    \n",
      "Loading best model from fwd_lm\n",
      "saving to /home/paperspace/text-augmentation/imdb_small_aug_es/models/fwd_lm.h5 and /home/paperspace/text-augmentation/imdb_small_aug_es/models/fwd_lm_enc.h5\n",
      "dir_path /home/paperspace/text-augmentation/imdb_small_aug_es; cuda_id 0; lm_id ; clas_id None; bs 64; cl 20; backwards False; dropmult 1.0 unfreeze True startat 0; bpe False; use_clr True;use_regular_schedule False; use_discriminative True; last False;chain_thaw False; from_scratch False; train_file_id , do_vat:False\n",
      "Trn lbls shape: (3000,)\n",
      "Number of labels: 2\n"
     ]
    },
    {
     "data": {
      "application/vnd.jupyter.widget-view+json": {
       "model_id": "1b3535e48d8046ab9712956632eac041",
       "version_major": 2,
       "version_minor": 0
      },
      "text/plain": [
       "HBox(children=(IntProgress(value=0, description='Epoch', max=1, style=ProgressStyle(description_width='initial…"
      ]
     },
     "metadata": {},
     "output_type": "display_data"
    },
    {
     "name": "stdout",
     "output_type": "stream",
     "text": [
      "epoch      trn_loss   val_loss   accuracy                  \n",
      "    0      0.561836   0.418609   0.813     \n"
     ]
    },
    {
     "data": {
      "application/vnd.jupyter.widget-view+json": {
       "model_id": "098d8957697e418a810008ed4092f825",
       "version_major": 2,
       "version_minor": 0
      },
      "text/plain": [
       "HBox(children=(IntProgress(value=0, description='Epoch', max=1, style=ProgressStyle(description_width='initial…"
      ]
     },
     "metadata": {},
     "output_type": "display_data"
    },
    {
     "name": "stdout",
     "output_type": "stream",
     "text": [
      "epoch      trn_loss   val_loss   accuracy                  \n",
      "    0      0.483533   0.344616   0.859667  \n"
     ]
    },
    {
     "data": {
      "application/vnd.jupyter.widget-view+json": {
       "model_id": "383707d43a98493e8aa4d0ead8aca42c",
       "version_major": 2,
       "version_minor": 0
      },
      "text/plain": [
       "HBox(children=(IntProgress(value=0, description='Epoch', max=20, style=ProgressStyle(description_width='initia…"
      ]
     },
     "metadata": {},
     "output_type": "display_data"
    },
    {
     "name": "stdout",
     "output_type": "stream",
     "text": [
      "epoch      trn_loss   val_loss   accuracy                  \n",
      "    0      0.44981    0.301765   0.878333  \n",
      "    1      0.385119   0.289807   0.88                      \n",
      "    2      0.37422    0.271571   0.884667                  \n",
      "    3      0.329726   0.26985    0.896333                  \n",
      "    4      0.302429   0.298789   0.888                     \n",
      "    5      0.28723    0.304089   0.878667                  \n",
      "    6      0.254849   0.34746    0.874                     \n",
      "    7      0.221668   0.273304   0.897                     \n",
      "    8      0.206497   0.260298   0.902                     \n",
      "    9      0.195938   0.267629   0.899                     \n",
      "    10     0.180563   0.259314   0.902667                  \n",
      "    11     0.159525   0.291128   0.899667                  \n",
      "    12     0.141426   0.314448   0.903                     \n",
      "    13     0.133918   0.323289   0.896333                  \n",
      "    14     0.117021   0.308716   0.900667                  \n",
      "    15     0.102444   0.311344   0.904                      \n",
      "    16     0.101374   0.366033   0.896667                   \n",
      "    17     0.088453   0.372534   0.893                      \n",
      "    18     0.101559   0.364455   0.898333                   \n",
      "    19     0.087191   0.37241    0.9                        \n",
      "/home/paperspace/imdb_3k_3k\n",
      "saved 3000 rows to /home/paperspace/imdb_3k_3k/train.csv\n",
      "train_df.shape: (3000, 2)\n",
      "saved 3000 rows to /home/paperspace/imdb_3k_3k/val.csv\n",
      "dir_path /home/paperspace/imdb_3k_3k chunksize 24000 n_lbls 1 lang en\n",
      "0\n",
      "0\n",
      "dir_path /home/paperspace/imdb_3k_3k max_vocab 60000 min_freq 1\n",
      "[('the', 40584), ('.', 33572), (',', 32213), ('a', 19599), ('and', 19224), ('of', 17472), ('to', 16398), ('is', 13472), ('it', 11643), ('in', 11247), ('i', 10613), ('this', 9181), ('that', 8894), ('\"', 7570), (\"'s\", 7385), ('was', 6235), ('-', 6138), ('\\n\\n', 6044), ('as', 5632), ('movie', 5444), ('for', 5270), ('with', 5270), ('but', 5118), ('film', 4793), ('you', 4281)]\n",
      "17866\n",
      "saved 6000 rows to /home/paperspace/text-augmentation/imdb_small_aug_es/train.csv\n",
      "train_df.shape: (6000, 2)\n",
      "saved 3000 rows to /home/paperspace/text-augmentation/imdb_small_aug_es/val.csv\n",
      "dir_path /home/paperspace/text-augmentation/imdb_small_aug_es chunksize 24000 n_lbls 1 lang en\n",
      "0\n",
      "0\n",
      "dir_path /home/paperspace/text-augmentation/imdb_small_aug_es max_vocab 60000 min_freq 1\n",
      "[('the', 86768), (',', 70977), ('.', 68193), ('a', 39976), ('and', 39495), ('of', 38322), ('to', 32119), ('is', 28499), ('in', 24054), ('it', 23710), ('i', 21738), ('that', 20624), ('this', 18125), ('\"', 15395), (\"'s\", 12449), ('was', 12411), ('movie', 12277), ('not', 12198), ('with', 10892), ('as', 10337), ('but', 10333), ('for', 10327), ('\\n', 8929), ('you', 8777), (')', 8515)]\n",
      "26852\n",
      "dir_path /home/paperspace/text-augmentation/imdb_small_aug_es; wt103_path /home/paperspace/fastai-fork/courses/dl2/wt103; cuda_id 0; pretrain_id wt103; cl 10; bs 64; backwards False dropmult 1.0; lr 0.004; preload True; bpe False;startat 0; use_clr True; notrain False; joined False early stopping True\n",
      "Loading /home/paperspace/text-augmentation/imdb_small_aug_es/tmp/trn_ids.npy and /home/paperspace/text-augmentation/imdb_small_aug_es/tmp/val_ids.npy\n",
      "data.shape\" torch.Size([26221, 64])\n",
      "data.shape\" torch.Size([12666, 64])\n",
      "Loading pretrained weights...\n"
     ]
    },
    {
     "data": {
      "application/vnd.jupyter.widget-view+json": {
       "model_id": "c31e4f38fee64394bf9d5d9740edb619",
       "version_major": 2,
       "version_minor": 0
      },
      "text/plain": [
       "HBox(children=(IntProgress(value=0, description='Epoch', max=1, style=ProgressStyle(description_width='initial…"
      ]
     },
     "metadata": {},
     "output_type": "display_data"
    },
    {
     "name": "stdout",
     "output_type": "stream",
     "text": [
      "epoch      trn_loss   val_loss   accuracy                    \n",
      "    0      4.792852   4.549762   0.239651  \n",
      "Using early stopping...\n"
     ]
    },
    {
     "data": {
      "application/vnd.jupyter.widget-view+json": {
       "model_id": "3ad6d434d94544bc8ceec3e9da2b560e",
       "version_major": 2,
       "version_minor": 0
      },
      "text/plain": [
       "HBox(children=(IntProgress(value=0, description='Epoch', max=10, style=ProgressStyle(description_width='initia…"
      ]
     },
     "metadata": {},
     "output_type": "display_data"
    },
    {
     "name": "stdout",
     "output_type": "stream",
     "text": [
      "epoch      trn_loss   val_loss   accuracy                    \n",
      "    0      4.517727   4.423766   0.248014  \n",
      "    1      4.26082    4.36774    0.255303                    \n",
      "    2      4.066475   4.349054   0.257453                    \n",
      "    3      3.893912   4.366009   0.257657                    \n",
      "    4      3.766572   4.361951   0.258664                    \n",
      "    5      3.64168    4.389305   0.258089                    \n",
      "    6      3.574899   4.385827   0.258332                    \n",
      "    7      3.478925   4.39684    0.258173                    \n",
      "Stopping - no improvement after 6 epochs                     \n",
      "    8      3.425815   4.411244   0.25803   \n",
      "Loading best model from fwd_lm\n",
      "saving to /home/paperspace/text-augmentation/imdb_small_aug_es/models/fwd_lm.h5 and /home/paperspace/text-augmentation/imdb_small_aug_es/models/fwd_lm_enc.h5\n",
      "dir_path /home/paperspace/text-augmentation/imdb_small_aug_es; cuda_id 0; lm_id ; clas_id None; bs 64; cl 20; backwards False; dropmult 1.0 unfreeze True startat 0; bpe False; use_clr True;use_regular_schedule False; use_discriminative True; last False;chain_thaw False; from_scratch False; train_file_id , do_vat:False\n",
      "Trn lbls shape: (6000,)\n",
      "Number of labels: 2\n"
     ]
    },
    {
     "data": {
      "application/vnd.jupyter.widget-view+json": {
       "model_id": "73db44be9c374fd6a2f0dee9840f3527",
       "version_major": 2,
       "version_minor": 0
      },
      "text/plain": [
       "HBox(children=(IntProgress(value=0, description='Epoch', max=1, style=ProgressStyle(description_width='initial…"
      ]
     },
     "metadata": {},
     "output_type": "display_data"
    },
    {
     "name": "stdout",
     "output_type": "stream",
     "text": [
      "epoch      trn_loss   val_loss   accuracy                    \n",
      "    0      0.534472   0.392657   0.822667  \n"
     ]
    },
    {
     "data": {
      "application/vnd.jupyter.widget-view+json": {
       "model_id": "017fcc1d86d3400ba7e6a5cd88319588",
       "version_major": 2,
       "version_minor": 0
      },
      "text/plain": [
       "HBox(children=(IntProgress(value=0, description='Epoch', max=1, style=ProgressStyle(description_width='initial…"
      ]
     },
     "metadata": {},
     "output_type": "display_data"
    },
    {
     "name": "stdout",
     "output_type": "stream",
     "text": [
      "epoch      trn_loss   val_loss   accuracy                    \n",
      "    0      0.43002    0.292084   0.881333  \n"
     ]
    },
    {
     "data": {
      "application/vnd.jupyter.widget-view+json": {
       "model_id": "928485d5d1964c028f930eb9c22b92e2",
       "version_major": 2,
       "version_minor": 0
      },
      "text/plain": [
       "HBox(children=(IntProgress(value=0, description='Epoch', max=20, style=ProgressStyle(description_width='initia…"
      ]
     },
     "metadata": {},
     "output_type": "display_data"
    },
    {
     "name": "stdout",
     "output_type": "stream",
     "text": [
      "epoch      trn_loss   val_loss   accuracy                    \n",
      "    0      0.387619   0.251303   0.895667  \n",
      "    1      0.359807   0.261688   0.885                       \n",
      "    2      0.285327   0.245775   0.901                       \n",
      "    3      0.264765   0.216266   0.914333                    \n",
      "    4      0.214808   0.22048    0.911                       \n",
      "    5      0.173316   0.260318   0.902333                    \n",
      "    6      0.134449   0.285042   0.906667                    \n",
      "    7      0.121643   0.289285   0.91                        \n",
      "    8      0.099555   0.286668   0.912333                    \n",
      "    9      0.0959     0.254031   0.917333                     \n",
      "    10     0.084218   0.318392   0.900667                     \n",
      "    11     0.054111   0.365513   0.914                        \n",
      "    12     0.056172   0.345069   0.907                        \n",
      "    13     0.045427   0.373441   0.913333                     \n",
      "    14     0.047832   0.330808   0.910667                     \n",
      "    15     0.061457   0.331199   0.915333                     \n",
      "    16     0.032139   0.326365   0.917                        \n",
      "    17     0.028098   0.388558   0.911333                     \n",
      "    18     0.022786   0.365348   0.916                        \n",
      "    19     0.026793   0.379966   0.916                        \n",
      "saved 3000 rows to /home/paperspace/text-augmentation/imdb_small_aug_es/train.csv\n",
      "train_df.shape: (3000, 2)\n",
      "saved 3000 rows to /home/paperspace/text-augmentation/imdb_small_aug_es/val.csv\n",
      "dir_path /home/paperspace/text-augmentation/imdb_small_aug_es chunksize 24000 n_lbls 1 lang en\n",
      "0\n",
      "0\n",
      "dir_path /home/paperspace/text-augmentation/imdb_small_aug_es max_vocab 60000 min_freq 1\n",
      "[('the', 40584), ('.', 33572), (',', 32213), ('a', 19599), ('and', 19224), ('of', 17472), ('to', 16398), ('is', 13472), ('it', 11643), ('in', 11247), ('i', 10613), ('this', 9181), ('that', 8894), ('\"', 7570), (\"'s\", 7385), ('was', 6235), ('-', 6138), ('\\n\\n', 6044), ('as', 5632), ('movie', 5444), ('for', 5270), ('with', 5270), ('but', 5118), ('film', 4793), ('you', 4281)]\n",
      "17866\n",
      "dir_path /home/paperspace/text-augmentation/imdb_small_aug_es; wt103_path /home/paperspace/fastai-fork/courses/dl2/wt103; cuda_id 0; pretrain_id wt103; cl 4; bs 64; backwards False dropmult 1.0; lr 0.004; preload True; bpe False;startat 0; use_clr True; notrain False; joined False early stopping True\n",
      "Loading /home/paperspace/text-augmentation/imdb_small_aug_es/tmp/trn_ids.npy and /home/paperspace/text-augmentation/imdb_small_aug_es/tmp/val_ids.npy\n",
      "data.shape\" torch.Size([13067, 64])\n",
      "data.shape\" torch.Size([12666, 64])\n",
      "Loading pretrained weights...\n"
     ]
    },
    {
     "data": {
      "application/vnd.jupyter.widget-view+json": {
       "model_id": "11f4e7e285714168910c9a2390712e43",
       "version_major": 2,
       "version_minor": 0
      },
      "text/plain": [
       "HBox(children=(IntProgress(value=0, description='Epoch', max=1, style=ProgressStyle(description_width='initial…"
      ]
     },
     "metadata": {},
     "output_type": "display_data"
    },
    {
     "name": "stdout",
     "output_type": "stream",
     "text": [
      "epoch      trn_loss   val_loss   accuracy                    \n",
      "    0      5.006331   4.561232   0.23833   \n",
      "Using early stopping...\n"
     ]
    },
    {
     "data": {
      "application/vnd.jupyter.widget-view+json": {
       "model_id": "e8ec9938bf6d48a5a7edd75b8f4d0105",
       "version_major": 2,
       "version_minor": 0
      },
      "text/plain": [
       "HBox(children=(IntProgress(value=0, description='Epoch', max=4, style=ProgressStyle(description_width='initial…"
      ]
     },
     "metadata": {},
     "output_type": "display_data"
    },
    {
     "name": "stdout",
     "output_type": "stream",
     "text": [
      "epoch      trn_loss   val_loss   accuracy                    \n",
      "    0      4.689654   4.294685   0.257073  \n",
      "    1      4.446015   4.242149   0.261556                    \n",
      "    2      4.281274   4.207947   0.264682                    \n",
      "    3      4.174899   4.191641   0.266629                    \n",
      "Loading best model from fwd_lm\n",
      "saving to /home/paperspace/text-augmentation/imdb_small_aug_es/models/fwd_lm.h5 and /home/paperspace/text-augmentation/imdb_small_aug_es/models/fwd_lm_enc.h5\n",
      "dir_path /home/paperspace/text-augmentation/imdb_small_aug_es; cuda_id 0; lm_id ; clas_id None; bs 64; cl 20; backwards False; dropmult 1.0 unfreeze True startat 0; bpe False; use_clr True;use_regular_schedule False; use_discriminative True; last False;chain_thaw False; from_scratch False; train_file_id , do_vat:False\n",
      "Trn lbls shape: (3000,)\n",
      "Number of labels: 2\n"
     ]
    },
    {
     "data": {
      "application/vnd.jupyter.widget-view+json": {
       "model_id": "cb176de128b940d9bf0e3c344afc7ef2",
       "version_major": 2,
       "version_minor": 0
      },
      "text/plain": [
       "HBox(children=(IntProgress(value=0, description='Epoch', max=1, style=ProgressStyle(description_width='initial…"
      ]
     },
     "metadata": {},
     "output_type": "display_data"
    },
    {
     "name": "stdout",
     "output_type": "stream",
     "text": [
      "epoch      trn_loss   val_loss   accuracy                  \n",
      "    0      0.583695   0.417493   0.817667  \n"
     ]
    },
    {
     "data": {
      "application/vnd.jupyter.widget-view+json": {
       "model_id": "313768bf979b4182976a6d1446fff6be",
       "version_major": 2,
       "version_minor": 0
      },
      "text/plain": [
       "HBox(children=(IntProgress(value=0, description='Epoch', max=1, style=ProgressStyle(description_width='initial…"
      ]
     },
     "metadata": {},
     "output_type": "display_data"
    },
    {
     "name": "stdout",
     "output_type": "stream",
     "text": [
      "epoch      trn_loss   val_loss   accuracy                  \n",
      "    0      0.503536   0.330763   0.861667  \n"
     ]
    },
    {
     "data": {
      "application/vnd.jupyter.widget-view+json": {
       "model_id": "ddde20ea22a2499d88509f11b0ea7e7e",
       "version_major": 2,
       "version_minor": 0
      },
      "text/plain": [
       "HBox(children=(IntProgress(value=0, description='Epoch', max=20, style=ProgressStyle(description_width='initia…"
      ]
     },
     "metadata": {},
     "output_type": "display_data"
    },
    {
     "name": "stdout",
     "output_type": "stream",
     "text": [
      "epoch      trn_loss   val_loss   accuracy                  \n",
      "    0      0.397808   0.27089    0.885667  \n",
      "    1      0.411642   0.27187    0.891                     \n",
      "    2      0.370191   0.246338   0.905                     \n",
      "    3      0.315348   0.274068   0.892333                  \n",
      "    4      0.286623   0.248836   0.902667                  \n",
      "    5      0.25143    0.289015   0.889                     \n",
      "    6      0.220209   0.24065    0.899                     \n",
      "    7      0.208751   0.22528    0.908333                  \n",
      "    8      0.187124   0.274524   0.900667                  \n",
      "    9      0.16708    0.24515    0.913667                  \n",
      "    10     0.14825    0.274036   0.908333                  \n",
      "    11     0.134417   0.262677   0.917667                  \n",
      "    12     0.132547   0.332133   0.895                     \n",
      "    13     0.112351   0.260691   0.914333                  \n",
      "    14     0.099226   0.285085   0.913667                   \n",
      "    15     0.099004   0.287968   0.909667                   \n",
      "    16     0.090449   0.278861   0.906333                   \n",
      "    17     0.08623    0.29726    0.911                      \n",
      "    18     0.074357   0.320687   0.908                      \n",
      "    19     0.058339   0.286935   0.913333                   \n",
      "/home/paperspace/imdb_5k_3k\n",
      "saved 5000 rows to /home/paperspace/imdb_5k_3k/train.csv\n",
      "train_df.shape: (5000, 2)\n",
      "saved 3000 rows to /home/paperspace/imdb_5k_3k/val.csv\n",
      "dir_path /home/paperspace/imdb_5k_3k chunksize 24000 n_lbls 1 lang en\n",
      "0\n",
      "0\n",
      "dir_path /home/paperspace/imdb_5k_3k max_vocab 60000 min_freq 1\n",
      "[('the', 67458), ('.', 56585), (',', 55084), ('and', 32973), ('a', 32800), ('of', 29338), ('to', 27461), ('is', 22060), ('it', 19294), ('in', 18795), ('i', 17240), ('this', 15356), ('that', 14975), ('\"', 12917), (\"'s\", 12791), ('-', 11029), ('\\n\\n', 10152), ('was', 10105), ('as', 9386), ('with', 9109), ('for', 8938), ('movie', 8627), ('but', 8490), ('film', 8117), (')', 7081)]\n",
      "23817\n",
      "saved 10000 rows to /home/paperspace/text-augmentation/imdb_small_aug_es/train.csv\n",
      "train_df.shape: (10000, 2)\n",
      "saved 3000 rows to /home/paperspace/text-augmentation/imdb_small_aug_es/val.csv\n",
      "dir_path /home/paperspace/text-augmentation/imdb_small_aug_es chunksize 24000 n_lbls 1 lang en\n",
      "0\n",
      "0\n",
      "dir_path /home/paperspace/text-augmentation/imdb_small_aug_es max_vocab 60000 min_freq 1\n",
      "[('the', 144524), (',', 121013), ('.', 115081), ('and', 67655), ('a', 67168), ('of', 64714), ('to', 53891), ('is', 47065), ('in', 40259), ('it', 39359), ('i', 35422), ('that', 34391), ('this', 30322), ('\"', 26514), (\"'s\", 21129), ('not', 20393), ('was', 20227), ('movie', 19675), ('with', 18866), ('for', 17591), ('as', 17346), ('but', 17119), ('-', 15165), ('\\n', 14911), (')', 14499)]\n",
      "34667\n",
      "dir_path /home/paperspace/text-augmentation/imdb_small_aug_es; wt103_path /home/paperspace/fastai-fork/courses/dl2/wt103; cuda_id 0; pretrain_id wt103; cl 10; bs 64; backwards False dropmult 1.0; lr 0.004; preload True; bpe False;startat 0; use_clr True; notrain False; joined False early stopping True\n",
      "Loading /home/paperspace/text-augmentation/imdb_small_aug_es/tmp/trn_ids.npy and /home/paperspace/text-augmentation/imdb_small_aug_es/tmp/val_ids.npy\n",
      "data.shape\" torch.Size([44157, 64])\n",
      "data.shape\" torch.Size([12781, 64])\n",
      "Loading pretrained weights...\n"
     ]
    },
    {
     "data": {
      "application/vnd.jupyter.widget-view+json": {
       "model_id": "369d3a9f9f6a41c7ad1c489dc053a541",
       "version_major": 2,
       "version_minor": 0
      },
      "text/plain": [
       "HBox(children=(IntProgress(value=0, description='Epoch', max=1, style=ProgressStyle(description_width='initial…"
      ]
     },
     "metadata": {},
     "output_type": "display_data"
    },
    {
     "name": "stdout",
     "output_type": "stream",
     "text": [
      "epoch      trn_loss   val_loss   accuracy                    \n",
      "    0      4.760977   4.508551   0.242699  \n",
      "Using early stopping...\n"
     ]
    },
    {
     "data": {
      "application/vnd.jupyter.widget-view+json": {
       "model_id": "98722ea3f09f434c96710a00a18fad48",
       "version_major": 2,
       "version_minor": 0
      },
      "text/plain": [
       "HBox(children=(IntProgress(value=0, description='Epoch', max=10, style=ProgressStyle(description_width='initia…"
      ]
     },
     "metadata": {},
     "output_type": "display_data"
    },
    {
     "name": "stdout",
     "output_type": "stream",
     "text": [
      "epoch      trn_loss   val_loss   accuracy                    \n",
      "    0      4.516944   4.402634   0.252337  \n",
      "    1      4.265649   4.351344   0.258961                    \n",
      "    2      4.100931   4.325045   0.261327                    \n",
      "    3      3.938899   4.322546   0.264113                    \n",
      "    4      3.859187   4.309079   0.264814                    \n",
      "    5      3.743932   4.327828   0.264973                    \n",
      "    6      3.654122   4.339382   0.26498                     \n",
      "    7      3.632222   4.324236   0.265823                    \n",
      "    8      3.563307   4.339489   0.265663                    \n",
      "    9      3.506134   4.351065   0.265302                    \n",
      "Loading best model from fwd_lm\n",
      "saving to /home/paperspace/text-augmentation/imdb_small_aug_es/models/fwd_lm.h5 and /home/paperspace/text-augmentation/imdb_small_aug_es/models/fwd_lm_enc.h5\n",
      "dir_path /home/paperspace/text-augmentation/imdb_small_aug_es; cuda_id 0; lm_id ; clas_id None; bs 64; cl 20; backwards False; dropmult 1.0 unfreeze True startat 0; bpe False; use_clr True;use_regular_schedule False; use_discriminative True; last False;chain_thaw False; from_scratch False; train_file_id , do_vat:False\n",
      "Trn lbls shape: (10000,)\n",
      "Number of labels: 2\n"
     ]
    },
    {
     "data": {
      "application/vnd.jupyter.widget-view+json": {
       "model_id": "1ee4c3c47fe44990a6384efa141787b0",
       "version_major": 2,
       "version_minor": 0
      },
      "text/plain": [
       "HBox(children=(IntProgress(value=0, description='Epoch', max=1, style=ProgressStyle(description_width='initial…"
      ]
     },
     "metadata": {},
     "output_type": "display_data"
    },
    {
     "name": "stdout",
     "output_type": "stream",
     "text": [
      "epoch      trn_loss   val_loss   accuracy                    \n",
      "    0      0.484178   0.326179   0.852     \n"
     ]
    },
    {
     "data": {
      "application/vnd.jupyter.widget-view+json": {
       "model_id": "f2ba271d23a843a1901e996ca2ba0168",
       "version_major": 2,
       "version_minor": 0
      },
      "text/plain": [
       "HBox(children=(IntProgress(value=0, description='Epoch', max=1, style=ProgressStyle(description_width='initial…"
      ]
     },
     "metadata": {},
     "output_type": "display_data"
    },
    {
     "name": "stdout",
     "output_type": "stream",
     "text": [
      "epoch      trn_loss   val_loss   accuracy                    \n",
      "    0      0.386548   0.267396   0.894333  \n"
     ]
    },
    {
     "data": {
      "application/vnd.jupyter.widget-view+json": {
       "model_id": "2b1a4221f67a4c20a1be894809e807d9",
       "version_major": 2,
       "version_minor": 0
      },
      "text/plain": [
       "HBox(children=(IntProgress(value=0, description='Epoch', max=20, style=ProgressStyle(description_width='initia…"
      ]
     },
     "metadata": {},
     "output_type": "display_data"
    },
    {
     "name": "stdout",
     "output_type": "stream",
     "text": [
      "epoch      trn_loss   val_loss   accuracy                    \n",
      "    0      0.314056   0.23939    0.902333  \n",
      "    1      0.303705   0.239971   0.902                       \n",
      "    2      0.25387    0.226977   0.909667                    \n",
      "    3      0.207842   0.218931   0.917                       \n",
      "    4      0.155892   0.251263   0.914333                    \n",
      "    5      0.11611    0.290795   0.917333                    \n",
      "    6      0.106409   0.264191   0.915                        \n",
      "    7      0.097027   0.303129   0.912333                     \n",
      "    8      0.070774   0.298618   0.912667                     \n",
      "    9      0.073805   0.347974   0.911                        \n",
      "    10     0.048273   0.355858   0.916667                     \n",
      "    11     0.031211   0.359895   0.914333                     \n",
      "    12     0.029336   0.357559   0.918667                     \n",
      "    13     0.032168   0.328075   0.918                        \n",
      "    14     0.023679   0.342005   0.925                        \n",
      "    15     0.028646   0.38219    0.919                        \n",
      "    16     0.017602   0.359765   0.922333                     \n",
      "    17     0.01478    0.370985   0.920333                     \n",
      "    18     0.015996   0.396423   0.921333                      \n",
      "    19     0.018674   0.377642   0.921333                     \n",
      "saved 5000 rows to /home/paperspace/text-augmentation/imdb_small_aug_es/train.csv\n",
      "train_df.shape: (5000, 2)\n",
      "saved 3000 rows to /home/paperspace/text-augmentation/imdb_small_aug_es/val.csv\n",
      "dir_path /home/paperspace/text-augmentation/imdb_small_aug_es chunksize 24000 n_lbls 1 lang en\n",
      "0\n",
      "0\n",
      "dir_path /home/paperspace/text-augmentation/imdb_small_aug_es max_vocab 60000 min_freq 1\n",
      "[('the', 67458), ('.', 56585), (',', 55084), ('and', 32973), ('a', 32800), ('of', 29338), ('to', 27461), ('is', 22060), ('it', 19294), ('in', 18795), ('i', 17240), ('this', 15356), ('that', 14975), ('\"', 12917), (\"'s\", 12791), ('-', 11029), ('\\n\\n', 10152), ('was', 10105), ('as', 9386), ('with', 9109), ('for', 8938), ('movie', 8627), ('but', 8490), ('film', 8117), (')', 7081)]\n",
      "23817\n",
      "dir_path /home/paperspace/text-augmentation/imdb_small_aug_es; wt103_path /home/paperspace/fastai-fork/courses/dl2/wt103; cuda_id 0; pretrain_id wt103; cl 4; bs 64; backwards False dropmult 1.0; lr 0.004; preload True; bpe False;startat 0; use_clr True; notrain False; joined False early stopping True\n",
      "Loading /home/paperspace/text-augmentation/imdb_small_aug_es/tmp/trn_ids.npy and /home/paperspace/text-augmentation/imdb_small_aug_es/tmp/val_ids.npy\n",
      "data.shape\" torch.Size([22013, 64])\n",
      "data.shape\" torch.Size([12781, 64])\n",
      "Loading pretrained weights...\n"
     ]
    },
    {
     "data": {
      "application/vnd.jupyter.widget-view+json": {
       "model_id": "8fbf37395c9f467fa1041baa9a087563",
       "version_major": 2,
       "version_minor": 0
      },
      "text/plain": [
       "HBox(children=(IntProgress(value=0, description='Epoch', max=1, style=ProgressStyle(description_width='initial…"
      ]
     },
     "metadata": {},
     "output_type": "display_data"
    },
    {
     "name": "stdout",
     "output_type": "stream",
     "text": [
      "epoch      trn_loss   val_loss   accuracy                    \n",
      "    0      4.980246   4.501803   0.242036  \n",
      "Using early stopping...\n"
     ]
    },
    {
     "data": {
      "application/vnd.jupyter.widget-view+json": {
       "model_id": "0700623da853479da96b1405e8f5e84e",
       "version_major": 2,
       "version_minor": 0
      },
      "text/plain": [
       "HBox(children=(IntProgress(value=0, description='Epoch', max=4, style=ProgressStyle(description_width='initial…"
      ]
     },
     "metadata": {},
     "output_type": "display_data"
    },
    {
     "name": "stdout",
     "output_type": "stream",
     "text": [
      "epoch      trn_loss   val_loss   accuracy                    \n",
      "    0      4.70182    4.316223   0.25934   \n",
      "    1      4.48535    4.248886   0.265511                    \n",
      "    2      4.322075   4.21412    0.269086                    \n",
      "    3      4.227772   4.199629   0.270375                    \n",
      "Loading best model from fwd_lm\n",
      "saving to /home/paperspace/text-augmentation/imdb_small_aug_es/models/fwd_lm.h5 and /home/paperspace/text-augmentation/imdb_small_aug_es/models/fwd_lm_enc.h5\n",
      "dir_path /home/paperspace/text-augmentation/imdb_small_aug_es; cuda_id 0; lm_id ; clas_id None; bs 64; cl 20; backwards False; dropmult 1.0 unfreeze True startat 0; bpe False; use_clr True;use_regular_schedule False; use_discriminative True; last False;chain_thaw False; from_scratch False; train_file_id , do_vat:False\n",
      "Trn lbls shape: (5000,)\n",
      "Number of labels: 2\n"
     ]
    },
    {
     "data": {
      "application/vnd.jupyter.widget-view+json": {
       "model_id": "5ce27eb2029c44ec9fca6e1194247dea",
       "version_major": 2,
       "version_minor": 0
      },
      "text/plain": [
       "HBox(children=(IntProgress(value=0, description='Epoch', max=1, style=ProgressStyle(description_width='initial…"
      ]
     },
     "metadata": {},
     "output_type": "display_data"
    },
    {
     "name": "stdout",
     "output_type": "stream",
     "text": [
      "epoch      trn_loss   val_loss   accuracy                    \n",
      "    0      0.520061   0.366268   0.842333  \n"
     ]
    },
    {
     "data": {
      "application/vnd.jupyter.widget-view+json": {
       "model_id": "497735aa17ff40c08fbb24cae16b68dc",
       "version_major": 2,
       "version_minor": 0
      },
      "text/plain": [
       "HBox(children=(IntProgress(value=0, description='Epoch', max=1, style=ProgressStyle(description_width='initial…"
      ]
     },
     "metadata": {},
     "output_type": "display_data"
    },
    {
     "name": "stdout",
     "output_type": "stream",
     "text": [
      "epoch      trn_loss   val_loss   accuracy                    \n",
      "    0      0.438835   0.30591    0.870333  \n"
     ]
    },
    {
     "data": {
      "application/vnd.jupyter.widget-view+json": {
       "model_id": "e05ae24e8a49430ebfed82aee502df91",
       "version_major": 2,
       "version_minor": 0
      },
      "text/plain": [
       "HBox(children=(IntProgress(value=0, description='Epoch', max=20, style=ProgressStyle(description_width='initia…"
      ]
     },
     "metadata": {},
     "output_type": "display_data"
    },
    {
     "name": "stdout",
     "output_type": "stream",
     "text": [
      "epoch      trn_loss   val_loss   accuracy                    \n",
      "    0      0.40742    0.288706   0.882333  \n",
      "    1      0.340168   0.246318   0.900333                    \n",
      "    2      0.32433    0.254119   0.895                       \n",
      "    3      0.297188   0.243028   0.899333                    \n",
      "    4      0.251532   0.268128   0.903333                    \n",
      "    5      0.242311   0.251057   0.892333                    \n",
      "    6      0.241012   0.27561    0.892333                    \n",
      "    7      0.185107   0.240576   0.910667                    \n",
      "    8      0.183557   0.250308   0.908                       \n",
      "    9      0.146981   0.244455   0.910333                    \n",
      "    10     0.131413   0.295093   0.905333                    \n",
      "    11     0.11884    0.242643   0.915333                    \n",
      "    12     0.092661   0.289444   0.913667                     \n",
      "    13     0.097221   0.284943   0.913333                     \n",
      "    14     0.08208    0.30256    0.910667                     \n",
      "    15     0.066686   0.320759   0.916                        \n",
      "    16     0.075375   0.310245   0.915667                     \n",
      "    17     0.068101   0.287967   0.916                        \n",
      "    18     0.049981   0.326158   0.919333                     \n",
      "    19     0.054005   0.323985   0.916                        \n",
      "/home/paperspace/imdb_5k_3k\n",
      "saved 5000 rows to /home/paperspace/imdb_5k_3k/train.csv\n",
      "train_df.shape: (5000, 2)\n",
      "saved 3000 rows to /home/paperspace/imdb_5k_3k/val.csv\n",
      "dir_path /home/paperspace/imdb_5k_3k chunksize 24000 n_lbls 1 lang en\n",
      "0\n",
      "0\n",
      "dir_path /home/paperspace/imdb_5k_3k max_vocab 60000 min_freq 1\n",
      "[('the', 66846), ('.', 55229), (',', 54199), ('a', 32507), ('and', 32288), ('of', 28801), ('to', 26782), ('is', 22183), ('it', 18993), ('in', 18409), ('i', 17428), ('this', 15059), ('that', 14601), ('\"', 12718), (\"'s\", 12033), ('-', 10097), ('was', 10094), ('\\n\\n', 9869), ('as', 9298), ('movie', 9008), ('for', 8760), ('with', 8495), ('but', 8361), ('film', 7819), ('you', 6822)]\n",
      "23313\n",
      "saved 10000 rows to /home/paperspace/text-augmentation/imdb_small_aug_es/train.csv\n",
      "train_df.shape: (10000, 2)\n",
      "saved 3000 rows to /home/paperspace/text-augmentation/imdb_small_aug_es/val.csv\n",
      "dir_path /home/paperspace/text-augmentation/imdb_small_aug_es chunksize 24000 n_lbls 1 lang en\n",
      "0\n",
      "0\n",
      "dir_path /home/paperspace/text-augmentation/imdb_small_aug_es max_vocab 60000 min_freq 1\n",
      "[('the', 142733), (',', 118858), ('.', 112532), ('a', 66384), ('and', 66234), ('of', 63148), ('to', 52716), ('is', 46901), ('in', 39301), ('it', 38655), ('i', 35765), ('that', 33709), ('this', 29725), ('\"', 26045), ('not', 20337), (\"'s\", 20228), ('movie', 20221), ('was', 20041), ('with', 17511), ('for', 17299), ('as', 17115), ('but', 16825), ('\\n', 14914), ('-', 14080), ('you', 13962)]\n",
      "33979\n",
      "dir_path /home/paperspace/text-augmentation/imdb_small_aug_es; wt103_path /home/paperspace/fastai-fork/courses/dl2/wt103; cuda_id 0; pretrain_id wt103; cl 10; bs 64; backwards False dropmult 1.0; lr 0.004; preload True; bpe False;startat 0; use_clr True; notrain False; joined False early stopping True\n",
      "Loading /home/paperspace/text-augmentation/imdb_small_aug_es/tmp/trn_ids.npy and /home/paperspace/text-augmentation/imdb_small_aug_es/tmp/val_ids.npy\n",
      "data.shape\" torch.Size([43263, 64])\n",
      "data.shape\" torch.Size([12415, 64])\n",
      "Loading pretrained weights...\n"
     ]
    },
    {
     "data": {
      "application/vnd.jupyter.widget-view+json": {
       "model_id": "f72807a7128e45b08841de49b00926fc",
       "version_major": 2,
       "version_minor": 0
      },
      "text/plain": [
       "HBox(children=(IntProgress(value=0, description='Epoch', max=1, style=ProgressStyle(description_width='initial…"
      ]
     },
     "metadata": {},
     "output_type": "display_data"
    },
    {
     "name": "stdout",
     "output_type": "stream",
     "text": [
      "epoch      trn_loss   val_loss   accuracy                    \n",
      "    0      4.737509   4.508562   0.243337  \n",
      "Using early stopping...\n"
     ]
    },
    {
     "data": {
      "application/vnd.jupyter.widget-view+json": {
       "model_id": "8e55eb00d7524ca5ab6cfe44c19e3683",
       "version_major": 2,
       "version_minor": 0
      },
      "text/plain": [
       "HBox(children=(IntProgress(value=0, description='Epoch', max=10, style=ProgressStyle(description_width='initia…"
      ]
     },
     "metadata": {},
     "output_type": "display_data"
    },
    {
     "name": "stdout",
     "output_type": "stream",
     "text": [
      "epoch      trn_loss   val_loss   accuracy                    \n",
      "    0      4.492672   4.421224   0.252253  \n",
      "    1      4.255622   4.346204   0.260653                    \n",
      "    2      4.070583   4.320398   0.263837                    \n",
      "    3      3.936752   4.317027   0.265071                    \n",
      "    4      3.809203   4.326542   0.265454                    \n",
      "    5      3.729636   4.3293     0.265532                    \n",
      "    6      3.634922   4.341398   0.265444                    \n",
      "    7      3.578615   4.344968   0.265519                    \n",
      "    8      3.518708   4.35078    0.266124                    \n",
      "Stopping - no improvement after 6 epochs                     \n",
      "    9      3.498851   4.352774   0.266245  \n",
      "Loading best model from fwd_lm\n",
      "saving to /home/paperspace/text-augmentation/imdb_small_aug_es/models/fwd_lm.h5 and /home/paperspace/text-augmentation/imdb_small_aug_es/models/fwd_lm_enc.h5\n",
      "dir_path /home/paperspace/text-augmentation/imdb_small_aug_es; cuda_id 0; lm_id ; clas_id None; bs 64; cl 20; backwards False; dropmult 1.0 unfreeze True startat 0; bpe False; use_clr True;use_regular_schedule False; use_discriminative True; last False;chain_thaw False; from_scratch False; train_file_id , do_vat:False\n",
      "Trn lbls shape: (10000,)\n",
      "Number of labels: 2\n"
     ]
    },
    {
     "data": {
      "application/vnd.jupyter.widget-view+json": {
       "model_id": "ea019690017641a69b22e2f7ce286e05",
       "version_major": 2,
       "version_minor": 0
      },
      "text/plain": [
       "HBox(children=(IntProgress(value=0, description='Epoch', max=1, style=ProgressStyle(description_width='initial…"
      ]
     },
     "metadata": {},
     "output_type": "display_data"
    },
    {
     "name": "stdout",
     "output_type": "stream",
     "text": [
      "epoch      trn_loss   val_loss   accuracy                    \n",
      "    0      0.474527   0.332554   0.857667  \n"
     ]
    },
    {
     "data": {
      "application/vnd.jupyter.widget-view+json": {
       "model_id": "67fd5b1e60eb425a958d85c117fb5f10",
       "version_major": 2,
       "version_minor": 0
      },
      "text/plain": [
       "HBox(children=(IntProgress(value=0, description='Epoch', max=1, style=ProgressStyle(description_width='initial…"
      ]
     },
     "metadata": {},
     "output_type": "display_data"
    },
    {
     "name": "stdout",
     "output_type": "stream",
     "text": [
      "epoch      trn_loss   val_loss   accuracy                    \n",
      "    0      0.392266   0.270335   0.889667  \n"
     ]
    },
    {
     "data": {
      "application/vnd.jupyter.widget-view+json": {
       "model_id": "a91a34c3e77448c790b03fad3358f68c",
       "version_major": 2,
       "version_minor": 0
      },
      "text/plain": [
       "HBox(children=(IntProgress(value=0, description='Epoch', max=20, style=ProgressStyle(description_width='initia…"
      ]
     },
     "metadata": {},
     "output_type": "display_data"
    },
    {
     "name": "stdout",
     "output_type": "stream",
     "text": [
      "epoch      trn_loss   val_loss   accuracy                    \n",
      "    0      0.340183   0.241881   0.906333  \n",
      "    1      0.301063   0.240156   0.899333                    \n",
      "    2      0.250128   0.229178   0.913667                    \n",
      "    3      0.227694   0.219303   0.914667                    \n",
      "    4      0.179923   0.251082   0.919                       \n",
      "    5      0.167191   0.266903   0.913333                    \n",
      "    6      0.113818   0.259738   0.918                       \n",
      "    7      0.113316   0.28834    0.913                        \n",
      "    8      0.085107   0.314175   0.91                         \n",
      "    9      0.084005   0.302413   0.915667                     \n",
      "    11     0.054821   0.369787   0.913                        \n",
      "    12     0.049205   0.393498   0.911                        \n",
      "    13     0.036236   0.414299   0.909667                     \n",
      "    14     0.036387   0.370396   0.916333                     \n",
      "    15     0.04036    0.405463   0.909667                     \n",
      "    16     0.021527   0.435181   0.911                        \n",
      "    17     0.027838   0.430304   0.915667                     \n",
      "    18     0.026345   0.435209   0.912667                     \n",
      "    19     0.021045   0.431926   0.915667                     \n",
      "saved 5000 rows to /home/paperspace/text-augmentation/imdb_small_aug_es/train.csv\n",
      "train_df.shape: (5000, 2)\n",
      "saved 3000 rows to /home/paperspace/text-augmentation/imdb_small_aug_es/val.csv\n",
      "dir_path /home/paperspace/text-augmentation/imdb_small_aug_es chunksize 24000 n_lbls 1 lang en\n",
      "0\n",
      "0\n",
      "dir_path /home/paperspace/text-augmentation/imdb_small_aug_es max_vocab 60000 min_freq 1\n",
      "[('the', 66846), ('.', 55229), (',', 54199), ('a', 32507), ('and', 32288), ('of', 28801), ('to', 26782), ('is', 22183), ('it', 18993), ('in', 18409), ('i', 17428), ('this', 15059), ('that', 14601), ('\"', 12718), (\"'s\", 12033), ('-', 10097), ('was', 10094), ('\\n\\n', 9869), ('as', 9298), ('movie', 9008), ('for', 8760), ('with', 8495), ('but', 8361), ('film', 7819), ('you', 6822)]\n",
      "23313\n",
      "dir_path /home/paperspace/text-augmentation/imdb_small_aug_es; wt103_path /home/paperspace/fastai-fork/courses/dl2/wt103; cuda_id 0; pretrain_id wt103; cl 4; bs 64; backwards False dropmult 1.0; lr 0.004; preload True; bpe False;startat 0; use_clr True; notrain False; joined False early stopping True\n",
      "Loading /home/paperspace/text-augmentation/imdb_small_aug_es/tmp/trn_ids.npy and /home/paperspace/text-augmentation/imdb_small_aug_es/tmp/val_ids.npy\n",
      "data.shape\" torch.Size([21562, 64])\n",
      "data.shape\" torch.Size([12415, 64])\n",
      "Loading pretrained weights...\n"
     ]
    },
    {
     "data": {
      "application/vnd.jupyter.widget-view+json": {
       "model_id": "8c3382f113d5402c91124877332c43b7",
       "version_major": 2,
       "version_minor": 0
      },
      "text/plain": [
       "HBox(children=(IntProgress(value=0, description='Epoch', max=1, style=ProgressStyle(description_width='initial…"
      ]
     },
     "metadata": {},
     "output_type": "display_data"
    },
    {
     "name": "stdout",
     "output_type": "stream",
     "text": [
      "epoch      trn_loss   val_loss   accuracy                    \n",
      "    0      4.957824   4.505013   0.242488  \n",
      "Using early stopping...\n"
     ]
    },
    {
     "data": {
      "application/vnd.jupyter.widget-view+json": {
       "model_id": "80f7068bb10943d780533321d35b3605",
       "version_major": 2,
       "version_minor": 0
      },
      "text/plain": [
       "HBox(children=(IntProgress(value=0, description='Epoch', max=4, style=ProgressStyle(description_width='initial…"
      ]
     },
     "metadata": {},
     "output_type": "display_data"
    },
    {
     "name": "stdout",
     "output_type": "stream",
     "text": [
      "epoch      trn_loss   val_loss   accuracy                    \n",
      "    0      4.670784   4.316045   0.260255  \n",
      "    1      4.443842   4.245179   0.266662                    \n",
      "    2      4.298374   4.210665   0.270234                    \n",
      "    3      4.204554   4.198121   0.271075                    \n",
      "Loading best model from fwd_lm\n",
      "saving to /home/paperspace/text-augmentation/imdb_small_aug_es/models/fwd_lm.h5 and /home/paperspace/text-augmentation/imdb_small_aug_es/models/fwd_lm_enc.h5\n",
      "dir_path /home/paperspace/text-augmentation/imdb_small_aug_es; cuda_id 0; lm_id ; clas_id None; bs 64; cl 20; backwards False; dropmult 1.0 unfreeze True startat 0; bpe False; use_clr True;use_regular_schedule False; use_discriminative True; last False;chain_thaw False; from_scratch False; train_file_id , do_vat:False\n",
      "Trn lbls shape: (5000,)\n",
      "Number of labels: 2\n"
     ]
    },
    {
     "data": {
      "application/vnd.jupyter.widget-view+json": {
       "model_id": "681cb95fb1484a2690abef3d0146d98f",
       "version_major": 2,
       "version_minor": 0
      },
      "text/plain": [
       "HBox(children=(IntProgress(value=0, description='Epoch', max=1, style=ProgressStyle(description_width='initial…"
      ]
     },
     "metadata": {},
     "output_type": "display_data"
    },
    {
     "name": "stdout",
     "output_type": "stream",
     "text": [
      "epoch      trn_loss   val_loss   accuracy                    \n",
      "    0      0.536611   0.362518   0.844     \n"
     ]
    },
    {
     "data": {
      "application/vnd.jupyter.widget-view+json": {
       "model_id": "c69ab9c8f8234055a749f6df7dceb3bb",
       "version_major": 2,
       "version_minor": 0
      },
      "text/plain": [
       "HBox(children=(IntProgress(value=0, description='Epoch', max=1, style=ProgressStyle(description_width='initial…"
      ]
     },
     "metadata": {},
     "output_type": "display_data"
    },
    {
     "name": "stdout",
     "output_type": "stream",
     "text": [
      "epoch      trn_loss   val_loss   accuracy                    \n",
      "    0      0.458477   0.310552   0.871333  \n"
     ]
    },
    {
     "data": {
      "application/vnd.jupyter.widget-view+json": {
       "model_id": "2f452103d85f4f57bc2d2a71a09d3d08",
       "version_major": 2,
       "version_minor": 0
      },
      "text/plain": [
       "HBox(children=(IntProgress(value=0, description='Epoch', max=20, style=ProgressStyle(description_width='initia…"
      ]
     },
     "metadata": {},
     "output_type": "display_data"
    },
    {
     "name": "stdout",
     "output_type": "stream",
     "text": [
      "epoch      trn_loss   val_loss   accuracy                    \n",
      "    0      0.399172   0.262825   0.900333  \n",
      "    1      0.351743   0.260021   0.895667                    \n",
      "    2      0.318514   0.241316   0.904333                    \n",
      "    3      0.278166   0.330503   0.860333                    \n",
      "    4      0.256722   0.219173   0.920333                    \n",
      "    5      0.220891   0.214118   0.919667                    \n",
      "    6      0.189894   0.229296   0.913333                    \n",
      "    7      0.161073   0.255299   0.913                       \n",
      "    8      0.150582   0.302016   0.909667                    \n",
      "    9      0.148248   0.248899   0.914                       \n",
      "    10     0.107157   0.304904   0.910667                    \n",
      "    11     0.093328   0.297608   0.917333                     \n",
      "    12     0.114112   0.262619   0.920333                     \n",
      "    13     0.088148   0.303145   0.916667                     \n",
      "    14     0.076172   0.320807   0.913333                     \n",
      "    17     0.052838   0.363637   0.913                        \n",
      "    18     0.043431   0.355748   0.919                        \n",
      "    19     0.036083   0.363659   0.918667                     \n",
      "/home/paperspace/imdb_5k_3k\n",
      "saved 5000 rows to /home/paperspace/imdb_5k_3k/train.csv\n",
      "train_df.shape: (5000, 2)\n",
      "saved 3000 rows to /home/paperspace/imdb_5k_3k/val.csv\n",
      "dir_path /home/paperspace/imdb_5k_3k chunksize 24000 n_lbls 1 lang en\n",
      "0\n",
      "0\n",
      "dir_path /home/paperspace/imdb_5k_3k max_vocab 60000 min_freq 1\n",
      "[('the', 67047), ('.', 55465), (',', 54961), ('and', 32635), ('a', 32245), ('of', 28976), ('to', 26443), ('is', 22293), ('it', 19159), ('in', 18586), ('i', 17519), ('this', 15203), ('that', 14402), ('\"', 13060), (\"'s\", 12298), ('-', 10476), ('was', 10075), ('\\n\\n', 10007), ('as', 9388), ('with', 8881), ('for', 8733), ('movie', 8713), ('but', 8435), ('film', 7988), (')', 7128)]\n",
      "23231\n",
      "saved 10000 rows to /home/paperspace/text-augmentation/imdb_small_aug_es/train.csv\n",
      "train_df.shape: (10000, 2)\n",
      "saved 3000 rows to /home/paperspace/text-augmentation/imdb_small_aug_es/val.csv\n",
      "dir_path /home/paperspace/text-augmentation/imdb_small_aug_es chunksize 24000 n_lbls 1 lang en\n",
      "0\n",
      "0\n",
      "dir_path /home/paperspace/text-augmentation/imdb_small_aug_es max_vocab 60000 min_freq 1\n",
      "[('the', 143440), (',', 120139), ('.', 112925), ('and', 66867), ('a', 66045), ('of', 63805), ('to', 52103), ('is', 47525), ('in', 39772), ('it', 38890), ('i', 35990), ('that', 33305), ('this', 30036), ('\"', 26676), (\"'s\", 20383), ('not', 20355), ('was', 20048), ('movie', 19820), ('with', 18278), ('as', 17281), ('for', 17207), ('but', 16988), ('\\n', 14921), (')', 14600), ('-', 14523)]\n",
      "33953\n",
      "dir_path /home/paperspace/text-augmentation/imdb_small_aug_es; wt103_path /home/paperspace/fastai-fork/courses/dl2/wt103; cuda_id 0; pretrain_id wt103; cl 10; bs 64; backwards False dropmult 1.0; lr 0.004; preload True; bpe False;startat 0; use_clr True; notrain False; joined False early stopping True\n",
      "Loading /home/paperspace/text-augmentation/imdb_small_aug_es/tmp/trn_ids.npy and /home/paperspace/text-augmentation/imdb_small_aug_es/tmp/val_ids.npy\n",
      "data.shape\" torch.Size([43519, 64])\n",
      "data.shape\" torch.Size([12963, 64])\n",
      "Loading pretrained weights...\n"
     ]
    },
    {
     "data": {
      "application/vnd.jupyter.widget-view+json": {
       "model_id": "c6e1caddad944e8cb718817cd3b8e0cc",
       "version_major": 2,
       "version_minor": 0
      },
      "text/plain": [
       "HBox(children=(IntProgress(value=0, description='Epoch', max=1, style=ProgressStyle(description_width='initial…"
      ]
     },
     "metadata": {},
     "output_type": "display_data"
    },
    {
     "name": "stdout",
     "output_type": "stream",
     "text": [
      "epoch      trn_loss   val_loss   accuracy                    \n",
      "    0      4.736234   4.523597   0.24202   \n",
      "Using early stopping...\n"
     ]
    },
    {
     "data": {
      "application/vnd.jupyter.widget-view+json": {
       "model_id": "94190289b4e94a22b33edd47feb093db",
       "version_major": 2,
       "version_minor": 0
      },
      "text/plain": [
       "HBox(children=(IntProgress(value=0, description='Epoch', max=10, style=ProgressStyle(description_width='initia…"
      ]
     },
     "metadata": {},
     "output_type": "display_data"
    },
    {
     "name": "stdout",
     "output_type": "stream",
     "text": [
      "epoch      trn_loss   val_loss   accuracy                    \n",
      "    0      4.489624   4.424343   0.253026  \n",
      "    1      4.235987   4.363744   0.2594                      \n",
      " 77%|███████▋  | 476/620 [01:14<00:21,  6.83it/s, loss=4.09]"
     ]
    },
    {
     "name": "stderr",
     "output_type": "stream",
     "text": [
      "IOPub message rate exceeded.\n",
      "The notebook server will temporarily stop sending output\n",
      "to the client in order to avoid crashing it.\n",
      "To change this limit, set the config variable\n",
      "`--NotebookApp.iopub_msg_rate_limit`.\n",
      "\n",
      "Current values:\n",
      "NotebookApp.iopub_msg_rate_limit=1000.0 (msgs/sec)\n",
      "NotebookApp.rate_limit_window=3.0 (secs)\n",
      "\n"
     ]
    },
    {
     "name": "stdout",
     "output_type": "stream",
     "text": [
      "epoch      trn_loss   val_loss   accuracy                    \n",
      "    0      0.38548    0.280351   0.880667  \n"
     ]
    },
    {
     "data": {
      "application/vnd.jupyter.widget-view+json": {
       "model_id": "a5579e20fedd4aaabf57646e4b0e5d66",
       "version_major": 2,
       "version_minor": 0
      },
      "text/plain": [
       "HBox(children=(IntProgress(value=0, description='Epoch', max=20, style=ProgressStyle(description_width='initia…"
      ]
     },
     "metadata": {},
     "output_type": "display_data"
    },
    {
     "name": "stdout",
     "output_type": "stream",
     "text": [
      "epoch      trn_loss   val_loss   accuracy                    \n",
      "    0      0.322468   0.24048    0.904     \n",
      "    1      0.280413   0.242973   0.907                       \n",
      "    2      0.231681   0.256273   0.902                       \n",
      "    3      0.203692   0.260525   0.910667                    \n",
      "    4      0.155765   0.245809   0.919                       \n",
      "    5      0.131472   0.254497   0.920667                    \n",
      "    6      0.120344   0.263227   0.915333                    \n",
      " 64%|██████▍   | 200/313 [01:10<01:11,  1.58it/s, loss=0.0984]"
     ]
    }
   ],
   "source": [
    "res = {}\n",
    "n_runs = 3\n",
    "for n in tqdm_notebook([100, 500, 1000, 2000, 3000, 5000, 10000]):\n",
    "    res[n] = []\n",
    "    for _ in range(n_runs):\n",
    "        res[n].append(run_n_experiment(BIG_PATH, n=n))\n",
    "    pickle_save(res, 'experiment_results.pkl')"
   ]
  },
  {
   "cell_type": "code",
   "execution_count": null,
   "metadata": {
    "ExecuteTime": {
     "start_time": "2019-03-10T18:08:23.341Z"
    }
   },
   "outputs": [],
   "source": [
    "ls"
   ]
  },
  {
   "cell_type": "code",
   "execution_count": null,
   "metadata": {
    "ExecuteTime": {
     "end_time": "2019-03-10T08:48:16.810988Z",
     "start_time": "2019-03-10T08:45:15.835Z"
    }
   },
   "outputs": [],
   "source": [
    "\n",
    "pickle_save(res, 'experiment_results.pkl')"
   ]
  },
  {
   "cell_type": "code",
   "execution_count": 190,
   "metadata": {},
   "outputs": [],
   "source": [
    "#pd.Series(es_metrics).round(3).plot()"
   ]
  },
  {
   "cell_type": "code",
   "execution_count": 193,
   "metadata": {},
   "outputs": [
    {
     "name": "stdout",
     "output_type": "stream",
     "text": [
      "saved 1895 rows to /home/paperspace/text-augmentation/imdb_small_aug_bn/train.csv\n",
      "train_df.shape: (1895, 2)\n",
      "saved 3000 rows to /home/paperspace/text-augmentation/imdb_small_aug_bn/val.csv\n",
      "dir_path /home/paperspace/text-augmentation/imdb_small_aug_bn chunksize 24000 n_lbls 1 lang en\n",
      "0\n",
      "0\n",
      "dir_path /home/paperspace/text-augmentation/imdb_small_aug_bn max_vocab 60000 min_freq 1\n",
      "[('the', 26024), (',', 23662), ('.', 22439), ('and', 12979), ('a', 12409), ('of', 11278), ('to', 9840), ('is', 9182), ('it', 7576), ('in', 7393), ('i', 6776), ('this', 5659), ('\"', 5540), ('that', 5500), (\"'s\", 4599), ('was', 4254), ('not', 3954), ('-', 3845), ('for', 3588), ('but', 3454), ('movie', 3399), ('with', 3311), ('as', 3146), (')', 2858), ('\\n', 2771)]\n",
      "14231\n",
      "dir_path /home/paperspace/text-augmentation/imdb_small_aug_bn; wt103_path /home/paperspace/fastai-fork/courses/dl2/wt103; cuda_id 0; pretrain_id wt103; cl 10; bs 64; backwards False dropmult 1.0; lr 0.004; preload True; bpe False;startat 0; use_clr True; notrain False; joined False early stopping True\n",
      "Loading /home/paperspace/text-augmentation/imdb_small_aug_bn/tmp/trn_ids.npy and /home/paperspace/text-augmentation/imdb_small_aug_bn/tmp/val_ids.npy\n",
      "data.shape\" torch.Size([8512, 64])\n",
      "data.shape\" torch.Size([13085, 64])\n",
      "Loading pretrained weights...\n"
     ]
    },
    {
     "data": {
      "application/vnd.jupyter.widget-view+json": {
       "model_id": "cd85c31f12e646f0aa71f582c50e5f34",
       "version_major": 2,
       "version_minor": 0
      },
      "text/plain": [
       "HBox(children=(IntProgress(value=0, description='Epoch', max=1, style=ProgressStyle(description_width='initial…"
      ]
     },
     "metadata": {},
     "output_type": "display_data"
    },
    {
     "name": "stdout",
     "output_type": "stream",
     "text": [
      "epoch      trn_loss   val_loss   accuracy                    \n",
      "    0      5.027651   4.64364    0.22765   \n",
      "Using early stopping...\n"
     ]
    },
    {
     "data": {
      "application/vnd.jupyter.widget-view+json": {
       "model_id": "adc175d8897b4c11bb6360bfb9785d58",
       "version_major": 2,
       "version_minor": 0
      },
      "text/plain": [
       "HBox(children=(IntProgress(value=0, description='Epoch', max=10, style=ProgressStyle(description_width='initia…"
      ]
     },
     "metadata": {},
     "output_type": "display_data"
    },
    {
     "name": "stdout",
     "output_type": "stream",
     "text": [
      "epoch      trn_loss   val_loss   accuracy                    \n",
      "    0      4.708699   4.336899   0.244531  \n",
      "    1      4.477945   4.269341   0.251283                    \n",
      "    2      4.252074   4.25764    0.252137                    \n",
      "    3      4.056454   4.263483   0.2512                      \n",
      "    4      3.932449   4.255708   0.25268                     \n",
      "    5      3.775461   4.288131   0.250831                    \n",
      "    6      3.648299   4.320654   0.249243                    \n",
      "    7      3.596719   4.31328    0.24976                     \n",
      "    8      3.500336   4.33592    0.249124                    \n",
      "    9      3.462923   4.34439    0.248594                    \n",
      "Loading best model from fwd_lm\n",
      "saving to /home/paperspace/text-augmentation/imdb_small_aug_bn/models/fwd_lm.h5 and /home/paperspace/text-augmentation/imdb_small_aug_bn/models/fwd_lm_enc.h5\n",
      "dir_path /home/paperspace/text-augmentation/imdb_small_aug_bn; cuda_id 0; lm_id ; clas_id None; bs 64; cl 20; backwards False; dropmult 1.0 unfreeze True startat 0; bpe False; use_clr True;use_regular_schedule False; use_discriminative True; last False;chain_thaw False; from_scratch False; train_file_id \n",
      "Trn lbls shape: (1895,)\n",
      "Number of labels: 2\n"
     ]
    },
    {
     "data": {
      "application/vnd.jupyter.widget-view+json": {
       "model_id": "521ff1dfb189418d9c1bddd5ed02b7f9",
       "version_major": 2,
       "version_minor": 0
      },
      "text/plain": [
       "HBox(children=(IntProgress(value=0, description='Epoch', max=1, style=ProgressStyle(description_width='initial…"
      ]
     },
     "metadata": {},
     "output_type": "display_data"
    },
    {
     "name": "stdout",
     "output_type": "stream",
     "text": [
      "epoch      trn_loss   val_loss   accuracy                  \n",
      "    0      0.56649    0.467498   0.787333  \n"
     ]
    },
    {
     "data": {
      "application/vnd.jupyter.widget-view+json": {
       "model_id": "a61366034e2e47fb81478fd1875de09b",
       "version_major": 2,
       "version_minor": 0
      },
      "text/plain": [
       "HBox(children=(IntProgress(value=0, description='Epoch', max=1, style=ProgressStyle(description_width='initial…"
      ]
     },
     "metadata": {},
     "output_type": "display_data"
    },
    {
     "name": "stdout",
     "output_type": "stream",
     "text": [
      "epoch      trn_loss   val_loss   accuracy                  \n",
      "    0      0.516843   0.415754   0.813667  \n"
     ]
    },
    {
     "data": {
      "application/vnd.jupyter.widget-view+json": {
       "model_id": "234b9f06870d4a30975d9e6b0cae48d1",
       "version_major": 2,
       "version_minor": 0
      },
      "text/plain": [
       "HBox(children=(IntProgress(value=0, description='Epoch', max=20, style=ProgressStyle(description_width='initia…"
      ]
     },
     "metadata": {},
     "output_type": "display_data"
    },
    {
     "name": "stdout",
     "output_type": "stream",
     "text": [
      "epoch      trn_loss   val_loss   accuracy                  \n",
      "    0      0.432849   0.369708   0.835333  \n",
      "    1      0.445248   0.377787   0.847667                  \n",
      "    2      0.429214   0.348125   0.852667                  \n",
      "    3      0.39887    0.365857   0.857                     \n",
      "    4      0.383021   0.352313   0.866667                  \n",
      "    5      0.335557   0.356211   0.862333                  \n",
      "    6      0.311222   0.388249   0.870333                  \n",
      "    7      0.264979   0.406841   0.867                     \n",
      "    8      0.226165   0.43312    0.870333                  \n",
      "    9      0.24078    0.437114   0.870667                  \n",
      "    10     0.186218   0.527322   0.871667                  \n",
      "    11     0.15246    0.51594    0.873                     \n",
      "    12     0.132403   0.517733   0.868667                  \n",
      "    13     0.124488   0.547163   0.868333                  \n",
      "    14     0.127445   0.561268   0.870667                  \n",
      "    15     0.10548    0.613252   0.868                     \n",
      "    16     0.107433   0.653663   0.870667                   \n",
      "    17     0.080685   0.74708    0.869333                   \n",
      "    18     0.093074   0.61439    0.874                      \n",
      "    19     0.087458   0.777763   0.86                       \n"
     ]
    }
   ],
   "source": [
    "bn_metrics = run_experiment('bn')"
   ]
  },
  {
   "cell_type": "code",
   "execution_count": 212,
   "metadata": {},
   "outputs": [],
   "source": [
    "target_language = 'bn'\n",
    "small_data_dir = Path(f'/home/paperspace/text-augmentation/imdb_small_aug_{target_language}')\n",
    "if small_data_dir.exists():\n",
    "    shutil.rmtree(small_data_dir)\n",
    "    shutil.copytree(orig_small_data_dir, small_data_dir)"
   ]
  },
  {
   "cell_type": "code",
   "execution_count": 214,
   "metadata": {},
   "outputs": [],
   "source": [
    "add_aug_files(target_language, small_data_dir, n_to_copy=None)"
   ]
  },
  {
   "cell_type": "code",
   "execution_count": 215,
   "metadata": {},
   "outputs": [],
   "source": [
    "add_aug_files('es', small_data_dir, n_to_copy=None)"
   ]
  },
  {
   "cell_type": "code",
   "execution_count": 216,
   "metadata": {},
   "outputs": [
    {
     "name": "stdout",
     "output_type": "stream",
     "text": [
      "saved 2895 rows to /home/paperspace/text-augmentation/imdb_small_aug_bn/train.csv\n",
      "train_df.shape: (2895, 2)\n",
      "saved 3000 rows to /home/paperspace/text-augmentation/imdb_small_aug_bn/val.csv\n",
      "dir_path /home/paperspace/text-augmentation/imdb_small_aug_bn chunksize 24000 n_lbls 1 lang en\n",
      "0\n",
      "0\n",
      "dir_path /home/paperspace/text-augmentation/imdb_small_aug_bn max_vocab 60000 min_freq 1\n",
      "[('the', 42933), (',', 38115), ('.', 34923), ('and', 20262), ('a', 19589), ('of', 18945), ('to', 15372), ('is', 14592), ('in', 12072), ('it', 11754), ('i', 10539), ('that', 9727), ('this', 8706), ('\"', 8556), ('not', 6854), ('was', 6441), (\"'s\", 6358), ('movie', 5594), ('for', 5458), ('with', 5320), ('but', 5295), ('as', 4789), ('\\n', 4757), ('-', 4693), (')', 4432)]\n",
      "18189\n",
      "dir_path /home/paperspace/text-augmentation/imdb_small_aug_bn; wt103_path /home/paperspace/fastai-fork/courses/dl2/wt103; cuda_id 0; pretrain_id wt103; cl 10; bs 64; backwards False dropmult 1.0; lr 0.004; preload True; bpe False;startat 0; use_clr True; notrain False; joined False early stopping True\n",
      "Loading /home/paperspace/text-augmentation/imdb_small_aug_bn/tmp/trn_ids.npy and /home/paperspace/text-augmentation/imdb_small_aug_bn/tmp/val_ids.npy\n",
      "data.shape\" torch.Size([13244, 64])\n",
      "data.shape\" torch.Size([13085, 64])\n",
      "Loading pretrained weights...\n"
     ]
    },
    {
     "data": {
      "application/vnd.jupyter.widget-view+json": {
       "model_id": "ec7e4881cb654f53816a6292bbfadbc4",
       "version_major": 2,
       "version_minor": 0
      },
      "text/plain": [
       "HBox(children=(IntProgress(value=0, description='Epoch', max=1, style=ProgressStyle(description_width='initial…"
      ]
     },
     "metadata": {},
     "output_type": "display_data"
    },
    {
     "name": "stdout",
     "output_type": "stream",
     "text": [
      "epoch      trn_loss   val_loss   accuracy                    \n",
      "    0      4.850278   4.623102   0.229658  \n",
      "Using early stopping...\n"
     ]
    },
    {
     "data": {
      "application/vnd.jupyter.widget-view+json": {
       "model_id": "533b2b6095064a95ad0f42b155d3789b",
       "version_major": 2,
       "version_minor": 0
      },
      "text/plain": [
       "HBox(children=(IntProgress(value=0, description='Epoch', max=10, style=ProgressStyle(description_width='initia…"
      ]
     },
     "metadata": {},
     "output_type": "display_data"
    },
    {
     "name": "stdout",
     "output_type": "stream",
     "text": [
      "epoch      trn_loss   val_loss   accuracy                    \n",
      "    0      4.562135   4.383283   0.241286  \n",
      "    1      4.269974   4.333023   0.247336                    \n",
      "    2      4.006817   4.341632   0.248268                    \n",
      "    3      3.793725   4.363566   0.247748                    \n",
      "    4      3.60402    4.39791    0.243869                    \n",
      "    5      3.478444   4.40925    0.244932                    \n",
      "    6      3.355107   4.439922   0.243442                    \n",
      "Stopping - no improvement after 6 epochs                     \n",
      "    7      3.253616   4.462911   0.242285  \n",
      "Loading best model from fwd_lm\n",
      "saving to /home/paperspace/text-augmentation/imdb_small_aug_bn/models/fwd_lm.h5 and /home/paperspace/text-augmentation/imdb_small_aug_bn/models/fwd_lm_enc.h5\n",
      "dir_path /home/paperspace/text-augmentation/imdb_small_aug_bn; cuda_id 0; lm_id ; clas_id None; bs 64; cl 20; backwards False; dropmult 1.0 unfreeze True startat 0; bpe False; use_clr True;use_regular_schedule False; use_discriminative True; last False;chain_thaw False; from_scratch False; train_file_id \n",
      "Trn lbls shape: (2895,)\n",
      "Number of labels: 2\n"
     ]
    },
    {
     "data": {
      "application/vnd.jupyter.widget-view+json": {
       "model_id": "93cbe430a81146b7891fc94f88084d70",
       "version_major": 2,
       "version_minor": 0
      },
      "text/plain": [
       "HBox(children=(IntProgress(value=0, description='Epoch', max=1, style=ProgressStyle(description_width='initial…"
      ]
     },
     "metadata": {},
     "output_type": "display_data"
    },
    {
     "name": "stdout",
     "output_type": "stream",
     "text": [
      "epoch      trn_loss   val_loss   accuracy                  \n",
      "    0      0.601288   0.453652   0.788333  \n"
     ]
    },
    {
     "data": {
      "application/vnd.jupyter.widget-view+json": {
       "model_id": "329bea8e4eab4880a532922c67c9ffb9",
       "version_major": 2,
       "version_minor": 0
      },
      "text/plain": [
       "HBox(children=(IntProgress(value=0, description='Epoch', max=1, style=ProgressStyle(description_width='initial…"
      ]
     },
     "metadata": {},
     "output_type": "display_data"
    },
    {
     "name": "stdout",
     "output_type": "stream",
     "text": [
      "epoch      trn_loss   val_loss   accuracy                  \n",
      "    0      0.497804   0.394712   0.825667  \n"
     ]
    },
    {
     "data": {
      "application/vnd.jupyter.widget-view+json": {
       "model_id": "71e06aab77204b51ba6f6c932c26ba6d",
       "version_major": 2,
       "version_minor": 0
      },
      "text/plain": [
       "HBox(children=(IntProgress(value=0, description='Epoch', max=20, style=ProgressStyle(description_width='initia…"
      ]
     },
     "metadata": {},
     "output_type": "display_data"
    },
    {
     "name": "stdout",
     "output_type": "stream",
     "text": [
      "epoch      trn_loss   val_loss   accuracy                  \n",
      "    0      0.424473   0.417158   0.827667  \n",
      "    1      0.429524   0.364677   0.867333                  \n",
      "    2      0.383919   0.331727   0.863667                  \n",
      "    3      0.317641   0.403555   0.850667                  \n",
      "    4      0.294526   0.458487   0.871333                  \n",
      "    5      0.261704   0.365708   0.876667                  \n",
      "    6      0.201407   0.434555   0.877                     \n",
      "    7      0.173114   0.452755   0.872                     \n",
      "    8      0.15602    0.500931   0.875                     \n",
      "    9      0.131389   0.592318   0.875333                  \n",
      "    10     0.129344   0.52248    0.885                     \n",
      "    11     0.11673    0.661067   0.869                      \n",
      "    12     0.10335    0.744168   0.871667                  \n",
      "    13     0.08216    0.836206   0.867333                   \n",
      "    14     0.082219   0.651081   0.876                      \n",
      "    15     0.089605   0.647704   0.879667                   \n",
      "    16     0.089803   0.718989   0.881                      \n",
      "    17     0.093534   0.699665   0.880667                   \n",
      "    18     0.059867   0.750305   0.885667                   \n",
      "    19     0.04124    0.746372   0.885667                   \n"
     ]
    }
   ],
   "source": [
    "bn_and_es_metrics = run_experiment('bn', n_to_copy=0, second_lang=True)"
   ]
  },
  {
   "cell_type": "code",
   "execution_count": 194,
   "metadata": {},
   "outputs": [
    {
     "name": "stdout",
     "output_type": "stream",
     "text": [
      "saved 1300 rows to /home/paperspace/text-augmentation/imdb_small_aug_es/train.csv\n",
      "train_df.shape: (1300, 2)\n",
      "saved 3000 rows to /home/paperspace/text-augmentation/imdb_small_aug_es/val.csv\n",
      "dir_path /home/paperspace/text-augmentation/imdb_small_aug_es chunksize 24000 n_lbls 1 lang en\n",
      "0\n",
      "0\n",
      "dir_path /home/paperspace/text-augmentation/imdb_small_aug_es max_vocab 60000 min_freq 1\n",
      "[('the', 19811), (',', 16494), ('.', 15991), ('a', 9142), ('and', 9083), ('of', 8692), ('to', 7383), ('is', 6460), ('in', 5414), ('it', 5297), ('i', 4743), ('that', 4588), ('this', 4060), ('\"', 3823), (\"'s\", 3267), ('was', 2914), ('with', 2529), ('movie', 2508), ('-', 2499), ('for', 2487), ('as', 2469), ('but', 2355), ('not', 2222), ('\\n\\n', 2107), (')', 2027)]\n",
      "12200\n",
      "dir_path /home/paperspace/text-augmentation/imdb_small_aug_es; wt103_path /home/paperspace/fastai-fork/courses/dl2/wt103; cuda_id 0; pretrain_id wt103; cl 10; bs 64; backwards False dropmult 1.0; lr 0.004; preload True; bpe False;startat 0; use_clr True; notrain False; joined False early stopping True\n",
      "Loading /home/paperspace/text-augmentation/imdb_small_aug_es/tmp/trn_ids.npy and /home/paperspace/text-augmentation/imdb_small_aug_es/tmp/val_ids.npy\n",
      "data.shape\" torch.Size([6152, 64])\n",
      "data.shape\" torch.Size([13085, 64])\n",
      "Loading pretrained weights...\n"
     ]
    },
    {
     "data": {
      "application/vnd.jupyter.widget-view+json": {
       "model_id": "21787a91cc6045b1a63abb9eefbf00d4",
       "version_major": 2,
       "version_minor": 0
      },
      "text/plain": [
       "HBox(children=(IntProgress(value=0, description='Epoch', max=1, style=ProgressStyle(description_width='initial…"
      ]
     },
     "metadata": {},
     "output_type": "display_data"
    },
    {
     "name": "stdout",
     "output_type": "stream",
     "text": [
      "epoch      trn_loss   val_loss   accuracy                    \n",
      "    0      5.028587   4.669625   0.225144  \n",
      "Using early stopping...\n"
     ]
    },
    {
     "data": {
      "application/vnd.jupyter.widget-view+json": {
       "model_id": "fb50e9ac1f12421280ae0c08c69385b8",
       "version_major": 2,
       "version_minor": 0
      },
      "text/plain": [
       "HBox(children=(IntProgress(value=0, description='Epoch', max=10, style=ProgressStyle(description_width='initia…"
      ]
     },
     "metadata": {},
     "output_type": "display_data"
    },
    {
     "name": "stdout",
     "output_type": "stream",
     "text": [
      "epoch      trn_loss   val_loss   accuracy                    \n",
      "    0      4.707575   4.304955   0.245882  \n",
      "    1      4.451675   4.206268   0.255198                    \n",
      "    2      4.202525   4.191773   0.256594                    \n",
      "    3      4.00087    4.182219   0.258189                    \n",
      "    4      3.807479   4.210486   0.255794                    \n",
      "    5      3.66975    4.21997    0.256696                    \n",
      "    6      3.539528   4.239004   0.254934                    \n",
      "    7      3.425525   4.248      0.254769                    \n",
      "    8      3.402124   4.250305   0.254743                    \n",
      "Stopping - no improvement after 6 epochs                     \n",
      "    9      3.32385    4.260757   0.254793  \n",
      "Loading best model from fwd_lm\n",
      "saving to /home/paperspace/text-augmentation/imdb_small_aug_es/models/fwd_lm.h5 and /home/paperspace/text-augmentation/imdb_small_aug_es/models/fwd_lm_enc.h5\n",
      "dir_path /home/paperspace/text-augmentation/imdb_small_aug_es; cuda_id 0; lm_id ; clas_id None; bs 64; cl 20; backwards False; dropmult 1.0 unfreeze True startat 0; bpe False; use_clr True;use_regular_schedule False; use_discriminative True; last False;chain_thaw False; from_scratch False; train_file_id \n",
      "Trn lbls shape: (1300,)\n",
      "Number of labels: 2\n"
     ]
    },
    {
     "data": {
      "application/vnd.jupyter.widget-view+json": {
       "model_id": "d1dcbfa5dcfb4e03b5b67f17bd764d53",
       "version_major": 2,
       "version_minor": 0
      },
      "text/plain": [
       "HBox(children=(IntProgress(value=0, description='Epoch', max=1, style=ProgressStyle(description_width='initial…"
      ]
     },
     "metadata": {},
     "output_type": "display_data"
    },
    {
     "name": "stdout",
     "output_type": "stream",
     "text": [
      "epoch      trn_loss   val_loss   accuracy                  \n",
      "    0      0.624233   0.507556   0.782333  \n"
     ]
    },
    {
     "data": {
      "application/vnd.jupyter.widget-view+json": {
       "model_id": "bab40e78c34942d0b584e89f8b25f076",
       "version_major": 2,
       "version_minor": 0
      },
      "text/plain": [
       "HBox(children=(IntProgress(value=0, description='Epoch', max=1, style=ProgressStyle(description_width='initial…"
      ]
     },
     "metadata": {},
     "output_type": "display_data"
    },
    {
     "name": "stdout",
     "output_type": "stream",
     "text": [
      "epoch      trn_loss   val_loss   accuracy                  \n",
      "    0      0.548945   0.425815   0.801     \n"
     ]
    },
    {
     "data": {
      "application/vnd.jupyter.widget-view+json": {
       "model_id": "a57ca5a0298c4b1487ae7c0fbfeed434",
       "version_major": 2,
       "version_minor": 0
      },
      "text/plain": [
       "HBox(children=(IntProgress(value=0, description='Epoch', max=20, style=ProgressStyle(description_width='initia…"
      ]
     },
     "metadata": {},
     "output_type": "display_data"
    },
    {
     "name": "stdout",
     "output_type": "stream",
     "text": [
      "epoch      trn_loss   val_loss   accuracy                  \n",
      "    0      0.499653   0.41103    0.813333  \n",
      "    1      0.48498    0.395168   0.825333                  \n",
      "    2      0.496382   0.457001   0.787333                  \n",
      "    3      0.438999   0.3776     0.833                     \n",
      "    4      0.370734   0.366077   0.849333                  \n",
      "    5      0.322712   0.463223   0.817333                  \n",
      "    6      0.307927   0.359331   0.868667                  \n",
      "    7      0.285886   0.381739   0.852333                  \n",
      "    8      0.248287   0.374062   0.864667                  \n",
      "    9      0.229182   0.419796   0.865667                  \n",
      "    10     0.208212   0.541679   0.846333                  \n",
      "    11     0.172539   0.465329   0.861667                  \n",
      "    12     0.157901   0.465001   0.865                     \n",
      "    13     0.158218   0.494788   0.871667                  \n",
      "    14     0.126698   0.491241   0.868333                  \n",
      "    15     0.119011   0.495586   0.871333                  \n",
      "    16     0.124597   0.542267   0.87                      \n",
      "    17     0.115641   0.58255    0.871333                  \n",
      "    18     0.114093   0.590166   0.875667                  \n",
      "    19     0.097288   0.616286   0.870333                   \n"
     ]
    }
   ],
   "source": [
    "es_300_metrics = run_experiment('es', n_to_copy=300)"
   ]
  },
  {
   "cell_type": "code",
   "execution_count": null,
   "metadata": {},
   "outputs": [],
   "source": []
  },
  {
   "cell_type": "code",
   "execution_count": 218,
   "metadata": {},
   "outputs": [],
   "source": [
    "pd.DataFrame(\n",
    "    {'es':es_metrics, 'bn': bn_metrics, 'baseline':baseline_metrics,\n",
    "     'es_300_metrics': es_300_metrics,\n",
    "     'both_metrics': bn_and_es_metrics}\n",
    ").to_csv(\"1000_row_training_results.csv\", index=False)"
   ]
  },
  {
   "cell_type": "markdown",
   "metadata": {},
   "source": [
    "Bigger Experiment"
   ]
  },
  {
   "cell_type": "code",
   "execution_count": null,
   "metadata": {},
   "outputs": [],
   "source": []
  },
  {
   "cell_type": "code",
   "execution_count": 174,
   "metadata": {},
   "outputs": [
    {
     "data": {
      "text/plain": [
       "PosixPath('/home/paperspace/text-augmentation/imdb_small_aug_es')"
      ]
     },
     "execution_count": 174,
     "metadata": {},
     "output_type": "execute_result"
    }
   ],
   "source": [
    "small_data_dir"
   ]
  },
  {
   "cell_type": "code",
   "execution_count": 175,
   "metadata": {},
   "outputs": [],
   "source": [
    "add_aug_files('es', small_data_dir)"
   ]
  },
  {
   "cell_type": "code",
   "execution_count": null,
   "metadata": {},
   "outputs": [],
   "source": [
    "prepare_tokens_and_labels(small"
   ]
  },
  {
   "cell_type": "code",
   "execution_count": 114,
   "metadata": {
    "ExecuteTime": {
     "end_time": "2019-03-04T23:55:56.094327Z",
     "start_time": "2019-03-04T23:55:55.991882Z"
    }
   },
   "outputs": [
    {
     "name": "stdout",
     "output_type": "stream",
     "text": [
      "saved 1888 rows to /home/paperspace/text-augmentation/imdb_small_aug_bn/train.csv\n"
     ]
    }
   ],
   "source": [
    "train_csv_path = small_data_dir/'train.csv'\n",
    "make_csv_from_dir(small_data_dir/'train', train_csv_path)"
   ]
  },
  {
   "cell_type": "code",
   "execution_count": 115,
   "metadata": {},
   "outputs": [
    {
     "data": {
      "text/plain": [
       "(1888, 2)"
      ]
     },
     "execution_count": 115,
     "metadata": {},
     "output_type": "execute_result"
    }
   ],
   "source": [
    "trdf = pd.read_csv(small_data_dir/'train.csv', header=None); trdf.shape"
   ]
  },
  {
   "cell_type": "code",
   "execution_count": 116,
   "metadata": {
    "ExecuteTime": {
     "end_time": "2019-03-04T23:56:07.386847Z",
     "start_time": "2019-03-04T23:55:56.194179Z"
    }
   },
   "outputs": [
    {
     "name": "stdout",
     "output_type": "stream",
     "text": [
      "saved 1000 rows to /home/paperspace/text-augmentation/imdb_small_aug_bn/val.csv\n"
     ]
    }
   ],
   "source": [
    "make_csv_from_dir(small_data_dir/'test', small_data_dir/'val.csv')\n",
    "\n",
    "# could also shutil.scp this"
   ]
  },
  {
   "cell_type": "code",
   "execution_count": 117,
   "metadata": {
    "ExecuteTime": {
     "end_time": "2019-03-04T23:57:22.158730Z",
     "start_time": "2019-03-04T23:56:07.389002Z"
    }
   },
   "outputs": [
    {
     "name": "stdout",
     "output_type": "stream",
     "text": [
      "dir_path /home/paperspace/text-augmentation/imdb_small_aug_bn chunksize 24000 n_lbls 1 lang en\n",
      "0\n",
      "0\n"
     ]
    }
   ],
   "source": [
    "create_toks(small_data_dir)"
   ]
  },
  {
   "cell_type": "code",
   "execution_count": 118,
   "metadata": {
    "ExecuteTime": {
     "end_time": "2019-03-04T23:57:22.222364Z",
     "start_time": "2019-03-04T23:57:22.160858Z"
    }
   },
   "outputs": [],
   "source": [
    "from imdb_scripts.tok2id import tok2id"
   ]
  },
  {
   "cell_type": "code",
   "execution_count": 119,
   "metadata": {
    "ExecuteTime": {
     "end_time": "2019-03-04T23:57:25.374003Z",
     "start_time": "2019-03-04T23:57:22.223909Z"
    }
   },
   "outputs": [
    {
     "name": "stdout",
     "output_type": "stream",
     "text": [
      "dir_path /home/paperspace/text-augmentation/imdb_small_aug_bn max_vocab 60000 min_freq 1\n",
      "[('the', 24039), (',', 21679), ('.', 20009), ('and', 12258), ('a', 11557), ('of', 10591), ('to', 9263), ('is', 8443), ('it', 7160), ('i', 6497), ('in', 6460), ('this', 5271), ('\"', 4925), ('that', 4811), (\"'s\", 4081), ('was', 3705), ('not', 3694), ('-', 3625), ('movie', 3414), ('for', 3325), ('with', 3193), ('but', 3044), ('as', 2910), ('\\n', 2749), (')', 2673)]\n",
      "13379\n"
     ]
    }
   ],
   "source": [
    "tok2id(small_data_dir, max_vocab=60000)"
   ]
  },
  {
   "cell_type": "code",
   "execution_count": 133,
   "metadata": {
    "ExecuteTime": {
     "end_time": "2019-03-04T23:57:25.499080Z",
     "start_time": "2019-03-04T23:57:25.438396Z"
    }
   },
   "outputs": [],
   "source": [
    "from imdb_scripts.finetune_lm import train_lm"
   ]
  },
  {
   "cell_type": "code",
   "execution_count": 121,
   "metadata": {
    "ExecuteTime": {
     "end_time": "2019-03-04T23:37:02.204511Z",
     "start_time": "2019-03-04T23:37:02.140486Z"
    }
   },
   "outputs": [],
   "source": [
    "WT103_PATH = Path('/home/paperspace/fastai-fork/courses/dl2/wt103/')"
   ]
  },
  {
   "cell_type": "code",
   "execution_count": 122,
   "metadata": {
    "ExecuteTime": {
     "end_time": "2019-03-04T23:37:06.511903Z",
     "start_time": "2019-03-04T23:37:06.465800Z"
    }
   },
   "outputs": [],
   "source": [
    "assert WT103_PATH.exists()"
   ]
  },
  {
   "cell_type": "code",
   "execution_count": 136,
   "metadata": {
    "ExecuteTime": {
     "end_time": "2019-03-04T23:58:43.156335Z",
     "start_time": "2019-03-04T23:57:33.478620Z"
    }
   },
   "outputs": [
    {
     "name": "stdout",
     "output_type": "stream",
     "text": [
      "dir_path /home/paperspace/text-augmentation/imdb_small_aug_bn; wt103_path /home/paperspace/fastai-fork/courses/dl2/wt103; cuda_id 0; pretrain_id wt103; cl 20; bs 64; backwards False dropmult 0.7; lr 0.0005; preload True; bpe False;startat 0; use_clr True; notrain False; joined False early stopping True\n",
      "Loading /home/paperspace/text-augmentation/imdb_small_aug_bn/tmp/trn_ids.npy and /home/paperspace/text-augmentation/imdb_small_aug_bn/tmp/val_ids.npy\n",
      "data.shape\" torch.Size([7815, 64])\n",
      "data.shape\" torch.Size([4173, 64])\n",
      "Loading pretrained weights...\n"
     ]
    },
    {
     "data": {
      "application/vnd.jupyter.widget-view+json": {
       "model_id": "bfe2acc7f65847b1842305c531534f61",
       "version_major": 2,
       "version_minor": 0
      },
      "text/plain": [
       "HBox(children=(IntProgress(value=0, description='Epoch', max=1, style=ProgressStyle(description_width='initial…"
      ]
     },
     "metadata": {},
     "output_type": "display_data"
    },
    {
     "name": "stdout",
     "output_type": "stream",
     "text": [
      "epoch      trn_loss   val_loss   accuracy                   \n",
      "    0      5.056068   4.870562   0.217885  \n",
      "Using early stopping...\n"
     ]
    },
    {
     "data": {
      "application/vnd.jupyter.widget-view+json": {
       "model_id": "bc15f423fadf45a3995fbd7c6131cd87",
       "version_major": 2,
       "version_minor": 0
      },
      "text/plain": [
       "HBox(children=(IntProgress(value=0, description='Epoch', max=20, style=ProgressStyle(description_width='initia…"
      ]
     },
     "metadata": {},
     "output_type": "display_data"
    },
    {
     "name": "stdout",
     "output_type": "stream",
     "text": [
      "epoch      trn_loss   val_loss   accuracy                   \n",
      "    0      4.841811   4.496714   0.238134  \n",
      "    1      4.682101   4.390377   0.246678                   \n",
      "    2      4.564518   4.336294   0.24985                    \n",
      "    3      4.472971   4.301852   0.251696                   \n",
      "    4      4.403175   4.274759   0.253056                  \n",
      "    5      4.338722   4.250138   0.254221                   \n",
      "    6      4.280165   4.230714   0.25481                    \n",
      "    7      4.223836   4.210303   0.25651                    \n",
      "    8      4.175479   4.203444   0.25653                    \n",
      "    9      4.140898   4.196986   0.256498                   \n",
      "    10     4.106423   4.187823   0.256439                   \n",
      "    11     4.076381   4.187675   0.256564                   \n",
      "    12     4.059074   4.186018   0.257037                   \n",
      "    13     4.017595   4.183032   0.257506                   \n",
      "    14     4.010646   4.18207    0.257662                   \n",
      "    15     3.999231   4.186276   0.257304                   \n",
      "    16     3.979655   4.180027   0.257834                   \n",
      "    17     3.957868   4.184336   0.25757                    \n",
      "    18     3.941933   4.18101    0.257789                   \n",
      "    19     3.937651   4.181205   0.257938                   \n",
      "Loading best model from fwd_lm\n",
      "saving to /home/paperspace/text-augmentation/imdb_small_aug_bn/models/fwd_lm.h5 and /home/paperspace/text-augmentation/imdb_small_aug_bn/models/fwd_lm_enc.h5\n",
      "CPU times: user 5min 7s, sys: 2min 15s, total: 7min 22s\n",
      "Wall time: 7min 25s\n"
     ]
    }
   ],
   "source": [
    "%%time\n",
    "train_lm(small_data_dir, WT103_PATH, early_stopping=True, cl=20,\n",
    "         dropmult=0.7, train_last_layer_first=True)"
   ]
  },
  {
   "cell_type": "code",
   "execution_count": null,
   "metadata": {},
   "outputs": [],
   "source": [
    "from imdb_scripts.train_clas import train_clas"
   ]
  },
  {
   "cell_type": "code",
   "execution_count": null,
   "metadata": {
    "scrolled": false
   },
   "outputs": [
    {
     "name": "stdout",
     "output_type": "stream",
     "text": [
      "dir_path /home/paperspace/text-augmentation/imdb_small_aug_bn; cuda_id 0; lm_id ; clas_id None; bs 64; cl 20; backwards False; dropmult 1.0 unfreeze True startat 0; bpe False; use_clr True;use_regular_schedule False; use_discriminative True; last False;chain_thaw False; from_scratch False; train_file_id \n",
      "Trn lbls shape: (1888,)\n",
      "Number of labels: 2\n"
     ]
    },
    {
     "data": {
      "application/vnd.jupyter.widget-view+json": {
       "model_id": "d70190f935a4440cab476cca7af012d1",
       "version_major": 2,
       "version_minor": 0
      },
      "text/plain": [
       "HBox(children=(IntProgress(value=0, description='Epoch', max=1, style=ProgressStyle(description_width='initial…"
      ]
     },
     "metadata": {},
     "output_type": "display_data"
    },
    {
     "name": "stdout",
     "output_type": "stream",
     "text": [
      "epoch      trn_loss   val_loss   accuracy                  \n",
      "    0      0.573468   0.492192   0.771     \n"
     ]
    },
    {
     "data": {
      "application/vnd.jupyter.widget-view+json": {
       "model_id": "bb914700a0e0477c9bdbd53298f308a0",
       "version_major": 2,
       "version_minor": 0
      },
      "text/plain": [
       "HBox(children=(IntProgress(value=0, description='Epoch', max=1, style=ProgressStyle(description_width='initial…"
      ]
     },
     "metadata": {},
     "output_type": "display_data"
    },
    {
     "name": "stdout",
     "output_type": "stream",
     "text": [
      "epoch      trn_loss   val_loss   accuracy                  \n",
      "    0      0.514253   0.410899   0.822     \n"
     ]
    },
    {
     "data": {
      "application/vnd.jupyter.widget-view+json": {
       "model_id": "c3954b47b5f84d8ca4f9a3d230a319a6",
       "version_major": 2,
       "version_minor": 0
      },
      "text/plain": [
       "HBox(children=(IntProgress(value=0, description='Epoch', max=20, style=ProgressStyle(description_width='initia…"
      ]
     },
     "metadata": {},
     "output_type": "display_data"
    },
    {
     "name": "stdout",
     "output_type": "stream",
     "text": [
      "epoch      trn_loss   val_loss   accuracy                  \n",
      "    0      0.432802   0.443716   0.801     \n",
      "    1      0.412541   0.372754   0.847                     \n",
      "    2      0.386356   0.381477   0.846                     \n",
      "    3      0.32594    0.491089   0.836                     \n",
      "    4      0.29627    0.438037   0.827                     \n",
      "    5      0.264425   0.417298   0.867                     \n",
      "    6      0.236493   0.384776   0.85                      \n",
      "    7      0.211917   0.552344   0.822                     \n",
      "    8      0.169252   0.511051   0.849                     \n",
      "    9      0.142915   0.564444   0.855                     \n",
      "    10     0.144798   0.609102   0.851                     \n",
      "    11     0.120427   0.629628   0.867                     \n",
      "    12     0.112277   0.566752   0.868                     \n",
      "    13     0.103976   0.605294   0.836                     \n",
      "    14     0.088211   0.701956   0.86                       \n",
      "    15     0.083013   0.747197   0.853                      \n",
      "  5%|▌         | 3/59 [00:02<01:02,  1.12s/it, loss=0.08]  "
     ]
    }
   ],
   "source": [
    "learn = train_clas(small_data_dir, 0, bs=64, cl=20, lr=.01)"
   ]
  },
  {
   "cell_type": "code",
   "execution_count": 140,
   "metadata": {},
   "outputs": [
    {
     "name": "stdout",
     "output_type": "stream",
     "text": [
      "\u001b[0m\u001b[01;36m00-DO-NOT-USE-WITH-FASTAI-1.0.x.txt\u001b[0m@  logs_baseline_eval.txt\r\n",
      "\u001b[01;32mcarvana.ipynb\u001b[0m*                        logs_baseline_ulm.txt\r\n",
      "carvana-unet.ipynb                    \u001b[01;35mlr_plot.png\u001b[0m\r\n",
      "carvana-unet-lrg.ipynb                \u001b[01;34mlsun_scripts\u001b[0m/\r\n",
      "\u001b[01;34mcgan\u001b[0m/                                 \u001b[01;32mpascal.ipynb\u001b[0m*\r\n",
      "cifar10-darknet.ipynb                 \u001b[01;32mpascal-multi.ipynb\u001b[0m*\r\n",
      "cifar10-dawn.ipynb                    \u001b[01;34mppt\u001b[0m/\r\n",
      "cyclegan.ipynb                        style-transfer.ipynb\r\n",
      "devise.ipynb                          style-transfer-net.ipynb\r\n",
      "enhance.ipynb                         training_phase.ipynb\r\n",
      "\u001b[01;36mfastai\u001b[0m@                               translate.ipynb\r\n",
      "find-hard-examples.ipynb              Untitled.ipynb\r\n",
      "imdb-Copy1.ipynb                      wgan.ipynb\r\n",
      "\u001b[01;32mimdb.ipynb\u001b[0m*                           \u001b[01;34mwt103\u001b[0m/\r\n",
      "imdb-prepro.ipynb                     \u001b[01;34mxl\u001b[0m/\r\n",
      "\u001b[01;34mimdb_scripts\u001b[0m/\r\n"
     ]
    }
   ],
   "source": [
    "ls"
   ]
  },
  {
   "cell_type": "code",
   "execution_count": 142,
   "metadata": {},
   "outputs": [
    {
     "data": {
      "text/plain": [
       "[0.8010000009536743,\n",
       " 0.847,\n",
       " 0.8459999995231628,\n",
       " 0.8360000009536743,\n",
       " 0.8270000009536743,\n",
       " 0.8670000009536744,\n",
       " 0.8500000004768371,\n",
       " 0.822,\n",
       " 0.849,\n",
       " 0.8550000009536743,\n",
       " 0.8510000009536743,\n",
       " 0.867,\n",
       " 0.8679999995231629,\n",
       " 0.8360000009536743,\n",
       " 0.86,\n",
       " 0.8530000009536743,\n",
       " 0.853,\n",
       " 0.8610000009536743,\n",
       " 0.855,\n",
       " 0.856]"
      ]
     },
     "execution_count": 142,
     "metadata": {},
     "output_type": "execute_result"
    }
   ],
   "source": [
    "learn.sched.rec_metrics"
   ]
  },
  {
   "cell_type": "code",
   "execution_count": 141,
   "metadata": {},
   "outputs": [
    {
     "data": {
      "text/plain": [
       "0.8679999995231629"
      ]
     },
     "execution_count": 141,
     "metadata": {},
     "output_type": "execute_result"
    }
   ],
   "source": [
    "max(learn.sched.rec_metrics)"
   ]
  },
  {
   "cell_type": "code",
   "execution_count": 75,
   "metadata": {
    "ExecuteTime": {
     "end_time": "2019-03-04T23:37:08.482441Z",
     "start_time": "2019-03-04T23:37:08.437377Z"
    }
   },
   "outputs": [],
   "source": [
    "from imdb_scripts.eval_clas import eval_clas"
   ]
  },
  {
   "cell_type": "code",
   "execution_count": 127,
   "metadata": {},
   "outputs": [
    {
     "name": "stdout",
     "output_type": "stream",
     "text": [
      "model_dir_path /home/paperspace/text-augmentation/imdb_small_aug_bn; cuda_id 0; lm_id ; clas_id None; bs 64; backwards False; bpe False\n",
      "iterating\n",
      "Accuracy = 0.861 Confusion Matrix =\n",
      "[[435  61]\n",
      " [ 78 426]]\n",
      "CPU times: user 4.59 s, sys: 3.37 s, total: 7.96 s\n",
      "Wall time: 7.97 s\n"
     ]
    }
   ],
   "source": [
    "%%time\n",
    "eval_clas(small_data_dir)"
   ]
  },
  {
   "cell_type": "code",
   "execution_count": null,
   "metadata": {},
   "outputs": [],
   "source": [
    "ls"
   ]
  },
  {
   "cell_type": "code",
   "execution_count": 17,
   "metadata": {},
   "outputs": [
    {
     "name": "stdout",
     "output_type": "stream",
     "text": [
      "model_dir_path /home/paperspace/text-augmentation/imdb_small; cuda_id 0; lm_id ; clas_id None; bs 64; backwards False; bpe False\n",
      "Accuracy = 0.855 Confusion Matrix =\n",
      "[[424  72]\n",
      " [ 73 431]]\n",
      "CPU times: user 4.8 s, sys: 3.58 s, total: 8.38 s\n",
      "Wall time: 8.38 s\n"
     ]
    }
   ],
   "source": [
    "%%time\n",
    "eval_clas(small_data_dir)"
   ]
  },
  {
   "cell_type": "code",
   "execution_count": 84,
   "metadata": {},
   "outputs": [
    {
     "name": "stdout",
     "output_type": "stream",
     "text": [
      "model_dir_path /home/paperspace/text-augmentation/imdb_small_aug; cuda_id 0; lm_id ; clas_id None; bs 64; backwards False; bpe False\n",
      "> /home/paperspace/fastai-fork/courses/dl2/imdb_scripts/eval_clas.py(44)eval_clas()\n",
      "-> val_dl = DataLoader(val_ds, bs, transpose=True, num_workers=1, pad_idx=1, sampler=val_samp)\n",
      "(Pdb) c\n"
     ]
    },
    {
     "ename": "RuntimeError",
     "evalue": "cuda runtime error (59) : device-side assert triggered at /opt/conda/conda-bld/pytorch_1518244421288/work/torch/lib/THC/generic/THCTensorCopy.c:20",
     "output_type": "error",
     "traceback": [
      "\u001b[0;31m---------------------------------------------------------------------------\u001b[0m",
      "\u001b[0;31mRuntimeError\u001b[0m                              Traceback (most recent call last)",
      "\u001b[0;32m<timed eval>\u001b[0m in \u001b[0;36m<module>\u001b[0;34m()\u001b[0m\n",
      "\u001b[0;32m~/fastai-fork/courses/dl2/imdb_scripts/eval_clas.py\u001b[0m in \u001b[0;36meval_clas\u001b[0;34m(model_dir_path, val_dir, cuda_id, lm_id, clas_id, bs, backwards, bpe)\u001b[0m\n\u001b[1;32m     42\u001b[0m     \u001b[0mval_lbls_sampled\u001b[0m \u001b[0;34m=\u001b[0m \u001b[0mval_lbls\u001b[0m\u001b[0;34m[\u001b[0m\u001b[0mlist\u001b[0m\u001b[0;34m(\u001b[0m\u001b[0mval_samp\u001b[0m\u001b[0;34m)\u001b[0m\u001b[0;34m]\u001b[0m\u001b[0;34m\u001b[0m\u001b[0;34m\u001b[0m\u001b[0m\n\u001b[1;32m     43\u001b[0m     \u001b[0;32mimport\u001b[0m \u001b[0mpdb\u001b[0m\u001b[0;34m;\u001b[0m \u001b[0mpdb\u001b[0m\u001b[0;34m.\u001b[0m\u001b[0mset_trace\u001b[0m\u001b[0;34m(\u001b[0m\u001b[0;34m)\u001b[0m\u001b[0;34m\u001b[0m\u001b[0;34m\u001b[0m\u001b[0m\n\u001b[0;32m---> 44\u001b[0;31m     \u001b[0mval_dl\u001b[0m \u001b[0;34m=\u001b[0m \u001b[0mDataLoader\u001b[0m\u001b[0;34m(\u001b[0m\u001b[0mval_ds\u001b[0m\u001b[0;34m,\u001b[0m \u001b[0mbs\u001b[0m\u001b[0;34m,\u001b[0m \u001b[0mtranspose\u001b[0m\u001b[0;34m=\u001b[0m\u001b[0;32mTrue\u001b[0m\u001b[0;34m,\u001b[0m \u001b[0mnum_workers\u001b[0m\u001b[0;34m=\u001b[0m\u001b[0;36m1\u001b[0m\u001b[0;34m,\u001b[0m \u001b[0mpad_idx\u001b[0m\u001b[0;34m=\u001b[0m\u001b[0;36m1\u001b[0m\u001b[0;34m,\u001b[0m \u001b[0msampler\u001b[0m\u001b[0;34m=\u001b[0m\u001b[0mval_samp\u001b[0m\u001b[0;34m)\u001b[0m\u001b[0;34m\u001b[0m\u001b[0;34m\u001b[0m\u001b[0m\n\u001b[0m\u001b[1;32m     45\u001b[0m     \u001b[0mmd\u001b[0m \u001b[0;34m=\u001b[0m \u001b[0mModelData\u001b[0m\u001b[0;34m(\u001b[0m\u001b[0mmodel_dir_path\u001b[0m\u001b[0;34m,\u001b[0m \u001b[0;32mNone\u001b[0m\u001b[0;34m,\u001b[0m \u001b[0mval_dl\u001b[0m\u001b[0;34m)\u001b[0m\u001b[0;34m\u001b[0m\u001b[0;34m\u001b[0m\u001b[0m\n\u001b[1;32m     46\u001b[0m \u001b[0;34m\u001b[0m\u001b[0m\n",
      "\u001b[0;32m~/fastai-fork/courses/dl2/fastai/core.py\u001b[0m in \u001b[0;36mto_gpu\u001b[0;34m(x, *args, **kwargs)\u001b[0m\n\u001b[1;32m     88\u001b[0m \u001b[0;32mdef\u001b[0m \u001b[0mto_gpu\u001b[0m\u001b[0;34m(\u001b[0m\u001b[0mx\u001b[0m\u001b[0;34m,\u001b[0m \u001b[0;34m*\u001b[0m\u001b[0margs\u001b[0m\u001b[0;34m,\u001b[0m \u001b[0;34m**\u001b[0m\u001b[0mkwargs\u001b[0m\u001b[0;34m)\u001b[0m\u001b[0;34m:\u001b[0m\u001b[0;34m\u001b[0m\u001b[0;34m\u001b[0m\u001b[0m\n\u001b[1;32m     89\u001b[0m     \u001b[0;34m'''puts pytorch variable to gpu, if cuda is available and USE_GPU is set to true. '''\u001b[0m\u001b[0;34m\u001b[0m\u001b[0;34m\u001b[0m\u001b[0m\n\u001b[0;32m---> 90\u001b[0;31m     \u001b[0;32mreturn\u001b[0m \u001b[0mx\u001b[0m\u001b[0;34m.\u001b[0m\u001b[0mcuda\u001b[0m\u001b[0;34m(\u001b[0m\u001b[0;34m*\u001b[0m\u001b[0margs\u001b[0m\u001b[0;34m,\u001b[0m \u001b[0;34m**\u001b[0m\u001b[0mkwargs\u001b[0m\u001b[0;34m)\u001b[0m \u001b[0;32mif\u001b[0m \u001b[0mUSE_GPU\u001b[0m \u001b[0;32melse\u001b[0m \u001b[0mx\u001b[0m\u001b[0;34m\u001b[0m\u001b[0;34m\u001b[0m\u001b[0m\n\u001b[0m\u001b[1;32m     91\u001b[0m \u001b[0;34m\u001b[0m\u001b[0m\n\u001b[1;32m     92\u001b[0m \u001b[0;32mdef\u001b[0m \u001b[0mnoop\u001b[0m\u001b[0;34m(\u001b[0m\u001b[0;34m*\u001b[0m\u001b[0margs\u001b[0m\u001b[0;34m,\u001b[0m \u001b[0;34m**\u001b[0m\u001b[0mkwargs\u001b[0m\u001b[0;34m)\u001b[0m\u001b[0;34m:\u001b[0m \u001b[0;32mreturn\u001b[0m\u001b[0;34m\u001b[0m\u001b[0;34m\u001b[0m\u001b[0m\n",
      "\u001b[0;32m~/anaconda3/envs/fastai/lib/python3.6/site-packages/torch/nn/modules/module.py\u001b[0m in \u001b[0;36mcuda\u001b[0;34m(self, device)\u001b[0m\n\u001b[1;32m    214\u001b[0m             \u001b[0mModule\u001b[0m\u001b[0;34m:\u001b[0m \u001b[0mself\u001b[0m\u001b[0;34m\u001b[0m\u001b[0;34m\u001b[0m\u001b[0m\n\u001b[1;32m    215\u001b[0m         \"\"\"\n\u001b[0;32m--> 216\u001b[0;31m         \u001b[0;32mreturn\u001b[0m \u001b[0mself\u001b[0m\u001b[0;34m.\u001b[0m\u001b[0m_apply\u001b[0m\u001b[0;34m(\u001b[0m\u001b[0;32mlambda\u001b[0m \u001b[0mt\u001b[0m\u001b[0;34m:\u001b[0m \u001b[0mt\u001b[0m\u001b[0;34m.\u001b[0m\u001b[0mcuda\u001b[0m\u001b[0;34m(\u001b[0m\u001b[0mdevice\u001b[0m\u001b[0;34m)\u001b[0m\u001b[0;34m)\u001b[0m\u001b[0;34m\u001b[0m\u001b[0;34m\u001b[0m\u001b[0m\n\u001b[0m\u001b[1;32m    217\u001b[0m \u001b[0;34m\u001b[0m\u001b[0m\n\u001b[1;32m    218\u001b[0m     \u001b[0;32mdef\u001b[0m \u001b[0mcpu\u001b[0m\u001b[0;34m(\u001b[0m\u001b[0mself\u001b[0m\u001b[0;34m)\u001b[0m\u001b[0;34m:\u001b[0m\u001b[0;34m\u001b[0m\u001b[0;34m\u001b[0m\u001b[0m\n",
      "\u001b[0;32m~/anaconda3/envs/fastai/lib/python3.6/site-packages/torch/nn/modules/module.py\u001b[0m in \u001b[0;36m_apply\u001b[0;34m(self, fn)\u001b[0m\n\u001b[1;32m    144\u001b[0m     \u001b[0;32mdef\u001b[0m \u001b[0m_apply\u001b[0m\u001b[0;34m(\u001b[0m\u001b[0mself\u001b[0m\u001b[0;34m,\u001b[0m \u001b[0mfn\u001b[0m\u001b[0;34m)\u001b[0m\u001b[0;34m:\u001b[0m\u001b[0;34m\u001b[0m\u001b[0;34m\u001b[0m\u001b[0m\n\u001b[1;32m    145\u001b[0m         \u001b[0;32mfor\u001b[0m \u001b[0mmodule\u001b[0m \u001b[0;32min\u001b[0m \u001b[0mself\u001b[0m\u001b[0;34m.\u001b[0m\u001b[0mchildren\u001b[0m\u001b[0;34m(\u001b[0m\u001b[0;34m)\u001b[0m\u001b[0;34m:\u001b[0m\u001b[0;34m\u001b[0m\u001b[0;34m\u001b[0m\u001b[0m\n\u001b[0;32m--> 146\u001b[0;31m             \u001b[0mmodule\u001b[0m\u001b[0;34m.\u001b[0m\u001b[0m_apply\u001b[0m\u001b[0;34m(\u001b[0m\u001b[0mfn\u001b[0m\u001b[0;34m)\u001b[0m\u001b[0;34m\u001b[0m\u001b[0;34m\u001b[0m\u001b[0m\n\u001b[0m\u001b[1;32m    147\u001b[0m \u001b[0;34m\u001b[0m\u001b[0m\n\u001b[1;32m    148\u001b[0m         \u001b[0;32mfor\u001b[0m \u001b[0mparam\u001b[0m \u001b[0;32min\u001b[0m \u001b[0mself\u001b[0m\u001b[0;34m.\u001b[0m\u001b[0m_parameters\u001b[0m\u001b[0;34m.\u001b[0m\u001b[0mvalues\u001b[0m\u001b[0;34m(\u001b[0m\u001b[0;34m)\u001b[0m\u001b[0;34m:\u001b[0m\u001b[0;34m\u001b[0m\u001b[0;34m\u001b[0m\u001b[0m\n",
      "\u001b[0;32m~/anaconda3/envs/fastai/lib/python3.6/site-packages/torch/nn/modules/module.py\u001b[0m in \u001b[0;36m_apply\u001b[0;34m(self, fn)\u001b[0m\n\u001b[1;32m    144\u001b[0m     \u001b[0;32mdef\u001b[0m \u001b[0m_apply\u001b[0m\u001b[0;34m(\u001b[0m\u001b[0mself\u001b[0m\u001b[0;34m,\u001b[0m \u001b[0mfn\u001b[0m\u001b[0;34m)\u001b[0m\u001b[0;34m:\u001b[0m\u001b[0;34m\u001b[0m\u001b[0;34m\u001b[0m\u001b[0m\n\u001b[1;32m    145\u001b[0m         \u001b[0;32mfor\u001b[0m \u001b[0mmodule\u001b[0m \u001b[0;32min\u001b[0m \u001b[0mself\u001b[0m\u001b[0;34m.\u001b[0m\u001b[0mchildren\u001b[0m\u001b[0;34m(\u001b[0m\u001b[0;34m)\u001b[0m\u001b[0;34m:\u001b[0m\u001b[0;34m\u001b[0m\u001b[0;34m\u001b[0m\u001b[0m\n\u001b[0;32m--> 146\u001b[0;31m             \u001b[0mmodule\u001b[0m\u001b[0;34m.\u001b[0m\u001b[0m_apply\u001b[0m\u001b[0;34m(\u001b[0m\u001b[0mfn\u001b[0m\u001b[0;34m)\u001b[0m\u001b[0;34m\u001b[0m\u001b[0;34m\u001b[0m\u001b[0m\n\u001b[0m\u001b[1;32m    147\u001b[0m \u001b[0;34m\u001b[0m\u001b[0m\n\u001b[1;32m    148\u001b[0m         \u001b[0;32mfor\u001b[0m \u001b[0mparam\u001b[0m \u001b[0;32min\u001b[0m \u001b[0mself\u001b[0m\u001b[0;34m.\u001b[0m\u001b[0m_parameters\u001b[0m\u001b[0;34m.\u001b[0m\u001b[0mvalues\u001b[0m\u001b[0;34m(\u001b[0m\u001b[0;34m)\u001b[0m\u001b[0;34m:\u001b[0m\u001b[0;34m\u001b[0m\u001b[0;34m\u001b[0m\u001b[0m\n",
      "\u001b[0;32m~/anaconda3/envs/fastai/lib/python3.6/site-packages/torch/nn/modules/module.py\u001b[0m in \u001b[0;36m_apply\u001b[0;34m(self, fn)\u001b[0m\n\u001b[1;32m    150\u001b[0m                 \u001b[0;31m# Variables stored in modules are graph leaves, and we don't\u001b[0m\u001b[0;34m\u001b[0m\u001b[0;34m\u001b[0m\u001b[0;34m\u001b[0m\u001b[0m\n\u001b[1;32m    151\u001b[0m                 \u001b[0;31m# want to create copy nodes, so we have to unpack the data.\u001b[0m\u001b[0;34m\u001b[0m\u001b[0;34m\u001b[0m\u001b[0;34m\u001b[0m\u001b[0m\n\u001b[0;32m--> 152\u001b[0;31m                 \u001b[0mparam\u001b[0m\u001b[0;34m.\u001b[0m\u001b[0mdata\u001b[0m \u001b[0;34m=\u001b[0m \u001b[0mfn\u001b[0m\u001b[0;34m(\u001b[0m\u001b[0mparam\u001b[0m\u001b[0;34m.\u001b[0m\u001b[0mdata\u001b[0m\u001b[0;34m)\u001b[0m\u001b[0;34m\u001b[0m\u001b[0;34m\u001b[0m\u001b[0m\n\u001b[0m\u001b[1;32m    153\u001b[0m                 \u001b[0;32mif\u001b[0m \u001b[0mparam\u001b[0m\u001b[0;34m.\u001b[0m\u001b[0m_grad\u001b[0m \u001b[0;32mis\u001b[0m \u001b[0;32mnot\u001b[0m \u001b[0;32mNone\u001b[0m\u001b[0;34m:\u001b[0m\u001b[0;34m\u001b[0m\u001b[0;34m\u001b[0m\u001b[0m\n\u001b[1;32m    154\u001b[0m                     \u001b[0mparam\u001b[0m\u001b[0;34m.\u001b[0m\u001b[0m_grad\u001b[0m\u001b[0;34m.\u001b[0m\u001b[0mdata\u001b[0m \u001b[0;34m=\u001b[0m \u001b[0mfn\u001b[0m\u001b[0;34m(\u001b[0m\u001b[0mparam\u001b[0m\u001b[0;34m.\u001b[0m\u001b[0m_grad\u001b[0m\u001b[0;34m.\u001b[0m\u001b[0mdata\u001b[0m\u001b[0;34m)\u001b[0m\u001b[0;34m\u001b[0m\u001b[0;34m\u001b[0m\u001b[0m\n",
      "\u001b[0;32m~/anaconda3/envs/fastai/lib/python3.6/site-packages/torch/nn/modules/module.py\u001b[0m in \u001b[0;36m<lambda>\u001b[0;34m(t)\u001b[0m\n\u001b[1;32m    214\u001b[0m             \u001b[0mModule\u001b[0m\u001b[0;34m:\u001b[0m \u001b[0mself\u001b[0m\u001b[0;34m\u001b[0m\u001b[0;34m\u001b[0m\u001b[0m\n\u001b[1;32m    215\u001b[0m         \"\"\"\n\u001b[0;32m--> 216\u001b[0;31m         \u001b[0;32mreturn\u001b[0m \u001b[0mself\u001b[0m\u001b[0;34m.\u001b[0m\u001b[0m_apply\u001b[0m\u001b[0;34m(\u001b[0m\u001b[0;32mlambda\u001b[0m \u001b[0mt\u001b[0m\u001b[0;34m:\u001b[0m \u001b[0mt\u001b[0m\u001b[0;34m.\u001b[0m\u001b[0mcuda\u001b[0m\u001b[0;34m(\u001b[0m\u001b[0mdevice\u001b[0m\u001b[0;34m)\u001b[0m\u001b[0;34m)\u001b[0m\u001b[0;34m\u001b[0m\u001b[0;34m\u001b[0m\u001b[0m\n\u001b[0m\u001b[1;32m    217\u001b[0m \u001b[0;34m\u001b[0m\u001b[0m\n\u001b[1;32m    218\u001b[0m     \u001b[0;32mdef\u001b[0m \u001b[0mcpu\u001b[0m\u001b[0;34m(\u001b[0m\u001b[0mself\u001b[0m\u001b[0;34m)\u001b[0m\u001b[0;34m:\u001b[0m\u001b[0;34m\u001b[0m\u001b[0;34m\u001b[0m\u001b[0m\n",
      "\u001b[0;32m~/anaconda3/envs/fastai/lib/python3.6/site-packages/torch/_utils.py\u001b[0m in \u001b[0;36m_cuda\u001b[0;34m(self, device, async)\u001b[0m\n\u001b[1;32m     67\u001b[0m         \u001b[0;32melse\u001b[0m\u001b[0;34m:\u001b[0m\u001b[0;34m\u001b[0m\u001b[0;34m\u001b[0m\u001b[0m\n\u001b[1;32m     68\u001b[0m             \u001b[0mnew_type\u001b[0m \u001b[0;34m=\u001b[0m \u001b[0mgetattr\u001b[0m\u001b[0;34m(\u001b[0m\u001b[0mtorch\u001b[0m\u001b[0;34m.\u001b[0m\u001b[0mcuda\u001b[0m\u001b[0;34m,\u001b[0m \u001b[0mself\u001b[0m\u001b[0;34m.\u001b[0m\u001b[0m__class__\u001b[0m\u001b[0;34m.\u001b[0m\u001b[0m__name__\u001b[0m\u001b[0;34m)\u001b[0m\u001b[0;34m\u001b[0m\u001b[0;34m\u001b[0m\u001b[0m\n\u001b[0;32m---> 69\u001b[0;31m             \u001b[0;32mreturn\u001b[0m \u001b[0mnew_type\u001b[0m\u001b[0;34m(\u001b[0m\u001b[0mself\u001b[0m\u001b[0;34m.\u001b[0m\u001b[0msize\u001b[0m\u001b[0;34m(\u001b[0m\u001b[0;34m)\u001b[0m\u001b[0;34m)\u001b[0m\u001b[0;34m.\u001b[0m\u001b[0mcopy_\u001b[0m\u001b[0;34m(\u001b[0m\u001b[0mself\u001b[0m\u001b[0;34m,\u001b[0m \u001b[0masync\u001b[0m\u001b[0;34m)\u001b[0m\u001b[0;34m\u001b[0m\u001b[0;34m\u001b[0m\u001b[0m\n\u001b[0m\u001b[1;32m     70\u001b[0m \u001b[0;34m\u001b[0m\u001b[0m\n\u001b[1;32m     71\u001b[0m \u001b[0;34m\u001b[0m\u001b[0m\n",
      "\u001b[0;31mRuntimeError\u001b[0m: cuda runtime error (59) : device-side assert triggered at /opt/conda/conda-bld/pytorch_1518244421288/work/torch/lib/THC/generic/THCTensorCopy.c:20"
     ]
    }
   ],
   "source": [
    "%%time\n",
    "eval_clas(small_data_dir, val_dir=Path('/home/paperspace/baseline_data/tmp/'))"
   ]
  },
  {
   "cell_type": "code",
   "execution_count": null,
   "metadata": {},
   "outputs": [],
   "source": []
  },
  {
   "cell_type": "code",
   "execution_count": 60,
   "metadata": {
    "ExecuteTime": {
     "end_time": "2019-03-04T23:30:13.664434Z",
     "start_time": "2019-03-04T23:30:12.159622Z"
    }
   },
   "outputs": [
    {
     "name": "stdout",
     "output_type": "stream",
     "text": [
      "--2019-03-04 15:30:12--  http://files.fast.ai/models/wt103/itos_wt103.pkl\n",
      "Resolving files.fast.ai (files.fast.ai)... 67.205.15.147\n",
      "Connecting to files.fast.ai (files.fast.ai)|67.205.15.147|:80... connected.\n",
      "HTTP request sent, awaiting response... 200 OK\n",
      "Length: 4161252 (4.0M) [text/plain]\n",
      "Saving to: ‘/Users/shleifer/text-augmentation/imdb_small/models/wt103/itos_wt103.pkl’\n",
      "\n",
      "models/wt103/itos_w 100%[===================>]   3.97M  3.53MB/s    in 1.1s    \n",
      "\n",
      "2019-03-04 15:30:13 (3.53 MB/s) - ‘/Users/shleifer/text-augmentation/imdb_small/models/wt103/itos_wt103.pkl’ saved [4161252/4161252]\n",
      "\n",
      "FINISHED --2019-03-04 15:30:13--\n",
      "Total wall clock time: 1.3s\n",
      "Downloaded: 1 files, 4.0M in 1.1s (3.53 MB/s)\n"
     ]
    }
   ],
   "source": [
    "#!wget -nH -r -np -P {small_data_dir} http://files.fast.ai/models/wt103/itos_wt103.pkl  "
   ]
  },
  {
   "cell_type": "code",
   "execution_count": 56,
   "metadata": {
    "ExecuteTime": {
     "end_time": "2019-03-04T23:27:35.463304Z",
     "start_time": "2019-03-04T23:27:35.348051Z"
    }
   },
   "outputs": [],
   "source": [
    "#!wget -nH -r -np -P {small_data_dir} http://files.fast.ai/models/wt103/fwd_wt103.h5"
   ]
  },
  {
   "cell_type": "code",
   "execution_count": 55,
   "metadata": {
    "ExecuteTime": {
     "end_time": "2019-03-04T23:26:59.068566Z",
     "start_time": "2019-03-04T23:25:29.600969Z"
    }
   },
   "outputs": [
    {
     "name": "stdout",
     "output_type": "stream",
     "text": [
      "--2019-03-04 15:25:30--  http://files.fast.ai/models/wt103/bwd_wt103.h5\n",
      "Resolving files.fast.ai (files.fast.ai)... 67.205.15.147\n",
      "Connecting to files.fast.ai (files.fast.ai)|67.205.15.147|:80... connected.\n",
      "HTTP request sent, awaiting response... 200 OK\n",
      "Length: 462387687 (441M) [text/plain]\n",
      "Saving to: ‘/Users/shleifer/text-augmentation/imdb_small/models/wt103/bwd_wt103.h5’\n",
      "\n",
      "models/wt103/bwd_wt 100%[===================>] 440.97M  5.28MB/s    in 89s     \n",
      "\n",
      "2019-03-04 15:26:58 (4.98 MB/s) - ‘/Users/shleifer/text-augmentation/imdb_small/models/wt103/bwd_wt103.h5’ saved [462387687/462387687]\n",
      "\n",
      "FINISHED --2019-03-04 15:26:58--\n",
      "Total wall clock time: 1m 29s\n",
      "Downloaded: 1 files, 441M in 1m 29s (4.98 MB/s)\n"
     ]
    }
   ],
   "source": [
    "#!wget -nH -r -np -P {small_data_dir} http://files.fast.ai/models/wt103/bwd_wt103.h5"
   ]
  },
  {
   "cell_type": "markdown",
   "metadata": {},
   "source": [
    "The Fastai.text module introduces several custom tokens.\n",
    "\n",
    "We need to download the IMDB large movie reviews from this site: http://ai.stanford.edu/~amaas/data/sentiment/\n",
    "Direct link : [Link](http://ai.stanford.edu/~amaas/data/sentiment/aclImdb_v1.tar.gz) and untar it into the PATH location. We use pathlib which makes directory traveral a breeze."
   ]
  },
  {
   "cell_type": "code",
   "execution_count": null,
   "metadata": {},
   "outputs": [],
   "source": [
    "DATA_PATH=Path('data/')\n",
    "DATA_PATH.mkdir(exist_ok=True)\n",
    "#! curl -O http://ai.stanford.edu/~amaas/data/sentiment/aclImdb_v1.tar.gz \n",
    "#! tar -xzfv aclImdb_v1.tar.gz -C {DATA_PATH}"
   ]
  },
  {
   "cell_type": "code",
   "execution_count": null,
   "metadata": {},
   "outputs": [],
   "source": [
    "BOS = 'xbos'  # beginning-of-sentence tag\n",
    "FLD = 'xfld'  # data field tag\n",
    "\n",
    "PATH=Path('data/aclImdb/')"
   ]
  },
  {
   "cell_type": "markdown",
   "metadata": {},
   "source": [
    "## Standardize format"
   ]
  },
  {
   "cell_type": "code",
   "execution_count": null,
   "metadata": {},
   "outputs": [],
   "source": [
    "CLAS_PATH=Path('data/imdb_clas/')\n",
    "CLAS_PATH.mkdir(exist_ok=True)\n",
    "\n",
    "LM_PATH=Path('data/imdb_lm/')\n",
    "LM_PATH.mkdir(exist_ok=True)"
   ]
  },
  {
   "cell_type": "markdown",
   "metadata": {},
   "source": [
    "The imdb dataset has 3 classes. positive, negative and unsupervised(sentiment is unknown). \n",
    "There are 75k training reviews(12.5k pos, 12.5k neg, 50k unsup)\n",
    "There are 25k validation reviews(12.5k pos, 12.5k neg & no unsup)\n",
    "\n",
    "Refer to the README file in the imdb corpus for further information about the dataset."
   ]
  },
  {
   "cell_type": "code",
   "execution_count": null,
   "metadata": {},
   "outputs": [],
   "source": [
    "CLASSES = ['neg', 'pos', 'unsup']\n",
    "\n",
    "def get_texts(path):\n",
    "    texts,labels = [],[]\n",
    "    for idx,label in enumerate(CLASSES):\n",
    "        for fname in (path/label).glob('*.*'):\n",
    "            texts.append(fname.open('r', encoding='utf-8').read())\n",
    "            labels.append(idx)\n",
    "    return np.array(texts),np.array(labels)\n",
    "\n",
    "trn_texts,trn_labels = get_texts(PATH/'train')\n",
    "val_texts,val_labels = get_texts(PATH/'test')"
   ]
  },
  {
   "cell_type": "code",
   "execution_count": null,
   "metadata": {},
   "outputs": [],
   "source": [
    "len(trn_texts),len(val_texts)"
   ]
  },
  {
   "cell_type": "code",
   "execution_count": null,
   "metadata": {},
   "outputs": [],
   "source": [
    "col_names = ['labels','text']"
   ]
  },
  {
   "cell_type": "markdown",
   "metadata": {},
   "source": [
    "We use a random permutation np array to shuffle the text reviews."
   ]
  },
  {
   "cell_type": "code",
   "execution_count": null,
   "metadata": {},
   "outputs": [],
   "source": [
    "np.random.seed(42)\n",
    "trn_idx = np.random.permutation(len(trn_texts))\n",
    "val_idx = np.random.permutation(len(val_texts))"
   ]
  },
  {
   "cell_type": "code",
   "execution_count": null,
   "metadata": {},
   "outputs": [],
   "source": [
    "trn_texts = trn_texts[trn_idx]\n",
    "val_texts = val_texts[val_idx]\n",
    "\n",
    "trn_labels = trn_labels[trn_idx]\n",
    "val_labels = val_labels[val_idx]"
   ]
  },
  {
   "cell_type": "code",
   "execution_count": null,
   "metadata": {},
   "outputs": [],
   "source": [
    "df_trn = pd.DataFrame({'text':trn_texts, 'labels':trn_labels}, columns=col_names)\n",
    "df_val = pd.DataFrame({'text':val_texts, 'labels':val_labels}, columns=col_names)"
   ]
  },
  {
   "cell_type": "markdown",
   "metadata": {},
   "source": [
    "The pandas dataframe is used to store text data in a newly evolving standard format of label followed by text columns. This was influenced by a paper by Yann LeCun ([Link to Paper](https://arxiv.org/pdf/1509.01626.pdf) [Link to Paper’s Datasets](https://drive.google.com/drive/u/0/folders/0Bz8a_Dbh9Qhbfll6bVpmNUtUcFdjYmF2SEpmZUZUcVNiMUw1TWN6RDV3a0JHT3kxLVhVR2M)). Fastai adopts this new format for NLP datasets. In the case of IMDB, there is only one text column."
   ]
  },
  {
   "cell_type": "code",
   "execution_count": null,
   "metadata": {},
   "outputs": [],
   "source": [
    "df_trn[df_trn['labels']!=2].to_csv(CLAS_PATH/'train.csv', header=False, index=False)\n",
    "df_val.to_csv(CLAS_PATH/'test.csv', header=False, index=False)\n",
    "\n",
    "(CLAS_PATH/'classes.txt').open('w', encoding='utf-8').writelines(f'{o}\\n' for o in CLASSES)"
   ]
  },
  {
   "cell_type": "markdown",
   "metadata": {},
   "source": [
    "We start by creating the data for the Language Model(LM). The LM's goal is to learn the structure of the english language. It learns language by trying to predict the next word given a set of previous words(ngrams). Since the LM does not classify reviews, the labels can be ignored.\n",
    "\n",
    "The LM can benefit from all the textual data and there is no need to exclude the unsup/unclassified movie reviews.\n",
    "\n",
    "We first concat all the train(pos/neg/unsup = **75k**) and test(pos/neg=**25k**) reviews into a big chunk of **100k** reviews. And then we use sklearn splitter to divide up the 100k texts into 90% training and 10% validation sets."
   ]
  },
  {
   "cell_type": "code",
   "execution_count": null,
   "metadata": {},
   "outputs": [],
   "source": [
    "trn_texts,val_texts = sklearn.model_selection.train_test_split(\n",
    "    np.concatenate([trn_texts,val_texts]), test_size=0.1)"
   ]
  },
  {
   "cell_type": "code",
   "execution_count": null,
   "metadata": {},
   "outputs": [],
   "source": [
    "len(trn_texts), len(val_texts)"
   ]
  },
  {
   "cell_type": "code",
   "execution_count": null,
   "metadata": {},
   "outputs": [],
   "source": [
    "df_trn = pd.DataFrame({'text':trn_texts, 'labels':[0]*len(trn_texts)}, columns=col_names)\n",
    "df_val = pd.DataFrame({'text':val_texts, 'labels':[0]*len(val_texts)}, columns=col_names)\n",
    "\n",
    "df_trn.to_csv(LM_PATH/'train.csv', header=False, index=False)\n",
    "df_val.to_csv(LM_PATH/'test.csv', header=False, index=False)"
   ]
  },
  {
   "cell_type": "markdown",
   "metadata": {},
   "source": [
    "## Language model tokens"
   ]
  },
  {
   "cell_type": "markdown",
   "metadata": {},
   "source": [
    "In this section, we start cleaning up the messy text. There are 2 main activities we need to perform:\n",
    "\n",
    "1. Clean up extra spaces, tab chars, new ln chars and other characters and replace them with standard ones\n",
    "2. Use the awesome [spacy](http://spacy.io) library to tokenize the data. Since spacy does not provide a parallel/multicore version of the tokenizer, the fastai library adds this functionality. This parallel version uses all the cores of your CPUs and runs much faster than the serial version of the spacy tokenizer.\n",
    "\n",
    "Tokenization is the process of splitting the text into separate tokens so that each token can be assigned a unique index. This means we can convert the text into integer indexes our models can use.\n",
    "\n",
    "We use an appropriate chunksize as the tokenization process is memory intensive"
   ]
  },
  {
   "cell_type": "code",
   "execution_count": null,
   "metadata": {},
   "outputs": [],
   "source": [
    "chunksize=24000"
   ]
  },
  {
   "cell_type": "code",
   "execution_count": null,
   "metadata": {},
   "outputs": [],
   "source": [
    "re1 = re.compile(r'  +')\n",
    "\n",
    "def fixup(x):\n",
    "    x = x.replace('#39;', \"'\").replace('amp;', '&').replace('#146;', \"'\").replace(\n",
    "        'nbsp;', ' ').replace('#36;', '$').replace('\\\\n', \"\\n\").replace('quot;', \"'\").replace(\n",
    "        '<br />', \"\\n\").replace('\\\\\"', '\"').replace('<unk>','u_n').replace(' @.@ ','.').replace(\n",
    "        ' @-@ ','-').replace('\\\\', ' \\\\ ')\n",
    "    return re1.sub(' ', html.unescape(x))"
   ]
  },
  {
   "cell_type": "code",
   "execution_count": null,
   "metadata": {},
   "outputs": [],
   "source": [
    "def get_texts(df, n_lbls=1):\n",
    "    labels = df.iloc[:,range(n_lbls)].values.astype(np.int64)\n",
    "    texts = f'\\n{BOS} {FLD} 1 ' + df[n_lbls].astype(str)\n",
    "    for i in range(n_lbls+1, len(df.columns)): texts += f' {FLD} {i-n_lbls} ' + df[i].astype(str)\n",
    "    texts = list(texts.apply(fixup).values)\n",
    "\n",
    "    tok = Tokenizer().proc_all_mp(partition_by_cores(texts))\n",
    "    return tok, list(labels)"
   ]
  },
  {
   "cell_type": "code",
   "execution_count": null,
   "metadata": {},
   "outputs": [],
   "source": [
    "def get_all(df, n_lbls):\n",
    "    tok, labels = [], []\n",
    "    for i, r in enumerate(df):\n",
    "        print(i)\n",
    "        tok_, labels_ = get_texts(r, n_lbls)\n",
    "        tok += tok_;\n",
    "        labels += labels_\n",
    "    return tok, labels"
   ]
  },
  {
   "cell_type": "code",
   "execution_count": null,
   "metadata": {},
   "outputs": [],
   "source": [
    "df_trn = pd.read_csv(LM_PATH/'train.csv', header=None, chunksize=chunksize)\n",
    "df_val = pd.read_csv(LM_PATH/'test.csv', header=None, chunksize=chunksize)"
   ]
  },
  {
   "cell_type": "code",
   "execution_count": null,
   "metadata": {},
   "outputs": [],
   "source": [
    "tok_trn, trn_labels = get_all(df_trn, 1)\n",
    "tok_val, val_labels = get_all(df_val, 1)"
   ]
  },
  {
   "cell_type": "code",
   "execution_count": null,
   "metadata": {},
   "outputs": [],
   "source": [
    "(LM_PATH/'tmp').mkdir(exist_ok=True)"
   ]
  },
  {
   "cell_type": "code",
   "execution_count": null,
   "metadata": {},
   "outputs": [],
   "source": [
    "np.save(LM_PATH/'tmp'/'tok_trn.npy', tok_trn)\n",
    "np.save(LM_PATH/'tmp'/'tok_val.npy', tok_val)"
   ]
  },
  {
   "cell_type": "code",
   "execution_count": null,
   "metadata": {},
   "outputs": [],
   "source": [
    "tok_trn = np.load(LM_PATH/'tmp'/'tok_trn.npy')\n",
    "tok_val = np.load(LM_PATH/'tmp'/'tok_val.npy')"
   ]
  },
  {
   "cell_type": "code",
   "execution_count": null,
   "metadata": {},
   "outputs": [],
   "source": [
    "freq = Counter(p for o in tok_trn for p in o)\n",
    "freq.most_common(25)"
   ]
  },
  {
   "cell_type": "markdown",
   "metadata": {},
   "source": [
    "The *vocab* is the **unique set of all tokens** in our dataset. The vocab provides us a way for us to simply replace each word in our datasets with a unique integer called an index.\n",
    "\n",
    "In a large corpus of data one might find some rare words which are only used a few times in the whole dataset. We discard such rare words and avoid trying to learn meaningful patterns out of them.\n",
    "\n",
    "Here we have set a minimum frequency of occurence to 2 times. It has been observed by NLP practicioners that a maximum vocab of 60k usually yields good results for classification tasks. So we set maz_vocab to 60000."
   ]
  },
  {
   "cell_type": "code",
   "execution_count": null,
   "metadata": {},
   "outputs": [],
   "source": [
    "max_vocab = 60000\n",
    "min_freq = 2"
   ]
  },
  {
   "cell_type": "code",
   "execution_count": null,
   "metadata": {},
   "outputs": [],
   "source": [
    "itos = [o for o,c in freq.most_common(max_vocab) if c>min_freq]\n",
    "itos.insert(0, '_pad_')\n",
    "itos.insert(0, '_unk_')"
   ]
  },
  {
   "cell_type": "markdown",
   "metadata": {},
   "source": [
    "We create a reverse mapping called stoi which is useful to lookup the index of a given token. stoi also has the same number of elements as itos. We use a high performance container called [collections.defaultdict](https://docs.python.org/2/library/collections.html#collections.defaultdict) to store our stoi mapping."
   ]
  },
  {
   "cell_type": "code",
   "execution_count": null,
   "metadata": {},
   "outputs": [],
   "source": [
    "stoi = collections.defaultdict(lambda:0, {v:k for k,v in enumerate(itos)})\n",
    "len(itos)"
   ]
  },
  {
   "cell_type": "code",
   "execution_count": null,
   "metadata": {},
   "outputs": [],
   "source": [
    "trn_lm = np.array([[stoi[o] for o in p] for p in tok_trn])\n",
    "val_lm = np.array([[stoi[o] for o in p] for p in tok_val])"
   ]
  },
  {
   "cell_type": "code",
   "execution_count": null,
   "metadata": {},
   "outputs": [],
   "source": [
    "np.save(LM_PATH/'tmp'/'trn_ids.npy', trn_lm)\n",
    "np.save(LM_PATH/'tmp'/'val_ids.npy', val_lm)\n",
    "pickle.dump(itos, open(LM_PATH/'tmp'/'itos.pkl', 'wb'))"
   ]
  },
  {
   "cell_type": "code",
   "execution_count": null,
   "metadata": {},
   "outputs": [],
   "source": [
    "trn_lm = np.load(LM_PATH/'tmp'/'trn_ids.npy')\n",
    "val_lm = np.load(LM_PATH/'tmp'/'val_ids.npy')\n",
    "itos = pickle.load(open(LM_PATH/'tmp'/'itos.pkl', 'rb'))"
   ]
  },
  {
   "cell_type": "code",
   "execution_count": null,
   "metadata": {},
   "outputs": [],
   "source": [
    "vs=len(itos)\n",
    "vs,len(trn_lm)"
   ]
  },
  {
   "cell_type": "markdown",
   "metadata": {},
   "source": [
    "## wikitext103 conversion"
   ]
  },
  {
   "cell_type": "markdown",
   "metadata": {},
   "source": [
    "We are now going to build an english language model for the IMDB corpus. We could start from scratch and try to learn the structure of the english language. But we use a technique called transfer learning to make this process easier. In transfer learning (a fairly recent idea for NLP) a pre-trained LM that has been trained on a large generic corpus(_like wikipedia articles_) can be used to transfer it's knowledge to a target LM and the weights can be fine-tuned.\n",
    "\n",
    "Our source LM is the wikitext103 LM created by Stephen Merity @ Salesforce research. [Link to dataset](https://www.salesforce.com/products/einstein/ai-research/the-wikitext-dependency-language-modeling-dataset/)\n",
    "The language model for wikitext103 (AWD LSTM) has been pre-trained and the weights can be downloaded here: [Link](http://files.fast.ai/models/wt103/). Our target LM is the IMDB LM. "
   ]
  },
  {
   "cell_type": "code",
   "execution_count": null,
   "metadata": {},
   "outputs": [],
   "source": [
    "# ! wget -nH -r -np -P {PATH} http://files.fast.ai/models/wt103/"
   ]
  },
  {
   "cell_type": "markdown",
   "metadata": {},
   "source": [
    "The pre-trained LM weights have an embedding size of 400, 1150 hidden units and just 3 layers. We need to match these values  with the target IMDB LM so that the weights can be loaded up."
   ]
  },
  {
   "cell_type": "code",
   "execution_count": null,
   "metadata": {},
   "outputs": [],
   "source": [
    "em_sz,nh,nl = 400,1150,3"
   ]
  },
  {
   "cell_type": "code",
   "execution_count": null,
   "metadata": {},
   "outputs": [],
   "source": [
    "PRE_PATH = PATH/'models'/'wt103'\n",
    "PRE_LM_PATH = PRE_PATH/'fwd_wt103.h5'"
   ]
  },
  {
   "cell_type": "code",
   "execution_count": null,
   "metadata": {},
   "outputs": [],
   "source": [
    "wgts = torch.load(PRE_LM_PATH, map_location=lambda storage, loc: storage)"
   ]
  },
  {
   "cell_type": "markdown",
   "metadata": {},
   "source": [
    "We calculate the mean of the layer0 encoder weights. This can be used to assign weights to unknown tokens when we transfer to target IMDB LM."
   ]
  },
  {
   "cell_type": "code",
   "execution_count": null,
   "metadata": {},
   "outputs": [],
   "source": [
    "enc_wgts = to_np(wgts['0.encoder.weight'])\n",
    "row_m = enc_wgts.mean(0)"
   ]
  },
  {
   "cell_type": "code",
   "execution_count": null,
   "metadata": {},
   "outputs": [],
   "source": [
    "itos2 = pickle.load((PRE_PATH/'itos_wt103.pkl').open('rb'))\n",
    "stoi2 = collections.defaultdict(lambda:-1, {v:k for k,v in enumerate(itos2)})"
   ]
  },
  {
   "cell_type": "markdown",
   "metadata": {},
   "source": [
    "Before we try to transfer the knowledge from wikitext to the IMDB LM, we match up the vocab words and their indexes. \n",
    "We use the defaultdict container once again, to assign mean weights to unknown IMDB tokens that do not exist in wikitext103."
   ]
  },
  {
   "cell_type": "code",
   "execution_count": null,
   "metadata": {},
   "outputs": [],
   "source": [
    "new_w = np.zeros((vs, em_sz), dtype=np.float32)\n",
    "for i,w in enumerate(itos):\n",
    "    r = stoi2[w]\n",
    "    new_w[i] = enc_wgts[r] if r>=0 else row_m"
   ]
  },
  {
   "cell_type": "markdown",
   "metadata": {},
   "source": [
    "We now overwrite the weights into the wgts odict.\n",
    "The decoder module, which we will explore in detail is also loaded with the same weights due to an idea called weight tying."
   ]
  },
  {
   "cell_type": "code",
   "execution_count": null,
   "metadata": {},
   "outputs": [],
   "source": [
    "wgts['0.encoder.weight'] = T(new_w)\n",
    "wgts['0.encoder_with_dropout.embed.weight'] = T(np.copy(new_w))\n",
    "wgts['1.decoder.weight'] = T(np.copy(new_w))"
   ]
  },
  {
   "cell_type": "markdown",
   "metadata": {},
   "source": [
    "Now that we have the weights prepared, we are ready to create and start training our new IMDB language pytorch model!"
   ]
  },
  {
   "cell_type": "markdown",
   "metadata": {},
   "source": [
    "## Language model"
   ]
  },
  {
   "cell_type": "markdown",
   "metadata": {},
   "source": [
    "It is fairly straightforward to create a new language model using the fastai library. Like every other lesson, our model will have a backbone and a custom head. The backbone in our case is the IMDB LM pre-trained with wikitext and the custom head is a linear classifier. In this section we will focus on the backbone LM and the next section will talk about the classifier custom head.\n",
    "\n",
    "bptt (*also known traditionally in NLP LM as ngrams*) in fastai LMs is approximated to a std. deviation around 70, by perturbing the sequence length on a per-batch basis. This is akin to shuffling our data in computer vision, only that in NLP we cannot shuffle inputs and we have to maintain statefulness. \n",
    "\n",
    "Since we are predicting words using ngrams, we want our next batch to line up with the end-points of the previous mini-batch's items. batch-size is constant and but the fastai library expands and contracts bptt each mini-batch using a clever stochastic implementation of a batch. (original credits attributed to [Smerity](https://twitter.com/jeremyphoward/status/980227258395770882))"
   ]
  },
  {
   "cell_type": "code",
   "execution_count": null,
   "metadata": {},
   "outputs": [],
   "source": [
    "wd=1e-7\n",
    "bptt=70\n",
    "bs=52\n",
    "opt_fn = partial(optim.Adam, betas=(0.8, 0.99))"
   ]
  },
  {
   "cell_type": "markdown",
   "metadata": {},
   "source": [
    "The goal of the LM is to learn to predict a word/token given a preceeding set of words(tokens). We take all the movie reviews in both the 90k training set and 10k validation set and concatenate them to form long strings of tokens. In fastai, we use the `LanguageModelLoader` to create a data loader which makes it easy to create and use bptt sized mini batches. The  `LanguageModelLoader` takes a concatenated string of tokens and returns a loader.\n",
    "\n",
    "We have a special modeldata object class for LMs called `LanguageModelData` to which we can pass the training and validation loaders and get in return the model itself."
   ]
  },
  {
   "cell_type": "code",
   "execution_count": null,
   "metadata": {},
   "outputs": [],
   "source": [
    "trn_dl = LanguageModelLoader(np.concatenate(trn_lm), bs, bptt)\n",
    "val_dl = LanguageModelLoader(np.concatenate(val_lm), bs, bptt)\n",
    "md = LanguageModelData(PATH, 1, vs, trn_dl, val_dl, bs=bs, bptt=bptt)"
   ]
  },
  {
   "cell_type": "markdown",
   "metadata": {},
   "source": [
    "We setup the dropouts for the model - these values have been chosen after experimentation. If you need to update them for custom LMs, you can change the weighting factor (0.7 here) based on the amount of data you have. For more data, you can reduce dropout factor and for small datasets, you can reduce overfitting by choosing a higher dropout factor. *No other dropout value requires tuning*"
   ]
  },
  {
   "cell_type": "code",
   "execution_count": null,
   "metadata": {},
   "outputs": [],
   "source": [
    "drops = np.array([0.25, 0.1, 0.2, 0.02, 0.15])*0.7"
   ]
  },
  {
   "cell_type": "markdown",
   "metadata": {},
   "source": [
    "We first tune the last embedding layer so that the missing tokens initialized with mean weights get tuned properly. So we freeze everything except the last layer.\n",
    "\n",
    "We also keep track of the *accuracy* metric."
   ]
  },
  {
   "cell_type": "code",
   "execution_count": null,
   "metadata": {},
   "outputs": [],
   "source": [
    "learner= md.get_model(opt_fn, em_sz, nh, nl, \n",
    "    dropouti=drops[0], dropout=drops[1], wdrop=drops[2], dropoute=drops[3], dropouth=drops[4])\n",
    "\n",
    "learner.metrics = [accuracy]\n",
    "learner.freeze_to(-1)"
   ]
  },
  {
   "cell_type": "code",
   "execution_count": null,
   "metadata": {},
   "outputs": [],
   "source": [
    "learner.model.load_state_dict(wgts)"
   ]
  },
  {
   "cell_type": "markdown",
   "metadata": {},
   "source": [
    "We set learning rates and fit our IMDB LM. We first run one epoch to tune the last layer which contains the embedding weights. This should help the missing tokens in the wikitext103 learn better weights."
   ]
  },
  {
   "cell_type": "code",
   "execution_count": null,
   "metadata": {},
   "outputs": [],
   "source": [
    "lr=1e-3\n",
    "lrs = lr"
   ]
  },
  {
   "cell_type": "code",
   "execution_count": null,
   "metadata": {},
   "outputs": [],
   "source": [
    "learner.fit(lrs/2, 1, wds=wd, use_clr=(32,2), cycle_len=1)"
   ]
  },
  {
   "cell_type": "markdown",
   "metadata": {},
   "source": [
    "Note that we print out accuracy and keep track of how often we end up predicting the target word correctly. While this is a good metric to check, it is not part of our loss function as it can get quite bumpy. We only minimize cross-entropy loss in the LM.\n",
    "\n",
    "The exponent of the cross-entropy loss is called the perplexity of the LM. (low perplexity is better)."
   ]
  },
  {
   "cell_type": "code",
   "execution_count": null,
   "metadata": {},
   "outputs": [],
   "source": [
    "learner.save('lm_last_ft')"
   ]
  },
  {
   "cell_type": "code",
   "execution_count": null,
   "metadata": {},
   "outputs": [],
   "source": [
    "learner.load('lm_last_ft')"
   ]
  },
  {
   "cell_type": "code",
   "execution_count": null,
   "metadata": {},
   "outputs": [],
   "source": [
    "learner.unfreeze()"
   ]
  },
  {
   "cell_type": "code",
   "execution_count": null,
   "metadata": {},
   "outputs": [],
   "source": [
    "learner.lr_find(start_lr=lrs/10, end_lr=lrs*10, linear=True)"
   ]
  },
  {
   "cell_type": "code",
   "execution_count": null,
   "metadata": {},
   "outputs": [],
   "source": [
    "learner.sched.plot()"
   ]
  },
  {
   "cell_type": "code",
   "execution_count": null,
   "metadata": {},
   "outputs": [],
   "source": [
    "learner.fit(lrs, 1, wds=wd, use_clr=(20,10), cycle_len=15)"
   ]
  },
  {
   "cell_type": "markdown",
   "metadata": {},
   "source": [
    "We save the trained model weights and separately save the encoder part of the LM model as well. This will serve as our backbone in the classification task model."
   ]
  },
  {
   "cell_type": "code",
   "execution_count": null,
   "metadata": {},
   "outputs": [],
   "source": [
    "learner.save('lm1')"
   ]
  },
  {
   "cell_type": "code",
   "execution_count": null,
   "metadata": {},
   "outputs": [],
   "source": [
    "learner.save_encoder('lm1_enc')"
   ]
  },
  {
   "cell_type": "code",
   "execution_count": null,
   "metadata": {},
   "outputs": [],
   "source": [
    "learner.sched.plot_loss()"
   ]
  },
  {
   "cell_type": "markdown",
   "metadata": {},
   "source": [
    "## Classifier tokens"
   ]
  },
  {
   "cell_type": "markdown",
   "metadata": {},
   "source": [
    "The classifier model is basically a linear layer custom head on top of the LM backbone. Setting up the classifier data is similar to the LM data setup except that we cannot use the unsup movie reviews this time."
   ]
  },
  {
   "cell_type": "code",
   "execution_count": null,
   "metadata": {},
   "outputs": [],
   "source": [
    "df_trn = pd.read_csv(CLAS_PATH/'train.csv', header=None, chunksize=chunksize)\n",
    "df_val = pd.read_csv(CLAS_PATH/'test.csv', header=None, chunksize=chunksize)"
   ]
  },
  {
   "cell_type": "code",
   "execution_count": null,
   "metadata": {},
   "outputs": [],
   "source": [
    "tok_trn, trn_labels = get_all(df_trn, 1)\n",
    "tok_val, val_labels = get_all(df_val, 1)"
   ]
  },
  {
   "cell_type": "code",
   "execution_count": null,
   "metadata": {},
   "outputs": [],
   "source": [
    "(CLAS_PATH/'tmp').mkdir(exist_ok=True)\n",
    "\n",
    "np.save(CLAS_PATH/'tmp'/'tok_trn.npy', tok_trn)\n",
    "np.save(CLAS_PATH/'tmp'/'tok_val.npy', tok_val)\n",
    "\n",
    "np.save(CLAS_PATH/'tmp'/'trn_labels.npy', trn_labels)\n",
    "np.save(CLAS_PATH/'tmp'/'val_labels.npy', val_labels)"
   ]
  },
  {
   "cell_type": "code",
   "execution_count": null,
   "metadata": {},
   "outputs": [],
   "source": [
    "tok_trn = np.load(CLAS_PATH/'tmp'/'tok_trn.npy')\n",
    "tok_val = np.load(CLAS_PATH/'tmp'/'tok_val.npy')"
   ]
  },
  {
   "cell_type": "code",
   "execution_count": null,
   "metadata": {},
   "outputs": [],
   "source": [
    "itos = pickle.load((LM_PATH/'tmp'/'itos.pkl').open('rb'))\n",
    "stoi = collections.defaultdict(lambda:0, {v:k for k,v in enumerate(itos)})\n",
    "len(itos)"
   ]
  },
  {
   "cell_type": "code",
   "execution_count": null,
   "metadata": {},
   "outputs": [],
   "source": [
    "trn_clas = np.array([[stoi[o] for o in p] for p in tok_trn])\n",
    "val_clas = np.array([[stoi[o] for o in p] for p in tok_val])"
   ]
  },
  {
   "cell_type": "code",
   "execution_count": null,
   "metadata": {},
   "outputs": [],
   "source": [
    "np.save(CLAS_PATH/'tmp'/'trn_ids.npy', trn_clas)\n",
    "np.save(CLAS_PATH/'tmp'/'val_ids.npy', val_clas)"
   ]
  },
  {
   "cell_type": "markdown",
   "metadata": {},
   "source": [
    "## Classifier"
   ]
  },
  {
   "cell_type": "markdown",
   "metadata": {},
   "source": [
    "Now we can create our final model, a classifier which is really a custom linear head over our trained IMDB backbone. The steps to create the classifier model are similar to the ones for the LM."
   ]
  },
  {
   "cell_type": "code",
   "execution_count": null,
   "metadata": {},
   "outputs": [],
   "source": [
    "trn_clas = np.load(CLAS_PATH/'tmp'/'trn_ids.npy')\n",
    "val_clas = np.load(CLAS_PATH/'tmp'/'val_ids.npy')"
   ]
  },
  {
   "cell_type": "code",
   "execution_count": null,
   "metadata": {},
   "outputs": [],
   "source": [
    "trn_labels = np.squeeze(np.load(CLAS_PATH/'tmp'/'trn_labels.npy'))\n",
    "val_labels = np.squeeze(np.load(CLAS_PATH/'tmp'/'val_labels.npy'))"
   ]
  },
  {
   "cell_type": "code",
   "execution_count": null,
   "metadata": {},
   "outputs": [],
   "source": [
    "bptt,em_sz,nh,nl = 70,400,1150,3\n",
    "vs = len(itos)\n",
    "opt_fn = partial(optim.Adam, betas=(0.8, 0.99))\n",
    "bs = 48"
   ]
  },
  {
   "cell_type": "code",
   "execution_count": null,
   "metadata": {},
   "outputs": [],
   "source": [
    "min_lbl = trn_labels.min()\n",
    "trn_labels -= min_lbl\n",
    "val_labels -= min_lbl\n",
    "c=int(trn_labels.max())+1"
   ]
  },
  {
   "cell_type": "markdown",
   "metadata": {},
   "source": [
    "In the classifier, unlike LM, we need to read a movie review at a time and learn to predict the it's sentiment as pos/neg. We do not deal with equal bptt size batches, so we have to pad the sequences to the same length in each batch. To create batches of similar sized movie reviews, we use a sortish sampler method invented by [@Smerity](https://twitter.com/Smerity) and [@jekbradbury](https://twitter.com/jekbradbury)\n",
    "\n",
    "The sortishSampler cuts down the overall number of padding tokens the classifier ends up seeing."
   ]
  },
  {
   "cell_type": "code",
   "execution_count": null,
   "metadata": {},
   "outputs": [],
   "source": [
    "trn_ds = TextDataset(trn_clas, trn_labels)\n",
    "val_ds = TextDataset(val_clas, val_labels)\n",
    "trn_samp = SortishSampler(trn_clas, key=lambda x: len(trn_clas[x]), bs=bs//2)\n",
    "val_samp = SortSampler(val_clas, key=lambda x: len(val_clas[x]))\n",
    "trn_dl = DataLoader(trn_ds, bs//2, transpose=True, num_workers=1, pad_idx=1, sampler=trn_samp)\n",
    "val_dl = DataLoader(val_ds, bs, transpose=True, num_workers=1, pad_idx=1, sampler=val_samp)\n",
    "md = ModelData(PATH, trn_dl, val_dl)"
   ]
  },
  {
   "cell_type": "code",
   "execution_count": null,
   "metadata": {},
   "outputs": [],
   "source": [
    "# part 1\n",
    "dps = np.array([0.4, 0.5, 0.05, 0.3, 0.1])"
   ]
  },
  {
   "cell_type": "code",
   "execution_count": null,
   "metadata": {},
   "outputs": [],
   "source": [
    "dps = np.array([0.4,0.5,0.05,0.3,0.4])*0.5"
   ]
  },
  {
   "cell_type": "code",
   "execution_count": null,
   "metadata": {},
   "outputs": [],
   "source": [
    "m = get_rnn_classifier(bptt, 20*70, c, vs, emb_sz=em_sz, n_hid=nh, n_layers=nl, pad_token=1,\n",
    "          layers=[em_sz*3, 50, c], drops=[dps[4], 0.1],\n",
    "          dropouti=dps[0], wdrop=dps[1], dropoute=dps[2], dropouth=dps[3])"
   ]
  },
  {
   "cell_type": "code",
   "execution_count": null,
   "metadata": {},
   "outputs": [],
   "source": [
    "opt_fn = partial(optim.Adam, betas=(0.7, 0.99))"
   ]
  },
  {
   "cell_type": "code",
   "execution_count": null,
   "metadata": {},
   "outputs": [],
   "source": [
    "learn = RNN_Learner(md, TextModel(to_gpu(m)), opt_fn=opt_fn)\n",
    "learn.reg_fn = partial(seq2seq_reg, alpha=2, beta=1)\n",
    "learn.clip=.25\n",
    "learn.metrics = [accuracy]"
   ]
  },
  {
   "cell_type": "code",
   "execution_count": null,
   "metadata": {},
   "outputs": [],
   "source": [
    "lr=3e-3\n",
    "lrm = 2.6\n",
    "lrs = np.array([lr/(lrm**4), lr/(lrm**3), lr/(lrm**2), lr/lrm, lr])"
   ]
  },
  {
   "cell_type": "code",
   "execution_count": null,
   "metadata": {},
   "outputs": [],
   "source": [
    "lrs=np.array([1e-4,1e-4,1e-4,1e-3,1e-2])"
   ]
  },
  {
   "cell_type": "code",
   "execution_count": null,
   "metadata": {},
   "outputs": [],
   "source": [
    "wd = 1e-7\n",
    "wd = 0\n",
    "learn.load_encoder('lm1_enc')"
   ]
  },
  {
   "cell_type": "code",
   "execution_count": null,
   "metadata": {},
   "outputs": [],
   "source": [
    "learn.freeze_to(-1)"
   ]
  },
  {
   "cell_type": "code",
   "execution_count": null,
   "metadata": {},
   "outputs": [],
   "source": [
    "learn.lr_find(lrs/1000)\n",
    "learn.sched.plot()"
   ]
  },
  {
   "cell_type": "code",
   "execution_count": null,
   "metadata": {},
   "outputs": [],
   "source": [
    "learn.fit(lrs, 1, wds=wd, cycle_len=1, use_clr=(8,3))"
   ]
  },
  {
   "cell_type": "code",
   "execution_count": null,
   "metadata": {},
   "outputs": [],
   "source": [
    "learn.save('clas_0')"
   ]
  },
  {
   "cell_type": "code",
   "execution_count": null,
   "metadata": {},
   "outputs": [],
   "source": [
    "learn.load('clas_0')"
   ]
  },
  {
   "cell_type": "code",
   "execution_count": null,
   "metadata": {},
   "outputs": [],
   "source": [
    "learn.freeze_to(-2)"
   ]
  },
  {
   "cell_type": "code",
   "execution_count": null,
   "metadata": {},
   "outputs": [],
   "source": [
    "learn.fit(lrs, 1, wds=wd, cycle_len=1, use_clr=(8,3))"
   ]
  },
  {
   "cell_type": "code",
   "execution_count": null,
   "metadata": {},
   "outputs": [],
   "source": [
    "learn.save('clas_1')"
   ]
  },
  {
   "cell_type": "code",
   "execution_count": null,
   "metadata": {},
   "outputs": [],
   "source": [
    "learn.load('clas_1')"
   ]
  },
  {
   "cell_type": "code",
   "execution_count": null,
   "metadata": {},
   "outputs": [],
   "source": [
    "learn.unfreeze()"
   ]
  },
  {
   "cell_type": "code",
   "execution_count": null,
   "metadata": {},
   "outputs": [],
   "source": [
    "learn.fit(lrs, 1, wds=wd, cycle_len=14, use_clr=(32,10))"
   ]
  },
  {
   "cell_type": "code",
   "execution_count": null,
   "metadata": {},
   "outputs": [],
   "source": [
    "learn.sched.plot_loss()"
   ]
  },
  {
   "cell_type": "code",
   "execution_count": null,
   "metadata": {},
   "outputs": [],
   "source": [
    "learn.save('clas_2')"
   ]
  },
  {
   "cell_type": "markdown",
   "metadata": {},
   "source": [
    "The previous state of the art result was 94.1% accuracy (5.9% error). With bidir we get 95.4% accuracy (4.6% error)."
   ]
  },
  {
   "cell_type": "markdown",
   "metadata": {},
   "source": [
    "## Fin"
   ]
  },
  {
   "cell_type": "code",
   "execution_count": null,
   "metadata": {},
   "outputs": [],
   "source": []
  },
  {
   "cell_type": "code",
   "execution_count": null,
   "metadata": {},
   "outputs": [],
   "source": [
    "learn.sched.plot_loss()"
   ]
  }
 ],
 "metadata": {
  "kernelspec": {
   "display_name": "Python 3",
   "language": "python",
   "name": "python3"
  },
  "language_info": {
   "codemirror_mode": {
    "name": "ipython",
    "version": 3
   },
   "file_extension": ".py",
   "mimetype": "text/x-python",
   "name": "python",
   "nbconvert_exporter": "python",
   "pygments_lexer": "ipython3",
   "version": "3.6.8"
  }
 },
 "nbformat": 4,
 "nbformat_minor": 2
}
